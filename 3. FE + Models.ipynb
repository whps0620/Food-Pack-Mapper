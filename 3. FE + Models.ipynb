{
 "cells": [
  {
   "cell_type": "code",
   "execution_count": 1,
   "metadata": {},
   "outputs": [],
   "source": [
    "import os\n",
    "import pandas as pd\n",
    "import numpy as np\n",
    "import plotly\n",
    "import plotly.express as px\n",
    "import plotly.graph_objects as go\n",
    "combined_dataframe = pd.read_csv('semi-processed_2.csv')"
   ]
  },
  {
   "cell_type": "code",
   "execution_count": 2,
   "metadata": {},
   "outputs": [],
   "source": [
    "combined_dataframe['Type'] = combined_dataframe['Type'].replace('Individual', 'individual')\n",
    "combined_dataframe['Secondary Material'] = combined_dataframe['Secondary Material'].fillna('None')\n",
    "combined_dataframe['Composition'] = combined_dataframe['Composition'].fillna('None')"
   ]
  },
  {
   "cell_type": "code",
   "execution_count": 3,
   "metadata": {},
   "outputs": [],
   "source": [
    "columns_to_drop = ['OP_Num', 'OTR_Num', 'PCO2_Num', 'WVP_Num', 'WVTR_Num']\n",
    "combined_dataframe = combined_dataframe.drop(columns=[col for col in columns_to_drop if col in combined_dataframe.columns], errors='ignore')\n",
    "# combined_dataframe.to_csv('semi-processed.csv')"
   ]
  },
  {
   "cell_type": "code",
   "execution_count": 4,
   "metadata": {},
   "outputs": [
    {
     "name": "stdout",
     "output_type": "stream",
     "text": [
      "             OP_Unit  OTR_Unit  WVP_Unit  WVTR_Unit\n",
      "cm3/m2Pas        NaN       6.0       NaN        NaN\n",
      "cm3/m2s          NaN       6.0       NaN        NaN\n",
      "cm3cm/m2Pas     80.0       3.0       NaN        NaN\n",
      "cm3cm/m2s        NaN       6.0       NaN        NaN\n",
      "g/m2s            NaN       NaN       NaN       10.0\n",
      "gm/m2Pas        11.0       NaN     134.0        NaN\n",
      "gm/m2s           1.0       NaN       1.0        NaN\n",
      "m3m/m2Pas        5.0       NaN       NaN        NaN\n",
      "molm/m2Pas       5.0       NaN       2.0        NaN\n"
     ]
    }
   ],
   "source": [
    "value_counts = combined_dataframe[['OP_Unit', 'OTR_Unit', 'WVP_Unit', 'WVTR_Unit']].apply(pd.Series.value_counts)\n",
    "print(value_counts)\n"
   ]
  },
  {
   "cell_type": "code",
   "execution_count": 5,
   "metadata": {},
   "outputs": [],
   "source": [
    "# combined_dataframe.drop(columns='Doc')\n",
    "# combined_dataframe = combined_dataframe[['Base Material', 'Type', 'Secondary Material',\n",
    "#                                          'OP_Updated_Num', 'OP_Unit', 'OTR_Updated_Num', 'OTR_Unit',\n",
    "#                                          'PCO2_Updated_Num', 'PCO2_Unit', \n",
    "#                                          'WVTR_Updated_Num', 'WVTR_Unit', 'WVP_Updated_Num', 'WVP_Unit', \n",
    "#                                          'thickness_Updated_Num', 'thickness_Unit', \n",
    "#                                          'temperature_Updated_Num', 'temperature_Unit', \n",
    "#                                          'RH_Updated_Num', 'RH_Unit', \n",
    "#                                          'Composition', 'Plasticizer']]\n",
    "# combined_dataframe.to_csv('FE.csv')"
   ]
  },
  {
   "cell_type": "code",
   "execution_count": 6,
   "metadata": {},
   "outputs": [],
   "source": [
    "# Apply the conversion where 'OP_Unit' is 'gm/m2Pas'\n",
    "# Mass-to-volume\n",
    "condition_o2g2cm = combined_dataframe['OP_Unit'] == 'gm/m2Pas'\n",
    "combined_dataframe.loc[condition_o2g2cm, 'OP_Updated_Num'] *= 100/0.001429\n",
    "combined_dataframe.loc[condition_o2g2cm, 'OP_Unit'] = 'cm3cm/m2Pas'\n",
    "\n",
    "\n",
    "condition_o2m2cm = combined_dataframe['OP_Unit'] == 'm3m/m2Pas'\n",
    "combined_dataframe.loc[condition_o2m2cm, 'OP_Updated_Num'] *= 100000000\n",
    "combined_dataframe.loc[condition_o2m2cm, 'OP_Unit']  = 'cm3cm/m2Pas'\n",
    "\n",
    "\n",
    "# o2 : 0.0014g/cm3, co2 : 0.001836 g/cm3\n",
    "# Mass-to-volume\n",
    "condition_o2m2cmg2cm = combined_dataframe['OP_Unit'] == 'gm/m2s'\n",
    "combined_dataframe.loc[condition_o2m2cmg2cm, 'OP_Updated_Num'] *= 100/0.001429\n",
    "combined_dataframe.loc[condition_o2m2cmg2cm,'OP_Unit'] = 'cm3cm/m2s'\n",
    "\n",
    "# Mass-to-volume\n",
    "condition_co2g2cm = combined_dataframe['PCO2_Unit'] == 'gm/m2Pas'\n",
    "combined_dataframe.loc[condition_co2g2cm, 'OP_Updated_Num'] *= 100/0.001836\n",
    "combined_dataframe.loc[condition_co2g2cm, 'PCO2_Unit'] = 'cm3cm/m2Pas'\n",
    "\n",
    "\n",
    "condition_o2mol2cm = combined_dataframe['OP_Unit'] == 'molm/m2Pas'\n",
    "combined_dataframe.loc[condition_o2mol2cm, 'OP_Updated_Num'] *= 116059.480952 \n",
    "combined_dataframe.loc[condition_o2mol2cm, 'OP_Unit'] = 'cm3cm/m2Pas'\n",
    "\n",
    "# 116059.480952 = 8.314*293.15*1000/21\n",
    "condition_co2mol2cm = combined_dataframe['PCO2_Unit'] == 'molm/m2Pas'\n",
    "combined_dataframe.loc[condition_co2mol2cm, 'PCO2_Updated_Num'] *= 116059.480952 \n",
    "combined_dataframe.loc[condition_co2mol2cm, 'PCO2_Unit'] = 'cm3cm/m2Pas'\n",
    "\n",
    "# molecular weight of water (18.0153 g/mol) converts\n",
    "condition_wmol2g = combined_dataframe['WVP_Unit'] == 'molm/m2Pas'\n",
    "combined_dataframe.loc[condition_wmol2g, 'WVP_Updated_Num'] *= 18.0153\n",
    "combined_dataframe.loc[condition_wmol2g, 'WVP_Unit'] = 'gm/m2Pas'\n",
    "\n",
    "#875448000000000\n",
    "condition_o2 = combined_dataframe['OP_Unit'] == 'cm3cm/m2Pas'\n",
    "combined_dataframe.loc[condition_o2, 'OP_Updated_Num'] *= 10000*86400*101325\n",
    "combined_dataframe.loc[condition_o2, 'OP_Unit'] = 'cm3um/m2dayatm'\n",
    "\n",
    "condition_wPa2kPa = combined_dataframe['WVP_Unit'] == 'gm/m2Pas'\n",
    "combined_dataframe.loc[condition_wPa2kPa, 'WVP_Updated_Num'] *= 86400*1000000*1000\n",
    "combined_dataframe.loc[condition_wPa2kPa, 'WVP_Unit'] = 'gum/m2daykPa'"
   ]
  },
  {
   "cell_type": "code",
   "execution_count": 7,
   "metadata": {},
   "outputs": [],
   "source": [
    "combined_dataframe['thickness_Updated_Num'] = combined_dataframe['thickness_Updated_Num'].fillna(0.0001)\n",
    "combined_dataframe['thickness_Unit'] = combined_dataframe['thickness_Unit'].fillna('m')"
   ]
  },
  {
   "cell_type": "code",
   "execution_count": 8,
   "metadata": {},
   "outputs": [],
   "source": [
    "def calculate_otr(row):\n",
    "    # under 1 atm and \n",
    "    if pd.notnull(row['OP_Updated_Num']) and row['OP_Unit'] == 'cm3um/m2dayatm':\n",
    "        row['OTR_Updated_Num'] = row['OP_Updated_Num'] / (row['thickness_Updated_Num'] * 10**6) \n",
    "        row['OTR_Unit'] = 'cm3/m2day'\n",
    "\n",
    "    if pd.notnull(row['OP_Updated_Num']) and row['OP_Unit'] == 'cm3cm/m2s':\n",
    "        row['OTR_Updated_Num'] = row['OP_Updated_Num'] / row['thickness_Updated_Num'] * 864\n",
    "        row['OTR_Unit'] = 'cm3/m2day'\n",
    "\n",
    "    return row\n",
    "\n",
    "def calculate_wvtr(row):\n",
    "    if pd.notnull(row['WVP_Updated_Num']) and row['WVP_Unit'] == 'gum/m2daykPa':\n",
    "        row['WVTR_Updated_Num'] = (row['WVP_Updated_Num'] * 101.325) / (row['thickness_Updated_Num'] * 10**6) \n",
    "        row['WVTR_Unit'] = 'g/m2day'\n",
    "    return row\n",
    "combined_dataframe = combined_dataframe.apply(calculate_otr, axis=1).apply(calculate_wvtr, axis=1)\n",
    "# combined_dataframe = combined_dataframe.apply(calculate_wvtr, axis=1)"
   ]
  },
  {
   "cell_type": "code",
   "execution_count": 9,
   "metadata": {},
   "outputs": [],
   "source": [
    "def convert_otr(row):\n",
    "    if pd.notnull(row['OTR_Updated_Num']):\n",
    "        if row['OTR_Unit'] == 'cm3/m2s':\n",
    "            row['OTR_Updated_Num'] *= 86400\n",
    "            row['OTR_Unit'] = 'cm3/m2day'\n",
    "        elif row['OTR_Unit'] == 'cm3cm/m2s':\n",
    "            row['OTR_Updated_Num'] = (row['OTR_Updated_Num'] * 864) / row['thickness_Updated_Num']\n",
    "            row['OTR_Unit'] = 'cm3/m2day'\n",
    "        elif row['OTR_Unit'] == 'cm3/m2Pas':\n",
    "            row['OTR_Updated_Num'] = row['OTR_Updated_Num'] * 101325 * 86400\n",
    "            row['OTR_Unit'] = 'cm3/m2day'\n",
    "        elif row['OTR_Unit'] == 'cm3cm/m2Pas':\n",
    "            row['OTR_Updated_Num'] = row['OTR_Updated_Num'] * 101325 * 864 / row['thickness_Updated_Num']\n",
    "            row['OTR_Unit'] = 'cm3/m2day'\n",
    "    return row\n",
    "\n",
    "def convert_wvtr(row):\n",
    "    if pd.notnull(row['WVTR_Updated_Num']):\n",
    "        if row['WVTR_Unit'] == 'g/m2s':\n",
    "            row['WVTR_Updated_Num'] *= 86400\n",
    "            row['WVTR_Unit'] = 'g/m2day'\n",
    "    return row\n",
    "combined_dataframe = combined_dataframe.apply(convert_otr, axis=1).apply(convert_wvtr, axis=1)\n",
    "# combined_dataframe.to_csv('after FE.csv')"
   ]
  },
  {
   "cell_type": "code",
   "execution_count": 10,
   "metadata": {},
   "outputs": [
    {
     "data": {
      "text/plain": [
       "Index(['Unnamed: 0', 'Doc', 'OP_Updated_Num', 'OP_Unit', 'OTR_Updated_Num',\n",
       "       'OTR_Unit', 'PCO2_Updated_Num', 'PCO2_Unit', 'WVTR_Updated_Num',\n",
       "       'WVTR_Unit', 'WVP_Updated_Num', 'WVP_Unit', 'thickness_Updated_Num',\n",
       "       'thickness_Unit', 'temperature_Updated_Num', 'temperature_Unit',\n",
       "       'RH_Updated_Num', 'RH_Unit', 'Base Material', 'Type',\n",
       "       'Secondary Material', 'Composition', 'Plasticizer'],\n",
       "      dtype='object')"
      ]
     },
     "execution_count": 10,
     "metadata": {},
     "output_type": "execute_result"
    }
   ],
   "source": [
    "combined_dataframe.columns"
   ]
  },
  {
   "cell_type": "code",
   "execution_count": 11,
   "metadata": {},
   "outputs": [
    {
     "name": "stdout",
     "output_type": "stream",
     "text": [
      "                  count          mean           std    min       25%  \\\n",
      "OP_Updated_Num    102.0  3.095102e+19  3.117824e+20  0.000   436.266   \n",
      "OTR_Updated_Num   123.0  2.566670e+17  2.839233e+18  0.000    11.578   \n",
      "PCO2_Updated_Num   29.0  0.000000e+00  3.000000e-03  0.000     0.000   \n",
      "WVTR_Updated_Num  143.0  1.231641e+08  1.331648e+09  0.257  1038.401   \n",
      "WVP_Updated_Num   137.0  1.268580e+08  1.342661e+09  0.000  1131.840   \n",
      "\n",
      "                        50%         75%           max  \n",
      "OP_Updated_Num     2644.110  680038.989  3.148917e+21  \n",
      "OTR_Updated_Num     249.533    5936.851  3.148917e+19  \n",
      "PCO2_Updated_Num      0.000       0.000  1.400000e-02  \n",
      "WVTR_Updated_Num  19251.750  107901.772  1.590794e+10  \n",
      "WVP_Updated_Num    6324.480   57591.311  1.569992e+10  \n"
     ]
    }
   ],
   "source": [
    "columns = ['OP_Updated_Num', 'OTR_Updated_Num', 'PCO2_Updated_Num', 'WVTR_Updated_Num', 'WVP_Updated_Num']\n",
    "\n",
    "# Calculate summary statistics\n",
    "summary_stats = combined_dataframe[columns].describe().transpose()\n",
    "\n",
    "# Add median to the summary statistics\n",
    "# Display the summary statistics\n",
    "print(summary_stats.round(3))"
   ]
  },
  {
   "cell_type": "code",
   "execution_count": 12,
   "metadata": {},
   "outputs": [
    {
     "data": {
      "image/png": "[encoded data removed]",
      "text/plain": [
       "<Figure size 800x800 with 2 Axes>"
      ]
     },
     "metadata": {},
     "output_type": "display_data"
    }
   ],
   "source": [
    "from matplotlib.ticker import FuncFormatter\n",
    "import matplotlib.pyplot as plt\n",
    "import numpy as np\n",
    "import pandas as pd\n",
    "\n",
    "# Example combined_dataframe setup (replace this with your actual data)\n",
    "# combined_dataframe = pd.DataFrame({...})\n",
    "\n",
    "# List of columns to visualize\n",
    "coll = [ 'OTR', 'WVTR']\n",
    "text = '_Updated_Num'\n",
    "u = '_Unit'\n",
    "columns = [c + text for c in coll]\n",
    "\n",
    "# Create subplots\n",
    "fig, axes = plt.subplots(nrows=len(coll), ncols=1, figsize=(8, len(columns) * 4))\n",
    "\n",
    "all_data = pd.concat([combined_dataframe[col].dropna() for col in columns])\n",
    "log_all_data = np.log1p(all_data)  # Log-transform combined data for bin calculation\n",
    "bins = np.linspace(log_all_data.min(), log_all_data.max(), 30)\n",
    "\n",
    "# Formatter to convert log scale to powers of 10\n",
    "def log_to_power_of_10(x, pos):\n",
    "    return f\"$10^{{{int(x)}}}$\"\n",
    "\n",
    "formatter = FuncFormatter(log_to_power_of_10)\n",
    "\n",
    "for i, col in enumerate(columns):\n",
    "    # Get the corresponding unit column\n",
    "    unit_column = col.replace(text, u)\n",
    "\n",
    "    # Find the most common unit\n",
    "    if unit_column in combined_dataframe:\n",
    "        most_common_unit = combined_dataframe[unit_column].value_counts().idxmax()\n",
    "    else:\n",
    "        most_common_unit = \"unknown\"  # Fallback if the unit column doesn't exist\n",
    "\n",
    "    # Drop NaN values and apply log transformation (add 1 to avoid log(0))\n",
    "    data = combined_dataframe[col].dropna()\n",
    "    log_data = np.log1p(data)  # log1p handles log(1 + x)\n",
    "\n",
    "    # Plot histogram\n",
    "    axes[i].hist(log_data, bins=bins, color='skyblue', edgecolor='black')\n",
    "    axes[i].set_xlabel(f\"{col.split('_')[0]} ({most_common_unit})\")  # Set x-label with unit\n",
    "    axes[i].set_ylabel('Frequency')\n",
    "\n",
    "    # Apply custom formatter to x-axis\n",
    "    axes[i].xaxis.set_major_formatter(formatter)\n",
    "\n",
    "plt.tight_layout()\n",
    "plt.suptitle('Gas Permeability Distributions', y=1.02, fontsize=14)\n",
    "plt.show()\n"
   ]
  },
  {
   "cell_type": "code",
   "execution_count": 13,
   "metadata": {},
   "outputs": [],
   "source": [
    "# Create new columns for OP temperature\n",
    "combined_dataframe['OTR_temperature_Num'] = combined_dataframe.apply(\n",
    "    lambda row: row['temperature_Updated_Num'] if pd.notnull(row['OTR_Updated_Num']) else None, axis=1)\n",
    "combined_dataframe['OTR_temperature_Unit'] = combined_dataframe.apply(\n",
    "    lambda row: row['temperature_Unit'] if pd.notnull(row['OTR_Updated_Num']) else None, axis=1)\n",
    "combined_dataframe['OTR_RH_Num'] = combined_dataframe.apply(\n",
    "    lambda row: row['RH_Updated_Num'] if pd.notnull(row['OTR_Updated_Num']) else None, axis=1)\n",
    "combined_dataframe['OTR_RH_Unit'] = combined_dataframe.apply(\n",
    "    lambda row: row['RH_Unit'] if pd.notnull(row['OTR_Updated_Num']) else None, axis=1)\n",
    "\n",
    "\n",
    "# Create new columns for WVP temperature\n",
    "combined_dataframe['WVTR_temperature_Num'] = combined_dataframe.apply(\n",
    "    lambda row: row['temperature_Updated_Num'] if pd.notnull(row['WVTR_Updated_Num']) else None, axis=1)\n",
    "combined_dataframe['WVTR_temperature_Unit'] = combined_dataframe.apply(\n",
    "    lambda row: row['temperature_Unit'] if pd.notnull(row['WVTR_Updated_Num']) else None, axis=1)\n",
    "combined_dataframe['WVTR_RH_Num'] = combined_dataframe.apply(\n",
    "    lambda row: row['RH_Updated_Num'] if pd.notnull(row['WVTR_Updated_Num']) else None, axis=1)\n",
    "combined_dataframe['WVTR_RH_Unit'] = combined_dataframe.apply(\n",
    "    lambda row: row['RH_Unit'] if pd.notnull(row['WVTR_Updated_Num']) else None, axis=1)\n",
    "\n",
    "combined_dataframe['Type'] = combined_dataframe['Type'].replace('Individual', 'individual')"
   ]
  },
  {
   "cell_type": "code",
   "execution_count": 14,
   "metadata": {},
   "outputs": [],
   "source": [
    "conventional_materials = ['polypropylene', 'polyethylene', 'polyvinyl chloride', 'LDPE', 'HDPE', 'poly(n-butyl methacrylate)', 'polyethylene terephthalate', 'EVOH', 'polysulfone']\n",
    "\n",
    "# Create a new column 'Material' based on the condition\n",
    "combined_dataframe['Material'] = combined_dataframe['Base Material'].apply(lambda x: 'conventional' if x in conventional_materials else 'sustainable')\n"
   ]
  },
  {
   "cell_type": "code",
   "execution_count": 15,
   "metadata": {},
   "outputs": [
    {
     "name": "stderr",
     "output_type": "stream",
     "text": [
      "/var/folders/qs/8x1gpygd3nl0wldh8bphz0f80000gn/T/ipykernel_44813/1357264389.py:8: SettingWithCopyWarning: \n",
      "A value is trying to be set on a copy of a slice from a DataFrame.\n",
      "Try using .loc[row_indexer,col_indexer] = value instead\n",
      "\n",
      "See the caveats in the documentation: https://pandas.pydata.org/pandas-docs/stable/user_guide/indexing.html#returning-a-view-versus-a-copy\n",
      "  op[col] = combined_dataframe[col]\n",
      "/var/folders/qs/8x1gpygd3nl0wldh8bphz0f80000gn/T/ipykernel_44813/1357264389.py:8: SettingWithCopyWarning: \n",
      "A value is trying to be set on a copy of a slice from a DataFrame.\n",
      "Try using .loc[row_indexer,col_indexer] = value instead\n",
      "\n",
      "See the caveats in the documentation: https://pandas.pydata.org/pandas-docs/stable/user_guide/indexing.html#returning-a-view-versus-a-copy\n",
      "  op[col] = combined_dataframe[col]\n",
      "/var/folders/qs/8x1gpygd3nl0wldh8bphz0f80000gn/T/ipykernel_44813/1357264389.py:8: SettingWithCopyWarning: \n",
      "A value is trying to be set on a copy of a slice from a DataFrame.\n",
      "Try using .loc[row_indexer,col_indexer] = value instead\n",
      "\n",
      "See the caveats in the documentation: https://pandas.pydata.org/pandas-docs/stable/user_guide/indexing.html#returning-a-view-versus-a-copy\n",
      "  op[col] = combined_dataframe[col]\n",
      "/var/folders/qs/8x1gpygd3nl0wldh8bphz0f80000gn/T/ipykernel_44813/1357264389.py:8: SettingWithCopyWarning: \n",
      "A value is trying to be set on a copy of a slice from a DataFrame.\n",
      "Try using .loc[row_indexer,col_indexer] = value instead\n",
      "\n",
      "See the caveats in the documentation: https://pandas.pydata.org/pandas-docs/stable/user_guide/indexing.html#returning-a-view-versus-a-copy\n",
      "  op[col] = combined_dataframe[col]\n",
      "/var/folders/qs/8x1gpygd3nl0wldh8bphz0f80000gn/T/ipykernel_44813/1357264389.py:9: SettingWithCopyWarning: \n",
      "A value is trying to be set on a copy of a slice from a DataFrame.\n",
      "Try using .loc[row_indexer,col_indexer] = value instead\n",
      "\n",
      "See the caveats in the documentation: https://pandas.pydata.org/pandas-docs/stable/user_guide/indexing.html#returning-a-view-versus-a-copy\n",
      "  otr[col] = combined_dataframe[col]\n",
      "/var/folders/qs/8x1gpygd3nl0wldh8bphz0f80000gn/T/ipykernel_44813/1357264389.py:9: SettingWithCopyWarning: \n",
      "A value is trying to be set on a copy of a slice from a DataFrame.\n",
      "Try using .loc[row_indexer,col_indexer] = value instead\n",
      "\n",
      "See the caveats in the documentation: https://pandas.pydata.org/pandas-docs/stable/user_guide/indexing.html#returning-a-view-versus-a-copy\n",
      "  otr[col] = combined_dataframe[col]\n",
      "/var/folders/qs/8x1gpygd3nl0wldh8bphz0f80000gn/T/ipykernel_44813/1357264389.py:9: SettingWithCopyWarning: \n",
      "A value is trying to be set on a copy of a slice from a DataFrame.\n",
      "Try using .loc[row_indexer,col_indexer] = value instead\n",
      "\n",
      "See the caveats in the documentation: https://pandas.pydata.org/pandas-docs/stable/user_guide/indexing.html#returning-a-view-versus-a-copy\n",
      "  otr[col] = combined_dataframe[col]\n",
      "/var/folders/qs/8x1gpygd3nl0wldh8bphz0f80000gn/T/ipykernel_44813/1357264389.py:9: SettingWithCopyWarning: \n",
      "A value is trying to be set on a copy of a slice from a DataFrame.\n",
      "Try using .loc[row_indexer,col_indexer] = value instead\n",
      "\n",
      "See the caveats in the documentation: https://pandas.pydata.org/pandas-docs/stable/user_guide/indexing.html#returning-a-view-versus-a-copy\n",
      "  otr[col] = combined_dataframe[col]\n",
      "/var/folders/qs/8x1gpygd3nl0wldh8bphz0f80000gn/T/ipykernel_44813/1357264389.py:10: SettingWithCopyWarning: \n",
      "A value is trying to be set on a copy of a slice from a DataFrame.\n",
      "Try using .loc[row_indexer,col_indexer] = value instead\n",
      "\n",
      "See the caveats in the documentation: https://pandas.pydata.org/pandas-docs/stable/user_guide/indexing.html#returning-a-view-versus-a-copy\n",
      "  wvp[col] = combined_dataframe[col]\n",
      "/var/folders/qs/8x1gpygd3nl0wldh8bphz0f80000gn/T/ipykernel_44813/1357264389.py:10: SettingWithCopyWarning: \n",
      "A value is trying to be set on a copy of a slice from a DataFrame.\n",
      "Try using .loc[row_indexer,col_indexer] = value instead\n",
      "\n",
      "See the caveats in the documentation: https://pandas.pydata.org/pandas-docs/stable/user_guide/indexing.html#returning-a-view-versus-a-copy\n",
      "  wvp[col] = combined_dataframe[col]\n",
      "/var/folders/qs/8x1gpygd3nl0wldh8bphz0f80000gn/T/ipykernel_44813/1357264389.py:10: SettingWithCopyWarning: \n",
      "A value is trying to be set on a copy of a slice from a DataFrame.\n",
      "Try using .loc[row_indexer,col_indexer] = value instead\n",
      "\n",
      "See the caveats in the documentation: https://pandas.pydata.org/pandas-docs/stable/user_guide/indexing.html#returning-a-view-versus-a-copy\n",
      "  wvp[col] = combined_dataframe[col]\n",
      "/var/folders/qs/8x1gpygd3nl0wldh8bphz0f80000gn/T/ipykernel_44813/1357264389.py:10: SettingWithCopyWarning: \n",
      "A value is trying to be set on a copy of a slice from a DataFrame.\n",
      "Try using .loc[row_indexer,col_indexer] = value instead\n",
      "\n",
      "See the caveats in the documentation: https://pandas.pydata.org/pandas-docs/stable/user_guide/indexing.html#returning-a-view-versus-a-copy\n",
      "  wvp[col] = combined_dataframe[col]\n",
      "/var/folders/qs/8x1gpygd3nl0wldh8bphz0f80000gn/T/ipykernel_44813/1357264389.py:11: SettingWithCopyWarning: \n",
      "A value is trying to be set on a copy of a slice from a DataFrame.\n",
      "Try using .loc[row_indexer,col_indexer] = value instead\n",
      "\n",
      "See the caveats in the documentation: https://pandas.pydata.org/pandas-docs/stable/user_guide/indexing.html#returning-a-view-versus-a-copy\n",
      "  wvtr[col] = combined_dataframe[col]\n",
      "/var/folders/qs/8x1gpygd3nl0wldh8bphz0f80000gn/T/ipykernel_44813/1357264389.py:11: SettingWithCopyWarning: \n",
      "A value is trying to be set on a copy of a slice from a DataFrame.\n",
      "Try using .loc[row_indexer,col_indexer] = value instead\n",
      "\n",
      "See the caveats in the documentation: https://pandas.pydata.org/pandas-docs/stable/user_guide/indexing.html#returning-a-view-versus-a-copy\n",
      "  wvtr[col] = combined_dataframe[col]\n",
      "/var/folders/qs/8x1gpygd3nl0wldh8bphz0f80000gn/T/ipykernel_44813/1357264389.py:11: SettingWithCopyWarning: \n",
      "A value is trying to be set on a copy of a slice from a DataFrame.\n",
      "Try using .loc[row_indexer,col_indexer] = value instead\n",
      "\n",
      "See the caveats in the documentation: https://pandas.pydata.org/pandas-docs/stable/user_guide/indexing.html#returning-a-view-versus-a-copy\n",
      "  wvtr[col] = combined_dataframe[col]\n",
      "/var/folders/qs/8x1gpygd3nl0wldh8bphz0f80000gn/T/ipykernel_44813/1357264389.py:11: SettingWithCopyWarning: \n",
      "A value is trying to be set on a copy of a slice from a DataFrame.\n",
      "Try using .loc[row_indexer,col_indexer] = value instead\n",
      "\n",
      "See the caveats in the documentation: https://pandas.pydata.org/pandas-docs/stable/user_guide/indexing.html#returning-a-view-versus-a-copy\n",
      "  wvtr[col] = combined_dataframe[col]\n"
     ]
    }
   ],
   "source": [
    "col = ['Base Material', 'Type', 'Secondary Material','Material']\n",
    "\n",
    "otr = combined_dataframe.filter(regex='^OTR', axis=1)\n",
    "op = combined_dataframe.filter(regex='^OP', axis=1)\n",
    "wvp = combined_dataframe.filter(regex='^WVP', axis=1)\n",
    "wvtr = combined_dataframe.filter(regex='^WVTR', axis=1)\n",
    "\n",
    "op[col] = combined_dataframe[col]\n",
    "otr[col] = combined_dataframe[col]\n",
    "wvp[col] = combined_dataframe[col]\n",
    "wvtr[col] = combined_dataframe[col]\n"
   ]
  },
  {
   "cell_type": "code",
   "execution_count": 16,
   "metadata": {},
   "outputs": [],
   "source": [
    "fop = op[op['OP_Updated_Num'].notnull()]\n",
    "fotr = otr[otr['OTR_Updated_Num'].notnull()]\n",
    "fwvp = wvp[wvp['WVP_Updated_Num'].notnull()]\n",
    "fwvtr = wvtr[wvtr['WVTR_Updated_Num'].notnull()]"
   ]
  },
  {
   "cell_type": "code",
   "execution_count": 17,
   "metadata": {},
   "outputs": [
    {
     "name": "stderr",
     "output_type": "stream",
     "text": [
      "/var/folders/qs/8x1gpygd3nl0wldh8bphz0f80000gn/T/ipykernel_44813/4199108202.py:1: SettingWithCopyWarning: \n",
      "A value is trying to be set on a copy of a slice from a DataFrame.\n",
      "Try using .loc[row_indexer,col_indexer] = value instead\n",
      "\n",
      "See the caveats in the documentation: https://pandas.pydata.org/pandas-docs/stable/user_guide/indexing.html#returning-a-view-versus-a-copy\n",
      "  fotr['OTR_temperature_Num'] = fotr['OTR_temperature_Num'].fillna(23.0)\n",
      "/var/folders/qs/8x1gpygd3nl0wldh8bphz0f80000gn/T/ipykernel_44813/4199108202.py:2: SettingWithCopyWarning: \n",
      "A value is trying to be set on a copy of a slice from a DataFrame.\n",
      "Try using .loc[row_indexer,col_indexer] = value instead\n",
      "\n",
      "See the caveats in the documentation: https://pandas.pydata.org/pandas-docs/stable/user_guide/indexing.html#returning-a-view-versus-a-copy\n",
      "  fotr['OTR_RH_Num'] = fotr['OTR_RH_Num'].fillna(50.0)\n",
      "/var/folders/qs/8x1gpygd3nl0wldh8bphz0f80000gn/T/ipykernel_44813/4199108202.py:3: SettingWithCopyWarning: \n",
      "A value is trying to be set on a copy of a slice from a DataFrame.\n",
      "Try using .loc[row_indexer,col_indexer] = value instead\n",
      "\n",
      "See the caveats in the documentation: https://pandas.pydata.org/pandas-docs/stable/user_guide/indexing.html#returning-a-view-versus-a-copy\n",
      "  fwvtr['WVTR_temperature_Num'] = fwvtr['WVTR_temperature_Num'].fillna(25.0)\n",
      "/var/folders/qs/8x1gpygd3nl0wldh8bphz0f80000gn/T/ipykernel_44813/4199108202.py:4: SettingWithCopyWarning: \n",
      "A value is trying to be set on a copy of a slice from a DataFrame.\n",
      "Try using .loc[row_indexer,col_indexer] = value instead\n",
      "\n",
      "See the caveats in the documentation: https://pandas.pydata.org/pandas-docs/stable/user_guide/indexing.html#returning-a-view-versus-a-copy\n",
      "  fwvtr['WVTR_RH_Num'] = fwvtr['WVTR_RH_Num'].fillna(50.0)\n"
     ]
    }
   ],
   "source": [
    "fotr['OTR_temperature_Num'] = fotr['OTR_temperature_Num'].fillna(23.0)\n",
    "fotr['OTR_RH_Num'] = fotr['OTR_RH_Num'].fillna(50.0)\n",
    "fwvtr['WVTR_temperature_Num'] = fwvtr['WVTR_temperature_Num'].fillna(25.0)\n",
    "fwvtr['WVTR_RH_Num'] = fwvtr['WVTR_RH_Num'].fillna(50.0)"
   ]
  },
  {
   "cell_type": "code",
   "execution_count": 18,
   "metadata": {},
   "outputs": [
    {
     "name": "stdout",
     "output_type": "stream",
     "text": [
      "fotr before 123\n",
      "fotr after 51\n",
      "fwvtr after 143\n",
      "fwvtr after 72\n"
     ]
    }
   ],
   "source": [
    "print('fotr before', len(fotr))\n",
    "fotr = fotr[(fotr['OTR_temperature_Num'] == 23.0) & (fotr['OTR_RH_Num'] == 50.0)]\n",
    "print('fotr after', len(fotr))\n",
    "print('fwvtr after', len(fwvtr))\n",
    "fwvtr = fwvtr[(fwvtr['WVTR_temperature_Num'] == 25.0) & (fwvtr['WVTR_RH_Num'] == 50.0)]\n",
    "print('fwvtr after', len(fwvtr))"
   ]
  },
  {
   "cell_type": "code",
   "execution_count": 19,
   "metadata": {},
   "outputs": [
    {
     "data": {
      "text/plain": [
       "count    5.100000e+01\n",
       "mean     3.105970e+07\n",
       "std      1.572773e+08\n",
       "min      1.013244e-01\n",
       "25%      3.030175e+00\n",
       "50%      1.223001e+01\n",
       "75%      5.116912e+02\n",
       "max      1.013244e+09\n",
       "Name: OTR_Updated_Num, dtype: float64"
      ]
     },
     "execution_count": 19,
     "metadata": {},
     "output_type": "execute_result"
    }
   ],
   "source": [
    "combine_df_tr = pd.merge(fotr, fwvtr, on=col, how='outer')\n",
    "dtr = combine_df_tr[['WVTR_Updated_Num','OTR_Updated_Num'] + col]\n",
    "fotr['OTR_Updated_Num'].describe()"
   ]
  },
  {
   "cell_type": "code",
   "execution_count": 20,
   "metadata": {},
   "outputs": [
    {
     "data": {
      "text/plain": [
       "count        72.000000\n",
       "mean     101134.975836\n",
       "std      126553.201389\n",
       "min          19.259856\n",
       "25%        1920.514050\n",
       "50%       38250.962338\n",
       "75%      200608.909200\n",
       "max      580509.568800\n",
       "Name: WVTR_Updated_Num, dtype: float64"
      ]
     },
     "execution_count": 20,
     "metadata": {},
     "output_type": "execute_result"
    }
   ],
   "source": [
    "fwvtr['WVTR_Updated_Num'].describe()"
   ]
  },
  {
   "cell_type": "code",
   "execution_count": 21,
   "metadata": {},
   "outputs": [],
   "source": [
    "# Load datasets\n",
    "data = fotr  # Replace with your dataset filename\n",
    "fotr['OTR_temperature_Num'] = fotr['OTR_temperature_Num'].fillna(23.0)\n",
    "fotr['OTR_RH_Num'] = fotr['OTR_RH_Num'].fillna(50.0)"
   ]
  },
  {
   "cell_type": "code",
   "execution_count": 22,
   "metadata": {},
   "outputs": [
    {
     "data": {
      "text/plain": [
       "count    51.0\n",
       "mean     23.0\n",
       "std       0.0\n",
       "min      23.0\n",
       "25%      23.0\n",
       "50%      23.0\n",
       "75%      23.0\n",
       "max      23.0\n",
       "Name: OTR_temperature_Num, dtype: float64"
      ]
     },
     "execution_count": 22,
     "metadata": {},
     "output_type": "execute_result"
    }
   ],
   "source": [
    "fotr['OTR_temperature_Num'].describe()"
   ]
  },
  {
   "cell_type": "code",
   "execution_count": 23,
   "metadata": {},
   "outputs": [
    {
     "name": "stderr",
     "output_type": "stream",
     "text": [
      "/var/folders/qs/8x1gpygd3nl0wldh8bphz0f80000gn/T/ipykernel_44813/3840036103.py:28: FutureWarning: The default dtype for empty Series will be 'object' instead of 'float64' in a future version. Specify a dtype explicitly to silence this warning.\n",
      "  fwvtr_data = fwvtr[col].dropna() if col in fwvtr else pd.Series()\n",
      "/var/folders/qs/8x1gpygd3nl0wldh8bphz0f80000gn/T/ipykernel_44813/3840036103.py:27: FutureWarning: The default dtype for empty Series will be 'object' instead of 'float64' in a future version. Specify a dtype explicitly to silence this warning.\n",
      "  fotr_data = fotr[col].dropna() if col in fotr else pd.Series()\n"
     ]
    },
    {
     "data": {
      "image/png": "[encoded data removed]",
      "text/plain": [
       "<Figure size 800x600 with 1 Axes>"
      ]
     },
     "metadata": {},
     "output_type": "display_data"
    }
   ],
   "source": [
    "from matplotlib.ticker import FuncFormatter\n",
    "import matplotlib.pyplot as plt\n",
    "import numpy as np\n",
    "import pandas as pd\n",
    "\n",
    "\n",
    "# List of columns to visualize\n",
    "coll = ['OTR', 'WVTR']\n",
    "text = '_Updated_Num'\n",
    "u = '_Unit'\n",
    "columns = [c + text for c in coll]\n",
    "\n",
    "# Create the figure\n",
    "fig, ax = plt.subplots(figsize=(8, 6))\n",
    "\n",
    "# Formatter to convert log scale to powers of 10\n",
    "def log_to_power_of_10(x, pos):\n",
    "    return f\"$10^{{{int(x)}}}$\"\n",
    "\n",
    "formatter = FuncFormatter(log_to_power_of_10)\n",
    "\n",
    "# Data preparation for OTR and WVTR\n",
    "combined_data = []\n",
    "labels = []\n",
    "for col in columns:\n",
    "    # Initialize data for plotting (from both fotr and fwvtr)\n",
    "    fotr_data = fotr[col].dropna() if col in fotr else pd.Series()\n",
    "    fwvtr_data = fwvtr[col].dropna() if col in fwvtr else pd.Series()\n",
    "\n",
    "    # Find the most common unit for each column\n",
    "    unit_column = col.replace(text, u)\n",
    "    most_common_unit = \"unknown\"\n",
    "    if unit_column in fotr:\n",
    "        most_common_unit = fotr[unit_column].value_counts().idxmax()\n",
    "    elif unit_column in fwvtr:\n",
    "        most_common_unit = fwvtr[unit_column].value_counts().idxmax()\n",
    "\n",
    "    # Combine fotr and fwvtr data\n",
    "    combined_col_data = pd.concat([fotr_data, fwvtr_data])\n",
    "\n",
    "    # Apply log transformation\n",
    "    log_combined_col_data = np.log1p(combined_col_data)\n",
    "\n",
    "    # Append data and labels for boxplot\n",
    "    combined_data.append(log_combined_col_data)\n",
    "    labels.append(f\"{col.split('_')[0]} ({most_common_unit})\")\n",
    "\n",
    "# Plot a single boxplot for all data\n",
    "ax.boxplot(combined_data, labels=labels, patch_artist=True,\n",
    "           boxprops=dict(facecolor='skyblue', color='black'),\n",
    "           medianprops=dict(color='red')),\n",
    "\n",
    "ax.tick_params(axis='both', which='major', labelsize=18)\n",
    "\n",
    "# Set labels and formatting\n",
    "# ax.set_ylabel(\"Log-Transformed Values\")\n",
    "ax.yaxis.set_major_formatter(formatter)\n",
    "plt.title('Gas Permeability Distributions', fontsize=18)\n",
    "plt.tight_layout()\n",
    "plt.show()\n"
   ]
  },
  {
   "cell_type": "code",
   "execution_count": 24,
   "metadata": {},
   "outputs": [
    {
     "name": "stderr",
     "output_type": "stream",
     "text": [
      "/var/folders/qs/8x1gpygd3nl0wldh8bphz0f80000gn/T/ipykernel_44813/1347698943.py:2: SettingWithCopyWarning: \n",
      "A value is trying to be set on a copy of a slice from a DataFrame.\n",
      "Try using .loc[row_indexer,col_indexer] = value instead\n",
      "\n",
      "See the caveats in the documentation: https://pandas.pydata.org/pandas-docs/stable/user_guide/indexing.html#returning-a-view-versus-a-copy\n",
      "  dtr['log_WVTR_Updated_Num'] = np.log10(dtr['WVTR_Updated_Num'])\n",
      "/var/folders/qs/8x1gpygd3nl0wldh8bphz0f80000gn/T/ipykernel_44813/1347698943.py:3: SettingWithCopyWarning: \n",
      "A value is trying to be set on a copy of a slice from a DataFrame.\n",
      "Try using .loc[row_indexer,col_indexer] = value instead\n",
      "\n",
      "See the caveats in the documentation: https://pandas.pydata.org/pandas-docs/stable/user_guide/indexing.html#returning-a-view-versus-a-copy\n",
      "  dtr['log_OTR_Updated_Num'] = np.log10(dtr['OTR_Updated_Num'])\n"
     ]
    },
    {
     "data": {
      "application/vnd.plotly.v1+json": {
       "config": {
        "plotlyServerURL": "https://plot.ly"
       },
       "data": [
        {
         "customdata": [
          [
           "fish gelatin",
           "individual",
           "None"
          ],
          [
           "polylactic acid",
           "individual",
           "None"
          ],
          [
           "polylactic acid",
           "individual",
           "None"
          ],
          [
           "polylactic acid",
           "individual",
           "None"
          ],
          [
           "polylactic acid",
           "individual",
           "None"
          ],
          [
           "polylactic acid",
           "individual",
           "None"
          ],
          [
           "polylactic acid",
           "individual",
           "None"
          ],
          [
           "polylactic acid",
           "individual",
           "None"
          ],
          [
           "polylactic acid",
           "individual",
           "None"
          ],
          [
           "polylactic acid",
           "individual",
           "None"
          ],
          [
           "chitosan",
           "individual",
           "None"
          ],
          [
           "chitosan",
           "individual",
           "None"
          ],
          [
           "chitosan",
           "individual",
           "None"
          ],
          [
           "denatured whey protein isolate",
           "individual",
           "None"
          ],
          [
           "whey protein isolate",
           "individual",
           "None"
          ],
          [
           "microfibrillated cellulose",
           "individual",
           "None"
          ],
          [
           "polyvinylidene chloride",
           "individual",
           "None"
          ],
          [
           "polyvinylidene chloride",
           "individual",
           "None"
          ],
          [
           "oat starch",
           "individual",
           "None"
          ],
          [
           "oat starch",
           "individual",
           "None"
          ],
          [
           "SPI",
           "individual",
           "None"
          ],
          [
           "SPI",
           "individual",
           "None"
          ],
          [
           "SPI",
           "individual",
           "None"
          ],
          [
           "SPI",
           "individual",
           "None"
          ],
          [
           "SPI",
           "individual",
           "None"
          ],
          [
           "methylcellulose",
           "individual",
           "None"
          ],
          [
           "methylcellulose",
           "individual",
           "None"
          ],
          [
           "methylcellulose",
           "individual",
           "None"
          ],
          [
           "methylcellulose",
           "individual",
           "None"
          ],
          [
           "methylcellulose",
           "individual",
           "None"
          ],
          [
           "methylcellulose",
           "individual",
           "None"
          ],
          [
           "methylcellulose",
           "individual",
           "None"
          ],
          [
           "methylcellulose",
           "individual",
           "None"
          ],
          [
           "methylcellulose",
           "individual",
           "None"
          ],
          [
           "methylcellulose",
           "individual",
           "None"
          ],
          [
           "methylcellulose",
           "individual",
           "None"
          ],
          [
           "methylcellulose",
           "individual",
           "None"
          ],
          [
           "methylcellulose",
           "individual",
           "None"
          ],
          [
           "methylcellulose",
           "individual",
           "None"
          ],
          [
           "methylcellulose",
           "individual",
           "None"
          ],
          [
           "methylcellulose",
           "individual",
           "None"
          ],
          [
           "methylcellulose",
           "individual",
           "None"
          ],
          [
           "methylcellulose",
           "individual",
           "None"
          ],
          [
           "agar",
           "individual",
           "None"
          ]
         ],
         "hovertemplate": "Type=%{customdata[1]}<br>Material=sustainable<br>log_WVTR_Updated_Num=%{x}<br>log_OTR_Updated_Num=%{y}<br>Base Material=%{customdata[0]}<br>Secondary Material=%{customdata[2]}<extra></extra>",
         "legendgroup": "individual, sustainable",
         "marker": {
          "color": "#636efa",
          "symbol": "circle"
         },
         "mode": "markers",
         "name": "individual, sustainable",
         "orientation": "v",
         "showlegend": true,
         "type": "scatter",
         "x": [
          3.436384948911067,
          3.3431968181948495,
          3.2796896161832803,
          3.6496700758487925,
          3.3431968181948495,
          3.2796896161832803,
          3.6496700758487925,
          3.3431968181948495,
          3.2796896161832803,
          3.6496700758487925,
          3.728271565135178,
          2.115999178029274,
          4.126948067563351,
          null,
          null,
          null,
          null,
          null,
          3.2846530357148302,
          2.5654796452905244,
          4.851274772528726,
          5.030719778583554,
          5.072433331493281,
          5.035325164900165,
          5.026434927290557,
          4.67753885372281,
          4.422744552509625,
          4.357203702863442,
          4.24575869578908,
          4.282178416586975,
          4.626477102407937,
          4.605512380339592,
          4.560278451604717,
          4.583937706262643,
          4.581343150334709,
          4.616332344127859,
          4.543011127381414,
          4.422744552509625,
          4.339147290107083,
          4.131627080727842,
          4.6079285802160275,
          4.602621453295091,
          4.535907267430899,
          5.484757435537848
         ],
         "xaxis": "x",
         "y": [
          0.6050894618815801,
          2.852053724543536,
          2.852053724543536,
          2.852053724543536,
          4.028636128569049,
          4.028636128569049,
          4.028636128569049,
          2.2336005375338255,
          2.2336005375338255,
          2.2336005375338255,
          6.510866590733636,
          6.510866590733636,
          6.510866590733636,
          2.776568579301458,
          2.8978111776880695,
          4.607773824248114,
          -0.994286167079848,
          0.4828350876398145,
          null,
          null,
          null,
          null,
          null,
          null,
          null,
          null,
          null,
          null,
          null,
          null,
          null,
          null,
          null,
          null,
          null,
          null,
          null,
          null,
          null,
          null,
          null,
          null,
          null,
          null
         ],
         "yaxis": "y"
        },
        {
         "customdata": [
          [
           "LDPE",
           "individual",
           "None"
          ],
          [
           "LDPE",
           "individual",
           "None"
          ],
          [
           "HDPE",
           "individual",
           "None"
          ],
          [
           "polyethylene terephthalate",
           "individual",
           "None"
          ],
          [
           "polyethylene terephthalate",
           "individual",
           "None"
          ],
          [
           "polypropylene",
           "individual",
           "None"
          ],
          [
           "polypropylene",
           "individual",
           "None"
          ],
          [
           "polyvinyl chloride",
           "individual",
           "None"
          ]
         ],
         "hovertemplate": "Type=%{customdata[1]}<br>Material=conventional<br>log_WVTR_Updated_Num=%{x}<br>log_OTR_Updated_Num=%{y}<br>Base Material=%{customdata[0]}<br>Secondary Material=%{customdata[2]}<extra></extra>",
         "legendgroup": "individual, conventional",
         "marker": {
          "color": "#636efa",
          "symbol": "circle-open"
         },
         "mode": "markers",
         "name": "individual, conventional",
         "orientation": "v",
         "showlegend": true,
         "type": "scatter",
         "x": [
          2.0585689197390065,
          1.8817496075112425,
          1.2846530357148302,
          null,
          null,
          1.7551437115354795,
          1.7551437115354795,
          1.793488703611699
         ],
         "xaxis": "x",
         "y": [
          4.2775678801531685,
          4.2775678801531685,
          3.6361330959586846,
          7.005713832920152,
          7.704683837256171,
          8.704683837256171,
          9.005713832920152,
          null
         ],
         "yaxis": "y"
        },
        {
         "customdata": [
          [
           "fish gelatin",
           "nanocomposite",
           "montmorillonite"
          ],
          [
           "fish gelatin",
           "nanocomposite",
           "montmorillonite"
          ],
          [
           "fish gelatin",
           "nanocomposite",
           "montmorillonite"
          ],
          [
           "fish gelatin",
           "nanocomposite",
           "montmorillonite"
          ],
          [
           "fish gelatin",
           "nanocomposite",
           "montmorillonite"
          ],
          [
           "fish gelatin",
           "nanocomposite",
           "montmorillonite"
          ],
          [
           "fish gelatin",
           "nanocomposite",
           "montmorillonite"
          ],
          [
           "fish gelatin",
           "nanocomposite",
           "montmorillonite"
          ],
          [
           "fish gelatin",
           "nanocomposite",
           "montmorillonite"
          ],
          [
           "fish gelatin",
           "nanocomposite",
           "montmorillonite"
          ],
          [
           "fish gelatin",
           "nanocomposite",
           "montmorillonite"
          ],
          [
           "fish gelatin",
           "nanocomposite",
           "montmorillonite"
          ],
          [
           "fish gelatin",
           "nanocomposite",
           "montmorillonite"
          ],
          [
           "fish gelatin",
           "nanocomposite",
           "montmorillonite"
          ],
          [
           "fish gelatin",
           "nanocomposite",
           "montmorillonite"
          ],
          [
           "fish gelatin",
           "nanocomposite",
           "montmorillonite"
          ],
          [
           "fish gelatin",
           "nanocomposite",
           "montmorillonite"
          ],
          [
           "fish gelatin",
           "nanocomposite",
           "montmorillonite"
          ],
          [
           "fish gelatin",
           "nanocomposite",
           "montmorillonite"
          ],
          [
           "fish gelatin",
           "nanocomposite",
           "montmorillonite"
          ],
          [
           "fish gelatin",
           "nanocomposite",
           "montmorillonite"
          ],
          [
           "fish gelatin",
           "nanocomposite",
           "montmorillonite"
          ],
          [
           "fish gelatin",
           "nanocomposite",
           "montmorillonite"
          ],
          [
           "fish gelatin",
           "nanocomposite",
           "montmorillonite"
          ],
          [
           "fish gelatin",
           "nanocomposite",
           "montmorillonite"
          ],
          [
           "fish gelatin",
           "nanocomposite",
           "montmorillonite"
          ],
          [
           "fish gelatin",
           "nanocomposite",
           "montmorillonite"
          ],
          [
           "fish gelatin",
           "nanocomposite",
           "montmorillonite"
          ],
          [
           "fish gelatin",
           "nanocomposite",
           "montmorillonite"
          ],
          [
           "fish gelatin",
           "nanocomposite",
           "montmorillonite"
          ],
          [
           "fish gelatin",
           "nanocomposite",
           "montmorillonite"
          ],
          [
           "fish gelatin",
           "nanocomposite",
           "montmorillonite"
          ],
          [
           "fish gelatin",
           "nanocomposite",
           "montmorillonite"
          ],
          [
           "fish gelatin",
           "nanocomposite",
           "montmorillonite"
          ],
          [
           "fish gelatin",
           "nanocomposite",
           "montmorillonite"
          ],
          [
           "fish gelatin",
           "nanocomposite",
           "montmorillonite"
          ],
          [
           "fish gelatin",
           "nanocomposite",
           "montmorillonite"
          ],
          [
           "fish gelatin",
           "nanocomposite",
           "montmorillonite"
          ],
          [
           "fish gelatin",
           "nanocomposite",
           "montmorillonite"
          ],
          [
           "fish gelatin",
           "nanocomposite",
           "montmorillonite"
          ],
          [
           "fish gelatin",
           "nanocomposite",
           "montmorillonite"
          ],
          [
           "fish gelatin",
           "nanocomposite",
           "montmorillonite"
          ],
          [
           "fish gelatin",
           "nanocomposite",
           "montmorillonite"
          ],
          [
           "fish gelatin",
           "nanocomposite",
           "montmorillonite"
          ],
          [
           "fish gelatin",
           "nanocomposite",
           "montmorillonite"
          ],
          [
           "fish gelatin",
           "nanocomposite",
           "montmorillonite"
          ],
          [
           "fish gelatin",
           "nanocomposite",
           "montmorillonite"
          ],
          [
           "fish gelatin",
           "nanocomposite",
           "montmorillonite"
          ],
          [
           "fish gelatin",
           "nanocomposite",
           "montmorillonite"
          ],
          [
           "fish gelatin",
           "nanocomposite",
           "montmorillonite"
          ],
          [
           "fish gelatin",
           "nanocomposite",
           "montmorillonite"
          ],
          [
           "fish gelatin",
           "nanocomposite",
           "montmorillonite"
          ],
          [
           "fish gelatin",
           "nanocomposite",
           "montmorillonite"
          ],
          [
           "fish gelatin",
           "nanocomposite",
           "montmorillonite"
          ],
          [
           "fish gelatin",
           "nanocomposite",
           "montmorillonite"
          ],
          [
           "fish gelatin",
           "nanocomposite",
           "montmorillonite"
          ],
          [
           "polylactic acid",
           "nanocomposite",
           "NaMMT"
          ],
          [
           "polylactic acid",
           "nanocomposite",
           "OMMT"
          ],
          [
           "polylactic acid",
           "nanocomposite",
           "OMMT"
          ]
         ],
         "hovertemplate": "Type=%{customdata[1]}<br>Material=sustainable<br>log_WVTR_Updated_Num=%{x}<br>log_OTR_Updated_Num=%{y}<br>Base Material=%{customdata[0]}<br>Secondary Material=%{customdata[2]}<extra></extra>",
         "legendgroup": "nanocomposite, sustainable",
         "marker": {
          "color": "#EF553B",
          "symbol": "circle"
         },
         "mode": "markers",
         "name": "nanocomposite, sustainable",
         "orientation": "v",
         "showlegend": true,
         "type": "scatter",
         "x": [
          2.8507153737712736,
          2.9914483775628056,
          3.0789509220490308,
          3.1353549532470857,
          3.0356520400548592,
          3.0321354663320217,
          3.059501650548388,
          3.0821094412938606,
          2.8507153737712736,
          2.9914483775628056,
          3.0789509220490308,
          3.1353549532470857,
          3.0356520400548592,
          3.0321354663320217,
          3.059501650548388,
          3.0821094412938606,
          2.8507153737712736,
          2.9914483775628056,
          3.0789509220490308,
          3.1353549532470857,
          3.0356520400548592,
          3.0321354663320217,
          3.059501650548388,
          3.0821094412938606,
          2.8507153737712736,
          2.9914483775628056,
          3.0789509220490308,
          3.1353549532470857,
          3.0356520400548592,
          3.0321354663320217,
          3.059501650548388,
          3.0821094412938606,
          2.8507153737712736,
          2.9914483775628056,
          3.0789509220490308,
          3.1353549532470857,
          3.0356520400548592,
          3.0321354663320217,
          3.059501650548388,
          3.0821094412938606,
          2.8507153737712736,
          2.9914483775628056,
          3.0789509220490308,
          3.1353549532470857,
          3.0356520400548592,
          3.0321354663320217,
          3.059501650548388,
          3.0821094412938606,
          2.8507153737712736,
          2.9914483775628056,
          3.0789509220490308,
          3.1353549532470857,
          3.0356520400548592,
          3.0321354663320217,
          3.059501650548388,
          3.0821094412938606,
          3.3539586480502948,
          3.2739540946814043,
          3.0781321994483237
         ],
         "xaxis": "x",
         "y": [
          0.05842602445700704,
          0.05842602445700704,
          0.05842602445700704,
          0.05842602445700704,
          0.05842602445700704,
          0.05842602445700704,
          0.05842602445700704,
          0.05842602445700704,
          0.2931414834509317,
          0.2931414834509317,
          0.2931414834509317,
          0.2931414834509317,
          0.2931414834509317,
          0.2931414834509317,
          0.2931414834509317,
          0.2931414834509317,
          0.2337573629655109,
          0.2337573629655109,
          0.2337573629655109,
          0.2337573629655109,
          0.2337573629655109,
          0.2337573629655109,
          0.2337573629655109,
          0.2337573629655109,
          0.3308194664958377,
          0.3308194664958377,
          0.3308194664958377,
          0.3308194664958377,
          0.3308194664958377,
          0.3308194664958377,
          0.3308194664958377,
          0.3308194664958377,
          0.2785249647370182,
          0.2785249647370182,
          0.2785249647370182,
          0.2785249647370182,
          0.2785249647370182,
          0.2785249647370182,
          0.2785249647370182,
          0.2785249647370182,
          0.3944516808262167,
          0.3944516808262167,
          0.3944516808262167,
          0.3944516808262167,
          0.3944516808262167,
          0.3944516808262167,
          0.3944516808262167,
          0.3944516808262167,
          0.3165993020938614,
          0.3165993020938614,
          0.3165993020938614,
          0.3165993020938614,
          0.3165993020938614,
          0.3165993020938614,
          0.3165993020938614,
          0.3165993020938614,
          null,
          null,
          null
         ],
         "yaxis": "y"
        },
        {
         "customdata": [
          [
           "polyethylene terephthalate",
           "nanocomposite",
           "OMMT"
          ],
          [
           "polyethylene terephthalate",
           "nanocomposite",
           "OMMT"
          ],
          [
           "polyethylene terephthalate",
           "nanocomposite",
           "OMMT"
          ],
          [
           "polyethylene terephthalate",
           "nanocomposite",
           "OMMT"
          ]
         ],
         "hovertemplate": "Type=%{customdata[1]}<br>Material=conventional<br>log_WVTR_Updated_Num=%{x}<br>log_OTR_Updated_Num=%{y}<br>Base Material=%{customdata[0]}<br>Secondary Material=%{customdata[2]}<extra></extra>",
         "legendgroup": "nanocomposite, conventional",
         "marker": {
          "color": "#EF553B",
          "symbol": "circle-open"
         },
         "mode": "markers",
         "name": "nanocomposite, conventional",
         "orientation": "v",
         "showlegend": true,
         "type": "scatter",
         "x": [
          null,
          null,
          null,
          null
         ],
         "xaxis": "x",
         "y": [
          0.48009606929097215,
          0.34927486872378216,
          0.2702866250362997,
          0.1818078937052888
         ],
         "yaxis": "y"
        },
        {
         "customdata": [
          [
           "paperboard",
           "coated",
           "PLA, Al2O3"
          ],
          [
           "paperboard",
           "coated",
           "PLA, Al2O3"
          ],
          [
           "paperboard",
           "coated",
           "PLA, Al2O3"
          ],
          [
           "paperboard",
           "coated",
           "PLA"
          ],
          [
           "paperboard",
           "coated",
           "PLA"
          ]
         ],
         "hovertemplate": "Type=%{customdata[1]}<br>Material=sustainable<br>log_WVTR_Updated_Num=%{x}<br>log_OTR_Updated_Num=%{y}<br>Base Material=%{customdata[0]}<br>Secondary Material=%{customdata[2]}<extra></extra>",
         "legendgroup": "coated, sustainable",
         "marker": {
          "color": "#00cc96",
          "symbol": "circle"
         },
         "mode": "markers",
         "name": "coated, sustainable",
         "orientation": "v",
         "showlegend": true,
         "type": "scatter",
         "x": [
          null,
          null,
          null,
          null,
          null
         ],
         "xaxis": "x",
         "y": [
          0.306746608077711,
          1.306746608077711,
          1.0848978584613558,
          2.607776603741693,
          2.628965902811631
         ],
         "yaxis": "y"
        },
        {
         "customdata": [
          [
           "carrot puree",
           "blend",
           "CMC"
          ],
          [
           "carrot puree",
           "blend",
           "CMC"
          ],
          [
           "carrot puree",
           "blend",
           "CMC"
          ],
          [
           "carrot puree",
           "blend",
           "CMC"
          ],
          [
           "carrot puree",
           "blend",
           "CMC"
          ],
          [
           "carrot puree",
           "blend",
           "CMC"
          ],
          [
           "carrot puree",
           "blend",
           "CMC"
          ],
          [
           "carrot puree",
           "blend",
           "CMC"
          ],
          [
           "carrot puree",
           "blend",
           "CMC"
          ],
          [
           "carrot puree",
           "blend",
           "CMC"
          ],
          [
           "carrot puree",
           "blend",
           "CMC"
          ],
          [
           "carrot puree",
           "blend",
           "CMC"
          ],
          [
           "carrot puree",
           "blend",
           "CMC"
          ],
          [
           "carrot puree",
           "blend",
           "CMC"
          ],
          [
           "carrot puree",
           "blend",
           "CMC"
          ],
          [
           "carrot puree",
           "blend",
           "CMC"
          ],
          [
           "carrot puree",
           "blend",
           "CMC"
          ],
          [
           "carrot puree",
           "blend",
           "CMC"
          ],
          [
           "carrot puree",
           "blend",
           "CMC"
          ],
          [
           "carrot puree",
           "blend",
           "CMC"
          ],
          [
           "carrot puree",
           "blend",
           "CMC"
          ],
          [
           "carrot puree",
           "blend",
           "CMC"
          ],
          [
           "carrot puree",
           "blend",
           "CMC"
          ],
          [
           "carrot puree",
           "blend",
           "CMC"
          ],
          [
           "carrot puree",
           "blend",
           "CMC"
          ],
          [
           "carrot puree",
           "blend",
           "CMC"
          ],
          [
           "carrot puree",
           "blend",
           "CMC"
          ],
          [
           "carrot puree",
           "blend",
           "CMC"
          ],
          [
           "carrot puree",
           "blend",
           "CMC"
          ],
          [
           "carrot puree",
           "blend",
           "CMC"
          ],
          [
           "carrot puree",
           "blend",
           "CMC"
          ],
          [
           "carrot puree",
           "blend",
           "CMC"
          ],
          [
           "carrot puree",
           "blend",
           "CMC"
          ],
          [
           "carrot puree",
           "blend",
           "CMC"
          ],
          [
           "carrot puree",
           "blend",
           "CMC"
          ],
          [
           "carrot puree",
           "blend",
           "CMC"
          ],
          [
           "carrot puree",
           "blend",
           "CMC"
          ],
          [
           "carrot puree",
           "blend",
           "CMC"
          ],
          [
           "carrot puree",
           "blend",
           "CMC"
          ],
          [
           "carrot puree",
           "blend",
           "CMC"
          ],
          [
           "carrot puree",
           "blend",
           "CMC"
          ],
          [
           "carrot puree",
           "blend",
           "CMC"
          ],
          [
           "carrot puree",
           "blend",
           "CMC"
          ],
          [
           "carrot puree",
           "blend",
           "CMC"
          ],
          [
           "carrot puree",
           "blend",
           "CMC"
          ],
          [
           "carrot puree",
           "blend",
           "CMC"
          ],
          [
           "carrot puree",
           "blend",
           "CMC"
          ],
          [
           "carrot puree",
           "blend",
           "CMC"
          ],
          [
           "carrot puree",
           "blend",
           "CMC"
          ],
          [
           "carrot puree",
           "blend",
           "CMC"
          ],
          [
           "carrot puree",
           "blend",
           "CMC"
          ],
          [
           "carrot puree",
           "blend",
           "CMC"
          ],
          [
           "carrot puree",
           "blend",
           "CMC"
          ],
          [
           "carrot puree",
           "blend",
           "CMC"
          ],
          [
           "carrot puree",
           "blend",
           "CMC"
          ],
          [
           "carrot puree",
           "blend",
           "CMC"
          ],
          [
           "carrot puree",
           "blend",
           "CMC"
          ],
          [
           "carrot puree",
           "blend",
           "CMC"
          ],
          [
           "carrot puree",
           "blend",
           "CMC"
          ],
          [
           "carrot puree",
           "blend",
           "CMC"
          ],
          [
           "carrot puree",
           "blend",
           "CMC"
          ],
          [
           "carrot puree",
           "blend",
           "CMC"
          ],
          [
           "carrot puree",
           "blend",
           "CMC"
          ],
          [
           "carrot puree",
           "blend",
           "CMC"
          ],
          [
           "carrot puree",
           "blend",
           "CMC"
          ],
          [
           "carrot puree",
           "blend",
           "CMC"
          ],
          [
           "carrot puree",
           "blend",
           "CMC"
          ],
          [
           "carrot puree",
           "blend",
           "CMC"
          ],
          [
           "carrot puree",
           "blend",
           "CMC"
          ],
          [
           "carrot puree",
           "blend",
           "CMC"
          ],
          [
           "carrot puree",
           "blend",
           "CMC"
          ],
          [
           "carrot puree",
           "blend",
           "CMC"
          ],
          [
           "carrot puree",
           "blend",
           "CMC"
          ],
          [
           "carrot puree",
           "blend",
           "CMC"
          ],
          [
           "carrot puree",
           "blend",
           "CMC"
          ],
          [
           "carrot puree",
           "blend",
           "CMC"
          ],
          [
           "carrot puree",
           "blend",
           "CMC"
          ],
          [
           "carrot puree",
           "blend",
           "CMC"
          ],
          [
           "carrot puree",
           "blend",
           "CMC"
          ],
          [
           "carrot puree",
           "blend",
           "CMC"
          ],
          [
           "carrot puree",
           "blend",
           "CMC"
          ],
          [
           "carrot puree",
           "blend",
           "CMC"
          ],
          [
           "carrot puree",
           "blend",
           "CMC"
          ],
          [
           "carrot puree",
           "blend",
           "CMC"
          ],
          [
           "carrot puree",
           "blend",
           "CMC"
          ],
          [
           "carrot puree",
           "blend",
           "CMC"
          ],
          [
           "carrot puree",
           "blend",
           "CMC"
          ],
          [
           "carrot puree",
           "blend",
           "CMC"
          ],
          [
           "carrot puree",
           "blend",
           "CMC"
          ],
          [
           "carrot puree",
           "blend",
           "CMC"
          ],
          [
           "carrot puree",
           "blend",
           "CMC"
          ],
          [
           "carrot puree",
           "blend",
           "CMC"
          ],
          [
           "carrot puree",
           "blend",
           "CMC"
          ],
          [
           "carrot puree",
           "blend",
           "CMC"
          ],
          [
           "carrot puree",
           "blend",
           "CMC"
          ],
          [
           "carrot puree",
           "blend",
           "CMC"
          ],
          [
           "carrot puree",
           "blend",
           "CMC"
          ],
          [
           "carrot puree",
           "blend",
           "CMC"
          ],
          [
           "carrot puree",
           "blend",
           "CMC"
          ],
          [
           "carrot puree",
           "blend",
           "CMC"
          ],
          [
           "carrot puree",
           "blend",
           "CMC"
          ],
          [
           "carrot puree",
           "blend",
           "CMC"
          ],
          [
           "carrot puree",
           "blend",
           "CMC"
          ],
          [
           "carrot puree",
           "blend",
           "CMC"
          ],
          [
           "carrot puree",
           "blend",
           "CMC"
          ],
          [
           "carrot puree",
           "blend",
           "CMC"
          ],
          [
           "carrot puree",
           "blend",
           "CMC"
          ],
          [
           "carrot puree",
           "blend",
           "CMC"
          ],
          [
           "carrot puree",
           "blend",
           "CMC"
          ],
          [
           "carrot puree",
           "blend",
           "CMC"
          ],
          [
           "carrot puree",
           "blend",
           "CMC"
          ],
          [
           "carrot puree",
           "blend",
           "CMC"
          ],
          [
           "carrot puree",
           "blend",
           "CMC"
          ],
          [
           "carrot puree",
           "blend",
           "CMC"
          ],
          [
           "carrot puree",
           "blend",
           "CMC"
          ],
          [
           "carrot puree",
           "blend",
           "CMC"
          ],
          [
           "carrot puree",
           "blend",
           "CMC"
          ],
          [
           "carrot puree",
           "blend",
           "CMC"
          ],
          [
           "carrot puree",
           "blend",
           "CMC"
          ],
          [
           "carrot puree",
           "blend",
           "CMC"
          ],
          [
           "carrot puree",
           "blend",
           "CMC"
          ],
          [
           "carrot puree",
           "blend",
           "CMC"
          ],
          [
           "carrot puree",
           "blend",
           "CMC"
          ],
          [
           "carrot puree",
           "blend",
           "CMC"
          ],
          [
           "carrot puree",
           "blend",
           "CMC"
          ],
          [
           "carrot puree",
           "blend",
           "CMC"
          ],
          [
           "carrot puree",
           "blend",
           "CMC"
          ],
          [
           "carrot puree",
           "blend",
           "CMC"
          ],
          [
           "carrot puree",
           "blend",
           "CMC"
          ],
          [
           "carrot puree",
           "blend",
           "CMC"
          ],
          [
           "carrot puree",
           "blend",
           "CMC"
          ],
          [
           "carrot puree",
           "blend",
           "CMC"
          ],
          [
           "carrot puree",
           "blend",
           "CMC"
          ],
          [
           "carrot puree",
           "blend",
           "CMC"
          ],
          [
           "carrot puree",
           "blend",
           "CMC"
          ],
          [
           "carrot puree",
           "blend",
           "CMC"
          ],
          [
           "carrot puree",
           "blend",
           "CMC"
          ],
          [
           "carrot puree",
           "blend",
           "CMC"
          ],
          [
           "carrot puree",
           "blend",
           "CMC"
          ],
          [
           "carrot puree",
           "blend",
           "CMC"
          ],
          [
           "carrot puree",
           "blend",
           "CMC"
          ],
          [
           "carrot puree",
           "blend",
           "CMC"
          ],
          [
           "carrot puree",
           "blend",
           "CMC"
          ],
          [
           "carrot puree",
           "blend",
           "CMC"
          ],
          [
           "carrot puree",
           "blend",
           "gelatin"
          ],
          [
           "carrot puree",
           "blend",
           "gelatin"
          ],
          [
           "carrot puree",
           "blend",
           "gelatin"
          ],
          [
           "carrot puree",
           "blend",
           "gelatin"
          ],
          [
           "carrot puree",
           "blend",
           "gelatin"
          ],
          [
           "carrot puree",
           "blend",
           "gelatin"
          ],
          [
           "carrot puree",
           "blend",
           "gelatin"
          ],
          [
           "carrot puree",
           "blend",
           "gelatin"
          ],
          [
           "carrot puree",
           "blend",
           "gelatin"
          ],
          [
           "carrot puree",
           "blend",
           "gelatin"
          ],
          [
           "carrot puree",
           "blend",
           "gelatin"
          ],
          [
           "carrot puree",
           "blend",
           "gelatin"
          ],
          [
           "carrot puree",
           "blend",
           "gelatin"
          ],
          [
           "carrot puree",
           "blend",
           "gelatin"
          ],
          [
           "carrot puree",
           "blend",
           "gelatin"
          ],
          [
           "carrot puree",
           "blend",
           "gelatin"
          ],
          [
           "carrot puree",
           "blend",
           "gelatin"
          ],
          [
           "carrot puree",
           "blend",
           "gelatin"
          ],
          [
           "carrot puree",
           "blend",
           "gelatin"
          ],
          [
           "carrot puree",
           "blend",
           "gelatin"
          ],
          [
           "carrot puree",
           "blend",
           "gelatin"
          ],
          [
           "carrot puree",
           "blend",
           "gelatin"
          ],
          [
           "carrot puree",
           "blend",
           "gelatin"
          ],
          [
           "carrot puree",
           "blend",
           "gelatin"
          ],
          [
           "carrot puree",
           "blend",
           "gelatin"
          ],
          [
           "carrot puree",
           "blend",
           "gelatin"
          ],
          [
           "carrot puree",
           "blend",
           "gelatin"
          ],
          [
           "carrot puree",
           "blend",
           "gelatin"
          ],
          [
           "carrot puree",
           "blend",
           "gelatin"
          ],
          [
           "carrot puree",
           "blend",
           "gelatin"
          ],
          [
           "carrot puree",
           "blend",
           "gelatin"
          ],
          [
           "carrot puree",
           "blend",
           "gelatin"
          ],
          [
           "carrot puree",
           "blend",
           "gelatin"
          ],
          [
           "carrot puree",
           "blend",
           "gelatin"
          ],
          [
           "carrot puree",
           "blend",
           "gelatin"
          ],
          [
           "carrot puree",
           "blend",
           "gelatin"
          ],
          [
           "chitosan",
           "blend",
           "palmitic acid"
          ],
          [
           "agar",
           "blend",
           "lignin"
          ],
          [
           "agar",
           "blend",
           "lignin"
          ],
          [
           "agar",
           "blend",
           "lignin"
          ],
          [
           "agar",
           "blend",
           "lignin"
          ]
         ],
         "hovertemplate": "Type=%{customdata[1]}<br>Material=sustainable<br>log_WVTR_Updated_Num=%{x}<br>log_OTR_Updated_Num=%{y}<br>Base Material=%{customdata[0]}<br>Secondary Material=%{customdata[2]}<extra></extra>",
         "legendgroup": "blend, sustainable",
         "marker": {
          "color": "#ab63fa",
          "symbol": "circle"
         },
         "mode": "markers",
         "name": "blend, sustainable",
         "orientation": "v",
         "showlegend": true,
         "type": "scatter",
         "x": [
          5.763809382804633,
          5.631183817530042,
          5.396159946950353,
          5.3054661593763175,
          5.268975734457945,
          5.187989710859901,
          5.45704364989191,
          5.440954325640528,
          5.371821157115925,
          5.329976014501487,
          5.301306580951887,
          5.280886020471324,
          5.763809382804633,
          5.631183817530042,
          5.396159946950353,
          5.3054661593763175,
          5.268975734457945,
          5.187989710859901,
          5.45704364989191,
          5.440954325640528,
          5.371821157115925,
          5.329976014501487,
          5.301306580951887,
          5.280886020471324,
          5.763809382804633,
          5.631183817530042,
          5.396159946950353,
          5.3054661593763175,
          5.268975734457945,
          5.187989710859901,
          5.45704364989191,
          5.440954325640528,
          5.371821157115925,
          5.329976014501487,
          5.301306580951887,
          5.280886020471324,
          5.763809382804633,
          5.631183817530042,
          5.396159946950353,
          5.3054661593763175,
          5.268975734457945,
          5.187989710859901,
          5.45704364989191,
          5.440954325640528,
          5.371821157115925,
          5.329976014501487,
          5.301306580951887,
          5.280886020471324,
          5.763809382804633,
          5.631183817530042,
          5.396159946950353,
          5.3054661593763175,
          5.268975734457945,
          5.187989710859901,
          5.45704364989191,
          5.440954325640528,
          5.371821157115925,
          5.329976014501487,
          5.301306580951887,
          5.280886020471324,
          5.763809382804633,
          5.631183817530042,
          5.396159946950353,
          5.3054661593763175,
          5.268975734457945,
          5.187989710859901,
          5.45704364989191,
          5.440954325640528,
          5.371821157115925,
          5.329976014501487,
          5.301306580951887,
          5.280886020471324,
          5.763809382804633,
          5.631183817530042,
          5.396159946950353,
          5.3054661593763175,
          5.268975734457945,
          5.187989710859901,
          5.45704364989191,
          5.440954325640528,
          5.371821157115925,
          5.329976014501487,
          5.301306580951887,
          5.280886020471324,
          5.763809382804633,
          5.631183817530042,
          5.396159946950353,
          5.3054661593763175,
          5.268975734457945,
          5.187989710859901,
          5.45704364989191,
          5.440954325640528,
          5.371821157115925,
          5.329976014501487,
          5.301306580951887,
          5.280886020471324,
          5.763809382804633,
          5.631183817530042,
          5.396159946950353,
          5.3054661593763175,
          5.268975734457945,
          5.187989710859901,
          5.45704364989191,
          5.440954325640528,
          5.371821157115925,
          5.329976014501487,
          5.301306580951887,
          5.280886020471324,
          5.763809382804633,
          5.631183817530042,
          5.396159946950353,
          5.3054661593763175,
          5.268975734457945,
          5.187989710859901,
          5.45704364989191,
          5.440954325640528,
          5.371821157115925,
          5.329976014501487,
          5.301306580951887,
          5.280886020471324,
          5.763809382804633,
          5.631183817530042,
          5.396159946950353,
          5.3054661593763175,
          5.268975734457945,
          5.187989710859901,
          5.45704364989191,
          5.440954325640528,
          5.371821157115925,
          5.329976014501487,
          5.301306580951887,
          5.280886020471324,
          5.763809382804633,
          5.631183817530042,
          5.396159946950353,
          5.3054661593763175,
          5.268975734457945,
          5.187989710859901,
          5.45704364989191,
          5.440954325640528,
          5.371821157115925,
          5.329976014501487,
          5.301306580951887,
          5.280886020471324,
          5.400414790462887,
          5.324967620653954,
          5.275879111407325,
          5.375359872473109,
          5.482434654734684,
          5.52520228399743,
          5.400414790462887,
          5.324967620653954,
          5.275879111407325,
          5.375359872473109,
          5.482434654734684,
          5.52520228399743,
          5.400414790462887,
          5.324967620653954,
          5.275879111407325,
          5.375359872473109,
          5.482434654734684,
          5.52520228399743,
          5.400414790462887,
          5.324967620653954,
          5.275879111407325,
          5.375359872473109,
          5.482434654734684,
          5.52520228399743,
          5.400414790462887,
          5.324967620653954,
          5.275879111407325,
          5.375359872473109,
          5.482434654734684,
          5.52520228399743,
          5.400414790462887,
          5.324967620653954,
          5.275879111407325,
          5.375359872473109,
          5.482434654734684,
          5.52520228399743,
          null,
          5.456379268914065,
          5.432650948823314,
          5.433567513008582,
          5.364993947289694
         ],
         "xaxis": "x",
         "y": [
          1.2490841035856326,
          1.2490841035856326,
          1.2490841035856326,
          1.2490841035856326,
          1.2490841035856326,
          1.2490841035856326,
          1.2490841035856326,
          1.2490841035856326,
          1.2490841035856326,
          1.2490841035856326,
          1.2490841035856326,
          1.2490841035856326,
          1.1994287810319684,
          1.1994287810319684,
          1.1994287810319684,
          1.1994287810319684,
          1.1994287810319684,
          1.1994287810319684,
          1.1994287810319684,
          1.1994287810319684,
          1.1994287810319684,
          1.1994287810319684,
          1.1994287810319684,
          1.1994287810319684,
          1.1142491643171806,
          1.1142491643171806,
          1.1142491643171806,
          1.1142491643171806,
          1.1142491643171806,
          1.1142491643171806,
          1.1142491643171806,
          1.1142491643171806,
          1.1142491643171806,
          1.1142491643171806,
          1.1142491643171806,
          1.1142491643171806,
          1.0805330530589055,
          1.0805330530589055,
          1.0805330530589055,
          1.0805330530589055,
          1.0805330530589055,
          1.0805330530589055,
          1.0805330530589055,
          1.0805330530589055,
          1.0805330530589055,
          1.0805330530589055,
          1.0805330530589055,
          1.0805330530589055,
          1.0585059424731682,
          1.0585059424731682,
          1.0585059424731682,
          1.0585059424731682,
          1.0585059424731682,
          1.0585059424731682,
          1.0585059424731682,
          1.0585059424731682,
          1.0585059424731682,
          1.0585059424731682,
          1.0585059424731682,
          1.0585059424731682,
          1.0415656325785816,
          1.0415656325785816,
          1.0415656325785816,
          1.0415656325785816,
          1.0415656325785816,
          1.0415656325785816,
          1.0415656325785816,
          1.0415656325785816,
          1.0415656325785816,
          1.0415656325785816,
          1.0415656325785816,
          1.0415656325785816,
          1.0754498116251183,
          1.0754498116251183,
          1.0754498116251183,
          1.0754498116251183,
          1.0754498116251183,
          1.0754498116251183,
          1.0754498116251183,
          1.0754498116251183,
          1.0754498116251183,
          1.0754498116251183,
          1.0754498116251183,
          1.0754498116251183,
          1.0799008921293791,
          1.0799008921293791,
          1.0799008921293791,
          1.0799008921293791,
          1.0799008921293791,
          1.0799008921293791,
          1.0799008921293791,
          1.0799008921293791,
          1.0799008921293791,
          1.0799008921293791,
          1.0799008921293791,
          1.0799008921293791,
          1.0808487887921163,
          1.0808487887921163,
          1.0808487887921163,
          1.0808487887921163,
          1.0808487887921163,
          1.0808487887921163,
          1.0808487887921163,
          1.0808487887921163,
          1.0808487887921163,
          1.0808487887921163,
          1.0808487887921163,
          1.0808487887921163,
          1.0877375263022864,
          1.0877375263022864,
          1.0877375263022864,
          1.0877375263022864,
          1.0877375263022864,
          1.0877375263022864,
          1.0877375263022864,
          1.0877375263022864,
          1.0877375263022864,
          1.0877375263022864,
          1.0877375263022864,
          1.0877375263022864,
          1.096045219237153,
          1.096045219237153,
          1.096045219237153,
          1.096045219237153,
          1.096045219237153,
          1.096045219237153,
          1.096045219237153,
          1.096045219237153,
          1.096045219237153,
          1.096045219237153,
          1.096045219237153,
          1.096045219237153,
          1.1044959691906455,
          1.1044959691906455,
          1.1044959691906455,
          1.1044959691906455,
          1.1044959691906455,
          1.1044959691906455,
          1.1044959691906455,
          1.1044959691906455,
          1.1044959691906455,
          1.1044959691906455,
          1.1044959691906455,
          1.1044959691906455,
          1.0824240334712552,
          1.0824240334712552,
          1.0824240334712552,
          1.0824240334712552,
          1.0824240334712552,
          1.0824240334712552,
          1.055170330976704,
          1.055170330976704,
          1.055170330976704,
          1.055170330976704,
          1.055170330976704,
          1.055170330976704,
          1.0874267610068058,
          1.0874267610068058,
          1.0874267610068058,
          1.0874267610068058,
          1.0874267610068058,
          1.0874267610068058,
          1.0686864683244282,
          1.0686864683244282,
          1.0686864683244282,
          1.0686864683244282,
          1.0686864683244282,
          1.0686864683244282,
          1.1124920702875813,
          1.1124920702875813,
          1.1124920702875813,
          1.1124920702875813,
          1.1124920702875813,
          1.1124920702875813,
          1.105689906662614,
          1.105689906662614,
          1.105689906662614,
          1.105689906662614,
          1.105689906662614,
          1.105689906662614,
          4.811217470572131,
          null,
          null,
          null,
          null
         ],
         "yaxis": "y"
        },
        {
         "customdata": [
          [
           "SPI",
           "bilayer",
           "corn zein"
          ]
         ],
         "hovertemplate": "Type=%{customdata[1]}<br>Material=sustainable<br>log_WVTR_Updated_Num=%{x}<br>log_OTR_Updated_Num=%{y}<br>Base Material=%{customdata[0]}<br>Secondary Material=%{customdata[2]}<extra></extra>",
         "legendgroup": "bilayer, sustainable",
         "marker": {
          "color": "#FFA15A",
          "symbol": "circle"
         },
         "mode": "markers",
         "name": "bilayer, sustainable",
         "orientation": "v",
         "showlegend": true,
         "type": "scatter",
         "x": [
          4.668754703227484
         ],
         "xaxis": "x",
         "y": [
          null
         ],
         "yaxis": "y"
        }
       ],
       "layout": {
        "legend": {
         "title": {
          "text": "Type, Material"
         },
         "tracegroupgap": 0
        },
        "template": {
         "data": {
          "bar": [
           {
            "error_x": {
             "color": "#2a3f5f"
            },
            "error_y": {
             "color": "#2a3f5f"
            },
            "marker": {
             "line": {
              "color": "#E5ECF6",
              "width": 0.5
             },
             "pattern": {
              "fillmode": "overlay",
              "size": 10,
              "solidity": 0.2
             }
            },
            "type": "bar"
           }
          ],
          "barpolar": [
           {
            "marker": {
             "line": {
              "color": "#E5ECF6",
              "width": 0.5
             },
             "pattern": {
              "fillmode": "overlay",
              "size": 10,
              "solidity": 0.2
             }
            },
            "type": "barpolar"
           }
          ],
          "carpet": [
           {
            "aaxis": {
             "endlinecolor": "#2a3f5f",
             "gridcolor": "white",
             "linecolor": "white",
             "minorgridcolor": "white",
             "startlinecolor": "#2a3f5f"
            },
            "baxis": {
             "endlinecolor": "#2a3f5f",
             "gridcolor": "white",
             "linecolor": "white",
             "minorgridcolor": "white",
             "startlinecolor": "#2a3f5f"
            },
            "type": "carpet"
           }
          ],
          "choropleth": [
           {
            "colorbar": {
             "outlinewidth": 0,
             "ticks": ""
            },
            "type": "choropleth"
           }
          ],
          "contour": [
           {
            "colorbar": {
             "outlinewidth": 0,
             "ticks": ""
            },
            "colorscale": [
             [
              0,
              "#0d0887"
             ],
             [
              0.1111111111111111,
              "#46039f"
             ],
             [
              0.2222222222222222,
              "#7201a8"
             ],
             [
              0.3333333333333333,
              "#9c179e"
             ],
             [
              0.4444444444444444,
              "#bd3786"
             ],
             [
              0.5555555555555556,
              "#d8576b"
             ],
             [
              0.6666666666666666,
              "#ed7953"
             ],
             [
              0.7777777777777778,
              "#fb9f3a"
             ],
             [
              0.8888888888888888,
              "#fdca26"
             ],
             [
              1,
              "#f0f921"
             ]
            ],
            "type": "contour"
           }
          ],
          "contourcarpet": [
           {
            "colorbar": {
             "outlinewidth": 0,
             "ticks": ""
            },
            "type": "contourcarpet"
           }
          ],
          "heatmap": [
           {
            "colorbar": {
             "outlinewidth": 0,
             "ticks": ""
            },
            "colorscale": [
             [
              0,
              "#0d0887"
             ],
             [
              0.1111111111111111,
              "#46039f"
             ],
             [
              0.2222222222222222,
              "#7201a8"
             ],
             [
              0.3333333333333333,
              "#9c179e"
             ],
             [
              0.4444444444444444,
              "#bd3786"
             ],
             [
              0.5555555555555556,
              "#d8576b"
             ],
             [
              0.6666666666666666,
              "#ed7953"
             ],
             [
              0.7777777777777778,
              "#fb9f3a"
             ],
             [
              0.8888888888888888,
              "#fdca26"
             ],
             [
              1,
              "#f0f921"
             ]
            ],
            "type": "heatmap"
           }
          ],
          "heatmapgl": [
           {
            "colorbar": {
             "outlinewidth": 0,
             "ticks": ""
            },
            "colorscale": [
             [
              0,
              "#0d0887"
             ],
             [
              0.1111111111111111,
              "#46039f"
             ],
             [
              0.2222222222222222,
              "#7201a8"
             ],
             [
              0.3333333333333333,
              "#9c179e"
             ],
             [
              0.4444444444444444,
              "#bd3786"
             ],
             [
              0.5555555555555556,
              "#d8576b"
             ],
             [
              0.6666666666666666,
              "#ed7953"
             ],
             [
              0.7777777777777778,
              "#fb9f3a"
             ],
             [
              0.8888888888888888,
              "#fdca26"
             ],
             [
              1,
              "#f0f921"
             ]
            ],
            "type": "heatmapgl"
           }
          ],
          "histogram": [
           {
            "marker": {
             "pattern": {
              "fillmode": "overlay",
              "size": 10,
              "solidity": 0.2
             }
            },
            "type": "histogram"
           }
          ],
          "histogram2d": [
           {
            "colorbar": {
             "outlinewidth": 0,
             "ticks": ""
            },
            "colorscale": [
             [
              0,
              "#0d0887"
             ],
             [
              0.1111111111111111,
              "#46039f"
             ],
             [
              0.2222222222222222,
              "#7201a8"
             ],
             [
              0.3333333333333333,
              "#9c179e"
             ],
             [
              0.4444444444444444,
              "#bd3786"
             ],
             [
              0.5555555555555556,
              "#d8576b"
             ],
             [
              0.6666666666666666,
              "#ed7953"
             ],
             [
              0.7777777777777778,
              "#fb9f3a"
             ],
             [
              0.8888888888888888,
              "#fdca26"
             ],
             [
              1,
              "#f0f921"
             ]
            ],
            "type": "histogram2d"
           }
          ],
          "histogram2dcontour": [
           {
            "colorbar": {
             "outlinewidth": 0,
             "ticks": ""
            },
            "colorscale": [
             [
              0,
              "#0d0887"
             ],
             [
              0.1111111111111111,
              "#46039f"
             ],
             [
              0.2222222222222222,
              "#7201a8"
             ],
             [
              0.3333333333333333,
              "#9c179e"
             ],
             [
              0.4444444444444444,
              "#bd3786"
             ],
             [
              0.5555555555555556,
              "#d8576b"
             ],
             [
              0.6666666666666666,
              "#ed7953"
             ],
             [
              0.7777777777777778,
              "#fb9f3a"
             ],
             [
              0.8888888888888888,
              "#fdca26"
             ],
             [
              1,
              "#f0f921"
             ]
            ],
            "type": "histogram2dcontour"
           }
          ],
          "mesh3d": [
           {
            "colorbar": {
             "outlinewidth": 0,
             "ticks": ""
            },
            "type": "mesh3d"
           }
          ],
          "parcoords": [
           {
            "line": {
             "colorbar": {
              "outlinewidth": 0,
              "ticks": ""
             }
            },
            "type": "parcoords"
           }
          ],
          "pie": [
           {
            "automargin": true,
            "type": "pie"
           }
          ],
          "scatter": [
           {
            "marker": {
             "colorbar": {
              "outlinewidth": 0,
              "ticks": ""
             }
            },
            "type": "scatter"
           }
          ],
          "scatter3d": [
           {
            "line": {
             "colorbar": {
              "outlinewidth": 0,
              "ticks": ""
             }
            },
            "marker": {
             "colorbar": {
              "outlinewidth": 0,
              "ticks": ""
             }
            },
            "type": "scatter3d"
           }
          ],
          "scattercarpet": [
           {
            "marker": {
             "colorbar": {
              "outlinewidth": 0,
              "ticks": ""
             }
            },
            "type": "scattercarpet"
           }
          ],
          "scattergeo": [
           {
            "marker": {
             "colorbar": {
              "outlinewidth": 0,
              "ticks": ""
             }
            },
            "type": "scattergeo"
           }
          ],
          "scattergl": [
           {
            "marker": {
             "colorbar": {
              "outlinewidth": 0,
              "ticks": ""
             }
            },
            "type": "scattergl"
           }
          ],
          "scattermapbox": [
           {
            "marker": {
             "colorbar": {
              "outlinewidth": 0,
              "ticks": ""
             }
            },
            "type": "scattermapbox"
           }
          ],
          "scatterpolar": [
           {
            "marker": {
             "colorbar": {
              "outlinewidth": 0,
              "ticks": ""
             }
            },
            "type": "scatterpolar"
           }
          ],
          "scatterpolargl": [
           {
            "marker": {
             "colorbar": {
              "outlinewidth": 0,
              "ticks": ""
             }
            },
            "type": "scatterpolargl"
           }
          ],
          "scatterternary": [
           {
            "marker": {
             "colorbar": {
              "outlinewidth": 0,
              "ticks": ""
             }
            },
            "type": "scatterternary"
           }
          ],
          "surface": [
           {
            "colorbar": {
             "outlinewidth": 0,
             "ticks": ""
            },
            "colorscale": [
             [
              0,
              "#0d0887"
             ],
             [
              0.1111111111111111,
              "#46039f"
             ],
             [
              0.2222222222222222,
              "#7201a8"
             ],
             [
              0.3333333333333333,
              "#9c179e"
             ],
             [
              0.4444444444444444,
              "#bd3786"
             ],
             [
              0.5555555555555556,
              "#d8576b"
             ],
             [
              0.6666666666666666,
              "#ed7953"
             ],
             [
              0.7777777777777778,
              "#fb9f3a"
             ],
             [
              0.8888888888888888,
              "#fdca26"
             ],
             [
              1,
              "#f0f921"
             ]
            ],
            "type": "surface"
           }
          ],
          "table": [
           {
            "cells": {
             "fill": {
              "color": "#EBF0F8"
             },
             "line": {
              "color": "white"
             }
            },
            "header": {
             "fill": {
              "color": "#C8D4E3"
             },
             "line": {
              "color": "white"
             }
            },
            "type": "table"
           }
          ]
         },
         "layout": {
          "annotationdefaults": {
           "arrowcolor": "#2a3f5f",
           "arrowhead": 0,
           "arrowwidth": 1
          },
          "autotypenumbers": "strict",
          "coloraxis": {
           "colorbar": {
            "outlinewidth": 0,
            "ticks": ""
           }
          },
          "colorscale": {
           "diverging": [
            [
             0,
             "#8e0152"
            ],
            [
             0.1,
             "#c51b7d"
            ],
            [
             0.2,
             "#de77ae"
            ],
            [
             0.3,
             "#f1b6da"
            ],
            [
             0.4,
             "#fde0ef"
            ],
            [
             0.5,
             "#f7f7f7"
            ],
            [
             0.6,
             "#e6f5d0"
            ],
            [
             0.7,
             "#b8e186"
            ],
            [
             0.8,
             "#7fbc41"
            ],
            [
             0.9,
             "#4d9221"
            ],
            [
             1,
             "#276419"
            ]
           ],
           "sequential": [
            [
             0,
             "#0d0887"
            ],
            [
             0.1111111111111111,
             "#46039f"
            ],
            [
             0.2222222222222222,
             "#7201a8"
            ],
            [
             0.3333333333333333,
             "#9c179e"
            ],
            [
             0.4444444444444444,
             "#bd3786"
            ],
            [
             0.5555555555555556,
             "#d8576b"
            ],
            [
             0.6666666666666666,
             "#ed7953"
            ],
            [
             0.7777777777777778,
             "#fb9f3a"
            ],
            [
             0.8888888888888888,
             "#fdca26"
            ],
            [
             1,
             "#f0f921"
            ]
           ],
           "sequentialminus": [
            [
             0,
             "#0d0887"
            ],
            [
             0.1111111111111111,
             "#46039f"
            ],
            [
             0.2222222222222222,
             "#7201a8"
            ],
            [
             0.3333333333333333,
             "#9c179e"
            ],
            [
             0.4444444444444444,
             "#bd3786"
            ],
            [
             0.5555555555555556,
             "#d8576b"
            ],
            [
             0.6666666666666666,
             "#ed7953"
            ],
            [
             0.7777777777777778,
             "#fb9f3a"
            ],
            [
             0.8888888888888888,
             "#fdca26"
            ],
            [
             1,
             "#f0f921"
            ]
           ]
          },
          "colorway": [
           "#636efa",
           "#EF553B",
           "#00cc96",
           "#ab63fa",
           "#FFA15A",
           "#19d3f3",
           "#FF6692",
           "#B6E880",
           "#FF97FF",
           "#FECB52"
          ],
          "font": {
           "color": "#2a3f5f"
          },
          "geo": {
           "bgcolor": "white",
           "lakecolor": "white",
           "landcolor": "#E5ECF6",
           "showlakes": true,
           "showland": true,
           "subunitcolor": "white"
          },
          "hoverlabel": {
           "align": "left"
          },
          "hovermode": "closest",
          "mapbox": {
           "style": "light"
          },
          "paper_bgcolor": "white",
          "plot_bgcolor": "#E5ECF6",
          "polar": {
           "angularaxis": {
            "gridcolor": "white",
            "linecolor": "white",
            "ticks": ""
           },
           "bgcolor": "#E5ECF6",
           "radialaxis": {
            "gridcolor": "white",
            "linecolor": "white",
            "ticks": ""
           }
          },
          "scene": {
           "xaxis": {
            "backgroundcolor": "#E5ECF6",
            "gridcolor": "white",
            "gridwidth": 2,
            "linecolor": "white",
            "showbackground": true,
            "ticks": "",
            "zerolinecolor": "white"
           },
           "yaxis": {
            "backgroundcolor": "#E5ECF6",
            "gridcolor": "white",
            "gridwidth": 2,
            "linecolor": "white",
            "showbackground": true,
            "ticks": "",
            "zerolinecolor": "white"
           },
           "zaxis": {
            "backgroundcolor": "#E5ECF6",
            "gridcolor": "white",
            "gridwidth": 2,
            "linecolor": "white",
            "showbackground": true,
            "ticks": "",
            "zerolinecolor": "white"
           }
          },
          "shapedefaults": {
           "line": {
            "color": "#2a3f5f"
           }
          },
          "ternary": {
           "aaxis": {
            "gridcolor": "white",
            "linecolor": "white",
            "ticks": ""
           },
           "baxis": {
            "gridcolor": "white",
            "linecolor": "white",
            "ticks": ""
           },
           "bgcolor": "#E5ECF6",
           "caxis": {
            "gridcolor": "white",
            "linecolor": "white",
            "ticks": ""
           }
          },
          "title": {
           "x": 0.05
          },
          "xaxis": {
           "automargin": true,
           "gridcolor": "white",
           "linecolor": "white",
           "ticks": "",
           "title": {
            "standoff": 15
           },
           "zerolinecolor": "white",
           "zerolinewidth": 2
          },
          "yaxis": {
           "automargin": true,
           "gridcolor": "white",
           "linecolor": "white",
           "ticks": "",
           "title": {
            "standoff": 15
           },
           "zerolinecolor": "white",
           "zerolinewidth": 2
          }
         }
        },
        "title": {
         "text": "Log-scale scatterplot of OTR vs WVTR"
        },
        "xaxis": {
         "anchor": "y",
         "domain": [
          0,
          1
         ],
         "title": {
          "text": "log_WVTR_Updated_Num"
         }
        },
        "yaxis": {
         "anchor": "x",
         "domain": [
          0,
          1
         ],
         "title": {
          "text": "log_OTR_Updated_Num"
         }
        }
       }
      }
     },
     "metadata": {},
     "output_type": "display_data"
    },
    {
     "data": {
      "text/plain": [
       "'Scatterplot of OTR vs WVTR.html'"
      ]
     },
     "execution_count": 24,
     "metadata": {},
     "output_type": "execute_result"
    }
   ],
   "source": [
    "# ## transmission rate\n",
    "dtr['log_WVTR_Updated_Num'] = np.log10(dtr['WVTR_Updated_Num'])\n",
    "dtr['log_OTR_Updated_Num'] = np.log10(dtr['OTR_Updated_Num'])\n",
    "\n",
    "fig = px.scatter(\n",
    "        dtr,\n",
    "        x='log_WVTR_Updated_Num',\n",
    "        y='log_OTR_Updated_Num',\n",
    "        color='Type',  # Color by 'Base Material'\n",
    "        symbol='Material',\n",
    "        symbol_sequence= ['circle', 'circle-open'],\n",
    "        hover_data=['Base Material', 'Type', 'Secondary Material'],  # Include additional info in hover\n",
    "        title='Log-scale scatterplot of OTR vs WVTR',\n",
    "        labels={\n",
    "            'log_OP_Updated_Num': 'OTR Updated Num',\n",
    "            'log_WVTr_Updated_Num': 'WVTR Updated Num'\n",
    "        }\n",
    "    )\n",
    "    \n",
    "    # Show the plot\n",
    "fig.show()\n",
    "plotly.offline.plot(fig, filename='Scatterplot of OTR vs WVTR.html', auto_open=False)"
   ]
  },
  {
   "cell_type": "code",
   "execution_count": 25,
   "metadata": {},
   "outputs": [
    {
     "data": {
      "application/vnd.plotly.v1+json": {
       "config": {
        "plotlyServerURL": "https://plot.ly"
       },
       "data": [
        {
         "customdata": [
          [
           "fish gelatin",
           "individual",
           "None"
          ],
          [
           "fish gelatin",
           "nanocomposite",
           "montmorillonite"
          ],
          [
           "fish gelatin",
           "nanocomposite",
           "montmorillonite"
          ],
          [
           "fish gelatin",
           "nanocomposite",
           "montmorillonite"
          ],
          [
           "fish gelatin",
           "nanocomposite",
           "montmorillonite"
          ],
          [
           "fish gelatin",
           "nanocomposite",
           "montmorillonite"
          ],
          [
           "fish gelatin",
           "nanocomposite",
           "montmorillonite"
          ],
          [
           "fish gelatin",
           "nanocomposite",
           "montmorillonite"
          ],
          [
           "fish gelatin",
           "nanocomposite",
           "montmorillonite"
          ],
          [
           "fish gelatin",
           "nanocomposite",
           "montmorillonite"
          ],
          [
           "fish gelatin",
           "nanocomposite",
           "montmorillonite"
          ],
          [
           "fish gelatin",
           "nanocomposite",
           "montmorillonite"
          ],
          [
           "fish gelatin",
           "nanocomposite",
           "montmorillonite"
          ],
          [
           "fish gelatin",
           "nanocomposite",
           "montmorillonite"
          ],
          [
           "fish gelatin",
           "nanocomposite",
           "montmorillonite"
          ],
          [
           "fish gelatin",
           "nanocomposite",
           "montmorillonite"
          ],
          [
           "fish gelatin",
           "nanocomposite",
           "montmorillonite"
          ],
          [
           "fish gelatin",
           "nanocomposite",
           "montmorillonite"
          ],
          [
           "fish gelatin",
           "nanocomposite",
           "montmorillonite"
          ],
          [
           "fish gelatin",
           "nanocomposite",
           "montmorillonite"
          ],
          [
           "fish gelatin",
           "nanocomposite",
           "montmorillonite"
          ],
          [
           "fish gelatin",
           "nanocomposite",
           "montmorillonite"
          ],
          [
           "fish gelatin",
           "nanocomposite",
           "montmorillonite"
          ],
          [
           "fish gelatin",
           "nanocomposite",
           "montmorillonite"
          ],
          [
           "fish gelatin",
           "nanocomposite",
           "montmorillonite"
          ],
          [
           "fish gelatin",
           "nanocomposite",
           "montmorillonite"
          ],
          [
           "fish gelatin",
           "nanocomposite",
           "montmorillonite"
          ],
          [
           "fish gelatin",
           "nanocomposite",
           "montmorillonite"
          ],
          [
           "fish gelatin",
           "nanocomposite",
           "montmorillonite"
          ],
          [
           "fish gelatin",
           "nanocomposite",
           "montmorillonite"
          ],
          [
           "fish gelatin",
           "nanocomposite",
           "montmorillonite"
          ],
          [
           "fish gelatin",
           "nanocomposite",
           "montmorillonite"
          ],
          [
           "fish gelatin",
           "nanocomposite",
           "montmorillonite"
          ],
          [
           "fish gelatin",
           "nanocomposite",
           "montmorillonite"
          ],
          [
           "fish gelatin",
           "nanocomposite",
           "montmorillonite"
          ],
          [
           "fish gelatin",
           "nanocomposite",
           "montmorillonite"
          ],
          [
           "fish gelatin",
           "nanocomposite",
           "montmorillonite"
          ],
          [
           "fish gelatin",
           "nanocomposite",
           "montmorillonite"
          ],
          [
           "fish gelatin",
           "nanocomposite",
           "montmorillonite"
          ],
          [
           "fish gelatin",
           "nanocomposite",
           "montmorillonite"
          ],
          [
           "fish gelatin",
           "nanocomposite",
           "montmorillonite"
          ],
          [
           "fish gelatin",
           "nanocomposite",
           "montmorillonite"
          ],
          [
           "fish gelatin",
           "nanocomposite",
           "montmorillonite"
          ],
          [
           "fish gelatin",
           "nanocomposite",
           "montmorillonite"
          ],
          [
           "fish gelatin",
           "nanocomposite",
           "montmorillonite"
          ],
          [
           "fish gelatin",
           "nanocomposite",
           "montmorillonite"
          ],
          [
           "fish gelatin",
           "nanocomposite",
           "montmorillonite"
          ],
          [
           "fish gelatin",
           "nanocomposite",
           "montmorillonite"
          ],
          [
           "fish gelatin",
           "nanocomposite",
           "montmorillonite"
          ],
          [
           "fish gelatin",
           "nanocomposite",
           "montmorillonite"
          ],
          [
           "fish gelatin",
           "nanocomposite",
           "montmorillonite"
          ],
          [
           "fish gelatin",
           "nanocomposite",
           "montmorillonite"
          ],
          [
           "fish gelatin",
           "nanocomposite",
           "montmorillonite"
          ],
          [
           "fish gelatin",
           "nanocomposite",
           "montmorillonite"
          ],
          [
           "fish gelatin",
           "nanocomposite",
           "montmorillonite"
          ],
          [
           "fish gelatin",
           "nanocomposite",
           "montmorillonite"
          ],
          [
           "fish gelatin",
           "nanocomposite",
           "montmorillonite"
          ]
         ],
         "hovertemplate": "Base Material=%{customdata[0]}<br>Material=sustainable<br>WVTR Updated Num=%{x}<br>OTR Updated Num=%{y}<br>Type=%{customdata[1]}<br>Secondary Material=%{customdata[2]}<extra></extra>",
         "legendgroup": "fish gelatin, sustainable",
         "marker": {
          "color": "#636efa",
          "symbol": "circle"
         },
         "mode": "markers",
         "name": "fish gelatin, sustainable",
         "orientation": "v",
         "showlegend": true,
         "type": "scatter",
         "x": [
          3.436384948911067,
          2.8507153737712736,
          2.9914483775628056,
          3.0789509220490308,
          3.1353549532470857,
          3.0356520400548592,
          3.0321354663320217,
          3.059501650548388,
          3.0821094412938606,
          2.8507153737712736,
          2.9914483775628056,
          3.0789509220490308,
          3.1353549532470857,
          3.0356520400548592,
          3.0321354663320217,
          3.059501650548388,
          3.0821094412938606,
          2.8507153737712736,
          2.9914483775628056,
          3.0789509220490308,
          3.1353549532470857,
          3.0356520400548592,
          3.0321354663320217,
          3.059501650548388,
          3.0821094412938606,
          2.8507153737712736,
          2.9914483775628056,
          3.0789509220490308,
          3.1353549532470857,
          3.0356520400548592,
          3.0321354663320217,
          3.059501650548388,
          3.0821094412938606,
          2.8507153737712736,
          2.9914483775628056,
          3.0789509220490308,
          3.1353549532470857,
          3.0356520400548592,
          3.0321354663320217,
          3.059501650548388,
          3.0821094412938606,
          2.8507153737712736,
          2.9914483775628056,
          3.0789509220490308,
          3.1353549532470857,
          3.0356520400548592,
          3.0321354663320217,
          3.059501650548388,
          3.0821094412938606,
          2.8507153737712736,
          2.9914483775628056,
          3.0789509220490308,
          3.1353549532470857,
          3.0356520400548592,
          3.0321354663320217,
          3.059501650548388,
          3.0821094412938606
         ],
         "xaxis": "x",
         "y": [
          0.6050894618815801,
          0.05842602445700704,
          0.05842602445700704,
          0.05842602445700704,
          0.05842602445700704,
          0.05842602445700704,
          0.05842602445700704,
          0.05842602445700704,
          0.05842602445700704,
          0.2931414834509317,
          0.2931414834509317,
          0.2931414834509317,
          0.2931414834509317,
          0.2931414834509317,
          0.2931414834509317,
          0.2931414834509317,
          0.2931414834509317,
          0.2337573629655109,
          0.2337573629655109,
          0.2337573629655109,
          0.2337573629655109,
          0.2337573629655109,
          0.2337573629655109,
          0.2337573629655109,
          0.2337573629655109,
          0.3308194664958377,
          0.3308194664958377,
          0.3308194664958377,
          0.3308194664958377,
          0.3308194664958377,
          0.3308194664958377,
          0.3308194664958377,
          0.3308194664958377,
          0.2785249647370182,
          0.2785249647370182,
          0.2785249647370182,
          0.2785249647370182,
          0.2785249647370182,
          0.2785249647370182,
          0.2785249647370182,
          0.2785249647370182,
          0.3944516808262167,
          0.3944516808262167,
          0.3944516808262167,
          0.3944516808262167,
          0.3944516808262167,
          0.3944516808262167,
          0.3944516808262167,
          0.3944516808262167,
          0.3165993020938614,
          0.3165993020938614,
          0.3165993020938614,
          0.3165993020938614,
          0.3165993020938614,
          0.3165993020938614,
          0.3165993020938614,
          0.3165993020938614
         ],
         "yaxis": "y"
        },
        {
         "customdata": [
          [
           "LDPE",
           "individual",
           "None"
          ],
          [
           "LDPE",
           "individual",
           "None"
          ]
         ],
         "hovertemplate": "Base Material=%{customdata[0]}<br>Material=conventional<br>WVTR Updated Num=%{x}<br>OTR Updated Num=%{y}<br>Type=%{customdata[1]}<br>Secondary Material=%{customdata[2]}<extra></extra>",
         "legendgroup": "LDPE, conventional",
         "marker": {
          "color": "#EF553B",
          "symbol": "circle-open"
         },
         "mode": "markers",
         "name": "LDPE, conventional",
         "orientation": "v",
         "showlegend": true,
         "type": "scatter",
         "x": [
          2.0585689197390065,
          1.8817496075112425
         ],
         "xaxis": "x",
         "y": [
          4.2775678801531685,
          4.2775678801531685
         ],
         "yaxis": "y"
        },
        {
         "customdata": [
          [
           "HDPE",
           "individual",
           "None"
          ]
         ],
         "hovertemplate": "Base Material=%{customdata[0]}<br>Material=conventional<br>WVTR Updated Num=%{x}<br>OTR Updated Num=%{y}<br>Type=%{customdata[1]}<br>Secondary Material=%{customdata[2]}<extra></extra>",
         "legendgroup": "HDPE, conventional",
         "marker": {
          "color": "#00cc96",
          "symbol": "circle-open"
         },
         "mode": "markers",
         "name": "HDPE, conventional",
         "orientation": "v",
         "showlegend": true,
         "type": "scatter",
         "x": [
          1.2846530357148302
         ],
         "xaxis": "x",
         "y": [
          3.6361330959586846
         ],
         "yaxis": "y"
        },
        {
         "customdata": [
          [
           "paperboard",
           "coated",
           "PLA, Al2O3"
          ],
          [
           "paperboard",
           "coated",
           "PLA, Al2O3"
          ],
          [
           "paperboard",
           "coated",
           "PLA, Al2O3"
          ],
          [
           "paperboard",
           "coated",
           "PLA"
          ],
          [
           "paperboard",
           "coated",
           "PLA"
          ]
         ],
         "hovertemplate": "Base Material=%{customdata[0]}<br>Material=sustainable<br>WVTR Updated Num=%{x}<br>OTR Updated Num=%{y}<br>Type=%{customdata[1]}<br>Secondary Material=%{customdata[2]}<extra></extra>",
         "legendgroup": "paperboard, sustainable",
         "marker": {
          "color": "#ab63fa",
          "symbol": "circle"
         },
         "mode": "markers",
         "name": "paperboard, sustainable",
         "orientation": "v",
         "showlegend": true,
         "type": "scatter",
         "x": [
          null,
          null,
          null,
          null,
          null
         ],
         "xaxis": "x",
         "y": [
          0.306746608077711,
          1.306746608077711,
          1.0848978584613558,
          2.607776603741693,
          2.628965902811631
         ],
         "yaxis": "y"
        },
        {
         "customdata": [
          [
           "polylactic acid",
           "individual",
           "None"
          ],
          [
           "polylactic acid",
           "individual",
           "None"
          ],
          [
           "polylactic acid",
           "individual",
           "None"
          ],
          [
           "polylactic acid",
           "individual",
           "None"
          ],
          [
           "polylactic acid",
           "individual",
           "None"
          ],
          [
           "polylactic acid",
           "individual",
           "None"
          ],
          [
           "polylactic acid",
           "individual",
           "None"
          ],
          [
           "polylactic acid",
           "individual",
           "None"
          ],
          [
           "polylactic acid",
           "individual",
           "None"
          ],
          [
           "polylactic acid",
           "nanocomposite",
           "NaMMT"
          ],
          [
           "polylactic acid",
           "nanocomposite",
           "OMMT"
          ],
          [
           "polylactic acid",
           "nanocomposite",
           "OMMT"
          ]
         ],
         "hovertemplate": "Base Material=%{customdata[0]}<br>Material=sustainable<br>WVTR Updated Num=%{x}<br>OTR Updated Num=%{y}<br>Type=%{customdata[1]}<br>Secondary Material=%{customdata[2]}<extra></extra>",
         "legendgroup": "polylactic acid, sustainable",
         "marker": {
          "color": "#FFA15A",
          "symbol": "circle"
         },
         "mode": "markers",
         "name": "polylactic acid, sustainable",
         "orientation": "v",
         "showlegend": true,
         "type": "scatter",
         "x": [
          3.3431968181948495,
          3.2796896161832803,
          3.6496700758487925,
          3.3431968181948495,
          3.2796896161832803,
          3.6496700758487925,
          3.3431968181948495,
          3.2796896161832803,
          3.6496700758487925,
          3.3539586480502948,
          3.2739540946814043,
          3.0781321994483237
         ],
         "xaxis": "x",
         "y": [
          2.852053724543536,
          2.852053724543536,
          2.852053724543536,
          4.028636128569049,
          4.028636128569049,
          4.028636128569049,
          2.2336005375338255,
          2.2336005375338255,
          2.2336005375338255,
          null,
          null,
          null
         ],
         "yaxis": "y"
        },
        {
         "customdata": [
          [
           "carrot puree",
           "blend",
           "CMC"
          ],
          [
           "carrot puree",
           "blend",
           "CMC"
          ],
          [
           "carrot puree",
           "blend",
           "CMC"
          ],
          [
           "carrot puree",
           "blend",
           "CMC"
          ],
          [
           "carrot puree",
           "blend",
           "CMC"
          ],
          [
           "carrot puree",
           "blend",
           "CMC"
          ],
          [
           "carrot puree",
           "blend",
           "CMC"
          ],
          [
           "carrot puree",
           "blend",
           "CMC"
          ],
          [
           "carrot puree",
           "blend",
           "CMC"
          ],
          [
           "carrot puree",
           "blend",
           "CMC"
          ],
          [
           "carrot puree",
           "blend",
           "CMC"
          ],
          [
           "carrot puree",
           "blend",
           "CMC"
          ],
          [
           "carrot puree",
           "blend",
           "CMC"
          ],
          [
           "carrot puree",
           "blend",
           "CMC"
          ],
          [
           "carrot puree",
           "blend",
           "CMC"
          ],
          [
           "carrot puree",
           "blend",
           "CMC"
          ],
          [
           "carrot puree",
           "blend",
           "CMC"
          ],
          [
           "carrot puree",
           "blend",
           "CMC"
          ],
          [
           "carrot puree",
           "blend",
           "CMC"
          ],
          [
           "carrot puree",
           "blend",
           "CMC"
          ],
          [
           "carrot puree",
           "blend",
           "CMC"
          ],
          [
           "carrot puree",
           "blend",
           "CMC"
          ],
          [
           "carrot puree",
           "blend",
           "CMC"
          ],
          [
           "carrot puree",
           "blend",
           "CMC"
          ],
          [
           "carrot puree",
           "blend",
           "CMC"
          ],
          [
           "carrot puree",
           "blend",
           "CMC"
          ],
          [
           "carrot puree",
           "blend",
           "CMC"
          ],
          [
           "carrot puree",
           "blend",
           "CMC"
          ],
          [
           "carrot puree",
           "blend",
           "CMC"
          ],
          [
           "carrot puree",
           "blend",
           "CMC"
          ],
          [
           "carrot puree",
           "blend",
           "CMC"
          ],
          [
           "carrot puree",
           "blend",
           "CMC"
          ],
          [
           "carrot puree",
           "blend",
           "CMC"
          ],
          [
           "carrot puree",
           "blend",
           "CMC"
          ],
          [
           "carrot puree",
           "blend",
           "CMC"
          ],
          [
           "carrot puree",
           "blend",
           "CMC"
          ],
          [
           "carrot puree",
           "blend",
           "CMC"
          ],
          [
           "carrot puree",
           "blend",
           "CMC"
          ],
          [
           "carrot puree",
           "blend",
           "CMC"
          ],
          [
           "carrot puree",
           "blend",
           "CMC"
          ],
          [
           "carrot puree",
           "blend",
           "CMC"
          ],
          [
           "carrot puree",
           "blend",
           "CMC"
          ],
          [
           "carrot puree",
           "blend",
           "CMC"
          ],
          [
           "carrot puree",
           "blend",
           "CMC"
          ],
          [
           "carrot puree",
           "blend",
           "CMC"
          ],
          [
           "carrot puree",
           "blend",
           "CMC"
          ],
          [
           "carrot puree",
           "blend",
           "CMC"
          ],
          [
           "carrot puree",
           "blend",
           "CMC"
          ],
          [
           "carrot puree",
           "blend",
           "CMC"
          ],
          [
           "carrot puree",
           "blend",
           "CMC"
          ],
          [
           "carrot puree",
           "blend",
           "CMC"
          ],
          [
           "carrot puree",
           "blend",
           "CMC"
          ],
          [
           "carrot puree",
           "blend",
           "CMC"
          ],
          [
           "carrot puree",
           "blend",
           "CMC"
          ],
          [
           "carrot puree",
           "blend",
           "CMC"
          ],
          [
           "carrot puree",
           "blend",
           "CMC"
          ],
          [
           "carrot puree",
           "blend",
           "CMC"
          ],
          [
           "carrot puree",
           "blend",
           "CMC"
          ],
          [
           "carrot puree",
           "blend",
           "CMC"
          ],
          [
           "carrot puree",
           "blend",
           "CMC"
          ],
          [
           "carrot puree",
           "blend",
           "CMC"
          ],
          [
           "carrot puree",
           "blend",
           "CMC"
          ],
          [
           "carrot puree",
           "blend",
           "CMC"
          ],
          [
           "carrot puree",
           "blend",
           "CMC"
          ],
          [
           "carrot puree",
           "blend",
           "CMC"
          ],
          [
           "carrot puree",
           "blend",
           "CMC"
          ],
          [
           "carrot puree",
           "blend",
           "CMC"
          ],
          [
           "carrot puree",
           "blend",
           "CMC"
          ],
          [
           "carrot puree",
           "blend",
           "CMC"
          ],
          [
           "carrot puree",
           "blend",
           "CMC"
          ],
          [
           "carrot puree",
           "blend",
           "CMC"
          ],
          [
           "carrot puree",
           "blend",
           "CMC"
          ],
          [
           "carrot puree",
           "blend",
           "CMC"
          ],
          [
           "carrot puree",
           "blend",
           "CMC"
          ],
          [
           "carrot puree",
           "blend",
           "CMC"
          ],
          [
           "carrot puree",
           "blend",
           "CMC"
          ],
          [
           "carrot puree",
           "blend",
           "CMC"
          ],
          [
           "carrot puree",
           "blend",
           "CMC"
          ],
          [
           "carrot puree",
           "blend",
           "CMC"
          ],
          [
           "carrot puree",
           "blend",
           "CMC"
          ],
          [
           "carrot puree",
           "blend",
           "CMC"
          ],
          [
           "carrot puree",
           "blend",
           "CMC"
          ],
          [
           "carrot puree",
           "blend",
           "CMC"
          ],
          [
           "carrot puree",
           "blend",
           "CMC"
          ],
          [
           "carrot puree",
           "blend",
           "CMC"
          ],
          [
           "carrot puree",
           "blend",
           "CMC"
          ],
          [
           "carrot puree",
           "blend",
           "CMC"
          ],
          [
           "carrot puree",
           "blend",
           "CMC"
          ],
          [
           "carrot puree",
           "blend",
           "CMC"
          ],
          [
           "carrot puree",
           "blend",
           "CMC"
          ],
          [
           "carrot puree",
           "blend",
           "CMC"
          ],
          [
           "carrot puree",
           "blend",
           "CMC"
          ],
          [
           "carrot puree",
           "blend",
           "CMC"
          ],
          [
           "carrot puree",
           "blend",
           "CMC"
          ],
          [
           "carrot puree",
           "blend",
           "CMC"
          ],
          [
           "carrot puree",
           "blend",
           "CMC"
          ],
          [
           "carrot puree",
           "blend",
           "CMC"
          ],
          [
           "carrot puree",
           "blend",
           "CMC"
          ],
          [
           "carrot puree",
           "blend",
           "CMC"
          ],
          [
           "carrot puree",
           "blend",
           "CMC"
          ],
          [
           "carrot puree",
           "blend",
           "CMC"
          ],
          [
           "carrot puree",
           "blend",
           "CMC"
          ],
          [
           "carrot puree",
           "blend",
           "CMC"
          ],
          [
           "carrot puree",
           "blend",
           "CMC"
          ],
          [
           "carrot puree",
           "blend",
           "CMC"
          ],
          [
           "carrot puree",
           "blend",
           "CMC"
          ],
          [
           "carrot puree",
           "blend",
           "CMC"
          ],
          [
           "carrot puree",
           "blend",
           "CMC"
          ],
          [
           "carrot puree",
           "blend",
           "CMC"
          ],
          [
           "carrot puree",
           "blend",
           "CMC"
          ],
          [
           "carrot puree",
           "blend",
           "CMC"
          ],
          [
           "carrot puree",
           "blend",
           "CMC"
          ],
          [
           "carrot puree",
           "blend",
           "CMC"
          ],
          [
           "carrot puree",
           "blend",
           "CMC"
          ],
          [
           "carrot puree",
           "blend",
           "CMC"
          ],
          [
           "carrot puree",
           "blend",
           "CMC"
          ],
          [
           "carrot puree",
           "blend",
           "CMC"
          ],
          [
           "carrot puree",
           "blend",
           "CMC"
          ],
          [
           "carrot puree",
           "blend",
           "CMC"
          ],
          [
           "carrot puree",
           "blend",
           "CMC"
          ],
          [
           "carrot puree",
           "blend",
           "CMC"
          ],
          [
           "carrot puree",
           "blend",
           "CMC"
          ],
          [
           "carrot puree",
           "blend",
           "CMC"
          ],
          [
           "carrot puree",
           "blend",
           "CMC"
          ],
          [
           "carrot puree",
           "blend",
           "CMC"
          ],
          [
           "carrot puree",
           "blend",
           "CMC"
          ],
          [
           "carrot puree",
           "blend",
           "CMC"
          ],
          [
           "carrot puree",
           "blend",
           "CMC"
          ],
          [
           "carrot puree",
           "blend",
           "CMC"
          ],
          [
           "carrot puree",
           "blend",
           "CMC"
          ],
          [
           "carrot puree",
           "blend",
           "CMC"
          ],
          [
           "carrot puree",
           "blend",
           "CMC"
          ],
          [
           "carrot puree",
           "blend",
           "CMC"
          ],
          [
           "carrot puree",
           "blend",
           "CMC"
          ],
          [
           "carrot puree",
           "blend",
           "CMC"
          ],
          [
           "carrot puree",
           "blend",
           "CMC"
          ],
          [
           "carrot puree",
           "blend",
           "CMC"
          ],
          [
           "carrot puree",
           "blend",
           "CMC"
          ],
          [
           "carrot puree",
           "blend",
           "CMC"
          ],
          [
           "carrot puree",
           "blend",
           "CMC"
          ],
          [
           "carrot puree",
           "blend",
           "CMC"
          ],
          [
           "carrot puree",
           "blend",
           "CMC"
          ],
          [
           "carrot puree",
           "blend",
           "CMC"
          ],
          [
           "carrot puree",
           "blend",
           "CMC"
          ],
          [
           "carrot puree",
           "blend",
           "gelatin"
          ],
          [
           "carrot puree",
           "blend",
           "gelatin"
          ],
          [
           "carrot puree",
           "blend",
           "gelatin"
          ],
          [
           "carrot puree",
           "blend",
           "gelatin"
          ],
          [
           "carrot puree",
           "blend",
           "gelatin"
          ],
          [
           "carrot puree",
           "blend",
           "gelatin"
          ],
          [
           "carrot puree",
           "blend",
           "gelatin"
          ],
          [
           "carrot puree",
           "blend",
           "gelatin"
          ],
          [
           "carrot puree",
           "blend",
           "gelatin"
          ],
          [
           "carrot puree",
           "blend",
           "gelatin"
          ],
          [
           "carrot puree",
           "blend",
           "gelatin"
          ],
          [
           "carrot puree",
           "blend",
           "gelatin"
          ],
          [
           "carrot puree",
           "blend",
           "gelatin"
          ],
          [
           "carrot puree",
           "blend",
           "gelatin"
          ],
          [
           "carrot puree",
           "blend",
           "gelatin"
          ],
          [
           "carrot puree",
           "blend",
           "gelatin"
          ],
          [
           "carrot puree",
           "blend",
           "gelatin"
          ],
          [
           "carrot puree",
           "blend",
           "gelatin"
          ],
          [
           "carrot puree",
           "blend",
           "gelatin"
          ],
          [
           "carrot puree",
           "blend",
           "gelatin"
          ],
          [
           "carrot puree",
           "blend",
           "gelatin"
          ],
          [
           "carrot puree",
           "blend",
           "gelatin"
          ],
          [
           "carrot puree",
           "blend",
           "gelatin"
          ],
          [
           "carrot puree",
           "blend",
           "gelatin"
          ],
          [
           "carrot puree",
           "blend",
           "gelatin"
          ],
          [
           "carrot puree",
           "blend",
           "gelatin"
          ],
          [
           "carrot puree",
           "blend",
           "gelatin"
          ],
          [
           "carrot puree",
           "blend",
           "gelatin"
          ],
          [
           "carrot puree",
           "blend",
           "gelatin"
          ],
          [
           "carrot puree",
           "blend",
           "gelatin"
          ],
          [
           "carrot puree",
           "blend",
           "gelatin"
          ],
          [
           "carrot puree",
           "blend",
           "gelatin"
          ],
          [
           "carrot puree",
           "blend",
           "gelatin"
          ],
          [
           "carrot puree",
           "blend",
           "gelatin"
          ],
          [
           "carrot puree",
           "blend",
           "gelatin"
          ],
          [
           "carrot puree",
           "blend",
           "gelatin"
          ]
         ],
         "hovertemplate": "Base Material=%{customdata[0]}<br>Material=sustainable<br>WVTR Updated Num=%{x}<br>OTR Updated Num=%{y}<br>Type=%{customdata[1]}<br>Secondary Material=%{customdata[2]}<extra></extra>",
         "legendgroup": "carrot puree, sustainable",
         "marker": {
          "color": "#19d3f3",
          "symbol": "circle"
         },
         "mode": "markers",
         "name": "carrot puree, sustainable",
         "orientation": "v",
         "showlegend": true,
         "type": "scatter",
         "x": [
          5.763809382804633,
          5.631183817530042,
          5.396159946950353,
          5.3054661593763175,
          5.268975734457945,
          5.187989710859901,
          5.45704364989191,
          5.440954325640528,
          5.371821157115925,
          5.329976014501487,
          5.301306580951887,
          5.280886020471324,
          5.763809382804633,
          5.631183817530042,
          5.396159946950353,
          5.3054661593763175,
          5.268975734457945,
          5.187989710859901,
          5.45704364989191,
          5.440954325640528,
          5.371821157115925,
          5.329976014501487,
          5.301306580951887,
          5.280886020471324,
          5.763809382804633,
          5.631183817530042,
          5.396159946950353,
          5.3054661593763175,
          5.268975734457945,
          5.187989710859901,
          5.45704364989191,
          5.440954325640528,
          5.371821157115925,
          5.329976014501487,
          5.301306580951887,
          5.280886020471324,
          5.763809382804633,
          5.631183817530042,
          5.396159946950353,
          5.3054661593763175,
          5.268975734457945,
          5.187989710859901,
          5.45704364989191,
          5.440954325640528,
          5.371821157115925,
          5.329976014501487,
          5.301306580951887,
          5.280886020471324,
          5.763809382804633,
          5.631183817530042,
          5.396159946950353,
          5.3054661593763175,
          5.268975734457945,
          5.187989710859901,
          5.45704364989191,
          5.440954325640528,
          5.371821157115925,
          5.329976014501487,
          5.301306580951887,
          5.280886020471324,
          5.763809382804633,
          5.631183817530042,
          5.396159946950353,
          5.3054661593763175,
          5.268975734457945,
          5.187989710859901,
          5.45704364989191,
          5.440954325640528,
          5.371821157115925,
          5.329976014501487,
          5.301306580951887,
          5.280886020471324,
          5.763809382804633,
          5.631183817530042,
          5.396159946950353,
          5.3054661593763175,
          5.268975734457945,
          5.187989710859901,
          5.45704364989191,
          5.440954325640528,
          5.371821157115925,
          5.329976014501487,
          5.301306580951887,
          5.280886020471324,
          5.763809382804633,
          5.631183817530042,
          5.396159946950353,
          5.3054661593763175,
          5.268975734457945,
          5.187989710859901,
          5.45704364989191,
          5.440954325640528,
          5.371821157115925,
          5.329976014501487,
          5.301306580951887,
          5.280886020471324,
          5.763809382804633,
          5.631183817530042,
          5.396159946950353,
          5.3054661593763175,
          5.268975734457945,
          5.187989710859901,
          5.45704364989191,
          5.440954325640528,
          5.371821157115925,
          5.329976014501487,
          5.301306580951887,
          5.280886020471324,
          5.763809382804633,
          5.631183817530042,
          5.396159946950353,
          5.3054661593763175,
          5.268975734457945,
          5.187989710859901,
          5.45704364989191,
          5.440954325640528,
          5.371821157115925,
          5.329976014501487,
          5.301306580951887,
          5.280886020471324,
          5.763809382804633,
          5.631183817530042,
          5.396159946950353,
          5.3054661593763175,
          5.268975734457945,
          5.187989710859901,
          5.45704364989191,
          5.440954325640528,
          5.371821157115925,
          5.329976014501487,
          5.301306580951887,
          5.280886020471324,
          5.763809382804633,
          5.631183817530042,
          5.396159946950353,
          5.3054661593763175,
          5.268975734457945,
          5.187989710859901,
          5.45704364989191,
          5.440954325640528,
          5.371821157115925,
          5.329976014501487,
          5.301306580951887,
          5.280886020471324,
          5.400414790462887,
          5.324967620653954,
          5.275879111407325,
          5.375359872473109,
          5.482434654734684,
          5.52520228399743,
          5.400414790462887,
          5.324967620653954,
          5.275879111407325,
          5.375359872473109,
          5.482434654734684,
          5.52520228399743,
          5.400414790462887,
          5.324967620653954,
          5.275879111407325,
          5.375359872473109,
          5.482434654734684,
          5.52520228399743,
          5.400414790462887,
          5.324967620653954,
          5.275879111407325,
          5.375359872473109,
          5.482434654734684,
          5.52520228399743,
          5.400414790462887,
          5.324967620653954,
          5.275879111407325,
          5.375359872473109,
          5.482434654734684,
          5.52520228399743,
          5.400414790462887,
          5.324967620653954,
          5.275879111407325,
          5.375359872473109,
          5.482434654734684,
          5.52520228399743
         ],
         "xaxis": "x",
         "y": [
          1.2490841035856326,
          1.2490841035856326,
          1.2490841035856326,
          1.2490841035856326,
          1.2490841035856326,
          1.2490841035856326,
          1.2490841035856326,
          1.2490841035856326,
          1.2490841035856326,
          1.2490841035856326,
          1.2490841035856326,
          1.2490841035856326,
          1.1994287810319684,
          1.1994287810319684,
          1.1994287810319684,
          1.1994287810319684,
          1.1994287810319684,
          1.1994287810319684,
          1.1994287810319684,
          1.1994287810319684,
          1.1994287810319684,
          1.1994287810319684,
          1.1994287810319684,
          1.1994287810319684,
          1.1142491643171806,
          1.1142491643171806,
          1.1142491643171806,
          1.1142491643171806,
          1.1142491643171806,
          1.1142491643171806,
          1.1142491643171806,
          1.1142491643171806,
          1.1142491643171806,
          1.1142491643171806,
          1.1142491643171806,
          1.1142491643171806,
          1.0805330530589055,
          1.0805330530589055,
          1.0805330530589055,
          1.0805330530589055,
          1.0805330530589055,
          1.0805330530589055,
          1.0805330530589055,
          1.0805330530589055,
          1.0805330530589055,
          1.0805330530589055,
          1.0805330530589055,
          1.0805330530589055,
          1.0585059424731682,
          1.0585059424731682,
          1.0585059424731682,
          1.0585059424731682,
          1.0585059424731682,
          1.0585059424731682,
          1.0585059424731682,
          1.0585059424731682,
          1.0585059424731682,
          1.0585059424731682,
          1.0585059424731682,
          1.0585059424731682,
          1.0415656325785816,
          1.0415656325785816,
          1.0415656325785816,
          1.0415656325785816,
          1.0415656325785816,
          1.0415656325785816,
          1.0415656325785816,
          1.0415656325785816,
          1.0415656325785816,
          1.0415656325785816,
          1.0415656325785816,
          1.0415656325785816,
          1.0754498116251183,
          1.0754498116251183,
          1.0754498116251183,
          1.0754498116251183,
          1.0754498116251183,
          1.0754498116251183,
          1.0754498116251183,
          1.0754498116251183,
          1.0754498116251183,
          1.0754498116251183,
          1.0754498116251183,
          1.0754498116251183,
          1.0799008921293791,
          1.0799008921293791,
          1.0799008921293791,
          1.0799008921293791,
          1.0799008921293791,
          1.0799008921293791,
          1.0799008921293791,
          1.0799008921293791,
          1.0799008921293791,
          1.0799008921293791,
          1.0799008921293791,
          1.0799008921293791,
          1.0808487887921163,
          1.0808487887921163,
          1.0808487887921163,
          1.0808487887921163,
          1.0808487887921163,
          1.0808487887921163,
          1.0808487887921163,
          1.0808487887921163,
          1.0808487887921163,
          1.0808487887921163,
          1.0808487887921163,
          1.0808487887921163,
          1.0877375263022864,
          1.0877375263022864,
          1.0877375263022864,
          1.0877375263022864,
          1.0877375263022864,
          1.0877375263022864,
          1.0877375263022864,
          1.0877375263022864,
          1.0877375263022864,
          1.0877375263022864,
          1.0877375263022864,
          1.0877375263022864,
          1.096045219237153,
          1.096045219237153,
          1.096045219237153,
          1.096045219237153,
          1.096045219237153,
          1.096045219237153,
          1.096045219237153,
          1.096045219237153,
          1.096045219237153,
          1.096045219237153,
          1.096045219237153,
          1.096045219237153,
          1.1044959691906455,
          1.1044959691906455,
          1.1044959691906455,
          1.1044959691906455,
          1.1044959691906455,
          1.1044959691906455,
          1.1044959691906455,
          1.1044959691906455,
          1.1044959691906455,
          1.1044959691906455,
          1.1044959691906455,
          1.1044959691906455,
          1.0824240334712552,
          1.0824240334712552,
          1.0824240334712552,
          1.0824240334712552,
          1.0824240334712552,
          1.0824240334712552,
          1.055170330976704,
          1.055170330976704,
          1.055170330976704,
          1.055170330976704,
          1.055170330976704,
          1.055170330976704,
          1.0874267610068058,
          1.0874267610068058,
          1.0874267610068058,
          1.0874267610068058,
          1.0874267610068058,
          1.0874267610068058,
          1.0686864683244282,
          1.0686864683244282,
          1.0686864683244282,
          1.0686864683244282,
          1.0686864683244282,
          1.0686864683244282,
          1.1124920702875813,
          1.1124920702875813,
          1.1124920702875813,
          1.1124920702875813,
          1.1124920702875813,
          1.1124920702875813,
          1.105689906662614,
          1.105689906662614,
          1.105689906662614,
          1.105689906662614,
          1.105689906662614,
          1.105689906662614
         ],
         "yaxis": "y"
        },
        {
         "customdata": [
          [
           "chitosan",
           "individual",
           "None"
          ],
          [
           "chitosan",
           "individual",
           "None"
          ],
          [
           "chitosan",
           "individual",
           "None"
          ],
          [
           "chitosan",
           "blend",
           "palmitic acid"
          ]
         ],
         "hovertemplate": "Base Material=%{customdata[0]}<br>Material=sustainable<br>WVTR Updated Num=%{x}<br>OTR Updated Num=%{y}<br>Type=%{customdata[1]}<br>Secondary Material=%{customdata[2]}<extra></extra>",
         "legendgroup": "chitosan, sustainable",
         "marker": {
          "color": "#FF6692",
          "symbol": "circle"
         },
         "mode": "markers",
         "name": "chitosan, sustainable",
         "orientation": "v",
         "showlegend": true,
         "type": "scatter",
         "x": [
          3.728271565135178,
          2.115999178029274,
          4.126948067563351,
          null
         ],
         "xaxis": "x",
         "y": [
          6.510866590733636,
          6.510866590733636,
          6.510866590733636,
          4.811217470572131
         ],
         "yaxis": "y"
        },
        {
         "customdata": [
          [
           "polyethylene terephthalate",
           "nanocomposite",
           "OMMT"
          ],
          [
           "polyethylene terephthalate",
           "nanocomposite",
           "OMMT"
          ],
          [
           "polyethylene terephthalate",
           "nanocomposite",
           "OMMT"
          ],
          [
           "polyethylene terephthalate",
           "nanocomposite",
           "OMMT"
          ],
          [
           "polyethylene terephthalate",
           "individual",
           "None"
          ],
          [
           "polyethylene terephthalate",
           "individual",
           "None"
          ]
         ],
         "hovertemplate": "Base Material=%{customdata[0]}<br>Material=conventional<br>WVTR Updated Num=%{x}<br>OTR Updated Num=%{y}<br>Type=%{customdata[1]}<br>Secondary Material=%{customdata[2]}<extra></extra>",
         "legendgroup": "polyethylene terephthalate, conventional",
         "marker": {
          "color": "#B6E880",
          "symbol": "circle-open"
         },
         "mode": "markers",
         "name": "polyethylene terephthalate, conventional",
         "orientation": "v",
         "showlegend": true,
         "type": "scatter",
         "x": [
          null,
          null,
          null,
          null,
          null,
          null
         ],
         "xaxis": "x",
         "y": [
          0.48009606929097215,
          0.34927486872378216,
          0.2702866250362997,
          0.1818078937052888,
          7.005713832920152,
          7.704683837256171
         ],
         "yaxis": "y"
        },
        {
         "customdata": [
          [
           "denatured whey protein isolate",
           "individual",
           "None"
          ]
         ],
         "hovertemplate": "Base Material=%{customdata[0]}<br>Material=sustainable<br>WVTR Updated Num=%{x}<br>OTR Updated Num=%{y}<br>Type=%{customdata[1]}<br>Secondary Material=%{customdata[2]}<extra></extra>",
         "legendgroup": "denatured whey protein isolate, sustainable",
         "marker": {
          "color": "#FF97FF",
          "symbol": "circle"
         },
         "mode": "markers",
         "name": "denatured whey protein isolate, sustainable",
         "orientation": "v",
         "showlegend": true,
         "type": "scatter",
         "x": [
          null
         ],
         "xaxis": "x",
         "y": [
          2.776568579301458
         ],
         "yaxis": "y"
        },
        {
         "customdata": [
          [
           "whey protein isolate",
           "individual",
           "None"
          ]
         ],
         "hovertemplate": "Base Material=%{customdata[0]}<br>Material=sustainable<br>WVTR Updated Num=%{x}<br>OTR Updated Num=%{y}<br>Type=%{customdata[1]}<br>Secondary Material=%{customdata[2]}<extra></extra>",
         "legendgroup": "whey protein isolate, sustainable",
         "marker": {
          "color": "#FECB52",
          "symbol": "circle"
         },
         "mode": "markers",
         "name": "whey protein isolate, sustainable",
         "orientation": "v",
         "showlegend": true,
         "type": "scatter",
         "x": [
          null
         ],
         "xaxis": "x",
         "y": [
          2.8978111776880695
         ],
         "yaxis": "y"
        },
        {
         "customdata": [
          [
           "microfibrillated cellulose",
           "individual",
           "None"
          ]
         ],
         "hovertemplate": "Base Material=%{customdata[0]}<br>Material=sustainable<br>WVTR Updated Num=%{x}<br>OTR Updated Num=%{y}<br>Type=%{customdata[1]}<br>Secondary Material=%{customdata[2]}<extra></extra>",
         "legendgroup": "microfibrillated cellulose, sustainable",
         "marker": {
          "color": "#636efa",
          "symbol": "circle"
         },
         "mode": "markers",
         "name": "microfibrillated cellulose, sustainable",
         "orientation": "v",
         "showlegend": true,
         "type": "scatter",
         "x": [
          null
         ],
         "xaxis": "x",
         "y": [
          4.607773824248114
         ],
         "yaxis": "y"
        },
        {
         "customdata": [
          [
           "polypropylene",
           "individual",
           "None"
          ],
          [
           "polypropylene",
           "individual",
           "None"
          ]
         ],
         "hovertemplate": "Base Material=%{customdata[0]}<br>Material=conventional<br>WVTR Updated Num=%{x}<br>OTR Updated Num=%{y}<br>Type=%{customdata[1]}<br>Secondary Material=%{customdata[2]}<extra></extra>",
         "legendgroup": "polypropylene, conventional",
         "marker": {
          "color": "#EF553B",
          "symbol": "circle-open"
         },
         "mode": "markers",
         "name": "polypropylene, conventional",
         "orientation": "v",
         "showlegend": true,
         "type": "scatter",
         "x": [
          1.7551437115354795,
          1.7551437115354795
         ],
         "xaxis": "x",
         "y": [
          8.704683837256171,
          9.005713832920152
         ],
         "yaxis": "y"
        },
        {
         "customdata": [
          [
           "polyvinylidene chloride",
           "individual",
           "None"
          ],
          [
           "polyvinylidene chloride",
           "individual",
           "None"
          ]
         ],
         "hovertemplate": "Base Material=%{customdata[0]}<br>Material=sustainable<br>WVTR Updated Num=%{x}<br>OTR Updated Num=%{y}<br>Type=%{customdata[1]}<br>Secondary Material=%{customdata[2]}<extra></extra>",
         "legendgroup": "polyvinylidene chloride, sustainable",
         "marker": {
          "color": "#00cc96",
          "symbol": "circle"
         },
         "mode": "markers",
         "name": "polyvinylidene chloride, sustainable",
         "orientation": "v",
         "showlegend": true,
         "type": "scatter",
         "x": [
          null,
          null
         ],
         "xaxis": "x",
         "y": [
          -0.994286167079848,
          0.4828350876398145
         ],
         "yaxis": "y"
        },
        {
         "customdata": [
          [
           "polyvinyl chloride",
           "individual",
           "None"
          ]
         ],
         "hovertemplate": "Base Material=%{customdata[0]}<br>Material=conventional<br>WVTR Updated Num=%{x}<br>OTR Updated Num=%{y}<br>Type=%{customdata[1]}<br>Secondary Material=%{customdata[2]}<extra></extra>",
         "legendgroup": "polyvinyl chloride, conventional",
         "marker": {
          "color": "#ab63fa",
          "symbol": "circle-open"
         },
         "mode": "markers",
         "name": "polyvinyl chloride, conventional",
         "orientation": "v",
         "showlegend": true,
         "type": "scatter",
         "x": [
          1.793488703611699
         ],
         "xaxis": "x",
         "y": [
          null
         ],
         "yaxis": "y"
        },
        {
         "customdata": [
          [
           "oat starch",
           "individual",
           "None"
          ],
          [
           "oat starch",
           "individual",
           "None"
          ]
         ],
         "hovertemplate": "Base Material=%{customdata[0]}<br>Material=sustainable<br>WVTR Updated Num=%{x}<br>OTR Updated Num=%{y}<br>Type=%{customdata[1]}<br>Secondary Material=%{customdata[2]}<extra></extra>",
         "legendgroup": "oat starch, sustainable",
         "marker": {
          "color": "#FFA15A",
          "symbol": "circle"
         },
         "mode": "markers",
         "name": "oat starch, sustainable",
         "orientation": "v",
         "showlegend": true,
         "type": "scatter",
         "x": [
          3.2846530357148302,
          2.5654796452905244
         ],
         "xaxis": "x",
         "y": [
          null,
          null
         ],
         "yaxis": "y"
        },
        {
         "customdata": [
          [
           "SPI",
           "individual",
           "None"
          ],
          [
           "SPI",
           "individual",
           "None"
          ],
          [
           "SPI",
           "individual",
           "None"
          ],
          [
           "SPI",
           "individual",
           "None"
          ],
          [
           "SPI",
           "individual",
           "None"
          ],
          [
           "SPI",
           "bilayer",
           "corn zein"
          ]
         ],
         "hovertemplate": "Base Material=%{customdata[0]}<br>Material=sustainable<br>WVTR Updated Num=%{x}<br>OTR Updated Num=%{y}<br>Type=%{customdata[1]}<br>Secondary Material=%{customdata[2]}<extra></extra>",
         "legendgroup": "SPI, sustainable",
         "marker": {
          "color": "#19d3f3",
          "symbol": "circle"
         },
         "mode": "markers",
         "name": "SPI, sustainable",
         "orientation": "v",
         "showlegend": true,
         "type": "scatter",
         "x": [
          4.851274772528726,
          5.030719778583554,
          5.072433331493281,
          5.035325164900165,
          5.026434927290557,
          4.668754703227484
         ],
         "xaxis": "x",
         "y": [
          null,
          null,
          null,
          null,
          null,
          null
         ],
         "yaxis": "y"
        },
        {
         "customdata": [
          [
           "methylcellulose",
           "individual",
           "None"
          ],
          [
           "methylcellulose",
           "individual",
           "None"
          ],
          [
           "methylcellulose",
           "individual",
           "None"
          ],
          [
           "methylcellulose",
           "individual",
           "None"
          ],
          [
           "methylcellulose",
           "individual",
           "None"
          ],
          [
           "methylcellulose",
           "individual",
           "None"
          ],
          [
           "methylcellulose",
           "individual",
           "None"
          ],
          [
           "methylcellulose",
           "individual",
           "None"
          ],
          [
           "methylcellulose",
           "individual",
           "None"
          ],
          [
           "methylcellulose",
           "individual",
           "None"
          ],
          [
           "methylcellulose",
           "individual",
           "None"
          ],
          [
           "methylcellulose",
           "individual",
           "None"
          ],
          [
           "methylcellulose",
           "individual",
           "None"
          ],
          [
           "methylcellulose",
           "individual",
           "None"
          ],
          [
           "methylcellulose",
           "individual",
           "None"
          ],
          [
           "methylcellulose",
           "individual",
           "None"
          ],
          [
           "methylcellulose",
           "individual",
           "None"
          ],
          [
           "methylcellulose",
           "individual",
           "None"
          ]
         ],
         "hovertemplate": "Base Material=%{customdata[0]}<br>Material=sustainable<br>WVTR Updated Num=%{x}<br>OTR Updated Num=%{y}<br>Type=%{customdata[1]}<br>Secondary Material=%{customdata[2]}<extra></extra>",
         "legendgroup": "methylcellulose, sustainable",
         "marker": {
          "color": "#FF6692",
          "symbol": "circle"
         },
         "mode": "markers",
         "name": "methylcellulose, sustainable",
         "orientation": "v",
         "showlegend": true,
         "type": "scatter",
         "x": [
          4.67753885372281,
          4.422744552509625,
          4.357203702863442,
          4.24575869578908,
          4.282178416586975,
          4.626477102407937,
          4.605512380339592,
          4.560278451604717,
          4.583937706262643,
          4.581343150334709,
          4.616332344127859,
          4.543011127381414,
          4.422744552509625,
          4.339147290107083,
          4.131627080727842,
          4.6079285802160275,
          4.602621453295091,
          4.535907267430899
         ],
         "xaxis": "x",
         "y": [
          null,
          null,
          null,
          null,
          null,
          null,
          null,
          null,
          null,
          null,
          null,
          null,
          null,
          null,
          null,
          null,
          null,
          null
         ],
         "yaxis": "y"
        },
        {
         "customdata": [
          [
           "agar",
           "individual",
           "None"
          ],
          [
           "agar",
           "blend",
           "lignin"
          ],
          [
           "agar",
           "blend",
           "lignin"
          ],
          [
           "agar",
           "blend",
           "lignin"
          ],
          [
           "agar",
           "blend",
           "lignin"
          ]
         ],
         "hovertemplate": "Base Material=%{customdata[0]}<br>Material=sustainable<br>WVTR Updated Num=%{x}<br>OTR Updated Num=%{y}<br>Type=%{customdata[1]}<br>Secondary Material=%{customdata[2]}<extra></extra>",
         "legendgroup": "agar, sustainable",
         "marker": {
          "color": "#B6E880",
          "symbol": "circle"
         },
         "mode": "markers",
         "name": "agar, sustainable",
         "orientation": "v",
         "showlegend": true,
         "type": "scatter",
         "x": [
          5.484757435537848,
          5.456379268914065,
          5.432650948823314,
          5.433567513008582,
          5.364993947289694
         ],
         "xaxis": "x",
         "y": [
          null,
          null,
          null,
          null,
          null
         ],
         "yaxis": "y"
        }
       ],
       "layout": {
        "legend": {
         "title": {
          "text": "Base Material, Material"
         },
         "tracegroupgap": 0
        },
        "template": {
         "data": {
          "bar": [
           {
            "error_x": {
             "color": "#2a3f5f"
            },
            "error_y": {
             "color": "#2a3f5f"
            },
            "marker": {
             "line": {
              "color": "white",
              "width": 0.5
             },
             "pattern": {
              "fillmode": "overlay",
              "size": 10,
              "solidity": 0.2
             }
            },
            "type": "bar"
           }
          ],
          "barpolar": [
           {
            "marker": {
             "line": {
              "color": "white",
              "width": 0.5
             },
             "pattern": {
              "fillmode": "overlay",
              "size": 10,
              "solidity": 0.2
             }
            },
            "type": "barpolar"
           }
          ],
          "carpet": [
           {
            "aaxis": {
             "endlinecolor": "#2a3f5f",
             "gridcolor": "#C8D4E3",
             "linecolor": "#C8D4E3",
             "minorgridcolor": "#C8D4E3",
             "startlinecolor": "#2a3f5f"
            },
            "baxis": {
             "endlinecolor": "#2a3f5f",
             "gridcolor": "#C8D4E3",
             "linecolor": "#C8D4E3",
             "minorgridcolor": "#C8D4E3",
             "startlinecolor": "#2a3f5f"
            },
            "type": "carpet"
           }
          ],
          "choropleth": [
           {
            "colorbar": {
             "outlinewidth": 0,
             "ticks": ""
            },
            "type": "choropleth"
           }
          ],
          "contour": [
           {
            "colorbar": {
             "outlinewidth": 0,
             "ticks": ""
            },
            "colorscale": [
             [
              0,
              "#0d0887"
             ],
             [
              0.1111111111111111,
              "#46039f"
             ],
             [
              0.2222222222222222,
              "#7201a8"
             ],
             [
              0.3333333333333333,
              "#9c179e"
             ],
             [
              0.4444444444444444,
              "#bd3786"
             ],
             [
              0.5555555555555556,
              "#d8576b"
             ],
             [
              0.6666666666666666,
              "#ed7953"
             ],
             [
              0.7777777777777778,
              "#fb9f3a"
             ],
             [
              0.8888888888888888,
              "#fdca26"
             ],
             [
              1,
              "#f0f921"
             ]
            ],
            "type": "contour"
           }
          ],
          "contourcarpet": [
           {
            "colorbar": {
             "outlinewidth": 0,
             "ticks": ""
            },
            "type": "contourcarpet"
           }
          ],
          "heatmap": [
           {
            "colorbar": {
             "outlinewidth": 0,
             "ticks": ""
            },
            "colorscale": [
             [
              0,
              "#0d0887"
             ],
             [
              0.1111111111111111,
              "#46039f"
             ],
             [
              0.2222222222222222,
              "#7201a8"
             ],
             [
              0.3333333333333333,
              "#9c179e"
             ],
             [
              0.4444444444444444,
              "#bd3786"
             ],
             [
              0.5555555555555556,
              "#d8576b"
             ],
             [
              0.6666666666666666,
              "#ed7953"
             ],
             [
              0.7777777777777778,
              "#fb9f3a"
             ],
             [
              0.8888888888888888,
              "#fdca26"
             ],
             [
              1,
              "#f0f921"
             ]
            ],
            "type": "heatmap"
           }
          ],
          "heatmapgl": [
           {
            "colorbar": {
             "outlinewidth": 0,
             "ticks": ""
            },
            "colorscale": [
             [
              0,
              "#0d0887"
             ],
             [
              0.1111111111111111,
              "#46039f"
             ],
             [
              0.2222222222222222,
              "#7201a8"
             ],
             [
              0.3333333333333333,
              "#9c179e"
             ],
             [
              0.4444444444444444,
              "#bd3786"
             ],
             [
              0.5555555555555556,
              "#d8576b"
             ],
             [
              0.6666666666666666,
              "#ed7953"
             ],
             [
              0.7777777777777778,
              "#fb9f3a"
             ],
             [
              0.8888888888888888,
              "#fdca26"
             ],
             [
              1,
              "#f0f921"
             ]
            ],
            "type": "heatmapgl"
           }
          ],
          "histogram": [
           {
            "marker": {
             "pattern": {
              "fillmode": "overlay",
              "size": 10,
              "solidity": 0.2
             }
            },
            "type": "histogram"
           }
          ],
          "histogram2d": [
           {
            "colorbar": {
             "outlinewidth": 0,
             "ticks": ""
            },
            "colorscale": [
             [
              0,
              "#0d0887"
             ],
             [
              0.1111111111111111,
              "#46039f"
             ],
             [
              0.2222222222222222,
              "#7201a8"
             ],
             [
              0.3333333333333333,
              "#9c179e"
             ],
             [
              0.4444444444444444,
              "#bd3786"
             ],
             [
              0.5555555555555556,
              "#d8576b"
             ],
             [
              0.6666666666666666,
              "#ed7953"
             ],
             [
              0.7777777777777778,
              "#fb9f3a"
             ],
             [
              0.8888888888888888,
              "#fdca26"
             ],
             [
              1,
              "#f0f921"
             ]
            ],
            "type": "histogram2d"
           }
          ],
          "histogram2dcontour": [
           {
            "colorbar": {
             "outlinewidth": 0,
             "ticks": ""
            },
            "colorscale": [
             [
              0,
              "#0d0887"
             ],
             [
              0.1111111111111111,
              "#46039f"
             ],
             [
              0.2222222222222222,
              "#7201a8"
             ],
             [
              0.3333333333333333,
              "#9c179e"
             ],
             [
              0.4444444444444444,
              "#bd3786"
             ],
             [
              0.5555555555555556,
              "#d8576b"
             ],
             [
              0.6666666666666666,
              "#ed7953"
             ],
             [
              0.7777777777777778,
              "#fb9f3a"
             ],
             [
              0.8888888888888888,
              "#fdca26"
             ],
             [
              1,
              "#f0f921"
             ]
            ],
            "type": "histogram2dcontour"
           }
          ],
          "mesh3d": [
           {
            "colorbar": {
             "outlinewidth": 0,
             "ticks": ""
            },
            "type": "mesh3d"
           }
          ],
          "parcoords": [
           {
            "line": {
             "colorbar": {
              "outlinewidth": 0,
              "ticks": ""
             }
            },
            "type": "parcoords"
           }
          ],
          "pie": [
           {
            "automargin": true,
            "type": "pie"
           }
          ],
          "scatter": [
           {
            "marker": {
             "colorbar": {
              "outlinewidth": 0,
              "ticks": ""
             }
            },
            "type": "scatter"
           }
          ],
          "scatter3d": [
           {
            "line": {
             "colorbar": {
              "outlinewidth": 0,
              "ticks": ""
             }
            },
            "marker": {
             "colorbar": {
              "outlinewidth": 0,
              "ticks": ""
             }
            },
            "type": "scatter3d"
           }
          ],
          "scattercarpet": [
           {
            "marker": {
             "colorbar": {
              "outlinewidth": 0,
              "ticks": ""
             }
            },
            "type": "scattercarpet"
           }
          ],
          "scattergeo": [
           {
            "marker": {
             "colorbar": {
              "outlinewidth": 0,
              "ticks": ""
             }
            },
            "type": "scattergeo"
           }
          ],
          "scattergl": [
           {
            "marker": {
             "colorbar": {
              "outlinewidth": 0,
              "ticks": ""
             }
            },
            "type": "scattergl"
           }
          ],
          "scattermapbox": [
           {
            "marker": {
             "colorbar": {
              "outlinewidth": 0,
              "ticks": ""
             }
            },
            "type": "scattermapbox"
           }
          ],
          "scatterpolar": [
           {
            "marker": {
             "colorbar": {
              "outlinewidth": 0,
              "ticks": ""
             }
            },
            "type": "scatterpolar"
           }
          ],
          "scatterpolargl": [
           {
            "marker": {
             "colorbar": {
              "outlinewidth": 0,
              "ticks": ""
             }
            },
            "type": "scatterpolargl"
           }
          ],
          "scatterternary": [
           {
            "marker": {
             "colorbar": {
              "outlinewidth": 0,
              "ticks": ""
             }
            },
            "type": "scatterternary"
           }
          ],
          "surface": [
           {
            "colorbar": {
             "outlinewidth": 0,
             "ticks": ""
            },
            "colorscale": [
             [
              0,
              "#0d0887"
             ],
             [
              0.1111111111111111,
              "#46039f"
             ],
             [
              0.2222222222222222,
              "#7201a8"
             ],
             [
              0.3333333333333333,
              "#9c179e"
             ],
             [
              0.4444444444444444,
              "#bd3786"
             ],
             [
              0.5555555555555556,
              "#d8576b"
             ],
             [
              0.6666666666666666,
              "#ed7953"
             ],
             [
              0.7777777777777778,
              "#fb9f3a"
             ],
             [
              0.8888888888888888,
              "#fdca26"
             ],
             [
              1,
              "#f0f921"
             ]
            ],
            "type": "surface"
           }
          ],
          "table": [
           {
            "cells": {
             "fill": {
              "color": "#EBF0F8"
             },
             "line": {
              "color": "white"
             }
            },
            "header": {
             "fill": {
              "color": "#C8D4E3"
             },
             "line": {
              "color": "white"
             }
            },
            "type": "table"
           }
          ]
         },
         "layout": {
          "annotationdefaults": {
           "arrowcolor": "#2a3f5f",
           "arrowhead": 0,
           "arrowwidth": 1
          },
          "autotypenumbers": "strict",
          "coloraxis": {
           "colorbar": {
            "outlinewidth": 0,
            "ticks": ""
           }
          },
          "colorscale": {
           "diverging": [
            [
             0,
             "#8e0152"
            ],
            [
             0.1,
             "#c51b7d"
            ],
            [
             0.2,
             "#de77ae"
            ],
            [
             0.3,
             "#f1b6da"
            ],
            [
             0.4,
             "#fde0ef"
            ],
            [
             0.5,
             "#f7f7f7"
            ],
            [
             0.6,
             "#e6f5d0"
            ],
            [
             0.7,
             "#b8e186"
            ],
            [
             0.8,
             "#7fbc41"
            ],
            [
             0.9,
             "#4d9221"
            ],
            [
             1,
             "#276419"
            ]
           ],
           "sequential": [
            [
             0,
             "#0d0887"
            ],
            [
             0.1111111111111111,
             "#46039f"
            ],
            [
             0.2222222222222222,
             "#7201a8"
            ],
            [
             0.3333333333333333,
             "#9c179e"
            ],
            [
             0.4444444444444444,
             "#bd3786"
            ],
            [
             0.5555555555555556,
             "#d8576b"
            ],
            [
             0.6666666666666666,
             "#ed7953"
            ],
            [
             0.7777777777777778,
             "#fb9f3a"
            ],
            [
             0.8888888888888888,
             "#fdca26"
            ],
            [
             1,
             "#f0f921"
            ]
           ],
           "sequentialminus": [
            [
             0,
             "#0d0887"
            ],
            [
             0.1111111111111111,
             "#46039f"
            ],
            [
             0.2222222222222222,
             "#7201a8"
            ],
            [
             0.3333333333333333,
             "#9c179e"
            ],
            [
             0.4444444444444444,
             "#bd3786"
            ],
            [
             0.5555555555555556,
             "#d8576b"
            ],
            [
             0.6666666666666666,
             "#ed7953"
            ],
            [
             0.7777777777777778,
             "#fb9f3a"
            ],
            [
             0.8888888888888888,
             "#fdca26"
            ],
            [
             1,
             "#f0f921"
            ]
           ]
          },
          "colorway": [
           "#636efa",
           "#EF553B",
           "#00cc96",
           "#ab63fa",
           "#FFA15A",
           "#19d3f3",
           "#FF6692",
           "#B6E880",
           "#FF97FF",
           "#FECB52"
          ],
          "font": {
           "color": "#2a3f5f"
          },
          "geo": {
           "bgcolor": "white",
           "lakecolor": "white",
           "landcolor": "white",
           "showlakes": true,
           "showland": true,
           "subunitcolor": "#C8D4E3"
          },
          "hoverlabel": {
           "align": "left"
          },
          "hovermode": "closest",
          "mapbox": {
           "style": "light"
          },
          "paper_bgcolor": "white",
          "plot_bgcolor": "white",
          "polar": {
           "angularaxis": {
            "gridcolor": "#EBF0F8",
            "linecolor": "#EBF0F8",
            "ticks": ""
           },
           "bgcolor": "white",
           "radialaxis": {
            "gridcolor": "#EBF0F8",
            "linecolor": "#EBF0F8",
            "ticks": ""
           }
          },
          "scene": {
           "xaxis": {
            "backgroundcolor": "white",
            "gridcolor": "#DFE8F3",
            "gridwidth": 2,
            "linecolor": "#EBF0F8",
            "showbackground": true,
            "ticks": "",
            "zerolinecolor": "#EBF0F8"
           },
           "yaxis": {
            "backgroundcolor": "white",
            "gridcolor": "#DFE8F3",
            "gridwidth": 2,
            "linecolor": "#EBF0F8",
            "showbackground": true,
            "ticks": "",
            "zerolinecolor": "#EBF0F8"
           },
           "zaxis": {
            "backgroundcolor": "white",
            "gridcolor": "#DFE8F3",
            "gridwidth": 2,
            "linecolor": "#EBF0F8",
            "showbackground": true,
            "ticks": "",
            "zerolinecolor": "#EBF0F8"
           }
          },
          "shapedefaults": {
           "line": {
            "color": "#2a3f5f"
           }
          },
          "ternary": {
           "aaxis": {
            "gridcolor": "#DFE8F3",
            "linecolor": "#A2B1C6",
            "ticks": ""
           },
           "baxis": {
            "gridcolor": "#DFE8F3",
            "linecolor": "#A2B1C6",
            "ticks": ""
           },
           "bgcolor": "white",
           "caxis": {
            "gridcolor": "#DFE8F3",
            "linecolor": "#A2B1C6",
            "ticks": ""
           }
          },
          "title": {
           "x": 0.05
          },
          "xaxis": {
           "automargin": true,
           "gridcolor": "#EBF0F8",
           "linecolor": "#EBF0F8",
           "ticks": "",
           "title": {
            "standoff": 15
           },
           "zerolinecolor": "#EBF0F8",
           "zerolinewidth": 2
          },
          "yaxis": {
           "automargin": true,
           "gridcolor": "#EBF0F8",
           "linecolor": "#EBF0F8",
           "ticks": "",
           "title": {
            "standoff": 15
           },
           "zerolinecolor": "#EBF0F8",
           "zerolinewidth": 2
          }
         }
        },
        "title": {
         "text": "Scatterplot of OTR vs WVTR by Base Material under 1atm, 100um"
        },
        "xaxis": {
         "anchor": "y",
         "domain": [
          0,
          1
         ],
         "ticktext": [
          "10^1",
          "10^2",
          "10^3",
          "10^4",
          "10^5",
          "10^6"
         ],
         "tickvals": [
          1,
          2,
          3,
          4,
          5,
          6
         ],
         "title": {
          "text": "WVTR Num (g/m2day)"
         }
        },
        "yaxis": {
         "anchor": "x",
         "domain": [
          0,
          1
         ],
         "ticktext": [
          "10^-1",
          "10^0",
          "10^1",
          "10^2",
          "10^3",
          "10^4",
          "10^5",
          "10^6",
          "10^7",
          "10^8",
          "10^9",
          "10^10"
         ],
         "tickvals": [
          -1,
          0,
          1,
          2,
          3,
          4,
          5,
          6,
          7,
          8,
          9,
          10
         ],
         "title": {
          "text": "OTR Num (cm3/m2day)"
         }
        }
       }
      }
     },
     "metadata": {},
     "output_type": "display_data"
    },
    {
     "data": {
      "text/plain": [
       "'Scatterplot of OTR vs WVTR (power 10).html'"
      ]
     },
     "execution_count": 25,
     "metadata": {},
     "output_type": "execute_result"
    }
   ],
   "source": [
    "# Define tick values and labels for power-of-10 formatting\n",
    "tick_vals_x = np.arange(\n",
    "    int(np.floor(dtr['log_WVTR_Updated_Num'].min())), \n",
    "    int(np.ceil(dtr['log_WVTR_Updated_Num'].max())) + 1\n",
    ")\n",
    "tick_text_x = [f\"10^{int(i)}\" for i in tick_vals_x]\n",
    "\n",
    "tick_vals_y = np.arange(\n",
    "    int(np.floor(dtr['log_OTR_Updated_Num'].min())), \n",
    "    int(np.ceil(dtr['log_OTR_Updated_Num'].max())) + 1\n",
    ")\n",
    "tick_text_y = [f\"10^{int(i)}\" for i in tick_vals_y]\n",
    "\n",
    "c = 'Base Material'\n",
    "# Create the scatter plot\n",
    "fig = px.scatter(\n",
    "    dtr,\n",
    "    x='log_WVTR_Updated_Num',\n",
    "    y='log_OTR_Updated_Num',\n",
    "    color= c,  # Color by 'Base Material'\n",
    "    symbol='Material',\n",
    "    symbol_sequence= ['circle', 'circle-open'], \n",
    "    hover_data=['Base Material', 'Type', 'Secondary Material'],  # Include additional info in hover\n",
    "    title='Scatterplot of OTR vs WVTR by ' + c + ' under 1atm, 100um', \n",
    "    labels={\n",
    "        'log_WVTR_Updated_Num': 'WVTR Updated Num',\n",
    "        'log_OTR_Updated_Num': 'OTR Updated Num'\n",
    "    }\n",
    ")\n",
    "\n",
    "# Update axis labels and ticks for power-of-10 display\n",
    "fig.update_layout(\n",
    "    xaxis=dict(\n",
    "        title=\"WVTR Num (g/m2day)\",\n",
    "        tickvals=tick_vals_x,\n",
    "        ticktext=tick_text_x,\n",
    "        # type='linear'  # Keeps the axis linear while displaying log ticks\n",
    "    ),\n",
    "    yaxis=dict(\n",
    "        title=\"OTR Num (cm3/m2day)\",\n",
    "        tickvals=tick_vals_y,\n",
    "        ticktext=tick_text_y,\n",
    "        # type='linear'  # Keeps the axis linear while displaying log ticks\n",
    "    ),\n",
    "    template=\"plotly_white\"\n",
    ")\n",
    "\n",
    "# Show the plot\n",
    "fig.show()\n",
    "plotly.offline.plot(fig, filename='Scatterplot of OTR vs WVTR (power 10).html', auto_open=False)"
   ]
  },
  {
   "cell_type": "code",
   "execution_count": 26,
   "metadata": {},
   "outputs": [],
   "source": [
    "base = dtr['Base Material'].unique()\n",
    "non_sustainable_materials = ['LDPE', 'HDPE', 'polypropylene', 'polyethylene', 'PET', 'EVOH', 'polyvinyl chloride', 'amylose','polypropylene films']  # Example list\n",
    "sustainable_materials = set(base) - set(non_sustainable_materials)\n"
   ]
  },
  {
   "cell_type": "markdown",
   "metadata": {},
   "source": [
    "## Models Fitting"
   ]
  },
  {
   "cell_type": "code",
   "execution_count": 27,
   "metadata": {},
   "outputs": [
    {
     "data": {
      "image/png": "[encoded data removed]",
      "text/plain": [
       "<Figure size 1000x600 with 1 Axes>"
      ]
     },
     "metadata": {},
     "output_type": "display_data"
    },
    {
     "name": "stdout",
     "output_type": "stream",
     "text": [
      "Epsilon value detected at: 1.1765824040255133\n"
     ]
    }
   ],
   "source": [
    "from kneed import KneeLocator\n",
    "import matplotlib.pyplot as plt\n",
    "from sklearn.neighbors import NearestNeighbors\n",
    "features = dtr[['log_OTR_Updated_Num', 'log_WVTR_Updated_Num']].dropna().values  # Drop rows with NaN\n",
    "\n",
    "def plot_k_distance_graph(X, k):\n",
    "    # Fit NearestNeighbors\n",
    "    neigh = NearestNeighbors(n_neighbors=k)\n",
    "    neigh.fit(X)\n",
    "    distances, _ = neigh.kneighbors(X)\n",
    "    \n",
    "    # Sort distances for k-th neighbor\n",
    "    distances = np.sort(distances[:, k-1])\n",
    "\n",
    "    # Detect the elbow point\n",
    "    knee_locator = KneeLocator(range(len(distances)), distances, curve=\"convex\", direction=\"increasing\")\n",
    "    elbow_point = knee_locator.knee\n",
    "    epsilon = distances[elbow_point] if elbow_point is not None else None\n",
    "\n",
    "    # Plot the K-distance graph\n",
    "    plt.figure(figsize=(10, 6))\n",
    "    plt.plot(distances, label=f'{k}-th nearest neighbor distance')\n",
    "    if elbow_point is not None:\n",
    "        plt.axvline(x=elbow_point, color='r', linestyle='--', label=f'Elbow point at {elbow_point}')\n",
    "    plt.xlabel('Points')\n",
    "    plt.ylabel(f'{k}-th nearest neighbor distance')\n",
    "    plt.title('K-distance Graph')\n",
    "    plt.legend()\n",
    "    plt.show()\n",
    "\n",
    "    return epsilon\n",
    "\n",
    "# Plot k-distance graph with elbow detection\n",
    "epsilon = plot_k_distance_graph(features, k=4)\n",
    "print(f\"Epsilon value detected at: {epsilon}\")\n",
    "\n"
   ]
  },
  {
   "cell_type": "code",
   "execution_count": 28,
   "metadata": {},
   "outputs": [
    {
     "name": "stderr",
     "output_type": "stream",
     "text": [
      "/Users/windy/opt/anaconda3/lib/python3.8/site-packages/sklearn/cluster/_kmeans.py:870: FutureWarning:\n",
      "\n",
      "The default value of `n_init` will change from 10 to 'auto' in 1.4. Set the value of `n_init` explicitly to suppress the warning\n",
      "\n",
      "/Users/windy/opt/anaconda3/lib/python3.8/site-packages/sklearn/cluster/_kmeans.py:870: FutureWarning:\n",
      "\n",
      "The default value of `n_init` will change from 10 to 'auto' in 1.4. Set the value of `n_init` explicitly to suppress the warning\n",
      "\n",
      "/Users/windy/opt/anaconda3/lib/python3.8/site-packages/sklearn/cluster/_kmeans.py:870: FutureWarning:\n",
      "\n",
      "The default value of `n_init` will change from 10 to 'auto' in 1.4. Set the value of `n_init` explicitly to suppress the warning\n",
      "\n",
      "/Users/windy/opt/anaconda3/lib/python3.8/site-packages/sklearn/cluster/_kmeans.py:870: FutureWarning:\n",
      "\n",
      "The default value of `n_init` will change from 10 to 'auto' in 1.4. Set the value of `n_init` explicitly to suppress the warning\n",
      "\n",
      "/Users/windy/opt/anaconda3/lib/python3.8/site-packages/sklearn/cluster/_kmeans.py:870: FutureWarning:\n",
      "\n",
      "The default value of `n_init` will change from 10 to 'auto' in 1.4. Set the value of `n_init` explicitly to suppress the warning\n",
      "\n",
      "/Users/windy/opt/anaconda3/lib/python3.8/site-packages/sklearn/cluster/_kmeans.py:870: FutureWarning:\n",
      "\n",
      "The default value of `n_init` will change from 10 to 'auto' in 1.4. Set the value of `n_init` explicitly to suppress the warning\n",
      "\n",
      "/Users/windy/opt/anaconda3/lib/python3.8/site-packages/sklearn/cluster/_kmeans.py:870: FutureWarning:\n",
      "\n",
      "The default value of `n_init` will change from 10 to 'auto' in 1.4. Set the value of `n_init` explicitly to suppress the warning\n",
      "\n",
      "/Users/windy/opt/anaconda3/lib/python3.8/site-packages/sklearn/cluster/_kmeans.py:870: FutureWarning:\n",
      "\n",
      "The default value of `n_init` will change from 10 to 'auto' in 1.4. Set the value of `n_init` explicitly to suppress the warning\n",
      "\n",
      "/Users/windy/opt/anaconda3/lib/python3.8/site-packages/sklearn/cluster/_kmeans.py:870: FutureWarning:\n",
      "\n",
      "The default value of `n_init` will change from 10 to 'auto' in 1.4. Set the value of `n_init` explicitly to suppress the warning\n",
      "\n"
     ]
    },
    {
     "data": {
      "image/png": "[encoded data removed]",
      "text/plain": [
       "<Figure size 1000x500 with 1 Axes>"
      ]
     },
     "metadata": {},
     "output_type": "display_data"
    }
   ],
   "source": [
    "# check which clusters is the optimium clusters \n",
    "import matplotlib.pyplot as plt\n",
    "from sklearn.cluster import KMeans\n",
    "from sklearn.mixture import GaussianMixture\n",
    "\n",
    "# Prepare features for clustering\n",
    "features = dtr[['log_OTR_Updated_Num', 'log_WVTR_Updated_Num']].dropna().values  # Drop rows with NaN\n",
    "# features = features_encoded\n",
    "\n",
    "# Check for valid data\n",
    "if features.shape[0] == 0:\n",
    "    raise ValueError(\"No valid data points available for clustering after removing NaNs.\")\n",
    "\n",
    "\n",
    "from sklearn.metrics import silhouette_score\n",
    "range_n_clusters = [2, 3, 4, 5, 6, 7, 8, 9, 10]\n",
    "silhouette_avg_k = []\n",
    "silhouette_avg_g = []\n",
    "\n",
    "for num_clusters in range_n_clusters:\n",
    "    # Initialize KMeans and GaussianMixture\n",
    "    kmeans = KMeans(n_clusters=num_clusters, random_state=42)\n",
    "    gmm = GaussianMixture(n_components=num_clusters, random_state=42)\n",
    "    \n",
    "    # Fit models\n",
    "    kmeans.fit(features)\n",
    "    cluster_labels_k = kmeans.labels_\n",
    "    cluster_labels_g = gmm.fit_predict(features)  # Use predict for GaussianMixture\n",
    "    \n",
    "    # Calculate silhouette scores\n",
    "    silhouette_avg_k.append(silhouette_score(features, cluster_labels_k))\n",
    "    silhouette_avg_g.append(silhouette_score(features, cluster_labels_g))\n",
    "\n",
    "# Plot silhouette scores for KMeans\n",
    "plt.figure(figsize=(10, 5))\n",
    "plt.plot(range_n_clusters, silhouette_avg_k, 'bx-', label='KMeans')\n",
    "plt.plot(range_n_clusters, silhouette_avg_g, 'ro-', label='GaussianMixture')\n",
    "plt.xlabel('Number of Clusters (K)')\n",
    "plt.ylabel('Silhouette Score')\n",
    "plt.title('Silhouette Analysis for Optimal K')\n",
    "plt.legend()\n",
    "plt.show()"
   ]
  },
  {
   "cell_type": "markdown",
   "metadata": {},
   "source": [
    "### Kmeans"
   ]
  },
  {
   "cell_type": "code",
   "execution_count": 29,
   "metadata": {},
   "outputs": [
    {
     "name": "stderr",
     "output_type": "stream",
     "text": [
      "/Users/windy/opt/anaconda3/lib/python3.8/site-packages/sklearn/cluster/_kmeans.py:870: FutureWarning:\n",
      "\n",
      "The default value of `n_init` will change from 10 to 'auto' in 1.4. Set the value of `n_init` explicitly to suppress the warning\n",
      "\n"
     ]
    },
    {
     "data": {
      "application/vnd.plotly.v1+json": {
       "config": {
        "plotlyServerURL": "https://plot.ly"
       },
       "data": [
        {
         "customdata": [
          [
           "individual",
           "None",
           "sustainable"
          ],
          [
           "nanocomposite",
           "montmorillonite",
           "sustainable"
          ],
          [
           "nanocomposite",
           "montmorillonite",
           "sustainable"
          ],
          [
           "nanocomposite",
           "montmorillonite",
           "sustainable"
          ],
          [
           "nanocomposite",
           "montmorillonite",
           "sustainable"
          ],
          [
           "nanocomposite",
           "montmorillonite",
           "sustainable"
          ],
          [
           "nanocomposite",
           "montmorillonite",
           "sustainable"
          ],
          [
           "nanocomposite",
           "montmorillonite",
           "sustainable"
          ],
          [
           "nanocomposite",
           "montmorillonite",
           "sustainable"
          ],
          [
           "nanocomposite",
           "montmorillonite",
           "sustainable"
          ],
          [
           "nanocomposite",
           "montmorillonite",
           "sustainable"
          ],
          [
           "nanocomposite",
           "montmorillonite",
           "sustainable"
          ],
          [
           "nanocomposite",
           "montmorillonite",
           "sustainable"
          ],
          [
           "nanocomposite",
           "montmorillonite",
           "sustainable"
          ],
          [
           "nanocomposite",
           "montmorillonite",
           "sustainable"
          ],
          [
           "nanocomposite",
           "montmorillonite",
           "sustainable"
          ],
          [
           "nanocomposite",
           "montmorillonite",
           "sustainable"
          ],
          [
           "nanocomposite",
           "montmorillonite",
           "sustainable"
          ],
          [
           "nanocomposite",
           "montmorillonite",
           "sustainable"
          ],
          [
           "nanocomposite",
           "montmorillonite",
           "sustainable"
          ],
          [
           "nanocomposite",
           "montmorillonite",
           "sustainable"
          ],
          [
           "nanocomposite",
           "montmorillonite",
           "sustainable"
          ],
          [
           "nanocomposite",
           "montmorillonite",
           "sustainable"
          ],
          [
           "nanocomposite",
           "montmorillonite",
           "sustainable"
          ],
          [
           "nanocomposite",
           "montmorillonite",
           "sustainable"
          ],
          [
           "nanocomposite",
           "montmorillonite",
           "sustainable"
          ],
          [
           "nanocomposite",
           "montmorillonite",
           "sustainable"
          ],
          [
           "nanocomposite",
           "montmorillonite",
           "sustainable"
          ],
          [
           "nanocomposite",
           "montmorillonite",
           "sustainable"
          ],
          [
           "nanocomposite",
           "montmorillonite",
           "sustainable"
          ],
          [
           "nanocomposite",
           "montmorillonite",
           "sustainable"
          ],
          [
           "nanocomposite",
           "montmorillonite",
           "sustainable"
          ],
          [
           "nanocomposite",
           "montmorillonite",
           "sustainable"
          ],
          [
           "nanocomposite",
           "montmorillonite",
           "sustainable"
          ],
          [
           "nanocomposite",
           "montmorillonite",
           "sustainable"
          ],
          [
           "nanocomposite",
           "montmorillonite",
           "sustainable"
          ],
          [
           "nanocomposite",
           "montmorillonite",
           "sustainable"
          ],
          [
           "nanocomposite",
           "montmorillonite",
           "sustainable"
          ],
          [
           "nanocomposite",
           "montmorillonite",
           "sustainable"
          ],
          [
           "nanocomposite",
           "montmorillonite",
           "sustainable"
          ],
          [
           "nanocomposite",
           "montmorillonite",
           "sustainable"
          ],
          [
           "nanocomposite",
           "montmorillonite",
           "sustainable"
          ],
          [
           "nanocomposite",
           "montmorillonite",
           "sustainable"
          ],
          [
           "nanocomposite",
           "montmorillonite",
           "sustainable"
          ],
          [
           "nanocomposite",
           "montmorillonite",
           "sustainable"
          ],
          [
           "nanocomposite",
           "montmorillonite",
           "sustainable"
          ],
          [
           "nanocomposite",
           "montmorillonite",
           "sustainable"
          ],
          [
           "nanocomposite",
           "montmorillonite",
           "sustainable"
          ],
          [
           "nanocomposite",
           "montmorillonite",
           "sustainable"
          ],
          [
           "nanocomposite",
           "montmorillonite",
           "sustainable"
          ],
          [
           "nanocomposite",
           "montmorillonite",
           "sustainable"
          ],
          [
           "nanocomposite",
           "montmorillonite",
           "sustainable"
          ],
          [
           "nanocomposite",
           "montmorillonite",
           "sustainable"
          ],
          [
           "nanocomposite",
           "montmorillonite",
           "sustainable"
          ],
          [
           "nanocomposite",
           "montmorillonite",
           "sustainable"
          ],
          [
           "nanocomposite",
           "montmorillonite",
           "sustainable"
          ],
          [
           "nanocomposite",
           "montmorillonite",
           "sustainable"
          ]
         ],
         "hovertemplate": "Base Material: %{text}<br>Type: %{customdata[0]}<br>Secondary Material: %{customdata[1]}<br>Material:%{customdata[2]}<br>log(WVTR): %{x}<br>log(OTR): %{y}",
         "marker": {
          "color": [
           "rgba(69,77,175, 1)",
           "rgba(69,77,175, 1)",
           "rgba(69,77,175, 1)",
           "rgba(69,77,175, 1)",
           "rgba(69,77,175, 1)",
           "rgba(69,77,175, 1)",
           "rgba(69,77,175, 1)",
           "rgba(69,77,175, 1)",
           "rgba(69,77,175, 1)",
           "rgba(69,77,175, 1)",
           "rgba(69,77,175, 1)",
           "rgba(69,77,175, 1)",
           "rgba(69,77,175, 1)",
           "rgba(69,77,175, 1)",
           "rgba(69,77,175, 1)",
           "rgba(69,77,175, 1)",
           "rgba(69,77,175, 1)",
           "rgba(69,77,175, 1)",
           "rgba(69,77,175, 1)",
           "rgba(69,77,175, 1)",
           "rgba(69,77,175, 1)",
           "rgba(69,77,175, 1)",
           "rgba(69,77,175, 1)",
           "rgba(69,77,175, 1)",
           "rgba(69,77,175, 1)",
           "rgba(69,77,175, 1)",
           "rgba(69,77,175, 1)",
           "rgba(69,77,175, 1)",
           "rgba(69,77,175, 1)",
           "rgba(69,77,175, 1)",
           "rgba(69,77,175, 1)",
           "rgba(69,77,175, 1)",
           "rgba(69,77,175, 1)",
           "rgba(69,77,175, 1)",
           "rgba(69,77,175, 1)",
           "rgba(69,77,175, 1)",
           "rgba(69,77,175, 1)",
           "rgba(69,77,175, 1)",
           "rgba(69,77,175, 1)",
           "rgba(69,77,175, 1)",
           "rgba(69,77,175, 1)",
           "rgba(69,77,175, 1)",
           "rgba(69,77,175, 1)",
           "rgba(69,77,175, 1)",
           "rgba(69,77,175, 1)",
           "rgba(69,77,175, 1)",
           "rgba(69,77,175, 1)",
           "rgba(69,77,175, 1)",
           "rgba(69,77,175, 1)",
           "rgba(69,77,175, 1)",
           "rgba(69,77,175, 1)",
           "rgba(69,77,175, 1)",
           "rgba(69,77,175, 1)",
           "rgba(69,77,175, 1)",
           "rgba(69,77,175, 1)",
           "rgba(69,77,175, 1)",
           "rgba(69,77,175, 1)"
          ],
          "size": 10,
          "symbol": [
           "circle",
           "circle",
           "circle",
           "circle",
           "circle",
           "circle",
           "circle",
           "circle",
           "circle",
           "circle",
           "circle",
           "circle",
           "circle",
           "circle",
           "circle",
           "circle",
           "circle",
           "circle",
           "circle",
           "circle",
           "circle",
           "circle",
           "circle",
           "circle",
           "circle",
           "circle",
           "circle",
           "circle",
           "circle",
           "circle",
           "circle",
           "circle",
           "circle",
           "circle",
           "circle",
           "circle",
           "circle",
           "circle",
           "circle",
           "circle",
           "circle",
           "circle",
           "circle",
           "circle",
           "circle",
           "circle",
           "circle",
           "circle",
           "circle",
           "circle",
           "circle",
           "circle",
           "circle",
           "circle",
           "circle",
           "circle",
           "circle"
          ]
         },
         "mode": "markers",
         "name": "Cluster 0 (57 points)",
         "text": [
          "fish gelatin",
          "fish gelatin",
          "fish gelatin",
          "fish gelatin",
          "fish gelatin",
          "fish gelatin",
          "fish gelatin",
          "fish gelatin",
          "fish gelatin",
          "fish gelatin",
          "fish gelatin",
          "fish gelatin",
          "fish gelatin",
          "fish gelatin",
          "fish gelatin",
          "fish gelatin",
          "fish gelatin",
          "fish gelatin",
          "fish gelatin",
          "fish gelatin",
          "fish gelatin",
          "fish gelatin",
          "fish gelatin",
          "fish gelatin",
          "fish gelatin",
          "fish gelatin",
          "fish gelatin",
          "fish gelatin",
          "fish gelatin",
          "fish gelatin",
          "fish gelatin",
          "fish gelatin",
          "fish gelatin",
          "fish gelatin",
          "fish gelatin",
          "fish gelatin",
          "fish gelatin",
          "fish gelatin",
          "fish gelatin",
          "fish gelatin",
          "fish gelatin",
          "fish gelatin",
          "fish gelatin",
          "fish gelatin",
          "fish gelatin",
          "fish gelatin",
          "fish gelatin",
          "fish gelatin",
          "fish gelatin",
          "fish gelatin",
          "fish gelatin",
          "fish gelatin",
          "fish gelatin",
          "fish gelatin",
          "fish gelatin",
          "fish gelatin",
          "fish gelatin"
         ],
         "type": "scatter",
         "x": [
          3.436384948911067,
          2.8507153737712736,
          2.9914483775628056,
          3.0789509220490308,
          3.1353549532470857,
          3.0356520400548592,
          3.0321354663320217,
          3.059501650548388,
          3.0821094412938606,
          2.8507153737712736,
          2.9914483775628056,
          3.0789509220490308,
          3.1353549532470857,
          3.0356520400548592,
          3.0321354663320217,
          3.059501650548388,
          3.0821094412938606,
          2.8507153737712736,
          2.9914483775628056,
          3.0789509220490308,
          3.1353549532470857,
          3.0356520400548592,
          3.0321354663320217,
          3.059501650548388,
          3.0821094412938606,
          2.8507153737712736,
          2.9914483775628056,
          3.0789509220490308,
          3.1353549532470857,
          3.0356520400548592,
          3.0321354663320217,
          3.059501650548388,
          3.0821094412938606,
          2.8507153737712736,
          2.9914483775628056,
          3.0789509220490308,
          3.1353549532470857,
          3.0356520400548592,
          3.0321354663320217,
          3.059501650548388,
          3.0821094412938606,
          2.8507153737712736,
          2.9914483775628056,
          3.0789509220490308,
          3.1353549532470857,
          3.0356520400548592,
          3.0321354663320217,
          3.059501650548388,
          3.0821094412938606,
          2.8507153737712736,
          2.9914483775628056,
          3.0789509220490308,
          3.1353549532470857,
          3.0356520400548592,
          3.0321354663320217,
          3.059501650548388,
          3.0821094412938606
         ],
         "y": [
          0.6050894618815801,
          0.05842602445700704,
          0.05842602445700704,
          0.05842602445700704,
          0.05842602445700704,
          0.05842602445700704,
          0.05842602445700704,
          0.05842602445700704,
          0.05842602445700704,
          0.2931414834509317,
          0.2931414834509317,
          0.2931414834509317,
          0.2931414834509317,
          0.2931414834509317,
          0.2931414834509317,
          0.2931414834509317,
          0.2931414834509317,
          0.2337573629655109,
          0.2337573629655109,
          0.2337573629655109,
          0.2337573629655109,
          0.2337573629655109,
          0.2337573629655109,
          0.2337573629655109,
          0.2337573629655109,
          0.3308194664958377,
          0.3308194664958377,
          0.3308194664958377,
          0.3308194664958377,
          0.3308194664958377,
          0.3308194664958377,
          0.3308194664958377,
          0.3308194664958377,
          0.2785249647370182,
          0.2785249647370182,
          0.2785249647370182,
          0.2785249647370182,
          0.2785249647370182,
          0.2785249647370182,
          0.2785249647370182,
          0.2785249647370182,
          0.3944516808262167,
          0.3944516808262167,
          0.3944516808262167,
          0.3944516808262167,
          0.3944516808262167,
          0.3944516808262167,
          0.3944516808262167,
          0.3944516808262167,
          0.3165993020938614,
          0.3165993020938614,
          0.3165993020938614,
          0.3165993020938614,
          0.3165993020938614,
          0.3165993020938614,
          0.3165993020938614,
          0.3165993020938614
         ]
        },
        {
         "customdata": [
          [
           "blend",
           "CMC",
           "sustainable"
          ],
          [
           "blend",
           "CMC",
           "sustainable"
          ],
          [
           "blend",
           "CMC",
           "sustainable"
          ],
          [
           "blend",
           "CMC",
           "sustainable"
          ],
          [
           "blend",
           "CMC",
           "sustainable"
          ],
          [
           "blend",
           "CMC",
           "sustainable"
          ],
          [
           "blend",
           "CMC",
           "sustainable"
          ],
          [
           "blend",
           "CMC",
           "sustainable"
          ],
          [
           "blend",
           "CMC",
           "sustainable"
          ],
          [
           "blend",
           "CMC",
           "sustainable"
          ],
          [
           "blend",
           "CMC",
           "sustainable"
          ],
          [
           "blend",
           "CMC",
           "sustainable"
          ],
          [
           "blend",
           "CMC",
           "sustainable"
          ],
          [
           "blend",
           "CMC",
           "sustainable"
          ],
          [
           "blend",
           "CMC",
           "sustainable"
          ],
          [
           "blend",
           "CMC",
           "sustainable"
          ],
          [
           "blend",
           "CMC",
           "sustainable"
          ],
          [
           "blend",
           "CMC",
           "sustainable"
          ],
          [
           "blend",
           "CMC",
           "sustainable"
          ],
          [
           "blend",
           "CMC",
           "sustainable"
          ],
          [
           "blend",
           "CMC",
           "sustainable"
          ],
          [
           "blend",
           "CMC",
           "sustainable"
          ],
          [
           "blend",
           "CMC",
           "sustainable"
          ],
          [
           "blend",
           "CMC",
           "sustainable"
          ],
          [
           "blend",
           "CMC",
           "sustainable"
          ],
          [
           "blend",
           "CMC",
           "sustainable"
          ],
          [
           "blend",
           "CMC",
           "sustainable"
          ],
          [
           "blend",
           "CMC",
           "sustainable"
          ],
          [
           "blend",
           "CMC",
           "sustainable"
          ],
          [
           "blend",
           "CMC",
           "sustainable"
          ],
          [
           "blend",
           "CMC",
           "sustainable"
          ],
          [
           "blend",
           "CMC",
           "sustainable"
          ],
          [
           "blend",
           "CMC",
           "sustainable"
          ],
          [
           "blend",
           "CMC",
           "sustainable"
          ],
          [
           "blend",
           "CMC",
           "sustainable"
          ],
          [
           "blend",
           "CMC",
           "sustainable"
          ],
          [
           "blend",
           "CMC",
           "sustainable"
          ],
          [
           "blend",
           "CMC",
           "sustainable"
          ],
          [
           "blend",
           "CMC",
           "sustainable"
          ],
          [
           "blend",
           "CMC",
           "sustainable"
          ],
          [
           "blend",
           "CMC",
           "sustainable"
          ],
          [
           "blend",
           "CMC",
           "sustainable"
          ],
          [
           "blend",
           "CMC",
           "sustainable"
          ],
          [
           "blend",
           "CMC",
           "sustainable"
          ],
          [
           "blend",
           "CMC",
           "sustainable"
          ],
          [
           "blend",
           "CMC",
           "sustainable"
          ],
          [
           "blend",
           "CMC",
           "sustainable"
          ],
          [
           "blend",
           "CMC",
           "sustainable"
          ],
          [
           "blend",
           "CMC",
           "sustainable"
          ],
          [
           "blend",
           "CMC",
           "sustainable"
          ],
          [
           "blend",
           "CMC",
           "sustainable"
          ],
          [
           "blend",
           "CMC",
           "sustainable"
          ],
          [
           "blend",
           "CMC",
           "sustainable"
          ],
          [
           "blend",
           "CMC",
           "sustainable"
          ],
          [
           "blend",
           "CMC",
           "sustainable"
          ],
          [
           "blend",
           "CMC",
           "sustainable"
          ],
          [
           "blend",
           "CMC",
           "sustainable"
          ],
          [
           "blend",
           "CMC",
           "sustainable"
          ],
          [
           "blend",
           "CMC",
           "sustainable"
          ],
          [
           "blend",
           "CMC",
           "sustainable"
          ],
          [
           "blend",
           "CMC",
           "sustainable"
          ],
          [
           "blend",
           "CMC",
           "sustainable"
          ],
          [
           "blend",
           "CMC",
           "sustainable"
          ],
          [
           "blend",
           "CMC",
           "sustainable"
          ],
          [
           "blend",
           "CMC",
           "sustainable"
          ],
          [
           "blend",
           "CMC",
           "sustainable"
          ],
          [
           "blend",
           "CMC",
           "sustainable"
          ],
          [
           "blend",
           "CMC",
           "sustainable"
          ],
          [
           "blend",
           "CMC",
           "sustainable"
          ],
          [
           "blend",
           "CMC",
           "sustainable"
          ],
          [
           "blend",
           "CMC",
           "sustainable"
          ],
          [
           "blend",
           "CMC",
           "sustainable"
          ],
          [
           "blend",
           "CMC",
           "sustainable"
          ],
          [
           "blend",
           "CMC",
           "sustainable"
          ],
          [
           "blend",
           "CMC",
           "sustainable"
          ],
          [
           "blend",
           "CMC",
           "sustainable"
          ],
          [
           "blend",
           "CMC",
           "sustainable"
          ],
          [
           "blend",
           "CMC",
           "sustainable"
          ],
          [
           "blend",
           "CMC",
           "sustainable"
          ],
          [
           "blend",
           "CMC",
           "sustainable"
          ],
          [
           "blend",
           "CMC",
           "sustainable"
          ],
          [
           "blend",
           "CMC",
           "sustainable"
          ],
          [
           "blend",
           "CMC",
           "sustainable"
          ],
          [
           "blend",
           "CMC",
           "sustainable"
          ],
          [
           "blend",
           "CMC",
           "sustainable"
          ],
          [
           "blend",
           "CMC",
           "sustainable"
          ],
          [
           "blend",
           "CMC",
           "sustainable"
          ],
          [
           "blend",
           "CMC",
           "sustainable"
          ],
          [
           "blend",
           "CMC",
           "sustainable"
          ],
          [
           "blend",
           "CMC",
           "sustainable"
          ],
          [
           "blend",
           "CMC",
           "sustainable"
          ],
          [
           "blend",
           "CMC",
           "sustainable"
          ],
          [
           "blend",
           "CMC",
           "sustainable"
          ],
          [
           "blend",
           "CMC",
           "sustainable"
          ],
          [
           "blend",
           "CMC",
           "sustainable"
          ],
          [
           "blend",
           "CMC",
           "sustainable"
          ],
          [
           "blend",
           "CMC",
           "sustainable"
          ],
          [
           "blend",
           "CMC",
           "sustainable"
          ],
          [
           "blend",
           "CMC",
           "sustainable"
          ],
          [
           "blend",
           "CMC",
           "sustainable"
          ],
          [
           "blend",
           "CMC",
           "sustainable"
          ],
          [
           "blend",
           "CMC",
           "sustainable"
          ],
          [
           "blend",
           "CMC",
           "sustainable"
          ],
          [
           "blend",
           "CMC",
           "sustainable"
          ],
          [
           "blend",
           "CMC",
           "sustainable"
          ],
          [
           "blend",
           "CMC",
           "sustainable"
          ],
          [
           "blend",
           "CMC",
           "sustainable"
          ],
          [
           "blend",
           "CMC",
           "sustainable"
          ],
          [
           "blend",
           "CMC",
           "sustainable"
          ],
          [
           "blend",
           "CMC",
           "sustainable"
          ],
          [
           "blend",
           "CMC",
           "sustainable"
          ],
          [
           "blend",
           "CMC",
           "sustainable"
          ],
          [
           "blend",
           "CMC",
           "sustainable"
          ],
          [
           "blend",
           "CMC",
           "sustainable"
          ],
          [
           "blend",
           "CMC",
           "sustainable"
          ],
          [
           "blend",
           "CMC",
           "sustainable"
          ],
          [
           "blend",
           "CMC",
           "sustainable"
          ],
          [
           "blend",
           "CMC",
           "sustainable"
          ],
          [
           "blend",
           "CMC",
           "sustainable"
          ],
          [
           "blend",
           "CMC",
           "sustainable"
          ],
          [
           "blend",
           "CMC",
           "sustainable"
          ],
          [
           "blend",
           "CMC",
           "sustainable"
          ],
          [
           "blend",
           "CMC",
           "sustainable"
          ],
          [
           "blend",
           "CMC",
           "sustainable"
          ],
          [
           "blend",
           "CMC",
           "sustainable"
          ],
          [
           "blend",
           "CMC",
           "sustainable"
          ],
          [
           "blend",
           "CMC",
           "sustainable"
          ],
          [
           "blend",
           "CMC",
           "sustainable"
          ],
          [
           "blend",
           "CMC",
           "sustainable"
          ],
          [
           "blend",
           "CMC",
           "sustainable"
          ],
          [
           "blend",
           "CMC",
           "sustainable"
          ],
          [
           "blend",
           "CMC",
           "sustainable"
          ],
          [
           "blend",
           "CMC",
           "sustainable"
          ],
          [
           "blend",
           "CMC",
           "sustainable"
          ],
          [
           "blend",
           "CMC",
           "sustainable"
          ],
          [
           "blend",
           "CMC",
           "sustainable"
          ],
          [
           "blend",
           "CMC",
           "sustainable"
          ],
          [
           "blend",
           "CMC",
           "sustainable"
          ],
          [
           "blend",
           "CMC",
           "sustainable"
          ],
          [
           "blend",
           "CMC",
           "sustainable"
          ],
          [
           "blend",
           "CMC",
           "sustainable"
          ],
          [
           "blend",
           "CMC",
           "sustainable"
          ],
          [
           "blend",
           "CMC",
           "sustainable"
          ],
          [
           "blend",
           "CMC",
           "sustainable"
          ],
          [
           "blend",
           "gelatin",
           "sustainable"
          ],
          [
           "blend",
           "gelatin",
           "sustainable"
          ],
          [
           "blend",
           "gelatin",
           "sustainable"
          ],
          [
           "blend",
           "gelatin",
           "sustainable"
          ],
          [
           "blend",
           "gelatin",
           "sustainable"
          ],
          [
           "blend",
           "gelatin",
           "sustainable"
          ],
          [
           "blend",
           "gelatin",
           "sustainable"
          ],
          [
           "blend",
           "gelatin",
           "sustainable"
          ],
          [
           "blend",
           "gelatin",
           "sustainable"
          ],
          [
           "blend",
           "gelatin",
           "sustainable"
          ],
          [
           "blend",
           "gelatin",
           "sustainable"
          ],
          [
           "blend",
           "gelatin",
           "sustainable"
          ],
          [
           "blend",
           "gelatin",
           "sustainable"
          ],
          [
           "blend",
           "gelatin",
           "sustainable"
          ],
          [
           "blend",
           "gelatin",
           "sustainable"
          ],
          [
           "blend",
           "gelatin",
           "sustainable"
          ],
          [
           "blend",
           "gelatin",
           "sustainable"
          ],
          [
           "blend",
           "gelatin",
           "sustainable"
          ],
          [
           "blend",
           "gelatin",
           "sustainable"
          ],
          [
           "blend",
           "gelatin",
           "sustainable"
          ],
          [
           "blend",
           "gelatin",
           "sustainable"
          ],
          [
           "blend",
           "gelatin",
           "sustainable"
          ],
          [
           "blend",
           "gelatin",
           "sustainable"
          ],
          [
           "blend",
           "gelatin",
           "sustainable"
          ],
          [
           "blend",
           "gelatin",
           "sustainable"
          ],
          [
           "blend",
           "gelatin",
           "sustainable"
          ],
          [
           "blend",
           "gelatin",
           "sustainable"
          ],
          [
           "blend",
           "gelatin",
           "sustainable"
          ],
          [
           "blend",
           "gelatin",
           "sustainable"
          ],
          [
           "blend",
           "gelatin",
           "sustainable"
          ],
          [
           "blend",
           "gelatin",
           "sustainable"
          ],
          [
           "blend",
           "gelatin",
           "sustainable"
          ],
          [
           "blend",
           "gelatin",
           "sustainable"
          ],
          [
           "blend",
           "gelatin",
           "sustainable"
          ],
          [
           "blend",
           "gelatin",
           "sustainable"
          ],
          [
           "blend",
           "gelatin",
           "sustainable"
          ]
         ],
         "hovertemplate": "Base Material: %{text}<br>Type: %{customdata[0]}<br>Secondary Material: %{customdata[1]}<br>Material:%{customdata[2]}<br>log(WVTR): %{x}<br>log(OTR): %{y}",
         "marker": {
          "color": [
           "rgba(167,59,41, 1)",
           "rgba(167,59,41, 1)",
           "rgba(167,59,41, 1)",
           "rgba(167,59,41, 1)",
           "rgba(167,59,41, 1)",
           "rgba(167,59,41, 1)",
           "rgba(167,59,41, 1)",
           "rgba(167,59,41, 1)",
           "rgba(167,59,41, 1)",
           "rgba(167,59,41, 1)",
           "rgba(167,59,41, 1)",
           "rgba(167,59,41, 1)",
           "rgba(167,59,41, 1)",
           "rgba(167,59,41, 1)",
           "rgba(167,59,41, 1)",
           "rgba(167,59,41, 1)",
           "rgba(167,59,41, 1)",
           "rgba(167,59,41, 1)",
           "rgba(167,59,41, 1)",
           "rgba(167,59,41, 1)",
           "rgba(167,59,41, 1)",
           "rgba(167,59,41, 1)",
           "rgba(167,59,41, 1)",
           "rgba(167,59,41, 1)",
           "rgba(167,59,41, 1)",
           "rgba(167,59,41, 1)",
           "rgba(167,59,41, 1)",
           "rgba(167,59,41, 1)",
           "rgba(167,59,41, 1)",
           "rgba(167,59,41, 1)",
           "rgba(167,59,41, 1)",
           "rgba(167,59,41, 1)",
           "rgba(167,59,41, 1)",
           "rgba(167,59,41, 1)",
           "rgba(167,59,41, 1)",
           "rgba(167,59,41, 1)",
           "rgba(167,59,41, 1)",
           "rgba(167,59,41, 1)",
           "rgba(167,59,41, 1)",
           "rgba(167,59,41, 1)",
           "rgba(167,59,41, 1)",
           "rgba(167,59,41, 1)",
           "rgba(167,59,41, 1)",
           "rgba(167,59,41, 1)",
           "rgba(167,59,41, 1)",
           "rgba(167,59,41, 1)",
           "rgba(167,59,41, 1)",
           "rgba(167,59,41, 1)",
           "rgba(167,59,41, 1)",
           "rgba(167,59,41, 1)",
           "rgba(167,59,41, 1)",
           "rgba(167,59,41, 1)",
           "rgba(167,59,41, 1)",
           "rgba(167,59,41, 1)",
           "rgba(167,59,41, 1)",
           "rgba(167,59,41, 1)",
           "rgba(167,59,41, 1)",
           "rgba(167,59,41, 1)",
           "rgba(167,59,41, 1)",
           "rgba(167,59,41, 1)",
           "rgba(167,59,41, 1)",
           "rgba(167,59,41, 1)",
           "rgba(167,59,41, 1)",
           "rgba(167,59,41, 1)",
           "rgba(167,59,41, 1)",
           "rgba(167,59,41, 1)",
           "rgba(167,59,41, 1)",
           "rgba(167,59,41, 1)",
           "rgba(167,59,41, 1)",
           "rgba(167,59,41, 1)",
           "rgba(167,59,41, 1)",
           "rgba(167,59,41, 1)",
           "rgba(167,59,41, 1)",
           "rgba(167,59,41, 1)",
           "rgba(167,59,41, 1)",
           "rgba(167,59,41, 1)",
           "rgba(167,59,41, 1)",
           "rgba(167,59,41, 1)",
           "rgba(167,59,41, 1)",
           "rgba(167,59,41, 1)",
           "rgba(167,59,41, 1)",
           "rgba(167,59,41, 1)",
           "rgba(167,59,41, 1)",
           "rgba(167,59,41, 1)",
           "rgba(167,59,41, 1)",
           "rgba(167,59,41, 1)",
           "rgba(167,59,41, 1)",
           "rgba(167,59,41, 1)",
           "rgba(167,59,41, 1)",
           "rgba(167,59,41, 1)",
           "rgba(167,59,41, 1)",
           "rgba(167,59,41, 1)",
           "rgba(167,59,41, 1)",
           "rgba(167,59,41, 1)",
           "rgba(167,59,41, 1)",
           "rgba(167,59,41, 1)",
           "rgba(167,59,41, 1)",
           "rgba(167,59,41, 1)",
           "rgba(167,59,41, 1)",
           "rgba(167,59,41, 1)",
           "rgba(167,59,41, 1)",
           "rgba(167,59,41, 1)",
           "rgba(167,59,41, 1)",
           "rgba(167,59,41, 1)",
           "rgba(167,59,41, 1)",
           "rgba(167,59,41, 1)",
           "rgba(167,59,41, 1)",
           "rgba(167,59,41, 1)",
           "rgba(167,59,41, 1)",
           "rgba(167,59,41, 1)",
           "rgba(167,59,41, 1)",
           "rgba(167,59,41, 1)",
           "rgba(167,59,41, 1)",
           "rgba(167,59,41, 1)",
           "rgba(167,59,41, 1)",
           "rgba(167,59,41, 1)",
           "rgba(167,59,41, 1)",
           "rgba(167,59,41, 1)",
           "rgba(167,59,41, 1)",
           "rgba(167,59,41, 1)",
           "rgba(167,59,41, 1)",
           "rgba(167,59,41, 1)",
           "rgba(167,59,41, 1)",
           "rgba(167,59,41, 1)",
           "rgba(167,59,41, 1)",
           "rgba(167,59,41, 1)",
           "rgba(167,59,41, 1)",
           "rgba(167,59,41, 1)",
           "rgba(167,59,41, 1)",
           "rgba(167,59,41, 1)",
           "rgba(167,59,41, 1)",
           "rgba(167,59,41, 1)",
           "rgba(167,59,41, 1)",
           "rgba(167,59,41, 1)",
           "rgba(167,59,41, 1)",
           "rgba(167,59,41, 1)",
           "rgba(167,59,41, 1)",
           "rgba(167,59,41, 1)",
           "rgba(167,59,41, 1)",
           "rgba(167,59,41, 1)",
           "rgba(167,59,41, 1)",
           "rgba(167,59,41, 1)",
           "rgba(167,59,41, 1)",
           "rgba(167,59,41, 1)",
           "rgba(167,59,41, 1)",
           "rgba(167,59,41, 1)",
           "rgba(167,59,41, 1)",
           "rgba(167,59,41, 1)",
           "rgba(167,59,41, 1)",
           "rgba(167,59,41, 1)",
           "rgba(167,59,41, 1)",
           "rgba(167,59,41, 1)",
           "rgba(167,59,41, 1)",
           "rgba(167,59,41, 1)",
           "rgba(167,59,41, 1)",
           "rgba(167,59,41, 1)",
           "rgba(167,59,41, 1)",
           "rgba(167,59,41, 1)",
           "rgba(167,59,41, 1)",
           "rgba(167,59,41, 1)",
           "rgba(167,59,41, 1)",
           "rgba(167,59,41, 1)",
           "rgba(167,59,41, 1)",
           "rgba(167,59,41, 1)",
           "rgba(167,59,41, 1)",
           "rgba(167,59,41, 1)",
           "rgba(167,59,41, 1)",
           "rgba(167,59,41, 1)",
           "rgba(167,59,41, 1)",
           "rgba(167,59,41, 1)",
           "rgba(167,59,41, 1)",
           "rgba(167,59,41, 1)",
           "rgba(167,59,41, 1)",
           "rgba(167,59,41, 1)",
           "rgba(167,59,41, 1)",
           "rgba(167,59,41, 1)",
           "rgba(167,59,41, 1)",
           "rgba(167,59,41, 1)",
           "rgba(167,59,41, 1)",
           "rgba(167,59,41, 1)"
          ],
          "size": 10,
          "symbol": [
           "circle",
           "circle",
           "circle",
           "circle",
           "circle",
           "circle",
           "circle",
           "circle",
           "circle",
           "circle",
           "circle",
           "circle",
           "circle",
           "circle",
           "circle",
           "circle",
           "circle",
           "circle",
           "circle",
           "circle",
           "circle",
           "circle",
           "circle",
           "circle",
           "circle",
           "circle",
           "circle",
           "circle",
           "circle",
           "circle",
           "circle",
           "circle",
           "circle",
           "circle",
           "circle",
           "circle",
           "circle",
           "circle",
           "circle",
           "circle",
           "circle",
           "circle",
           "circle",
           "circle",
           "circle",
           "circle",
           "circle",
           "circle",
           "circle",
           "circle",
           "circle",
           "circle",
           "circle",
           "circle",
           "circle",
           "circle",
           "circle",
           "circle",
           "circle",
           "circle",
           "circle",
           "circle",
           "circle",
           "circle",
           "circle",
           "circle",
           "circle",
           "circle",
           "circle",
           "circle",
           "circle",
           "circle",
           "circle",
           "circle",
           "circle",
           "circle",
           "circle",
           "circle",
           "circle",
           "circle",
           "circle",
           "circle",
           "circle",
           "circle",
           "circle",
           "circle",
           "circle",
           "circle",
           "circle",
           "circle",
           "circle",
           "circle",
           "circle",
           "circle",
           "circle",
           "circle",
           "circle",
           "circle",
           "circle",
           "circle",
           "circle",
           "circle",
           "circle",
           "circle",
           "circle",
           "circle",
           "circle",
           "circle",
           "circle",
           "circle",
           "circle",
           "circle",
           "circle",
           "circle",
           "circle",
           "circle",
           "circle",
           "circle",
           "circle",
           "circle",
           "circle",
           "circle",
           "circle",
           "circle",
           "circle",
           "circle",
           "circle",
           "circle",
           "circle",
           "circle",
           "circle",
           "circle",
           "circle",
           "circle",
           "circle",
           "circle",
           "circle",
           "circle",
           "circle",
           "circle",
           "circle",
           "circle",
           "circle",
           "circle",
           "circle",
           "circle",
           "circle",
           "circle",
           "circle",
           "circle",
           "circle",
           "circle",
           "circle",
           "circle",
           "circle",
           "circle",
           "circle",
           "circle",
           "circle",
           "circle",
           "circle",
           "circle",
           "circle",
           "circle",
           "circle",
           "circle",
           "circle",
           "circle",
           "circle",
           "circle",
           "circle",
           "circle",
           "circle",
           "circle",
           "circle",
           "circle",
           "circle",
           "circle",
           "circle",
           "circle"
          ]
         },
         "mode": "markers",
         "name": "Cluster 1 (180 points)",
         "text": [
          "carrot puree",
          "carrot puree",
          "carrot puree",
          "carrot puree",
          "carrot puree",
          "carrot puree",
          "carrot puree",
          "carrot puree",
          "carrot puree",
          "carrot puree",
          "carrot puree",
          "carrot puree",
          "carrot puree",
          "carrot puree",
          "carrot puree",
          "carrot puree",
          "carrot puree",
          "carrot puree",
          "carrot puree",
          "carrot puree",
          "carrot puree",
          "carrot puree",
          "carrot puree",
          "carrot puree",
          "carrot puree",
          "carrot puree",
          "carrot puree",
          "carrot puree",
          "carrot puree",
          "carrot puree",
          "carrot puree",
          "carrot puree",
          "carrot puree",
          "carrot puree",
          "carrot puree",
          "carrot puree",
          "carrot puree",
          "carrot puree",
          "carrot puree",
          "carrot puree",
          "carrot puree",
          "carrot puree",
          "carrot puree",
          "carrot puree",
          "carrot puree",
          "carrot puree",
          "carrot puree",
          "carrot puree",
          "carrot puree",
          "carrot puree",
          "carrot puree",
          "carrot puree",
          "carrot puree",
          "carrot puree",
          "carrot puree",
          "carrot puree",
          "carrot puree",
          "carrot puree",
          "carrot puree",
          "carrot puree",
          "carrot puree",
          "carrot puree",
          "carrot puree",
          "carrot puree",
          "carrot puree",
          "carrot puree",
          "carrot puree",
          "carrot puree",
          "carrot puree",
          "carrot puree",
          "carrot puree",
          "carrot puree",
          "carrot puree",
          "carrot puree",
          "carrot puree",
          "carrot puree",
          "carrot puree",
          "carrot puree",
          "carrot puree",
          "carrot puree",
          "carrot puree",
          "carrot puree",
          "carrot puree",
          "carrot puree",
          "carrot puree",
          "carrot puree",
          "carrot puree",
          "carrot puree",
          "carrot puree",
          "carrot puree",
          "carrot puree",
          "carrot puree",
          "carrot puree",
          "carrot puree",
          "carrot puree",
          "carrot puree",
          "carrot puree",
          "carrot puree",
          "carrot puree",
          "carrot puree",
          "carrot puree",
          "carrot puree",
          "carrot puree",
          "carrot puree",
          "carrot puree",
          "carrot puree",
          "carrot puree",
          "carrot puree",
          "carrot puree",
          "carrot puree",
          "carrot puree",
          "carrot puree",
          "carrot puree",
          "carrot puree",
          "carrot puree",
          "carrot puree",
          "carrot puree",
          "carrot puree",
          "carrot puree",
          "carrot puree",
          "carrot puree",
          "carrot puree",
          "carrot puree",
          "carrot puree",
          "carrot puree",
          "carrot puree",
          "carrot puree",
          "carrot puree",
          "carrot puree",
          "carrot puree",
          "carrot puree",
          "carrot puree",
          "carrot puree",
          "carrot puree",
          "carrot puree",
          "carrot puree",
          "carrot puree",
          "carrot puree",
          "carrot puree",
          "carrot puree",
          "carrot puree",
          "carrot puree",
          "carrot puree",
          "carrot puree",
          "carrot puree",
          "carrot puree",
          "carrot puree",
          "carrot puree",
          "carrot puree",
          "carrot puree",
          "carrot puree",
          "carrot puree",
          "carrot puree",
          "carrot puree",
          "carrot puree",
          "carrot puree",
          "carrot puree",
          "carrot puree",
          "carrot puree",
          "carrot puree",
          "carrot puree",
          "carrot puree",
          "carrot puree",
          "carrot puree",
          "carrot puree",
          "carrot puree",
          "carrot puree",
          "carrot puree",
          "carrot puree",
          "carrot puree",
          "carrot puree",
          "carrot puree",
          "carrot puree",
          "carrot puree",
          "carrot puree",
          "carrot puree",
          "carrot puree",
          "carrot puree",
          "carrot puree",
          "carrot puree"
         ],
         "type": "scatter",
         "x": [
          5.763809382804633,
          5.631183817530042,
          5.396159946950353,
          5.3054661593763175,
          5.268975734457945,
          5.187989710859901,
          5.45704364989191,
          5.440954325640528,
          5.371821157115925,
          5.329976014501487,
          5.301306580951887,
          5.280886020471324,
          5.763809382804633,
          5.631183817530042,
          5.396159946950353,
          5.3054661593763175,
          5.268975734457945,
          5.187989710859901,
          5.45704364989191,
          5.440954325640528,
          5.371821157115925,
          5.329976014501487,
          5.301306580951887,
          5.280886020471324,
          5.763809382804633,
          5.631183817530042,
          5.396159946950353,
          5.3054661593763175,
          5.268975734457945,
          5.187989710859901,
          5.45704364989191,
          5.440954325640528,
          5.371821157115925,
          5.329976014501487,
          5.301306580951887,
          5.280886020471324,
          5.763809382804633,
          5.631183817530042,
          5.396159946950353,
          5.3054661593763175,
          5.268975734457945,
          5.187989710859901,
          5.45704364989191,
          5.440954325640528,
          5.371821157115925,
          5.329976014501487,
          5.301306580951887,
          5.280886020471324,
          5.763809382804633,
          5.631183817530042,
          5.396159946950353,
          5.3054661593763175,
          5.268975734457945,
          5.187989710859901,
          5.45704364989191,
          5.440954325640528,
          5.371821157115925,
          5.329976014501487,
          5.301306580951887,
          5.280886020471324,
          5.763809382804633,
          5.631183817530042,
          5.396159946950353,
          5.3054661593763175,
          5.268975734457945,
          5.187989710859901,
          5.45704364989191,
          5.440954325640528,
          5.371821157115925,
          5.329976014501487,
          5.301306580951887,
          5.280886020471324,
          5.763809382804633,
          5.631183817530042,
          5.396159946950353,
          5.3054661593763175,
          5.268975734457945,
          5.187989710859901,
          5.45704364989191,
          5.440954325640528,
          5.371821157115925,
          5.329976014501487,
          5.301306580951887,
          5.280886020471324,
          5.763809382804633,
          5.631183817530042,
          5.396159946950353,
          5.3054661593763175,
          5.268975734457945,
          5.187989710859901,
          5.45704364989191,
          5.440954325640528,
          5.371821157115925,
          5.329976014501487,
          5.301306580951887,
          5.280886020471324,
          5.763809382804633,
          5.631183817530042,
          5.396159946950353,
          5.3054661593763175,
          5.268975734457945,
          5.187989710859901,
          5.45704364989191,
          5.440954325640528,
          5.371821157115925,
          5.329976014501487,
          5.301306580951887,
          5.280886020471324,
          5.763809382804633,
          5.631183817530042,
          5.396159946950353,
          5.3054661593763175,
          5.268975734457945,
          5.187989710859901,
          5.45704364989191,
          5.440954325640528,
          5.371821157115925,
          5.329976014501487,
          5.301306580951887,
          5.280886020471324,
          5.763809382804633,
          5.631183817530042,
          5.396159946950353,
          5.3054661593763175,
          5.268975734457945,
          5.187989710859901,
          5.45704364989191,
          5.440954325640528,
          5.371821157115925,
          5.329976014501487,
          5.301306580951887,
          5.280886020471324,
          5.763809382804633,
          5.631183817530042,
          5.396159946950353,
          5.3054661593763175,
          5.268975734457945,
          5.187989710859901,
          5.45704364989191,
          5.440954325640528,
          5.371821157115925,
          5.329976014501487,
          5.301306580951887,
          5.280886020471324,
          5.400414790462887,
          5.324967620653954,
          5.275879111407325,
          5.375359872473109,
          5.482434654734684,
          5.52520228399743,
          5.400414790462887,
          5.324967620653954,
          5.275879111407325,
          5.375359872473109,
          5.482434654734684,
          5.52520228399743,
          5.400414790462887,
          5.324967620653954,
          5.275879111407325,
          5.375359872473109,
          5.482434654734684,
          5.52520228399743,
          5.400414790462887,
          5.324967620653954,
          5.275879111407325,
          5.375359872473109,
          5.482434654734684,
          5.52520228399743,
          5.400414790462887,
          5.324967620653954,
          5.275879111407325,
          5.375359872473109,
          5.482434654734684,
          5.52520228399743,
          5.400414790462887,
          5.324967620653954,
          5.275879111407325,
          5.375359872473109,
          5.482434654734684,
          5.52520228399743
         ],
         "y": [
          1.2490841035856326,
          1.2490841035856326,
          1.2490841035856326,
          1.2490841035856326,
          1.2490841035856326,
          1.2490841035856326,
          1.2490841035856326,
          1.2490841035856326,
          1.2490841035856326,
          1.2490841035856326,
          1.2490841035856326,
          1.2490841035856326,
          1.1994287810319684,
          1.1994287810319684,
          1.1994287810319684,
          1.1994287810319684,
          1.1994287810319684,
          1.1994287810319684,
          1.1994287810319684,
          1.1994287810319684,
          1.1994287810319684,
          1.1994287810319684,
          1.1994287810319684,
          1.1994287810319684,
          1.1142491643171806,
          1.1142491643171806,
          1.1142491643171806,
          1.1142491643171806,
          1.1142491643171806,
          1.1142491643171806,
          1.1142491643171806,
          1.1142491643171806,
          1.1142491643171806,
          1.1142491643171806,
          1.1142491643171806,
          1.1142491643171806,
          1.0805330530589055,
          1.0805330530589055,
          1.0805330530589055,
          1.0805330530589055,
          1.0805330530589055,
          1.0805330530589055,
          1.0805330530589055,
          1.0805330530589055,
          1.0805330530589055,
          1.0805330530589055,
          1.0805330530589055,
          1.0805330530589055,
          1.0585059424731682,
          1.0585059424731682,
          1.0585059424731682,
          1.0585059424731682,
          1.0585059424731682,
          1.0585059424731682,
          1.0585059424731682,
          1.0585059424731682,
          1.0585059424731682,
          1.0585059424731682,
          1.0585059424731682,
          1.0585059424731682,
          1.0415656325785816,
          1.0415656325785816,
          1.0415656325785816,
          1.0415656325785816,
          1.0415656325785816,
          1.0415656325785816,
          1.0415656325785816,
          1.0415656325785816,
          1.0415656325785816,
          1.0415656325785816,
          1.0415656325785816,
          1.0415656325785816,
          1.0754498116251183,
          1.0754498116251183,
          1.0754498116251183,
          1.0754498116251183,
          1.0754498116251183,
          1.0754498116251183,
          1.0754498116251183,
          1.0754498116251183,
          1.0754498116251183,
          1.0754498116251183,
          1.0754498116251183,
          1.0754498116251183,
          1.0799008921293791,
          1.0799008921293791,
          1.0799008921293791,
          1.0799008921293791,
          1.0799008921293791,
          1.0799008921293791,
          1.0799008921293791,
          1.0799008921293791,
          1.0799008921293791,
          1.0799008921293791,
          1.0799008921293791,
          1.0799008921293791,
          1.0808487887921163,
          1.0808487887921163,
          1.0808487887921163,
          1.0808487887921163,
          1.0808487887921163,
          1.0808487887921163,
          1.0808487887921163,
          1.0808487887921163,
          1.0808487887921163,
          1.0808487887921163,
          1.0808487887921163,
          1.0808487887921163,
          1.0877375263022864,
          1.0877375263022864,
          1.0877375263022864,
          1.0877375263022864,
          1.0877375263022864,
          1.0877375263022864,
          1.0877375263022864,
          1.0877375263022864,
          1.0877375263022864,
          1.0877375263022864,
          1.0877375263022864,
          1.0877375263022864,
          1.096045219237153,
          1.096045219237153,
          1.096045219237153,
          1.096045219237153,
          1.096045219237153,
          1.096045219237153,
          1.096045219237153,
          1.096045219237153,
          1.096045219237153,
          1.096045219237153,
          1.096045219237153,
          1.096045219237153,
          1.1044959691906455,
          1.1044959691906455,
          1.1044959691906455,
          1.1044959691906455,
          1.1044959691906455,
          1.1044959691906455,
          1.1044959691906455,
          1.1044959691906455,
          1.1044959691906455,
          1.1044959691906455,
          1.1044959691906455,
          1.1044959691906455,
          1.0824240334712552,
          1.0824240334712552,
          1.0824240334712552,
          1.0824240334712552,
          1.0824240334712552,
          1.0824240334712552,
          1.055170330976704,
          1.055170330976704,
          1.055170330976704,
          1.055170330976704,
          1.055170330976704,
          1.055170330976704,
          1.0874267610068058,
          1.0874267610068058,
          1.0874267610068058,
          1.0874267610068058,
          1.0874267610068058,
          1.0874267610068058,
          1.0686864683244282,
          1.0686864683244282,
          1.0686864683244282,
          1.0686864683244282,
          1.0686864683244282,
          1.0686864683244282,
          1.1124920702875813,
          1.1124920702875813,
          1.1124920702875813,
          1.1124920702875813,
          1.1124920702875813,
          1.1124920702875813,
          1.105689906662614,
          1.105689906662614,
          1.105689906662614,
          1.105689906662614,
          1.105689906662614,
          1.105689906662614
         ]
        },
        {
         "customdata": [
          [
           "individual",
           "None",
           "conventional"
          ],
          [
           "individual",
           "None",
           "conventional"
          ],
          [
           "individual",
           "None",
           "conventional"
          ],
          [
           "individual",
           "None",
           "sustainable"
          ],
          [
           "individual",
           "None",
           "sustainable"
          ],
          [
           "individual",
           "None",
           "sustainable"
          ]
         ],
         "hovertemplate": "Base Material: %{text}<br>Type: %{customdata[0]}<br>Secondary Material: %{customdata[1]}<br>Material:%{customdata[2]}<br>log(WVTR): %{x}<br>log(OTR): %{y}",
         "marker": {
          "color": [
           "#00CC96",
           "#00CC96",
           "#00CC96",
           "rgba(0,142,105, 1)",
           "rgba(0,142,105, 1)",
           "rgba(0,142,105, 1)"
          ],
          "size": 10,
          "symbol": [
           "triangle-up",
           "triangle-up",
           "triangle-up",
           "circle",
           "circle",
           "circle"
          ]
         },
         "mode": "markers",
         "name": "Cluster 2 (6 points)",
         "text": [
          "LDPE",
          "LDPE",
          "HDPE",
          "polylactic acid",
          "polylactic acid",
          "polylactic acid"
         ],
         "type": "scatter",
         "x": [
          2.0585689197390065,
          1.8817496075112425,
          1.2846530357148302,
          3.3431968181948495,
          3.2796896161832803,
          3.6496700758487925
         ],
         "y": [
          4.2775678801531685,
          4.2775678801531685,
          3.6361330959586846,
          4.028636128569049,
          4.028636128569049,
          4.028636128569049
         ]
        },
        {
         "customdata": [
          [
           "individual",
           "None",
           "sustainable"
          ],
          [
           "individual",
           "None",
           "sustainable"
          ],
          [
           "individual",
           "None",
           "sustainable"
          ]
         ],
         "hovertemplate": "Base Material: %{text}<br>Type: %{customdata[0]}<br>Secondary Material: %{customdata[1]}<br>Material:%{customdata[2]}<br>log(WVTR): %{x}<br>log(OTR): %{y}",
         "marker": {
          "color": [
           "rgba(119,69,175, 1)",
           "rgba(119,69,175, 1)",
           "rgba(119,69,175, 1)"
          ],
          "size": 10,
          "symbol": [
           "circle",
           "circle",
           "circle"
          ]
         },
         "mode": "markers",
         "name": "Cluster 3 (3 points)",
         "text": [
          "chitosan",
          "chitosan",
          "chitosan"
         ],
         "type": "scatter",
         "x": [
          3.728271565135178,
          2.115999178029274,
          4.126948067563351
         ],
         "y": [
          6.510866590733636,
          6.510866590733636,
          6.510866590733636
         ]
        },
        {
         "customdata": [
          [
           "individual",
           "None",
           "sustainable"
          ],
          [
           "individual",
           "None",
           "sustainable"
          ],
          [
           "individual",
           "None",
           "sustainable"
          ],
          [
           "individual",
           "None",
           "sustainable"
          ],
          [
           "individual",
           "None",
           "sustainable"
          ],
          [
           "individual",
           "None",
           "sustainable"
          ]
         ],
         "hovertemplate": "Base Material: %{text}<br>Type: %{customdata[0]}<br>Secondary Material: %{customdata[1]}<br>Material:%{customdata[2]}<br>log(WVTR): %{x}<br>log(OTR): %{y}",
         "marker": {
          "color": [
           "rgba(178,112,62, 1)",
           "rgba(178,112,62, 1)",
           "rgba(178,112,62, 1)",
           "rgba(178,112,62, 1)",
           "rgba(178,112,62, 1)",
           "rgba(178,112,62, 1)"
          ],
          "size": 10,
          "symbol": [
           "circle",
           "circle",
           "circle",
           "circle",
           "circle",
           "circle"
          ]
         },
         "mode": "markers",
         "name": "Cluster 4 (6 points)",
         "text": [
          "polylactic acid",
          "polylactic acid",
          "polylactic acid",
          "polylactic acid",
          "polylactic acid",
          "polylactic acid"
         ],
         "type": "scatter",
         "x": [
          3.3431968181948495,
          3.2796896161832803,
          3.6496700758487925,
          3.3431968181948495,
          3.2796896161832803,
          3.6496700758487925
         ],
         "y": [
          2.852053724543536,
          2.852053724543536,
          2.852053724543536,
          2.2336005375338255,
          2.2336005375338255,
          2.2336005375338255
         ]
        },
        {
         "customdata": [
          [
           "individual",
           "None",
           "conventional"
          ],
          [
           "individual",
           "None",
           "conventional"
          ]
         ],
         "hovertemplate": "Base Material: %{text}<br>Type: %{customdata[0]}<br>Secondary Material: %{customdata[1]}<br>Material:%{customdata[2]}<br>log(WVTR): %{x}<br>log(OTR): %{y}",
         "marker": {
          "color": [
           "#19D3F3",
           "#19D3F3"
          ],
          "size": 10,
          "symbol": [
           "triangle-up",
           "triangle-up"
          ]
         },
         "mode": "markers",
         "name": "Cluster 5 (2 points)",
         "text": [
          "polypropylene",
          "polypropylene"
         ],
         "type": "scatter",
         "x": [
          1.7551437115354795,
          1.7551437115354795
         ],
         "y": [
          8.704683837256171,
          9.005713832920152
         ]
        }
       ],
       "layout": {
        "shapes": [
         {
          "fillcolor": "rgba(99, 110, 250, 0.1)",
          "line": {
           "color": "#636EFA",
           "width": 3
          },
          "type": "rect",
          "x0": 2.8507153737712736,
          "x1": 3.436384948911067,
          "y0": 0.05842602445700704,
          "y1": 0.6050894618815801
         },
         {
          "fillcolor": "rgba(239, 85, 59, 0.1)",
          "line": {
           "color": "#EF553B",
           "width": 3
          },
          "type": "rect",
          "x0": 5.187989710859901,
          "x1": 5.763809382804633,
          "y0": 1.0415656325785816,
          "y1": 1.2490841035856326
         },
         {
          "fillcolor": "rgba(0, 204, 150, 0.1)",
          "line": {
           "color": "#00CC96",
           "width": 3
          },
          "type": "rect",
          "x0": 1.2846530357148302,
          "x1": 3.6496700758487925,
          "y0": 3.6361330959586846,
          "y1": 4.2775678801531685
         },
         {
          "fillcolor": "rgba(171, 99, 250, 0.1)",
          "line": {
           "color": "#AB63FA",
           "width": 3
          },
          "type": "rect",
          "x0": 2.115999178029274,
          "x1": 4.126948067563351,
          "y0": 6.510866590733636,
          "y1": 6.510866590733636
         },
         {
          "fillcolor": "rgba(255, 161, 90, 0.1)",
          "line": {
           "color": "#FFA15A",
           "width": 3
          },
          "type": "rect",
          "x0": 3.2796896161832803,
          "x1": 3.6496700758487925,
          "y0": 2.2336005375338255,
          "y1": 2.852053724543536
         },
         {
          "fillcolor": "rgba(25, 211, 243, 0.1)",
          "line": {
           "color": "#19D3F3",
           "width": 3
          },
          "type": "rect",
          "x0": 1.7551437115354795,
          "x1": 1.7551437115354795,
          "y0": 8.704683837256171,
          "y1": 9.005713832920152
         }
        ],
        "template": {
         "data": {
          "bar": [
           {
            "error_x": {
             "color": "#2a3f5f"
            },
            "error_y": {
             "color": "#2a3f5f"
            },
            "marker": {
             "line": {
              "color": "white",
              "width": 0.5
             },
             "pattern": {
              "fillmode": "overlay",
              "size": 10,
              "solidity": 0.2
             }
            },
            "type": "bar"
           }
          ],
          "barpolar": [
           {
            "marker": {
             "line": {
              "color": "white",
              "width": 0.5
             },
             "pattern": {
              "fillmode": "overlay",
              "size": 10,
              "solidity": 0.2
             }
            },
            "type": "barpolar"
           }
          ],
          "carpet": [
           {
            "aaxis": {
             "endlinecolor": "#2a3f5f",
             "gridcolor": "#C8D4E3",
             "linecolor": "#C8D4E3",
             "minorgridcolor": "#C8D4E3",
             "startlinecolor": "#2a3f5f"
            },
            "baxis": {
             "endlinecolor": "#2a3f5f",
             "gridcolor": "#C8D4E3",
             "linecolor": "#C8D4E3",
             "minorgridcolor": "#C8D4E3",
             "startlinecolor": "#2a3f5f"
            },
            "type": "carpet"
           }
          ],
          "choropleth": [
           {
            "colorbar": {
             "outlinewidth": 0,
             "ticks": ""
            },
            "type": "choropleth"
           }
          ],
          "contour": [
           {
            "colorbar": {
             "outlinewidth": 0,
             "ticks": ""
            },
            "colorscale": [
             [
              0,
              "#0d0887"
             ],
             [
              0.1111111111111111,
              "#46039f"
             ],
             [
              0.2222222222222222,
              "#7201a8"
             ],
             [
              0.3333333333333333,
              "#9c179e"
             ],
             [
              0.4444444444444444,
              "#bd3786"
             ],
             [
              0.5555555555555556,
              "#d8576b"
             ],
             [
              0.6666666666666666,
              "#ed7953"
             ],
             [
              0.7777777777777778,
              "#fb9f3a"
             ],
             [
              0.8888888888888888,
              "#fdca26"
             ],
             [
              1,
              "#f0f921"
             ]
            ],
            "type": "contour"
           }
          ],
          "contourcarpet": [
           {
            "colorbar": {
             "outlinewidth": 0,
             "ticks": ""
            },
            "type": "contourcarpet"
           }
          ],
          "heatmap": [
           {
            "colorbar": {
             "outlinewidth": 0,
             "ticks": ""
            },
            "colorscale": [
             [
              0,
              "#0d0887"
             ],
             [
              0.1111111111111111,
              "#46039f"
             ],
             [
              0.2222222222222222,
              "#7201a8"
             ],
             [
              0.3333333333333333,
              "#9c179e"
             ],
             [
              0.4444444444444444,
              "#bd3786"
             ],
             [
              0.5555555555555556,
              "#d8576b"
             ],
             [
              0.6666666666666666,
              "#ed7953"
             ],
             [
              0.7777777777777778,
              "#fb9f3a"
             ],
             [
              0.8888888888888888,
              "#fdca26"
             ],
             [
              1,
              "#f0f921"
             ]
            ],
            "type": "heatmap"
           }
          ],
          "heatmapgl": [
           {
            "colorbar": {
             "outlinewidth": 0,
             "ticks": ""
            },
            "colorscale": [
             [
              0,
              "#0d0887"
             ],
             [
              0.1111111111111111,
              "#46039f"
             ],
             [
              0.2222222222222222,
              "#7201a8"
             ],
             [
              0.3333333333333333,
              "#9c179e"
             ],
             [
              0.4444444444444444,
              "#bd3786"
             ],
             [
              0.5555555555555556,
              "#d8576b"
             ],
             [
              0.6666666666666666,
              "#ed7953"
             ],
             [
              0.7777777777777778,
              "#fb9f3a"
             ],
             [
              0.8888888888888888,
              "#fdca26"
             ],
             [
              1,
              "#f0f921"
             ]
            ],
            "type": "heatmapgl"
           }
          ],
          "histogram": [
           {
            "marker": {
             "pattern": {
              "fillmode": "overlay",
              "size": 10,
              "solidity": 0.2
             }
            },
            "type": "histogram"
           }
          ],
          "histogram2d": [
           {
            "colorbar": {
             "outlinewidth": 0,
             "ticks": ""
            },
            "colorscale": [
             [
              0,
              "#0d0887"
             ],
             [
              0.1111111111111111,
              "#46039f"
             ],
             [
              0.2222222222222222,
              "#7201a8"
             ],
             [
              0.3333333333333333,
              "#9c179e"
             ],
             [
              0.4444444444444444,
              "#bd3786"
             ],
             [
              0.5555555555555556,
              "#d8576b"
             ],
             [
              0.6666666666666666,
              "#ed7953"
             ],
             [
              0.7777777777777778,
              "#fb9f3a"
             ],
             [
              0.8888888888888888,
              "#fdca26"
             ],
             [
              1,
              "#f0f921"
             ]
            ],
            "type": "histogram2d"
           }
          ],
          "histogram2dcontour": [
           {
            "colorbar": {
             "outlinewidth": 0,
             "ticks": ""
            },
            "colorscale": [
             [
              0,
              "#0d0887"
             ],
             [
              0.1111111111111111,
              "#46039f"
             ],
             [
              0.2222222222222222,
              "#7201a8"
             ],
             [
              0.3333333333333333,
              "#9c179e"
             ],
             [
              0.4444444444444444,
              "#bd3786"
             ],
             [
              0.5555555555555556,
              "#d8576b"
             ],
             [
              0.6666666666666666,
              "#ed7953"
             ],
             [
              0.7777777777777778,
              "#fb9f3a"
             ],
             [
              0.8888888888888888,
              "#fdca26"
             ],
             [
              1,
              "#f0f921"
             ]
            ],
            "type": "histogram2dcontour"
           }
          ],
          "mesh3d": [
           {
            "colorbar": {
             "outlinewidth": 0,
             "ticks": ""
            },
            "type": "mesh3d"
           }
          ],
          "parcoords": [
           {
            "line": {
             "colorbar": {
              "outlinewidth": 0,
              "ticks": ""
             }
            },
            "type": "parcoords"
           }
          ],
          "pie": [
           {
            "automargin": true,
            "type": "pie"
           }
          ],
          "scatter": [
           {
            "marker": {
             "colorbar": {
              "outlinewidth": 0,
              "ticks": ""
             }
            },
            "type": "scatter"
           }
          ],
          "scatter3d": [
           {
            "line": {
             "colorbar": {
              "outlinewidth": 0,
              "ticks": ""
             }
            },
            "marker": {
             "colorbar": {
              "outlinewidth": 0,
              "ticks": ""
             }
            },
            "type": "scatter3d"
           }
          ],
          "scattercarpet": [
           {
            "marker": {
             "colorbar": {
              "outlinewidth": 0,
              "ticks": ""
             }
            },
            "type": "scattercarpet"
           }
          ],
          "scattergeo": [
           {
            "marker": {
             "colorbar": {
              "outlinewidth": 0,
              "ticks": ""
             }
            },
            "type": "scattergeo"
           }
          ],
          "scattergl": [
           {
            "marker": {
             "colorbar": {
              "outlinewidth": 0,
              "ticks": ""
             }
            },
            "type": "scattergl"
           }
          ],
          "scattermapbox": [
           {
            "marker": {
             "colorbar": {
              "outlinewidth": 0,
              "ticks": ""
             }
            },
            "type": "scattermapbox"
           }
          ],
          "scatterpolar": [
           {
            "marker": {
             "colorbar": {
              "outlinewidth": 0,
              "ticks": ""
             }
            },
            "type": "scatterpolar"
           }
          ],
          "scatterpolargl": [
           {
            "marker": {
             "colorbar": {
              "outlinewidth": 0,
              "ticks": ""
             }
            },
            "type": "scatterpolargl"
           }
          ],
          "scatterternary": [
           {
            "marker": {
             "colorbar": {
              "outlinewidth": 0,
              "ticks": ""
             }
            },
            "type": "scatterternary"
           }
          ],
          "surface": [
           {
            "colorbar": {
             "outlinewidth": 0,
             "ticks": ""
            },
            "colorscale": [
             [
              0,
              "#0d0887"
             ],
             [
              0.1111111111111111,
              "#46039f"
             ],
             [
              0.2222222222222222,
              "#7201a8"
             ],
             [
              0.3333333333333333,
              "#9c179e"
             ],
             [
              0.4444444444444444,
              "#bd3786"
             ],
             [
              0.5555555555555556,
              "#d8576b"
             ],
             [
              0.6666666666666666,
              "#ed7953"
             ],
             [
              0.7777777777777778,
              "#fb9f3a"
             ],
             [
              0.8888888888888888,
              "#fdca26"
             ],
             [
              1,
              "#f0f921"
             ]
            ],
            "type": "surface"
           }
          ],
          "table": [
           {
            "cells": {
             "fill": {
              "color": "#EBF0F8"
             },
             "line": {
              "color": "white"
             }
            },
            "header": {
             "fill": {
              "color": "#C8D4E3"
             },
             "line": {
              "color": "white"
             }
            },
            "type": "table"
           }
          ]
         },
         "layout": {
          "annotationdefaults": {
           "arrowcolor": "#2a3f5f",
           "arrowhead": 0,
           "arrowwidth": 1
          },
          "autotypenumbers": "strict",
          "coloraxis": {
           "colorbar": {
            "outlinewidth": 0,
            "ticks": ""
           }
          },
          "colorscale": {
           "diverging": [
            [
             0,
             "#8e0152"
            ],
            [
             0.1,
             "#c51b7d"
            ],
            [
             0.2,
             "#de77ae"
            ],
            [
             0.3,
             "#f1b6da"
            ],
            [
             0.4,
             "#fde0ef"
            ],
            [
             0.5,
             "#f7f7f7"
            ],
            [
             0.6,
             "#e6f5d0"
            ],
            [
             0.7,
             "#b8e186"
            ],
            [
             0.8,
             "#7fbc41"
            ],
            [
             0.9,
             "#4d9221"
            ],
            [
             1,
             "#276419"
            ]
           ],
           "sequential": [
            [
             0,
             "#0d0887"
            ],
            [
             0.1111111111111111,
             "#46039f"
            ],
            [
             0.2222222222222222,
             "#7201a8"
            ],
            [
             0.3333333333333333,
             "#9c179e"
            ],
            [
             0.4444444444444444,
             "#bd3786"
            ],
            [
             0.5555555555555556,
             "#d8576b"
            ],
            [
             0.6666666666666666,
             "#ed7953"
            ],
            [
             0.7777777777777778,
             "#fb9f3a"
            ],
            [
             0.8888888888888888,
             "#fdca26"
            ],
            [
             1,
             "#f0f921"
            ]
           ],
           "sequentialminus": [
            [
             0,
             "#0d0887"
            ],
            [
             0.1111111111111111,
             "#46039f"
            ],
            [
             0.2222222222222222,
             "#7201a8"
            ],
            [
             0.3333333333333333,
             "#9c179e"
            ],
            [
             0.4444444444444444,
             "#bd3786"
            ],
            [
             0.5555555555555556,
             "#d8576b"
            ],
            [
             0.6666666666666666,
             "#ed7953"
            ],
            [
             0.7777777777777778,
             "#fb9f3a"
            ],
            [
             0.8888888888888888,
             "#fdca26"
            ],
            [
             1,
             "#f0f921"
            ]
           ]
          },
          "colorway": [
           "#636efa",
           "#EF553B",
           "#00cc96",
           "#ab63fa",
           "#FFA15A",
           "#19d3f3",
           "#FF6692",
           "#B6E880",
           "#FF97FF",
           "#FECB52"
          ],
          "font": {
           "color": "#2a3f5f"
          },
          "geo": {
           "bgcolor": "white",
           "lakecolor": "white",
           "landcolor": "white",
           "showlakes": true,
           "showland": true,
           "subunitcolor": "#C8D4E3"
          },
          "hoverlabel": {
           "align": "left"
          },
          "hovermode": "closest",
          "mapbox": {
           "style": "light"
          },
          "paper_bgcolor": "white",
          "plot_bgcolor": "white",
          "polar": {
           "angularaxis": {
            "gridcolor": "#EBF0F8",
            "linecolor": "#EBF0F8",
            "ticks": ""
           },
           "bgcolor": "white",
           "radialaxis": {
            "gridcolor": "#EBF0F8",
            "linecolor": "#EBF0F8",
            "ticks": ""
           }
          },
          "scene": {
           "xaxis": {
            "backgroundcolor": "white",
            "gridcolor": "#DFE8F3",
            "gridwidth": 2,
            "linecolor": "#EBF0F8",
            "showbackground": true,
            "ticks": "",
            "zerolinecolor": "#EBF0F8"
           },
           "yaxis": {
            "backgroundcolor": "white",
            "gridcolor": "#DFE8F3",
            "gridwidth": 2,
            "linecolor": "#EBF0F8",
            "showbackground": true,
            "ticks": "",
            "zerolinecolor": "#EBF0F8"
           },
           "zaxis": {
            "backgroundcolor": "white",
            "gridcolor": "#DFE8F3",
            "gridwidth": 2,
            "linecolor": "#EBF0F8",
            "showbackground": true,
            "ticks": "",
            "zerolinecolor": "#EBF0F8"
           }
          },
          "shapedefaults": {
           "line": {
            "color": "#2a3f5f"
           }
          },
          "ternary": {
           "aaxis": {
            "gridcolor": "#DFE8F3",
            "linecolor": "#A2B1C6",
            "ticks": ""
           },
           "baxis": {
            "gridcolor": "#DFE8F3",
            "linecolor": "#A2B1C6",
            "ticks": ""
           },
           "bgcolor": "white",
           "caxis": {
            "gridcolor": "#DFE8F3",
            "linecolor": "#A2B1C6",
            "ticks": ""
           }
          },
          "title": {
           "x": 0.05
          },
          "xaxis": {
           "automargin": true,
           "gridcolor": "#EBF0F8",
           "linecolor": "#EBF0F8",
           "ticks": "",
           "title": {
            "standoff": 15
           },
           "zerolinecolor": "#EBF0F8",
           "zerolinewidth": 2
          },
          "yaxis": {
           "automargin": true,
           "gridcolor": "#EBF0F8",
           "linecolor": "#EBF0F8",
           "ticks": "",
           "title": {
            "standoff": 15
           },
           "zerolinecolor": "#EBF0F8",
           "zerolinewidth": 2
          }
         }
        },
        "title": {
         "text": "Kmeans Model Clustering with Cluster Boundaries"
        },
        "xaxis": {
         "tickfont": {
          "size": 16
         },
         "ticktext": [
          "10<sup>0</sup>",
          "10<sup>1</sup>",
          "10<sup>2</sup>",
          "10<sup>3</sup>",
          "10<sup>4</sup>",
          "10<sup>6</sup>"
         ],
         "tickvals": [
          0,
          1.2,
          2.4,
          3.5999999999999996,
          4.8,
          6
         ],
         "title": {
          "text": "WVTR (g/m2day)"
         },
         "type": "linear"
        },
        "yaxis": {
         "tickfont": {
          "size": 16
         },
         "ticktext": [
          "10<sup>0</sup>",
          "10<sup>1</sup>",
          "10<sup>2</sup>",
          "10<sup>3</sup>",
          "10<sup>4</sup>",
          "10<sup>5</sup>",
          "10<sup>6</sup>",
          "10<sup>7</sup>",
          "10<sup>8</sup>",
          "10<sup>10</sup>"
         ],
         "tickvals": [
          0,
          1.1111111111111112,
          2.2222222222222223,
          3.3333333333333335,
          4.444444444444445,
          5.555555555555555,
          6.666666666666667,
          7.777777777777779,
          8.88888888888889,
          10
         ],
         "title": {
          "text": "OTR (cm3/m2day)"
         },
         "type": "linear"
        }
       }
      }
     },
     "metadata": {},
     "output_type": "display_data"
    },
    {
     "data": {
      "text/plain": [
       "'Kmeans_cluster_OP_vs_WVP_normalized.html'"
      ]
     },
     "execution_count": 29,
     "metadata": {},
     "output_type": "execute_result"
    }
   ],
   "source": [
    "features = dtr[['log_OTR_Updated_Num', 'log_WVTR_Updated_Num']].dropna().values  # Drop rows with NaN\n",
    "from sklearn.cluster import KMeans\n",
    "from sklearn.preprocessing import StandardScaler\n",
    "\n",
    "# Define whether to use normalization\n",
    "use_normalization = True\n",
    "# Normalize data if required\n",
    "if use_normalization:\n",
    "    scaler = StandardScaler()\n",
    "    normalized_features = scaler.fit_transform(features)\n",
    "else:\n",
    "    normalized_features = features\n",
    "\n",
    "\n",
    "# Check for valid data\n",
    "if features.shape[0] == 0:\n",
    "    raise ValueError(\"No valid data points available for clustering after removing NaNs.\")\n",
    "\n",
    "# Set the number of clusters\n",
    "k = 6\n",
    "\n",
    "# Apply KMeans clustering\n",
    "kmeans = KMeans(n_clusters=k, random_state=42)\n",
    "labels = kmeans.fit_predict(normalized_features)\n",
    "\n",
    "# Add cluster labels to the original DataFrame\n",
    "d_clean = dtr.dropna(subset=['log_OTR_Updated_Num', 'log_WVTR_Updated_Num']).copy()\n",
    "d_clean['Cluster'] = labels\n",
    "\n",
    "# Map clusters to Base Material\n",
    "cluster_base_material_map = (\n",
    "    d_clean.groupby('Cluster')['Base Material']\n",
    "    .apply(lambda x: x.mode()[0] if not x.empty else f\"Cluster {x.name}\")\n",
    "    .to_dict()\n",
    ")\n",
    "\n",
    "# Assign a color palette for clusters\n",
    "color_palette = px.colors.qualitative.Plotly  # Get Plotly color palette\n",
    "cluster_colors = {cluster: color_palette[i % len(color_palette)] for i, cluster in enumerate(cluster_base_material_map.keys())}\n",
    "\n",
    "# Initialize a Plotly figure\n",
    "fig = go.Figure()\n",
    "\n",
    "# Add scatter plot for each cluster\n",
    "for cluster_label in np.unique(labels):\n",
    "    cluster_data = d_clean[d_clean['Cluster'] == cluster_label]\n",
    "    cluster_size = len(cluster_data) \n",
    "    # cluster_name = f\"Cluster {cluster_label} ({cluster_size} points) - {cluster_base_material_map[cluster_label]}\"\n",
    "    cluster_name = f\"Cluster {cluster_label} ({cluster_size} points)\"\n",
    "    cluster_color = cluster_colors[cluster_label]\n",
    "    \n",
    "    marker_colors = [\n",
    "        f\"rgba({int(int(cluster_color.lstrip('#')[0:2], 16) * 0.7)},\"\n",
    "        f\"{int(int(cluster_color.lstrip('#')[2:4], 16) * 0.7)},\"\n",
    "        f\"{int(int(cluster_color.lstrip('#')[4:6], 16) * 0.7)}, 1)\"\n",
    "        if is_sustainable else cluster_color\n",
    "        for is_sustainable in cluster_data['Material'].str.lower().eq('sustainable')\n",
    "    ]\n",
    "\n",
    "    # Adjust marker shape for conventional materials\n",
    "    marker_symbols = [\n",
    "        'triangle-up' if is_conventional else 'circle'\n",
    "        for is_conventional in cluster_data['Material'].str.lower().eq('conventional')\n",
    "    ]\n",
    "\n",
    "    fig.add_trace(go.Scatter(\n",
    "        x=cluster_data['log_WVTR_Updated_Num'],\n",
    "        y=cluster_data['log_OTR_Updated_Num'],\n",
    "        mode='markers',\n",
    "        name=cluster_name,  # Legend entry with cluster number and base material\n",
    "        marker=dict(size=10, color=marker_colors, symbol=marker_symbols),\n",
    "        hovertemplate=(\n",
    "            \"Base Material: %{text}<br>\"\n",
    "            \"Type: %{customdata[0]}<br>\"\n",
    "            \"Secondary Material: %{customdata[1]}<br>\"\n",
    "            \"Material:%{customdata[2]}<br>\"\n",
    "            \"log(WVTR): %{x}<br>\"\n",
    "            \"log(OTR): %{y}\"\n",
    "        ),\n",
    "        text=cluster_data['Base Material'],\n",
    "        customdata=cluster_data[['Type', 'Secondary Material','Material']].values\n",
    "    ))\n",
    "\n",
    "    # Calculate cluster boundary (bounding box)\n",
    "    x_min = cluster_data['log_WVTR_Updated_Num'].min()\n",
    "    x_max = cluster_data['log_WVTR_Updated_Num'].max()\n",
    "    y_min = cluster_data['log_OTR_Updated_Num'].min()\n",
    "    y_max = cluster_data['log_OTR_Updated_Num'].max()\n",
    "\n",
    "    # Convert hex color to rgba for transparency\n",
    "    if cluster_color.startswith(\"#\"):\n",
    "        r, g, b = tuple(int(cluster_color.lstrip(\"#\")[i:i+2], 16) for i in (0, 2, 4))\n",
    "        fill_color = f\"rgba({r}, {g}, {b}, 0.1)\"\n",
    "    else:\n",
    "        fill_color = cluster_color  # Fallback if color is not in hex format\n",
    "\n",
    "    # Add a rectangle for the cluster boundary\n",
    "    fig.add_shape(\n",
    "        type=\"rect\",\n",
    "        x0=x_min, x1=x_max,\n",
    "        y0=y_min, y1=y_max,\n",
    "        line=dict(color=cluster_color, width=3),\n",
    "        fillcolor=fill_color\n",
    "    )\n",
    "file_suffix = \"normalized\" if use_normalization else \"unnormalized\"\n",
    "fig.update_layout(\n",
    "    title=\"Kmeans Model Clustering with Cluster Boundaries_log\",\n",
    "    xaxis_title=\"WVTR (g/m2day)\",\n",
    "    yaxis_title=\"OTR (cm3/m2day)\",\n",
    "    template=\"plotly_white\"\n",
    ")\n",
    "plotly.offline.plot(fig, filename=f'Kmeans_cluster_OP_vs_WVP_log_{file_suffix}.html', auto_open=False)\n",
    "\n",
    "tick_vals_x = np.linspace(int(d_clean['log_WVTR_Updated_Num'].min()-1), int(d_clean['log_WVTR_Updated_Num'].max()+1), int(d_clean['log_WVTR_Updated_Num'].max()-d_clean['log_WVTR_Updated_Num'].min()+2))\n",
    "tick_text_x = [f\"10<sup>{int(val)}</sup>\" for val in tick_vals_x]\n",
    "\n",
    "tick_vals_y = np.linspace(int(d_clean['log_OTR_Updated_Num'].min()-1), int(d_clean['log_OTR_Updated_Num'].max()+1), int(d_clean['log_OTR_Updated_Num'].max()-d_clean['log_OTR_Updated_Num'].min()+2))\n",
    "tick_text_y = [f\"10<sup>{int(val)}</sup>\" for val in tick_vals_y]\n",
    "\n",
    "\n",
    "\n",
    "\n",
    "fig.update_layout(\n",
    "    title=\"Kmeans Model Clustering with Cluster Boundaries\",\n",
    "    xaxis_title=\"WVTR (g/m2day)\",\n",
    "    yaxis_title=\"OTR (cm3/m2day)\",\n",
    "    template=\"plotly_white\"\n",
    ")    \n",
    "fig.update_layout(\n",
    "    xaxis=dict(\n",
    "        title=\"WVTR (g/m2day)\",\n",
    "        tickvals=tick_vals_x,\n",
    "        ticktext=tick_text_x,\n",
    "        type='linear',  # Keeps the axis linear while displaying log ticks\n",
    "        tickfont=dict(size=16),\n",
    "    ),\n",
    "    yaxis=dict(\n",
    "        title=\"OTR (cm3/m2day)\",\n",
    "        tickvals=tick_vals_y,\n",
    "        ticktext=tick_text_y,\n",
    "        type='linear',  # Keeps the axis linear while displaying log ticks\n",
    "        tickfont=dict(size=16),\n",
    "    ),\n",
    "    template=\"plotly_white\"\n",
    "# Show the updated plot\n",
    ")\n",
    "fig.show()\n",
    "plotly.offline.plot(fig, filename=f'Kmeans_cluster_OP_vs_WVP_{file_suffix}.html', auto_open=False)"
   ]
  },
  {
   "cell_type": "code",
   "execution_count": 30,
   "metadata": {},
   "outputs": [
    {
     "name": "stdout",
     "output_type": "stream",
     "text": [
      "      Base Material        Type Secondary Material\n",
      "57             LDPE  individual               None\n",
      "58             LDPE  individual               None\n",
      "59             HDPE  individual               None\n",
      "68  polylactic acid  individual               None\n",
      "69  polylactic acid  individual               None\n",
      "70  polylactic acid  individual               None\n"
     ]
    }
   ],
   "source": [
    "cluster_2_data = d_clean[d_clean['Cluster'] == 2]\n",
    "\n",
    "# Display relevant information\n",
    "columns_of_interest = ['Base Material', 'Type', 'Secondary Material']\n",
    "cluster_2_info = cluster_2_data[columns_of_interest]\n",
    "\n",
    "# Print the details\n",
    "print(cluster_2_info)"
   ]
  },
  {
   "cell_type": "markdown",
   "metadata": {},
   "source": [
    "### Gaussian Mixture Matrix"
   ]
  },
  {
   "cell_type": "code",
   "execution_count": 31,
   "metadata": {},
   "outputs": [
    {
     "data": {
      "application/vnd.plotly.v1+json": {
       "config": {
        "plotlyServerURL": "https://plot.ly"
       },
       "data": [
        {
         "customdata": [
          [
           "blend",
           "CMC"
          ],
          [
           "blend",
           "CMC"
          ],
          [
           "blend",
           "CMC"
          ],
          [
           "blend",
           "CMC"
          ],
          [
           "blend",
           "CMC"
          ],
          [
           "blend",
           "CMC"
          ],
          [
           "blend",
           "CMC"
          ],
          [
           "blend",
           "CMC"
          ],
          [
           "blend",
           "CMC"
          ],
          [
           "blend",
           "CMC"
          ],
          [
           "blend",
           "CMC"
          ],
          [
           "blend",
           "CMC"
          ],
          [
           "blend",
           "CMC"
          ],
          [
           "blend",
           "CMC"
          ],
          [
           "blend",
           "CMC"
          ],
          [
           "blend",
           "CMC"
          ],
          [
           "blend",
           "CMC"
          ],
          [
           "blend",
           "CMC"
          ],
          [
           "blend",
           "CMC"
          ],
          [
           "blend",
           "CMC"
          ],
          [
           "blend",
           "CMC"
          ],
          [
           "blend",
           "CMC"
          ],
          [
           "blend",
           "CMC"
          ],
          [
           "blend",
           "CMC"
          ],
          [
           "blend",
           "CMC"
          ],
          [
           "blend",
           "CMC"
          ],
          [
           "blend",
           "CMC"
          ],
          [
           "blend",
           "CMC"
          ],
          [
           "blend",
           "CMC"
          ],
          [
           "blend",
           "CMC"
          ],
          [
           "blend",
           "CMC"
          ],
          [
           "blend",
           "CMC"
          ],
          [
           "blend",
           "CMC"
          ],
          [
           "blend",
           "CMC"
          ],
          [
           "blend",
           "CMC"
          ],
          [
           "blend",
           "CMC"
          ],
          [
           "blend",
           "CMC"
          ],
          [
           "blend",
           "CMC"
          ],
          [
           "blend",
           "CMC"
          ],
          [
           "blend",
           "CMC"
          ],
          [
           "blend",
           "CMC"
          ],
          [
           "blend",
           "CMC"
          ],
          [
           "blend",
           "CMC"
          ],
          [
           "blend",
           "CMC"
          ],
          [
           "blend",
           "CMC"
          ],
          [
           "blend",
           "CMC"
          ],
          [
           "blend",
           "CMC"
          ],
          [
           "blend",
           "CMC"
          ],
          [
           "blend",
           "CMC"
          ],
          [
           "blend",
           "CMC"
          ],
          [
           "blend",
           "CMC"
          ],
          [
           "blend",
           "CMC"
          ],
          [
           "blend",
           "CMC"
          ],
          [
           "blend",
           "CMC"
          ],
          [
           "blend",
           "CMC"
          ],
          [
           "blend",
           "CMC"
          ],
          [
           "blend",
           "CMC"
          ],
          [
           "blend",
           "CMC"
          ],
          [
           "blend",
           "CMC"
          ],
          [
           "blend",
           "CMC"
          ],
          [
           "blend",
           "CMC"
          ],
          [
           "blend",
           "CMC"
          ],
          [
           "blend",
           "CMC"
          ],
          [
           "blend",
           "CMC"
          ],
          [
           "blend",
           "CMC"
          ],
          [
           "blend",
           "CMC"
          ],
          [
           "blend",
           "CMC"
          ],
          [
           "blend",
           "CMC"
          ],
          [
           "blend",
           "CMC"
          ],
          [
           "blend",
           "CMC"
          ],
          [
           "blend",
           "CMC"
          ],
          [
           "blend",
           "CMC"
          ],
          [
           "blend",
           "CMC"
          ],
          [
           "blend",
           "CMC"
          ],
          [
           "blend",
           "CMC"
          ],
          [
           "blend",
           "CMC"
          ],
          [
           "blend",
           "CMC"
          ],
          [
           "blend",
           "CMC"
          ],
          [
           "blend",
           "CMC"
          ],
          [
           "blend",
           "CMC"
          ],
          [
           "blend",
           "CMC"
          ],
          [
           "blend",
           "CMC"
          ],
          [
           "blend",
           "CMC"
          ],
          [
           "blend",
           "CMC"
          ],
          [
           "blend",
           "CMC"
          ],
          [
           "blend",
           "CMC"
          ],
          [
           "blend",
           "CMC"
          ],
          [
           "blend",
           "CMC"
          ],
          [
           "blend",
           "CMC"
          ],
          [
           "blend",
           "CMC"
          ],
          [
           "blend",
           "CMC"
          ],
          [
           "blend",
           "CMC"
          ],
          [
           "blend",
           "CMC"
          ],
          [
           "blend",
           "CMC"
          ],
          [
           "blend",
           "CMC"
          ],
          [
           "blend",
           "CMC"
          ],
          [
           "blend",
           "CMC"
          ],
          [
           "blend",
           "CMC"
          ],
          [
           "blend",
           "CMC"
          ],
          [
           "blend",
           "CMC"
          ],
          [
           "blend",
           "CMC"
          ],
          [
           "blend",
           "CMC"
          ],
          [
           "blend",
           "CMC"
          ],
          [
           "blend",
           "CMC"
          ],
          [
           "blend",
           "CMC"
          ],
          [
           "blend",
           "CMC"
          ],
          [
           "blend",
           "CMC"
          ],
          [
           "blend",
           "CMC"
          ],
          [
           "blend",
           "CMC"
          ],
          [
           "blend",
           "CMC"
          ],
          [
           "blend",
           "CMC"
          ],
          [
           "blend",
           "CMC"
          ],
          [
           "blend",
           "CMC"
          ],
          [
           "blend",
           "CMC"
          ],
          [
           "blend",
           "CMC"
          ],
          [
           "blend",
           "CMC"
          ],
          [
           "blend",
           "CMC"
          ],
          [
           "blend",
           "CMC"
          ],
          [
           "blend",
           "CMC"
          ],
          [
           "blend",
           "CMC"
          ],
          [
           "blend",
           "CMC"
          ],
          [
           "blend",
           "CMC"
          ],
          [
           "blend",
           "CMC"
          ],
          [
           "blend",
           "CMC"
          ],
          [
           "blend",
           "CMC"
          ],
          [
           "blend",
           "CMC"
          ],
          [
           "blend",
           "CMC"
          ],
          [
           "blend",
           "CMC"
          ],
          [
           "blend",
           "CMC"
          ],
          [
           "blend",
           "CMC"
          ],
          [
           "blend",
           "CMC"
          ],
          [
           "blend",
           "CMC"
          ],
          [
           "blend",
           "CMC"
          ],
          [
           "blend",
           "CMC"
          ],
          [
           "blend",
           "CMC"
          ],
          [
           "blend",
           "CMC"
          ],
          [
           "blend",
           "CMC"
          ],
          [
           "blend",
           "CMC"
          ],
          [
           "blend",
           "CMC"
          ],
          [
           "blend",
           "CMC"
          ],
          [
           "blend",
           "CMC"
          ],
          [
           "blend",
           "CMC"
          ],
          [
           "blend",
           "CMC"
          ],
          [
           "blend",
           "CMC"
          ],
          [
           "blend",
           "gelatin"
          ],
          [
           "blend",
           "gelatin"
          ],
          [
           "blend",
           "gelatin"
          ],
          [
           "blend",
           "gelatin"
          ],
          [
           "blend",
           "gelatin"
          ],
          [
           "blend",
           "gelatin"
          ],
          [
           "blend",
           "gelatin"
          ],
          [
           "blend",
           "gelatin"
          ],
          [
           "blend",
           "gelatin"
          ],
          [
           "blend",
           "gelatin"
          ],
          [
           "blend",
           "gelatin"
          ],
          [
           "blend",
           "gelatin"
          ],
          [
           "blend",
           "gelatin"
          ],
          [
           "blend",
           "gelatin"
          ],
          [
           "blend",
           "gelatin"
          ],
          [
           "blend",
           "gelatin"
          ],
          [
           "blend",
           "gelatin"
          ],
          [
           "blend",
           "gelatin"
          ],
          [
           "blend",
           "gelatin"
          ],
          [
           "blend",
           "gelatin"
          ],
          [
           "blend",
           "gelatin"
          ],
          [
           "blend",
           "gelatin"
          ],
          [
           "blend",
           "gelatin"
          ],
          [
           "blend",
           "gelatin"
          ],
          [
           "blend",
           "gelatin"
          ],
          [
           "blend",
           "gelatin"
          ],
          [
           "blend",
           "gelatin"
          ],
          [
           "blend",
           "gelatin"
          ],
          [
           "blend",
           "gelatin"
          ],
          [
           "blend",
           "gelatin"
          ],
          [
           "blend",
           "gelatin"
          ],
          [
           "blend",
           "gelatin"
          ],
          [
           "blend",
           "gelatin"
          ],
          [
           "blend",
           "gelatin"
          ],
          [
           "blend",
           "gelatin"
          ],
          [
           "blend",
           "gelatin"
          ]
         ],
         "hovertemplate": "Base Material: %{text}<br>Type: %{customdata[0]}<br>Secondary Material: %{customdata[1]}<br>log(WVTR): %{x}<br>log(OTR): %{y}",
         "marker": {
          "color": [
           "rgba(69,77,175, 1)",
           "rgba(69,77,175, 1)",
           "rgba(69,77,175, 1)",
           "rgba(69,77,175, 1)",
           "rgba(69,77,175, 1)",
           "rgba(69,77,175, 1)",
           "rgba(69,77,175, 1)",
           "rgba(69,77,175, 1)",
           "rgba(69,77,175, 1)",
           "rgba(69,77,175, 1)",
           "rgba(69,77,175, 1)",
           "rgba(69,77,175, 1)",
           "rgba(69,77,175, 1)",
           "rgba(69,77,175, 1)",
           "rgba(69,77,175, 1)",
           "rgba(69,77,175, 1)",
           "rgba(69,77,175, 1)",
           "rgba(69,77,175, 1)",
           "rgba(69,77,175, 1)",
           "rgba(69,77,175, 1)",
           "rgba(69,77,175, 1)",
           "rgba(69,77,175, 1)",
           "rgba(69,77,175, 1)",
           "rgba(69,77,175, 1)",
           "rgba(69,77,175, 1)",
           "rgba(69,77,175, 1)",
           "rgba(69,77,175, 1)",
           "rgba(69,77,175, 1)",
           "rgba(69,77,175, 1)",
           "rgba(69,77,175, 1)",
           "rgba(69,77,175, 1)",
           "rgba(69,77,175, 1)",
           "rgba(69,77,175, 1)",
           "rgba(69,77,175, 1)",
           "rgba(69,77,175, 1)",
           "rgba(69,77,175, 1)",
           "rgba(69,77,175, 1)",
           "rgba(69,77,175, 1)",
           "rgba(69,77,175, 1)",
           "rgba(69,77,175, 1)",
           "rgba(69,77,175, 1)",
           "rgba(69,77,175, 1)",
           "rgba(69,77,175, 1)",
           "rgba(69,77,175, 1)",
           "rgba(69,77,175, 1)",
           "rgba(69,77,175, 1)",
           "rgba(69,77,175, 1)",
           "rgba(69,77,175, 1)",
           "rgba(69,77,175, 1)",
           "rgba(69,77,175, 1)",
           "rgba(69,77,175, 1)",
           "rgba(69,77,175, 1)",
           "rgba(69,77,175, 1)",
           "rgba(69,77,175, 1)",
           "rgba(69,77,175, 1)",
           "rgba(69,77,175, 1)",
           "rgba(69,77,175, 1)",
           "rgba(69,77,175, 1)",
           "rgba(69,77,175, 1)",
           "rgba(69,77,175, 1)",
           "rgba(69,77,175, 1)",
           "rgba(69,77,175, 1)",
           "rgba(69,77,175, 1)",
           "rgba(69,77,175, 1)",
           "rgba(69,77,175, 1)",
           "rgba(69,77,175, 1)",
           "rgba(69,77,175, 1)",
           "rgba(69,77,175, 1)",
           "rgba(69,77,175, 1)",
           "rgba(69,77,175, 1)",
           "rgba(69,77,175, 1)",
           "rgba(69,77,175, 1)",
           "rgba(69,77,175, 1)",
           "rgba(69,77,175, 1)",
           "rgba(69,77,175, 1)",
           "rgba(69,77,175, 1)",
           "rgba(69,77,175, 1)",
           "rgba(69,77,175, 1)",
           "rgba(69,77,175, 1)",
           "rgba(69,77,175, 1)",
           "rgba(69,77,175, 1)",
           "rgba(69,77,175, 1)",
           "rgba(69,77,175, 1)",
           "rgba(69,77,175, 1)",
           "rgba(69,77,175, 1)",
           "rgba(69,77,175, 1)",
           "rgba(69,77,175, 1)",
           "rgba(69,77,175, 1)",
           "rgba(69,77,175, 1)",
           "rgba(69,77,175, 1)",
           "rgba(69,77,175, 1)",
           "rgba(69,77,175, 1)",
           "rgba(69,77,175, 1)",
           "rgba(69,77,175, 1)",
           "rgba(69,77,175, 1)",
           "rgba(69,77,175, 1)",
           "rgba(69,77,175, 1)",
           "rgba(69,77,175, 1)",
           "rgba(69,77,175, 1)",
           "rgba(69,77,175, 1)",
           "rgba(69,77,175, 1)",
           "rgba(69,77,175, 1)",
           "rgba(69,77,175, 1)",
           "rgba(69,77,175, 1)",
           "rgba(69,77,175, 1)",
           "rgba(69,77,175, 1)",
           "rgba(69,77,175, 1)",
           "rgba(69,77,175, 1)",
           "rgba(69,77,175, 1)",
           "rgba(69,77,175, 1)",
           "rgba(69,77,175, 1)",
           "rgba(69,77,175, 1)",
           "rgba(69,77,175, 1)",
           "rgba(69,77,175, 1)",
           "rgba(69,77,175, 1)",
           "rgba(69,77,175, 1)",
           "rgba(69,77,175, 1)",
           "rgba(69,77,175, 1)",
           "rgba(69,77,175, 1)",
           "rgba(69,77,175, 1)",
           "rgba(69,77,175, 1)",
           "rgba(69,77,175, 1)",
           "rgba(69,77,175, 1)",
           "rgba(69,77,175, 1)",
           "rgba(69,77,175, 1)",
           "rgba(69,77,175, 1)",
           "rgba(69,77,175, 1)",
           "rgba(69,77,175, 1)",
           "rgba(69,77,175, 1)",
           "rgba(69,77,175, 1)",
           "rgba(69,77,175, 1)",
           "rgba(69,77,175, 1)",
           "rgba(69,77,175, 1)",
           "rgba(69,77,175, 1)",
           "rgba(69,77,175, 1)",
           "rgba(69,77,175, 1)",
           "rgba(69,77,175, 1)",
           "rgba(69,77,175, 1)",
           "rgba(69,77,175, 1)",
           "rgba(69,77,175, 1)",
           "rgba(69,77,175, 1)",
           "rgba(69,77,175, 1)",
           "rgba(69,77,175, 1)",
           "rgba(69,77,175, 1)",
           "rgba(69,77,175, 1)",
           "rgba(69,77,175, 1)",
           "rgba(69,77,175, 1)",
           "rgba(69,77,175, 1)",
           "rgba(69,77,175, 1)",
           "rgba(69,77,175, 1)",
           "rgba(69,77,175, 1)",
           "rgba(69,77,175, 1)",
           "rgba(69,77,175, 1)",
           "rgba(69,77,175, 1)",
           "rgba(69,77,175, 1)",
           "rgba(69,77,175, 1)",
           "rgba(69,77,175, 1)",
           "rgba(69,77,175, 1)",
           "rgba(69,77,175, 1)",
           "rgba(69,77,175, 1)",
           "rgba(69,77,175, 1)",
           "rgba(69,77,175, 1)",
           "rgba(69,77,175, 1)",
           "rgba(69,77,175, 1)",
           "rgba(69,77,175, 1)",
           "rgba(69,77,175, 1)",
           "rgba(69,77,175, 1)",
           "rgba(69,77,175, 1)",
           "rgba(69,77,175, 1)",
           "rgba(69,77,175, 1)",
           "rgba(69,77,175, 1)",
           "rgba(69,77,175, 1)",
           "rgba(69,77,175, 1)",
           "rgba(69,77,175, 1)",
           "rgba(69,77,175, 1)",
           "rgba(69,77,175, 1)",
           "rgba(69,77,175, 1)",
           "rgba(69,77,175, 1)",
           "rgba(69,77,175, 1)",
           "rgba(69,77,175, 1)"
          ],
          "size": 10,
          "symbol": [
           "circle",
           "circle",
           "circle",
           "circle",
           "circle",
           "circle",
           "circle",
           "circle",
           "circle",
           "circle",
           "circle",
           "circle",
           "circle",
           "circle",
           "circle",
           "circle",
           "circle",
           "circle",
           "circle",
           "circle",
           "circle",
           "circle",
           "circle",
           "circle",
           "circle",
           "circle",
           "circle",
           "circle",
           "circle",
           "circle",
           "circle",
           "circle",
           "circle",
           "circle",
           "circle",
           "circle",
           "circle",
           "circle",
           "circle",
           "circle",
           "circle",
           "circle",
           "circle",
           "circle",
           "circle",
           "circle",
           "circle",
           "circle",
           "circle",
           "circle",
           "circle",
           "circle",
           "circle",
           "circle",
           "circle",
           "circle",
           "circle",
           "circle",
           "circle",
           "circle",
           "circle",
           "circle",
           "circle",
           "circle",
           "circle",
           "circle",
           "circle",
           "circle",
           "circle",
           "circle",
           "circle",
           "circle",
           "circle",
           "circle",
           "circle",
           "circle",
           "circle",
           "circle",
           "circle",
           "circle",
           "circle",
           "circle",
           "circle",
           "circle",
           "circle",
           "circle",
           "circle",
           "circle",
           "circle",
           "circle",
           "circle",
           "circle",
           "circle",
           "circle",
           "circle",
           "circle",
           "circle",
           "circle",
           "circle",
           "circle",
           "circle",
           "circle",
           "circle",
           "circle",
           "circle",
           "circle",
           "circle",
           "circle",
           "circle",
           "circle",
           "circle",
           "circle",
           "circle",
           "circle",
           "circle",
           "circle",
           "circle",
           "circle",
           "circle",
           "circle",
           "circle",
           "circle",
           "circle",
           "circle",
           "circle",
           "circle",
           "circle",
           "circle",
           "circle",
           "circle",
           "circle",
           "circle",
           "circle",
           "circle",
           "circle",
           "circle",
           "circle",
           "circle",
           "circle",
           "circle",
           "circle",
           "circle",
           "circle",
           "circle",
           "circle",
           "circle",
           "circle",
           "circle",
           "circle",
           "circle",
           "circle",
           "circle",
           "circle",
           "circle",
           "circle",
           "circle",
           "circle",
           "circle",
           "circle",
           "circle",
           "circle",
           "circle",
           "circle",
           "circle",
           "circle",
           "circle",
           "circle",
           "circle",
           "circle",
           "circle",
           "circle",
           "circle",
           "circle",
           "circle",
           "circle",
           "circle",
           "circle",
           "circle",
           "circle",
           "circle"
          ]
         },
         "mode": "markers",
         "name": "Cluster 0 (180 points)",
         "text": [
          "carrot puree",
          "carrot puree",
          "carrot puree",
          "carrot puree",
          "carrot puree",
          "carrot puree",
          "carrot puree",
          "carrot puree",
          "carrot puree",
          "carrot puree",
          "carrot puree",
          "carrot puree",
          "carrot puree",
          "carrot puree",
          "carrot puree",
          "carrot puree",
          "carrot puree",
          "carrot puree",
          "carrot puree",
          "carrot puree",
          "carrot puree",
          "carrot puree",
          "carrot puree",
          "carrot puree",
          "carrot puree",
          "carrot puree",
          "carrot puree",
          "carrot puree",
          "carrot puree",
          "carrot puree",
          "carrot puree",
          "carrot puree",
          "carrot puree",
          "carrot puree",
          "carrot puree",
          "carrot puree",
          "carrot puree",
          "carrot puree",
          "carrot puree",
          "carrot puree",
          "carrot puree",
          "carrot puree",
          "carrot puree",
          "carrot puree",
          "carrot puree",
          "carrot puree",
          "carrot puree",
          "carrot puree",
          "carrot puree",
          "carrot puree",
          "carrot puree",
          "carrot puree",
          "carrot puree",
          "carrot puree",
          "carrot puree",
          "carrot puree",
          "carrot puree",
          "carrot puree",
          "carrot puree",
          "carrot puree",
          "carrot puree",
          "carrot puree",
          "carrot puree",
          "carrot puree",
          "carrot puree",
          "carrot puree",
          "carrot puree",
          "carrot puree",
          "carrot puree",
          "carrot puree",
          "carrot puree",
          "carrot puree",
          "carrot puree",
          "carrot puree",
          "carrot puree",
          "carrot puree",
          "carrot puree",
          "carrot puree",
          "carrot puree",
          "carrot puree",
          "carrot puree",
          "carrot puree",
          "carrot puree",
          "carrot puree",
          "carrot puree",
          "carrot puree",
          "carrot puree",
          "carrot puree",
          "carrot puree",
          "carrot puree",
          "carrot puree",
          "carrot puree",
          "carrot puree",
          "carrot puree",
          "carrot puree",
          "carrot puree",
          "carrot puree",
          "carrot puree",
          "carrot puree",
          "carrot puree",
          "carrot puree",
          "carrot puree",
          "carrot puree",
          "carrot puree",
          "carrot puree",
          "carrot puree",
          "carrot puree",
          "carrot puree",
          "carrot puree",
          "carrot puree",
          "carrot puree",
          "carrot puree",
          "carrot puree",
          "carrot puree",
          "carrot puree",
          "carrot puree",
          "carrot puree",
          "carrot puree",
          "carrot puree",
          "carrot puree",
          "carrot puree",
          "carrot puree",
          "carrot puree",
          "carrot puree",
          "carrot puree",
          "carrot puree",
          "carrot puree",
          "carrot puree",
          "carrot puree",
          "carrot puree",
          "carrot puree",
          "carrot puree",
          "carrot puree",
          "carrot puree",
          "carrot puree",
          "carrot puree",
          "carrot puree",
          "carrot puree",
          "carrot puree",
          "carrot puree",
          "carrot puree",
          "carrot puree",
          "carrot puree",
          "carrot puree",
          "carrot puree",
          "carrot puree",
          "carrot puree",
          "carrot puree",
          "carrot puree",
          "carrot puree",
          "carrot puree",
          "carrot puree",
          "carrot puree",
          "carrot puree",
          "carrot puree",
          "carrot puree",
          "carrot puree",
          "carrot puree",
          "carrot puree",
          "carrot puree",
          "carrot puree",
          "carrot puree",
          "carrot puree",
          "carrot puree",
          "carrot puree",
          "carrot puree",
          "carrot puree",
          "carrot puree",
          "carrot puree",
          "carrot puree",
          "carrot puree",
          "carrot puree",
          "carrot puree",
          "carrot puree",
          "carrot puree",
          "carrot puree",
          "carrot puree",
          "carrot puree",
          "carrot puree",
          "carrot puree"
         ],
         "type": "scatter",
         "x": [
          5.763809382804633,
          5.631183817530042,
          5.396159946950353,
          5.3054661593763175,
          5.268975734457945,
          5.187989710859901,
          5.45704364989191,
          5.440954325640528,
          5.371821157115925,
          5.329976014501487,
          5.301306580951887,
          5.280886020471324,
          5.763809382804633,
          5.631183817530042,
          5.396159946950353,
          5.3054661593763175,
          5.268975734457945,
          5.187989710859901,
          5.45704364989191,
          5.440954325640528,
          5.371821157115925,
          5.329976014501487,
          5.301306580951887,
          5.280886020471324,
          5.763809382804633,
          5.631183817530042,
          5.396159946950353,
          5.3054661593763175,
          5.268975734457945,
          5.187989710859901,
          5.45704364989191,
          5.440954325640528,
          5.371821157115925,
          5.329976014501487,
          5.301306580951887,
          5.280886020471324,
          5.763809382804633,
          5.631183817530042,
          5.396159946950353,
          5.3054661593763175,
          5.268975734457945,
          5.187989710859901,
          5.45704364989191,
          5.440954325640528,
          5.371821157115925,
          5.329976014501487,
          5.301306580951887,
          5.280886020471324,
          5.763809382804633,
          5.631183817530042,
          5.396159946950353,
          5.3054661593763175,
          5.268975734457945,
          5.187989710859901,
          5.45704364989191,
          5.440954325640528,
          5.371821157115925,
          5.329976014501487,
          5.301306580951887,
          5.280886020471324,
          5.763809382804633,
          5.631183817530042,
          5.396159946950353,
          5.3054661593763175,
          5.268975734457945,
          5.187989710859901,
          5.45704364989191,
          5.440954325640528,
          5.371821157115925,
          5.329976014501487,
          5.301306580951887,
          5.280886020471324,
          5.763809382804633,
          5.631183817530042,
          5.396159946950353,
          5.3054661593763175,
          5.268975734457945,
          5.187989710859901,
          5.45704364989191,
          5.440954325640528,
          5.371821157115925,
          5.329976014501487,
          5.301306580951887,
          5.280886020471324,
          5.763809382804633,
          5.631183817530042,
          5.396159946950353,
          5.3054661593763175,
          5.268975734457945,
          5.187989710859901,
          5.45704364989191,
          5.440954325640528,
          5.371821157115925,
          5.329976014501487,
          5.301306580951887,
          5.280886020471324,
          5.763809382804633,
          5.631183817530042,
          5.396159946950353,
          5.3054661593763175,
          5.268975734457945,
          5.187989710859901,
          5.45704364989191,
          5.440954325640528,
          5.371821157115925,
          5.329976014501487,
          5.301306580951887,
          5.280886020471324,
          5.763809382804633,
          5.631183817530042,
          5.396159946950353,
          5.3054661593763175,
          5.268975734457945,
          5.187989710859901,
          5.45704364989191,
          5.440954325640528,
          5.371821157115925,
          5.329976014501487,
          5.301306580951887,
          5.280886020471324,
          5.763809382804633,
          5.631183817530042,
          5.396159946950353,
          5.3054661593763175,
          5.268975734457945,
          5.187989710859901,
          5.45704364989191,
          5.440954325640528,
          5.371821157115925,
          5.329976014501487,
          5.301306580951887,
          5.280886020471324,
          5.763809382804633,
          5.631183817530042,
          5.396159946950353,
          5.3054661593763175,
          5.268975734457945,
          5.187989710859901,
          5.45704364989191,
          5.440954325640528,
          5.371821157115925,
          5.329976014501487,
          5.301306580951887,
          5.280886020471324,
          5.400414790462887,
          5.324967620653954,
          5.275879111407325,
          5.375359872473109,
          5.482434654734684,
          5.52520228399743,
          5.400414790462887,
          5.324967620653954,
          5.275879111407325,
          5.375359872473109,
          5.482434654734684,
          5.52520228399743,
          5.400414790462887,
          5.324967620653954,
          5.275879111407325,
          5.375359872473109,
          5.482434654734684,
          5.52520228399743,
          5.400414790462887,
          5.324967620653954,
          5.275879111407325,
          5.375359872473109,
          5.482434654734684,
          5.52520228399743,
          5.400414790462887,
          5.324967620653954,
          5.275879111407325,
          5.375359872473109,
          5.482434654734684,
          5.52520228399743,
          5.400414790462887,
          5.324967620653954,
          5.275879111407325,
          5.375359872473109,
          5.482434654734684,
          5.52520228399743
         ],
         "y": [
          1.2490841035856326,
          1.2490841035856326,
          1.2490841035856326,
          1.2490841035856326,
          1.2490841035856326,
          1.2490841035856326,
          1.2490841035856326,
          1.2490841035856326,
          1.2490841035856326,
          1.2490841035856326,
          1.2490841035856326,
          1.2490841035856326,
          1.1994287810319684,
          1.1994287810319684,
          1.1994287810319684,
          1.1994287810319684,
          1.1994287810319684,
          1.1994287810319684,
          1.1994287810319684,
          1.1994287810319684,
          1.1994287810319684,
          1.1994287810319684,
          1.1994287810319684,
          1.1994287810319684,
          1.1142491643171806,
          1.1142491643171806,
          1.1142491643171806,
          1.1142491643171806,
          1.1142491643171806,
          1.1142491643171806,
          1.1142491643171806,
          1.1142491643171806,
          1.1142491643171806,
          1.1142491643171806,
          1.1142491643171806,
          1.1142491643171806,
          1.0805330530589055,
          1.0805330530589055,
          1.0805330530589055,
          1.0805330530589055,
          1.0805330530589055,
          1.0805330530589055,
          1.0805330530589055,
          1.0805330530589055,
          1.0805330530589055,
          1.0805330530589055,
          1.0805330530589055,
          1.0805330530589055,
          1.0585059424731682,
          1.0585059424731682,
          1.0585059424731682,
          1.0585059424731682,
          1.0585059424731682,
          1.0585059424731682,
          1.0585059424731682,
          1.0585059424731682,
          1.0585059424731682,
          1.0585059424731682,
          1.0585059424731682,
          1.0585059424731682,
          1.0415656325785816,
          1.0415656325785816,
          1.0415656325785816,
          1.0415656325785816,
          1.0415656325785816,
          1.0415656325785816,
          1.0415656325785816,
          1.0415656325785816,
          1.0415656325785816,
          1.0415656325785816,
          1.0415656325785816,
          1.0415656325785816,
          1.0754498116251183,
          1.0754498116251183,
          1.0754498116251183,
          1.0754498116251183,
          1.0754498116251183,
          1.0754498116251183,
          1.0754498116251183,
          1.0754498116251183,
          1.0754498116251183,
          1.0754498116251183,
          1.0754498116251183,
          1.0754498116251183,
          1.0799008921293791,
          1.0799008921293791,
          1.0799008921293791,
          1.0799008921293791,
          1.0799008921293791,
          1.0799008921293791,
          1.0799008921293791,
          1.0799008921293791,
          1.0799008921293791,
          1.0799008921293791,
          1.0799008921293791,
          1.0799008921293791,
          1.0808487887921163,
          1.0808487887921163,
          1.0808487887921163,
          1.0808487887921163,
          1.0808487887921163,
          1.0808487887921163,
          1.0808487887921163,
          1.0808487887921163,
          1.0808487887921163,
          1.0808487887921163,
          1.0808487887921163,
          1.0808487887921163,
          1.0877375263022864,
          1.0877375263022864,
          1.0877375263022864,
          1.0877375263022864,
          1.0877375263022864,
          1.0877375263022864,
          1.0877375263022864,
          1.0877375263022864,
          1.0877375263022864,
          1.0877375263022864,
          1.0877375263022864,
          1.0877375263022864,
          1.096045219237153,
          1.096045219237153,
          1.096045219237153,
          1.096045219237153,
          1.096045219237153,
          1.096045219237153,
          1.096045219237153,
          1.096045219237153,
          1.096045219237153,
          1.096045219237153,
          1.096045219237153,
          1.096045219237153,
          1.1044959691906455,
          1.1044959691906455,
          1.1044959691906455,
          1.1044959691906455,
          1.1044959691906455,
          1.1044959691906455,
          1.1044959691906455,
          1.1044959691906455,
          1.1044959691906455,
          1.1044959691906455,
          1.1044959691906455,
          1.1044959691906455,
          1.0824240334712552,
          1.0824240334712552,
          1.0824240334712552,
          1.0824240334712552,
          1.0824240334712552,
          1.0824240334712552,
          1.055170330976704,
          1.055170330976704,
          1.055170330976704,
          1.055170330976704,
          1.055170330976704,
          1.055170330976704,
          1.0874267610068058,
          1.0874267610068058,
          1.0874267610068058,
          1.0874267610068058,
          1.0874267610068058,
          1.0874267610068058,
          1.0686864683244282,
          1.0686864683244282,
          1.0686864683244282,
          1.0686864683244282,
          1.0686864683244282,
          1.0686864683244282,
          1.1124920702875813,
          1.1124920702875813,
          1.1124920702875813,
          1.1124920702875813,
          1.1124920702875813,
          1.1124920702875813,
          1.105689906662614,
          1.105689906662614,
          1.105689906662614,
          1.105689906662614,
          1.105689906662614,
          1.105689906662614
         ]
        },
        {
         "customdata": [
          [
           "nanocomposite",
           "montmorillonite"
          ],
          [
           "nanocomposite",
           "montmorillonite"
          ],
          [
           "nanocomposite",
           "montmorillonite"
          ],
          [
           "nanocomposite",
           "montmorillonite"
          ],
          [
           "nanocomposite",
           "montmorillonite"
          ],
          [
           "nanocomposite",
           "montmorillonite"
          ],
          [
           "nanocomposite",
           "montmorillonite"
          ],
          [
           "nanocomposite",
           "montmorillonite"
          ],
          [
           "nanocomposite",
           "montmorillonite"
          ],
          [
           "nanocomposite",
           "montmorillonite"
          ],
          [
           "nanocomposite",
           "montmorillonite"
          ],
          [
           "nanocomposite",
           "montmorillonite"
          ],
          [
           "nanocomposite",
           "montmorillonite"
          ],
          [
           "nanocomposite",
           "montmorillonite"
          ],
          [
           "nanocomposite",
           "montmorillonite"
          ],
          [
           "nanocomposite",
           "montmorillonite"
          ],
          [
           "nanocomposite",
           "montmorillonite"
          ],
          [
           "nanocomposite",
           "montmorillonite"
          ],
          [
           "nanocomposite",
           "montmorillonite"
          ],
          [
           "nanocomposite",
           "montmorillonite"
          ],
          [
           "nanocomposite",
           "montmorillonite"
          ],
          [
           "nanocomposite",
           "montmorillonite"
          ],
          [
           "nanocomposite",
           "montmorillonite"
          ],
          [
           "nanocomposite",
           "montmorillonite"
          ],
          [
           "nanocomposite",
           "montmorillonite"
          ],
          [
           "nanocomposite",
           "montmorillonite"
          ],
          [
           "nanocomposite",
           "montmorillonite"
          ],
          [
           "nanocomposite",
           "montmorillonite"
          ],
          [
           "nanocomposite",
           "montmorillonite"
          ],
          [
           "nanocomposite",
           "montmorillonite"
          ],
          [
           "nanocomposite",
           "montmorillonite"
          ],
          [
           "nanocomposite",
           "montmorillonite"
          ],
          [
           "nanocomposite",
           "montmorillonite"
          ],
          [
           "nanocomposite",
           "montmorillonite"
          ],
          [
           "nanocomposite",
           "montmorillonite"
          ],
          [
           "nanocomposite",
           "montmorillonite"
          ],
          [
           "nanocomposite",
           "montmorillonite"
          ],
          [
           "nanocomposite",
           "montmorillonite"
          ],
          [
           "nanocomposite",
           "montmorillonite"
          ],
          [
           "nanocomposite",
           "montmorillonite"
          ],
          [
           "nanocomposite",
           "montmorillonite"
          ],
          [
           "nanocomposite",
           "montmorillonite"
          ],
          [
           "nanocomposite",
           "montmorillonite"
          ],
          [
           "nanocomposite",
           "montmorillonite"
          ],
          [
           "nanocomposite",
           "montmorillonite"
          ],
          [
           "nanocomposite",
           "montmorillonite"
          ],
          [
           "nanocomposite",
           "montmorillonite"
          ],
          [
           "nanocomposite",
           "montmorillonite"
          ],
          [
           "nanocomposite",
           "montmorillonite"
          ],
          [
           "nanocomposite",
           "montmorillonite"
          ],
          [
           "nanocomposite",
           "montmorillonite"
          ],
          [
           "nanocomposite",
           "montmorillonite"
          ],
          [
           "nanocomposite",
           "montmorillonite"
          ],
          [
           "nanocomposite",
           "montmorillonite"
          ],
          [
           "nanocomposite",
           "montmorillonite"
          ],
          [
           "nanocomposite",
           "montmorillonite"
          ]
         ],
         "hovertemplate": "Base Material: %{text}<br>Type: %{customdata[0]}<br>Secondary Material: %{customdata[1]}<br>log(WVTR): %{x}<br>log(OTR): %{y}",
         "marker": {
          "color": [
           "rgba(167,59,41, 1)",
           "rgba(167,59,41, 1)",
           "rgba(167,59,41, 1)",
           "rgba(167,59,41, 1)",
           "rgba(167,59,41, 1)",
           "rgba(167,59,41, 1)",
           "rgba(167,59,41, 1)",
           "rgba(167,59,41, 1)",
           "rgba(167,59,41, 1)",
           "rgba(167,59,41, 1)",
           "rgba(167,59,41, 1)",
           "rgba(167,59,41, 1)",
           "rgba(167,59,41, 1)",
           "rgba(167,59,41, 1)",
           "rgba(167,59,41, 1)",
           "rgba(167,59,41, 1)",
           "rgba(167,59,41, 1)",
           "rgba(167,59,41, 1)",
           "rgba(167,59,41, 1)",
           "rgba(167,59,41, 1)",
           "rgba(167,59,41, 1)",
           "rgba(167,59,41, 1)",
           "rgba(167,59,41, 1)",
           "rgba(167,59,41, 1)",
           "rgba(167,59,41, 1)",
           "rgba(167,59,41, 1)",
           "rgba(167,59,41, 1)",
           "rgba(167,59,41, 1)",
           "rgba(167,59,41, 1)",
           "rgba(167,59,41, 1)",
           "rgba(167,59,41, 1)",
           "rgba(167,59,41, 1)",
           "rgba(167,59,41, 1)",
           "rgba(167,59,41, 1)",
           "rgba(167,59,41, 1)",
           "rgba(167,59,41, 1)",
           "rgba(167,59,41, 1)",
           "rgba(167,59,41, 1)",
           "rgba(167,59,41, 1)",
           "rgba(167,59,41, 1)",
           "rgba(167,59,41, 1)",
           "rgba(167,59,41, 1)",
           "rgba(167,59,41, 1)",
           "rgba(167,59,41, 1)",
           "rgba(167,59,41, 1)",
           "rgba(167,59,41, 1)",
           "rgba(167,59,41, 1)",
           "rgba(167,59,41, 1)",
           "rgba(167,59,41, 1)",
           "rgba(167,59,41, 1)",
           "rgba(167,59,41, 1)",
           "rgba(167,59,41, 1)",
           "rgba(167,59,41, 1)",
           "rgba(167,59,41, 1)",
           "rgba(167,59,41, 1)",
           "rgba(167,59,41, 1)"
          ],
          "size": 10,
          "symbol": [
           "circle",
           "circle",
           "circle",
           "circle",
           "circle",
           "circle",
           "circle",
           "circle",
           "circle",
           "circle",
           "circle",
           "circle",
           "circle",
           "circle",
           "circle",
           "circle",
           "circle",
           "circle",
           "circle",
           "circle",
           "circle",
           "circle",
           "circle",
           "circle",
           "circle",
           "circle",
           "circle",
           "circle",
           "circle",
           "circle",
           "circle",
           "circle",
           "circle",
           "circle",
           "circle",
           "circle",
           "circle",
           "circle",
           "circle",
           "circle",
           "circle",
           "circle",
           "circle",
           "circle",
           "circle",
           "circle",
           "circle",
           "circle",
           "circle",
           "circle",
           "circle",
           "circle",
           "circle",
           "circle",
           "circle",
           "circle"
          ]
         },
         "mode": "markers",
         "name": "Cluster 1 (56 points)",
         "text": [
          "fish gelatin",
          "fish gelatin",
          "fish gelatin",
          "fish gelatin",
          "fish gelatin",
          "fish gelatin",
          "fish gelatin",
          "fish gelatin",
          "fish gelatin",
          "fish gelatin",
          "fish gelatin",
          "fish gelatin",
          "fish gelatin",
          "fish gelatin",
          "fish gelatin",
          "fish gelatin",
          "fish gelatin",
          "fish gelatin",
          "fish gelatin",
          "fish gelatin",
          "fish gelatin",
          "fish gelatin",
          "fish gelatin",
          "fish gelatin",
          "fish gelatin",
          "fish gelatin",
          "fish gelatin",
          "fish gelatin",
          "fish gelatin",
          "fish gelatin",
          "fish gelatin",
          "fish gelatin",
          "fish gelatin",
          "fish gelatin",
          "fish gelatin",
          "fish gelatin",
          "fish gelatin",
          "fish gelatin",
          "fish gelatin",
          "fish gelatin",
          "fish gelatin",
          "fish gelatin",
          "fish gelatin",
          "fish gelatin",
          "fish gelatin",
          "fish gelatin",
          "fish gelatin",
          "fish gelatin",
          "fish gelatin",
          "fish gelatin",
          "fish gelatin",
          "fish gelatin",
          "fish gelatin",
          "fish gelatin",
          "fish gelatin",
          "fish gelatin"
         ],
         "type": "scatter",
         "x": [
          2.8507153737712736,
          2.9914483775628056,
          3.0789509220490308,
          3.1353549532470857,
          3.0356520400548592,
          3.0321354663320217,
          3.059501650548388,
          3.0821094412938606,
          2.8507153737712736,
          2.9914483775628056,
          3.0789509220490308,
          3.1353549532470857,
          3.0356520400548592,
          3.0321354663320217,
          3.059501650548388,
          3.0821094412938606,
          2.8507153737712736,
          2.9914483775628056,
          3.0789509220490308,
          3.1353549532470857,
          3.0356520400548592,
          3.0321354663320217,
          3.059501650548388,
          3.0821094412938606,
          2.8507153737712736,
          2.9914483775628056,
          3.0789509220490308,
          3.1353549532470857,
          3.0356520400548592,
          3.0321354663320217,
          3.059501650548388,
          3.0821094412938606,
          2.8507153737712736,
          2.9914483775628056,
          3.0789509220490308,
          3.1353549532470857,
          3.0356520400548592,
          3.0321354663320217,
          3.059501650548388,
          3.0821094412938606,
          2.8507153737712736,
          2.9914483775628056,
          3.0789509220490308,
          3.1353549532470857,
          3.0356520400548592,
          3.0321354663320217,
          3.059501650548388,
          3.0821094412938606,
          2.8507153737712736,
          2.9914483775628056,
          3.0789509220490308,
          3.1353549532470857,
          3.0356520400548592,
          3.0321354663320217,
          3.059501650548388,
          3.0821094412938606
         ],
         "y": [
          0.05842602445700704,
          0.05842602445700704,
          0.05842602445700704,
          0.05842602445700704,
          0.05842602445700704,
          0.05842602445700704,
          0.05842602445700704,
          0.05842602445700704,
          0.2931414834509317,
          0.2931414834509317,
          0.2931414834509317,
          0.2931414834509317,
          0.2931414834509317,
          0.2931414834509317,
          0.2931414834509317,
          0.2931414834509317,
          0.2337573629655109,
          0.2337573629655109,
          0.2337573629655109,
          0.2337573629655109,
          0.2337573629655109,
          0.2337573629655109,
          0.2337573629655109,
          0.2337573629655109,
          0.3308194664958377,
          0.3308194664958377,
          0.3308194664958377,
          0.3308194664958377,
          0.3308194664958377,
          0.3308194664958377,
          0.3308194664958377,
          0.3308194664958377,
          0.2785249647370182,
          0.2785249647370182,
          0.2785249647370182,
          0.2785249647370182,
          0.2785249647370182,
          0.2785249647370182,
          0.2785249647370182,
          0.2785249647370182,
          0.3944516808262167,
          0.3944516808262167,
          0.3944516808262167,
          0.3944516808262167,
          0.3944516808262167,
          0.3944516808262167,
          0.3944516808262167,
          0.3944516808262167,
          0.3165993020938614,
          0.3165993020938614,
          0.3165993020938614,
          0.3165993020938614,
          0.3165993020938614,
          0.3165993020938614,
          0.3165993020938614,
          0.3165993020938614
         ]
        },
        {
         "customdata": [
          [
           "individual",
           "None"
          ],
          [
           "individual",
           "None"
          ],
          [
           "individual",
           "None"
          ]
         ],
         "hovertemplate": "Base Material: %{text}<br>Type: %{customdata[0]}<br>Secondary Material: %{customdata[1]}<br>log(WVTR): %{x}<br>log(OTR): %{y}",
         "marker": {
          "color": [
           "rgba(0,142,105, 1)",
           "rgba(0,142,105, 1)",
           "rgba(0,142,105, 1)"
          ],
          "size": 10,
          "symbol": [
           "circle",
           "circle",
           "circle"
          ]
         },
         "mode": "markers",
         "name": "Cluster 2 (3 points)",
         "text": [
          "chitosan",
          "chitosan",
          "chitosan"
         ],
         "type": "scatter",
         "x": [
          3.728271565135178,
          2.115999178029274,
          4.126948067563351
         ],
         "y": [
          6.510866590733636,
          6.510866590733636,
          6.510866590733636
         ]
        },
        {
         "customdata": [
          [
           "individual",
           "None"
          ],
          [
           "individual",
           "None"
          ],
          [
           "individual",
           "None"
          ],
          [
           "individual",
           "None"
          ],
          [
           "individual",
           "None"
          ],
          [
           "individual",
           "None"
          ],
          [
           "individual",
           "None"
          ],
          [
           "individual",
           "None"
          ],
          [
           "individual",
           "None"
          ],
          [
           "individual",
           "None"
          ]
         ],
         "hovertemplate": "Base Material: %{text}<br>Type: %{customdata[0]}<br>Secondary Material: %{customdata[1]}<br>log(WVTR): %{x}<br>log(OTR): %{y}",
         "marker": {
          "color": [
           "rgba(119,69,175, 1)",
           "rgba(119,69,175, 1)",
           "rgba(119,69,175, 1)",
           "rgba(119,69,175, 1)",
           "rgba(119,69,175, 1)",
           "rgba(119,69,175, 1)",
           "rgba(119,69,175, 1)",
           "rgba(119,69,175, 1)",
           "rgba(119,69,175, 1)",
           "rgba(119,69,175, 1)"
          ],
          "size": 10,
          "symbol": [
           "circle",
           "circle",
           "circle",
           "circle",
           "circle",
           "circle",
           "circle",
           "circle",
           "circle",
           "circle"
          ]
         },
         "mode": "markers",
         "name": "Cluster 3 (10 points)",
         "text": [
          "fish gelatin",
          "polylactic acid",
          "polylactic acid",
          "polylactic acid",
          "polylactic acid",
          "polylactic acid",
          "polylactic acid",
          "polylactic acid",
          "polylactic acid",
          "polylactic acid"
         ],
         "type": "scatter",
         "x": [
          3.436384948911067,
          3.3431968181948495,
          3.2796896161832803,
          3.6496700758487925,
          3.3431968181948495,
          3.2796896161832803,
          3.6496700758487925,
          3.3431968181948495,
          3.2796896161832803,
          3.6496700758487925
         ],
         "y": [
          0.6050894618815801,
          2.852053724543536,
          2.852053724543536,
          2.852053724543536,
          4.028636128569049,
          4.028636128569049,
          4.028636128569049,
          2.2336005375338255,
          2.2336005375338255,
          2.2336005375338255
         ]
        },
        {
         "customdata": [
          [
           "individual",
           "None"
          ],
          [
           "individual",
           "None"
          ],
          [
           "individual",
           "None"
          ]
         ],
         "hovertemplate": "Base Material: %{text}<br>Type: %{customdata[0]}<br>Secondary Material: %{customdata[1]}<br>log(WVTR): %{x}<br>log(OTR): %{y}",
         "marker": {
          "color": [
           "#FFA15A",
           "#FFA15A",
           "#FFA15A"
          ],
          "size": 10,
          "symbol": [
           "triangle-up",
           "triangle-up",
           "triangle-up"
          ]
         },
         "mode": "markers",
         "name": "Cluster 4 (3 points)",
         "text": [
          "LDPE",
          "LDPE",
          "HDPE"
         ],
         "type": "scatter",
         "x": [
          2.0585689197390065,
          1.8817496075112425,
          1.2846530357148302
         ],
         "y": [
          4.2775678801531685,
          4.2775678801531685,
          3.6361330959586846
         ]
        },
        {
         "customdata": [
          [
           "individual",
           "None"
          ],
          [
           "individual",
           "None"
          ]
         ],
         "hovertemplate": "Base Material: %{text}<br>Type: %{customdata[0]}<br>Secondary Material: %{customdata[1]}<br>log(WVTR): %{x}<br>log(OTR): %{y}",
         "marker": {
          "color": [
           "#19D3F3",
           "#19D3F3"
          ],
          "size": 10,
          "symbol": [
           "triangle-up",
           "triangle-up"
          ]
         },
         "mode": "markers",
         "name": "Cluster 5 (2 points)",
         "text": [
          "polypropylene",
          "polypropylene"
         ],
         "type": "scatter",
         "x": [
          1.7551437115354795,
          1.7551437115354795
         ],
         "y": [
          8.704683837256171,
          9.005713832920152
         ]
        }
       ],
       "layout": {
        "shapes": [
         {
          "fillcolor": "rgba(99, 110, 250, 0.1)",
          "line": {
           "color": "#636EFA",
           "width": 2
          },
          "type": "rect",
          "x0": 5.187989710859901,
          "x1": 5.763809382804633,
          "y0": 1.0415656325785816,
          "y1": 1.2490841035856326
         },
         {
          "fillcolor": "rgba(239, 85, 59, 0.1)",
          "line": {
           "color": "#EF553B",
           "width": 2
          },
          "type": "rect",
          "x0": 2.8507153737712736,
          "x1": 3.1353549532470857,
          "y0": 0.05842602445700704,
          "y1": 0.3944516808262167
         },
         {
          "fillcolor": "rgba(0, 204, 150, 0.1)",
          "line": {
           "color": "#00CC96",
           "width": 2
          },
          "type": "rect",
          "x0": 2.115999178029274,
          "x1": 4.126948067563351,
          "y0": 6.510866590733636,
          "y1": 6.510866590733636
         },
         {
          "fillcolor": "rgba(171, 99, 250, 0.1)",
          "line": {
           "color": "#AB63FA",
           "width": 2
          },
          "type": "rect",
          "x0": 3.2796896161832803,
          "x1": 3.6496700758487925,
          "y0": 0.6050894618815801,
          "y1": 4.028636128569049
         },
         {
          "fillcolor": "rgba(255, 161, 90, 0.1)",
          "line": {
           "color": "#FFA15A",
           "width": 2
          },
          "type": "rect",
          "x0": 1.2846530357148302,
          "x1": 2.0585689197390065,
          "y0": 3.6361330959586846,
          "y1": 4.2775678801531685
         },
         {
          "fillcolor": "rgba(25, 211, 243, 0.1)",
          "line": {
           "color": "#19D3F3",
           "width": 2
          },
          "type": "rect",
          "x0": 1.7551437115354795,
          "x1": 1.7551437115354795,
          "y0": 8.704683837256171,
          "y1": 9.005713832920152
         }
        ],
        "template": {
         "data": {
          "bar": [
           {
            "error_x": {
             "color": "#2a3f5f"
            },
            "error_y": {
             "color": "#2a3f5f"
            },
            "marker": {
             "line": {
              "color": "white",
              "width": 0.5
             },
             "pattern": {
              "fillmode": "overlay",
              "size": 10,
              "solidity": 0.2
             }
            },
            "type": "bar"
           }
          ],
          "barpolar": [
           {
            "marker": {
             "line": {
              "color": "white",
              "width": 0.5
             },
             "pattern": {
              "fillmode": "overlay",
              "size": 10,
              "solidity": 0.2
             }
            },
            "type": "barpolar"
           }
          ],
          "carpet": [
           {
            "aaxis": {
             "endlinecolor": "#2a3f5f",
             "gridcolor": "#C8D4E3",
             "linecolor": "#C8D4E3",
             "minorgridcolor": "#C8D4E3",
             "startlinecolor": "#2a3f5f"
            },
            "baxis": {
             "endlinecolor": "#2a3f5f",
             "gridcolor": "#C8D4E3",
             "linecolor": "#C8D4E3",
             "minorgridcolor": "#C8D4E3",
             "startlinecolor": "#2a3f5f"
            },
            "type": "carpet"
           }
          ],
          "choropleth": [
           {
            "colorbar": {
             "outlinewidth": 0,
             "ticks": ""
            },
            "type": "choropleth"
           }
          ],
          "contour": [
           {
            "colorbar": {
             "outlinewidth": 0,
             "ticks": ""
            },
            "colorscale": [
             [
              0,
              "#0d0887"
             ],
             [
              0.1111111111111111,
              "#46039f"
             ],
             [
              0.2222222222222222,
              "#7201a8"
             ],
             [
              0.3333333333333333,
              "#9c179e"
             ],
             [
              0.4444444444444444,
              "#bd3786"
             ],
             [
              0.5555555555555556,
              "#d8576b"
             ],
             [
              0.6666666666666666,
              "#ed7953"
             ],
             [
              0.7777777777777778,
              "#fb9f3a"
             ],
             [
              0.8888888888888888,
              "#fdca26"
             ],
             [
              1,
              "#f0f921"
             ]
            ],
            "type": "contour"
           }
          ],
          "contourcarpet": [
           {
            "colorbar": {
             "outlinewidth": 0,
             "ticks": ""
            },
            "type": "contourcarpet"
           }
          ],
          "heatmap": [
           {
            "colorbar": {
             "outlinewidth": 0,
             "ticks": ""
            },
            "colorscale": [
             [
              0,
              "#0d0887"
             ],
             [
              0.1111111111111111,
              "#46039f"
             ],
             [
              0.2222222222222222,
              "#7201a8"
             ],
             [
              0.3333333333333333,
              "#9c179e"
             ],
             [
              0.4444444444444444,
              "#bd3786"
             ],
             [
              0.5555555555555556,
              "#d8576b"
             ],
             [
              0.6666666666666666,
              "#ed7953"
             ],
             [
              0.7777777777777778,
              "#fb9f3a"
             ],
             [
              0.8888888888888888,
              "#fdca26"
             ],
             [
              1,
              "#f0f921"
             ]
            ],
            "type": "heatmap"
           }
          ],
          "heatmapgl": [
           {
            "colorbar": {
             "outlinewidth": 0,
             "ticks": ""
            },
            "colorscale": [
             [
              0,
              "#0d0887"
             ],
             [
              0.1111111111111111,
              "#46039f"
             ],
             [
              0.2222222222222222,
              "#7201a8"
             ],
             [
              0.3333333333333333,
              "#9c179e"
             ],
             [
              0.4444444444444444,
              "#bd3786"
             ],
             [
              0.5555555555555556,
              "#d8576b"
             ],
             [
              0.6666666666666666,
              "#ed7953"
             ],
             [
              0.7777777777777778,
              "#fb9f3a"
             ],
             [
              0.8888888888888888,
              "#fdca26"
             ],
             [
              1,
              "#f0f921"
             ]
            ],
            "type": "heatmapgl"
           }
          ],
          "histogram": [
           {
            "marker": {
             "pattern": {
              "fillmode": "overlay",
              "size": 10,
              "solidity": 0.2
             }
            },
            "type": "histogram"
           }
          ],
          "histogram2d": [
           {
            "colorbar": {
             "outlinewidth": 0,
             "ticks": ""
            },
            "colorscale": [
             [
              0,
              "#0d0887"
             ],
             [
              0.1111111111111111,
              "#46039f"
             ],
             [
              0.2222222222222222,
              "#7201a8"
             ],
             [
              0.3333333333333333,
              "#9c179e"
             ],
             [
              0.4444444444444444,
              "#bd3786"
             ],
             [
              0.5555555555555556,
              "#d8576b"
             ],
             [
              0.6666666666666666,
              "#ed7953"
             ],
             [
              0.7777777777777778,
              "#fb9f3a"
             ],
             [
              0.8888888888888888,
              "#fdca26"
             ],
             [
              1,
              "#f0f921"
             ]
            ],
            "type": "histogram2d"
           }
          ],
          "histogram2dcontour": [
           {
            "colorbar": {
             "outlinewidth": 0,
             "ticks": ""
            },
            "colorscale": [
             [
              0,
              "#0d0887"
             ],
             [
              0.1111111111111111,
              "#46039f"
             ],
             [
              0.2222222222222222,
              "#7201a8"
             ],
             [
              0.3333333333333333,
              "#9c179e"
             ],
             [
              0.4444444444444444,
              "#bd3786"
             ],
             [
              0.5555555555555556,
              "#d8576b"
             ],
             [
              0.6666666666666666,
              "#ed7953"
             ],
             [
              0.7777777777777778,
              "#fb9f3a"
             ],
             [
              0.8888888888888888,
              "#fdca26"
             ],
             [
              1,
              "#f0f921"
             ]
            ],
            "type": "histogram2dcontour"
           }
          ],
          "mesh3d": [
           {
            "colorbar": {
             "outlinewidth": 0,
             "ticks": ""
            },
            "type": "mesh3d"
           }
          ],
          "parcoords": [
           {
            "line": {
             "colorbar": {
              "outlinewidth": 0,
              "ticks": ""
             }
            },
            "type": "parcoords"
           }
          ],
          "pie": [
           {
            "automargin": true,
            "type": "pie"
           }
          ],
          "scatter": [
           {
            "marker": {
             "colorbar": {
              "outlinewidth": 0,
              "ticks": ""
             }
            },
            "type": "scatter"
           }
          ],
          "scatter3d": [
           {
            "line": {
             "colorbar": {
              "outlinewidth": 0,
              "ticks": ""
             }
            },
            "marker": {
             "colorbar": {
              "outlinewidth": 0,
              "ticks": ""
             }
            },
            "type": "scatter3d"
           }
          ],
          "scattercarpet": [
           {
            "marker": {
             "colorbar": {
              "outlinewidth": 0,
              "ticks": ""
             }
            },
            "type": "scattercarpet"
           }
          ],
          "scattergeo": [
           {
            "marker": {
             "colorbar": {
              "outlinewidth": 0,
              "ticks": ""
             }
            },
            "type": "scattergeo"
           }
          ],
          "scattergl": [
           {
            "marker": {
             "colorbar": {
              "outlinewidth": 0,
              "ticks": ""
             }
            },
            "type": "scattergl"
           }
          ],
          "scattermapbox": [
           {
            "marker": {
             "colorbar": {
              "outlinewidth": 0,
              "ticks": ""
             }
            },
            "type": "scattermapbox"
           }
          ],
          "scatterpolar": [
           {
            "marker": {
             "colorbar": {
              "outlinewidth": 0,
              "ticks": ""
             }
            },
            "type": "scatterpolar"
           }
          ],
          "scatterpolargl": [
           {
            "marker": {
             "colorbar": {
              "outlinewidth": 0,
              "ticks": ""
             }
            },
            "type": "scatterpolargl"
           }
          ],
          "scatterternary": [
           {
            "marker": {
             "colorbar": {
              "outlinewidth": 0,
              "ticks": ""
             }
            },
            "type": "scatterternary"
           }
          ],
          "surface": [
           {
            "colorbar": {
             "outlinewidth": 0,
             "ticks": ""
            },
            "colorscale": [
             [
              0,
              "#0d0887"
             ],
             [
              0.1111111111111111,
              "#46039f"
             ],
             [
              0.2222222222222222,
              "#7201a8"
             ],
             [
              0.3333333333333333,
              "#9c179e"
             ],
             [
              0.4444444444444444,
              "#bd3786"
             ],
             [
              0.5555555555555556,
              "#d8576b"
             ],
             [
              0.6666666666666666,
              "#ed7953"
             ],
             [
              0.7777777777777778,
              "#fb9f3a"
             ],
             [
              0.8888888888888888,
              "#fdca26"
             ],
             [
              1,
              "#f0f921"
             ]
            ],
            "type": "surface"
           }
          ],
          "table": [
           {
            "cells": {
             "fill": {
              "color": "#EBF0F8"
             },
             "line": {
              "color": "white"
             }
            },
            "header": {
             "fill": {
              "color": "#C8D4E3"
             },
             "line": {
              "color": "white"
             }
            },
            "type": "table"
           }
          ]
         },
         "layout": {
          "annotationdefaults": {
           "arrowcolor": "#2a3f5f",
           "arrowhead": 0,
           "arrowwidth": 1
          },
          "autotypenumbers": "strict",
          "coloraxis": {
           "colorbar": {
            "outlinewidth": 0,
            "ticks": ""
           }
          },
          "colorscale": {
           "diverging": [
            [
             0,
             "#8e0152"
            ],
            [
             0.1,
             "#c51b7d"
            ],
            [
             0.2,
             "#de77ae"
            ],
            [
             0.3,
             "#f1b6da"
            ],
            [
             0.4,
             "#fde0ef"
            ],
            [
             0.5,
             "#f7f7f7"
            ],
            [
             0.6,
             "#e6f5d0"
            ],
            [
             0.7,
             "#b8e186"
            ],
            [
             0.8,
             "#7fbc41"
            ],
            [
             0.9,
             "#4d9221"
            ],
            [
             1,
             "#276419"
            ]
           ],
           "sequential": [
            [
             0,
             "#0d0887"
            ],
            [
             0.1111111111111111,
             "#46039f"
            ],
            [
             0.2222222222222222,
             "#7201a8"
            ],
            [
             0.3333333333333333,
             "#9c179e"
            ],
            [
             0.4444444444444444,
             "#bd3786"
            ],
            [
             0.5555555555555556,
             "#d8576b"
            ],
            [
             0.6666666666666666,
             "#ed7953"
            ],
            [
             0.7777777777777778,
             "#fb9f3a"
            ],
            [
             0.8888888888888888,
             "#fdca26"
            ],
            [
             1,
             "#f0f921"
            ]
           ],
           "sequentialminus": [
            [
             0,
             "#0d0887"
            ],
            [
             0.1111111111111111,
             "#46039f"
            ],
            [
             0.2222222222222222,
             "#7201a8"
            ],
            [
             0.3333333333333333,
             "#9c179e"
            ],
            [
             0.4444444444444444,
             "#bd3786"
            ],
            [
             0.5555555555555556,
             "#d8576b"
            ],
            [
             0.6666666666666666,
             "#ed7953"
            ],
            [
             0.7777777777777778,
             "#fb9f3a"
            ],
            [
             0.8888888888888888,
             "#fdca26"
            ],
            [
             1,
             "#f0f921"
            ]
           ]
          },
          "colorway": [
           "#636efa",
           "#EF553B",
           "#00cc96",
           "#ab63fa",
           "#FFA15A",
           "#19d3f3",
           "#FF6692",
           "#B6E880",
           "#FF97FF",
           "#FECB52"
          ],
          "font": {
           "color": "#2a3f5f"
          },
          "geo": {
           "bgcolor": "white",
           "lakecolor": "white",
           "landcolor": "white",
           "showlakes": true,
           "showland": true,
           "subunitcolor": "#C8D4E3"
          },
          "hoverlabel": {
           "align": "left"
          },
          "hovermode": "closest",
          "mapbox": {
           "style": "light"
          },
          "paper_bgcolor": "white",
          "plot_bgcolor": "white",
          "polar": {
           "angularaxis": {
            "gridcolor": "#EBF0F8",
            "linecolor": "#EBF0F8",
            "ticks": ""
           },
           "bgcolor": "white",
           "radialaxis": {
            "gridcolor": "#EBF0F8",
            "linecolor": "#EBF0F8",
            "ticks": ""
           }
          },
          "scene": {
           "xaxis": {
            "backgroundcolor": "white",
            "gridcolor": "#DFE8F3",
            "gridwidth": 2,
            "linecolor": "#EBF0F8",
            "showbackground": true,
            "ticks": "",
            "zerolinecolor": "#EBF0F8"
           },
           "yaxis": {
            "backgroundcolor": "white",
            "gridcolor": "#DFE8F3",
            "gridwidth": 2,
            "linecolor": "#EBF0F8",
            "showbackground": true,
            "ticks": "",
            "zerolinecolor": "#EBF0F8"
           },
           "zaxis": {
            "backgroundcolor": "white",
            "gridcolor": "#DFE8F3",
            "gridwidth": 2,
            "linecolor": "#EBF0F8",
            "showbackground": true,
            "ticks": "",
            "zerolinecolor": "#EBF0F8"
           }
          },
          "shapedefaults": {
           "line": {
            "color": "#2a3f5f"
           }
          },
          "ternary": {
           "aaxis": {
            "gridcolor": "#DFE8F3",
            "linecolor": "#A2B1C6",
            "ticks": ""
           },
           "baxis": {
            "gridcolor": "#DFE8F3",
            "linecolor": "#A2B1C6",
            "ticks": ""
           },
           "bgcolor": "white",
           "caxis": {
            "gridcolor": "#DFE8F3",
            "linecolor": "#A2B1C6",
            "ticks": ""
           }
          },
          "title": {
           "x": 0.05
          },
          "xaxis": {
           "automargin": true,
           "gridcolor": "#EBF0F8",
           "linecolor": "#EBF0F8",
           "ticks": "",
           "title": {
            "standoff": 15
           },
           "zerolinecolor": "#EBF0F8",
           "zerolinewidth": 2
          },
          "yaxis": {
           "automargin": true,
           "gridcolor": "#EBF0F8",
           "linecolor": "#EBF0F8",
           "ticks": "",
           "title": {
            "standoff": 15
           },
           "zerolinecolor": "#EBF0F8",
           "zerolinewidth": 2
          }
         }
        },
        "title": {
         "text": "GMM Clustering with Cluster Boundaries_unnormalized"
        },
        "xaxis": {
         "tickfont": {
          "size": 16
         },
         "ticktext": [
          "10<sup>0</sup>",
          "10<sup>1</sup>",
          "10<sup>1</sup>",
          "10<sup>2</sup>",
          "10<sup>3</sup>",
          "10<sup>3</sup>",
          "10<sup>4</sup>",
          "10<sup>5</sup>",
          "10<sup>6</sup>",
          "10<sup>6</sup>"
         ],
         "tickvals": [
          0.28465303571483025,
          1.004559296502586,
          1.7244655572903418,
          2.4443718180780976,
          3.1642780788658533,
          3.884184339653609,
          4.604090600441365,
          5.323996861229121,
          6.043903122016877,
          6.763809382804633
         ],
         "title": {
          "text": "WVTR (g/m2day)"
         },
         "type": "linear"
        },
        "yaxis": {
         "tickfont": {
          "size": 16
         },
         "ticktext": [
          "10<sup>0</sup>",
          "10<sup>0</sup>",
          "10<sup>1</sup>",
          "10<sup>2</sup>",
          "10<sup>3</sup>",
          "10<sup>5</sup>",
          "10<sup>6</sup>",
          "10<sup>7</sup>",
          "10<sup>8</sup>",
          "10<sup>10</sup>"
         ],
         "tickvals": [
          -0.9415739755429929,
          0.27479133650846765,
          1.4911566485599281,
          2.7075219606113885,
          3.9238872726628493,
          5.14025258471431,
          6.35661789676577,
          7.572983208817232,
          8.789348520868693,
          10.005713832920152
         ],
         "title": {
          "text": "OTR (cm3/m2day)"
         },
         "type": "linear"
        }
       }
      }
     },
     "metadata": {},
     "output_type": "display_data"
    },
    {
     "data": {
      "text/plain": [
       "'GMM_cluster_OP_vs_WVP_unnormalized.html'"
      ]
     },
     "execution_count": 31,
     "metadata": {},
     "output_type": "execute_result"
    }
   ],
   "source": [
    "from sklearn.preprocessing import StandardScaler\n",
    "from sklearn.mixture import GaussianMixture\n",
    "\n",
    "# Define whether to use normalization\n",
    "use_normalization = False\n",
    "\n",
    "# Select features and drop rows with NaN\n",
    "features = dtr[['log_OTR_Updated_Num', 'log_WVTR_Updated_Num']].dropna().values\n",
    "\n",
    "# Normalize data if required\n",
    "if use_normalization:\n",
    "    scaler = StandardScaler()\n",
    "    normalized_features = scaler.fit_transform(features)\n",
    "else:\n",
    "    normalized_features = features\n",
    "    \n",
    "# Fit the Gaussian Mixture Model\n",
    "n_components = 6 # Set the number of clusters\n",
    "gmm = GaussianMixture(n_components=n_components, random_state=42)\n",
    "gmm.fit(features)\n",
    "\n",
    "# Predict cluster labels\n",
    "labels = gmm.predict(normalized_features)\n",
    "\n",
    "# Add cluster labels to the original DataFrame\n",
    "d_clean = dtr.dropna(subset=['log_OTR_Updated_Num', 'log_WVTR_Updated_Num']).copy()\n",
    "d_clean['Cluster'] = labels\n",
    "\n",
    "# Map clusters to Base Material\n",
    "cluster_base_material_map = (\n",
    "    d_clean.groupby('Cluster')['Base Material']\n",
    "    .apply(lambda x: x.mode()[0] if not x.empty else f\"Cluster {x.name}\")\n",
    "    .to_dict()\n",
    ")\n",
    "# Assign a color palette for clusters\n",
    "color_palette = px.colors.qualitative.Plotly  # Get Plotly color palette\n",
    "cluster_colors = {cluster: color_palette[i % len(color_palette)] for i, cluster in enumerate(cluster_base_material_map.keys())}\n",
    "\n",
    "# Initialize a Plotly figure\n",
    "fig = go.Figure()\n",
    "\n",
    "for cluster_label in np.unique(labels):\n",
    "    cluster_data = d_clean[d_clean['Cluster'] == cluster_label]\n",
    "    cluster_size = len(cluster_data) \n",
    "    # cluster_name = f\"Cluster {cluster_label} ({cluster_size} points) - {cluster_base_material_map[cluster_label]}\"\n",
    "    cluster_name = f\"Cluster {cluster_label} ({cluster_size} points)\"\n",
    "    cluster_color = cluster_colors[cluster_label]\n",
    "    \n",
    "    marker_colors = [\n",
    "        f\"rgba({int(int(cluster_color.lstrip('#')[0:2], 16) * 0.7)},\"\n",
    "        f\"{int(int(cluster_color.lstrip('#')[2:4], 16) * 0.7)},\"\n",
    "        f\"{int(int(cluster_color.lstrip('#')[4:6], 16) * 0.7)}, 1)\"\n",
    "        if is_sustainable else cluster_color\n",
    "        for is_sustainable in cluster_data['Material'].str.lower().eq('sustainable')\n",
    "    ]\n",
    "\n",
    "    # Adjust marker shape for conventional materials\n",
    "    marker_symbols = [\n",
    "        'triangle-up' if is_conventional else 'circle'\n",
    "        for is_conventional in cluster_data['Material'].str.lower().eq('conventional')\n",
    "    ]\n",
    "\n",
    "    fig.add_trace(go.Scatter(\n",
    "        x=cluster_data['log_WVTR_Updated_Num'],  # X-axis: log(WVP)\n",
    "        y=cluster_data['log_OTR_Updated_Num'],  # Y-axis: log(OP)\n",
    "        mode='markers',\n",
    "        name=cluster_name,\n",
    "        # symbol = 'Material',\n",
    "        marker=dict(size=10, color=marker_colors, symbol=marker_symbols),\n",
    "        hovertemplate=(\n",
    "            \"Base Material: %{text}<br>\"\n",
    "            \"Type: %{customdata[0]}<br>\"\n",
    "            \"Secondary Material: %{customdata[1]}<br>\"\n",
    "            \"log(WVTR): %{x}<br>\"\n",
    "            \"log(OTR): %{y}\"\n",
    "        ),\n",
    "        text=cluster_data['Base Material'],\n",
    "        customdata=cluster_data[['Type', 'Secondary Material']].values\n",
    "    ))\n",
    "\n",
    "    # Calculate cluster boundary (bounding box)\n",
    "    x_min = cluster_data['log_WVTR_Updated_Num'].min()\n",
    "    x_max = cluster_data['log_WVTR_Updated_Num'].max()\n",
    "    y_min = cluster_data['log_OTR_Updated_Num'].min()\n",
    "    y_max = cluster_data['log_OTR_Updated_Num'].max()\n",
    "\n",
    "    # Convert hex color to rgba for transparency\n",
    "    if cluster_color.startswith(\"#\"):\n",
    "        r, g, b = tuple(int(cluster_color.lstrip(\"#\")[i:i+2], 16) for i in (0, 2, 4))\n",
    "        fill_color = f\"rgba({r}, {g}, {b}, 0.1)\"\n",
    "    else:\n",
    "        fill_color = cluster_color  # Fallback if color is not in hex format\n",
    "\n",
    "    # Add a rectangle for the cluster boundary\n",
    "    fig.add_shape(\n",
    "        type=\"rect\",\n",
    "        x0=x_min, x1=x_max,\n",
    "        y0=y_min, y1=y_max,\n",
    "        line=dict(color=cluster_color, width=2),\n",
    "        fillcolor=fill_color\n",
    "    )\n",
    "plotly.offline.plot(fig, filename=f'GMM_cluster_OP_vs_WVP_log_{file_suffix}.html', auto_open=False)\n",
    "\n",
    "\n",
    "tick_vals_x = np.linspace(d_clean['log_WVTR_Updated_Num'].min()-1, d_clean['log_WVTR_Updated_Num'].max()+1, 10)\n",
    "tick_text_x = [f\"10<sup>{int(val)}</sup>\" for val in tick_vals_x]\n",
    "\n",
    "tick_vals_y = np.linspace(d_clean['log_OTR_Updated_Num'].min()-1, d_clean['log_OTR_Updated_Num'].max()+1, 10)\n",
    "tick_text_y = [f\"10<sup>{int(val)}</sup>\" for val in tick_vals_y]\n",
    "\n",
    "\n",
    "# Export the plot\n",
    "file_suffix = \"normalized\" if use_normalization else \"unnormalized\"\n",
    "\n",
    "# Update layout\n",
    "fig.update_layout(\n",
    "    title=f\"GMM Clustering with Cluster Boundaries_{file_suffix}\",\n",
    "    xaxis_title=\"log WVTR\",\n",
    "    yaxis_title=\"log OTR\",\n",
    "    template=\"plotly_white\"\n",
    ")\n",
    "\n",
    "# Update axis labels and ticks for power-of-10 display\n",
    "fig.update_layout(\n",
    "    xaxis=dict(\n",
    "        title=\"WVTR (g/m2day)\",\n",
    "        tickvals=tick_vals_x,\n",
    "        ticktext=tick_text_x,\n",
    "        tickfont=dict(size=16),\n",
    "        type='linear'  # Keeps the axis linear while displaying log ticks\n",
    "    ),\n",
    "    yaxis=dict(\n",
    "        title=\"OTR (cm3/m2day)\",\n",
    "        tickvals=tick_vals_y,\n",
    "        ticktext=tick_text_y,\n",
    "        tickfont=dict(size=16),\n",
    "        type='linear'  # Keeps the axis linear while displaying log ticks\n",
    "    ),\n",
    "    # template=\"plotly_white\"\n",
    ")\n",
    "\n",
    "fig.show()\n",
    "\n",
    "plotly.offline.plot(fig, filename=f'GMM_cluster_OP_vs_WVP_{file_suffix}.html', auto_open=False)"
   ]
  },
  {
   "cell_type": "markdown",
   "metadata": {},
   "source": [
    "### DBSCAN"
   ]
  },
  {
   "cell_type": "code",
   "execution_count": 32,
   "metadata": {},
   "outputs": [
    {
     "data": {
      "application/vnd.plotly.v1+json": {
       "config": {
        "plotlyServerURL": "https://plot.ly"
       },
       "data": [
        {
         "customdata": [
          [
           "individual",
           "None"
          ],
          [
           "individual",
           "None"
          ],
          [
           "individual",
           "None"
          ],
          [
           "individual",
           "None"
          ],
          [
           "individual",
           "None"
          ]
         ],
         "hovertemplate": "Base Material: %{text}<br>Type: %{customdata[0]}<br>Secondary Material: %{customdata[1]}<br>log(WVTR): %{x}<br>log(OTR): %{y}",
         "marker": {
          "color": [
           "rgba(147,147,147, 1)",
           "rgba(147,147,147, 1)",
           "rgba(147,147,147, 1)",
           "#d3d3d3",
           "#d3d3d3"
          ],
          "size": 10,
          "symbol": [
           "circle",
           "circle",
           "circle",
           "triangle-up",
           "triangle-up"
          ]
         },
         "mode": "markers",
         "name": "Noise",
         "text": [
          "chitosan",
          "chitosan",
          "chitosan",
          "polypropylene",
          "polypropylene"
         ],
         "type": "scatter",
         "x": [
          3.728271565135178,
          2.115999178029274,
          4.126948067563351,
          1.7551437115354795,
          1.7551437115354795
         ],
         "y": [
          6.510866590733636,
          6.510866590733636,
          6.510866590733636,
          8.704683837256171,
          9.005713832920152
         ]
        },
        {
         "customdata": [
          [
           "individual",
           "None"
          ],
          [
           "nanocomposite",
           "montmorillonite"
          ],
          [
           "nanocomposite",
           "montmorillonite"
          ],
          [
           "nanocomposite",
           "montmorillonite"
          ],
          [
           "nanocomposite",
           "montmorillonite"
          ],
          [
           "nanocomposite",
           "montmorillonite"
          ],
          [
           "nanocomposite",
           "montmorillonite"
          ],
          [
           "nanocomposite",
           "montmorillonite"
          ],
          [
           "nanocomposite",
           "montmorillonite"
          ],
          [
           "nanocomposite",
           "montmorillonite"
          ],
          [
           "nanocomposite",
           "montmorillonite"
          ],
          [
           "nanocomposite",
           "montmorillonite"
          ],
          [
           "nanocomposite",
           "montmorillonite"
          ],
          [
           "nanocomposite",
           "montmorillonite"
          ],
          [
           "nanocomposite",
           "montmorillonite"
          ],
          [
           "nanocomposite",
           "montmorillonite"
          ],
          [
           "nanocomposite",
           "montmorillonite"
          ],
          [
           "nanocomposite",
           "montmorillonite"
          ],
          [
           "nanocomposite",
           "montmorillonite"
          ],
          [
           "nanocomposite",
           "montmorillonite"
          ],
          [
           "nanocomposite",
           "montmorillonite"
          ],
          [
           "nanocomposite",
           "montmorillonite"
          ],
          [
           "nanocomposite",
           "montmorillonite"
          ],
          [
           "nanocomposite",
           "montmorillonite"
          ],
          [
           "nanocomposite",
           "montmorillonite"
          ],
          [
           "nanocomposite",
           "montmorillonite"
          ],
          [
           "nanocomposite",
           "montmorillonite"
          ],
          [
           "nanocomposite",
           "montmorillonite"
          ],
          [
           "nanocomposite",
           "montmorillonite"
          ],
          [
           "nanocomposite",
           "montmorillonite"
          ],
          [
           "nanocomposite",
           "montmorillonite"
          ],
          [
           "nanocomposite",
           "montmorillonite"
          ],
          [
           "nanocomposite",
           "montmorillonite"
          ],
          [
           "nanocomposite",
           "montmorillonite"
          ],
          [
           "nanocomposite",
           "montmorillonite"
          ],
          [
           "nanocomposite",
           "montmorillonite"
          ],
          [
           "nanocomposite",
           "montmorillonite"
          ],
          [
           "nanocomposite",
           "montmorillonite"
          ],
          [
           "nanocomposite",
           "montmorillonite"
          ],
          [
           "nanocomposite",
           "montmorillonite"
          ],
          [
           "nanocomposite",
           "montmorillonite"
          ],
          [
           "nanocomposite",
           "montmorillonite"
          ],
          [
           "nanocomposite",
           "montmorillonite"
          ],
          [
           "nanocomposite",
           "montmorillonite"
          ],
          [
           "nanocomposite",
           "montmorillonite"
          ],
          [
           "nanocomposite",
           "montmorillonite"
          ],
          [
           "nanocomposite",
           "montmorillonite"
          ],
          [
           "nanocomposite",
           "montmorillonite"
          ],
          [
           "nanocomposite",
           "montmorillonite"
          ],
          [
           "nanocomposite",
           "montmorillonite"
          ],
          [
           "nanocomposite",
           "montmorillonite"
          ],
          [
           "nanocomposite",
           "montmorillonite"
          ],
          [
           "nanocomposite",
           "montmorillonite"
          ],
          [
           "nanocomposite",
           "montmorillonite"
          ],
          [
           "nanocomposite",
           "montmorillonite"
          ],
          [
           "nanocomposite",
           "montmorillonite"
          ],
          [
           "nanocomposite",
           "montmorillonite"
          ]
         ],
         "hovertemplate": "Base Material: %{text}<br>Type: %{customdata[0]}<br>Secondary Material: %{customdata[1]}<br>log(WVTR): %{x}<br>log(OTR): %{y}",
         "marker": {
          "color": [
           "rgba(69,77,175, 1)",
           "rgba(69,77,175, 1)",
           "rgba(69,77,175, 1)",
           "rgba(69,77,175, 1)",
           "rgba(69,77,175, 1)",
           "rgba(69,77,175, 1)",
           "rgba(69,77,175, 1)",
           "rgba(69,77,175, 1)",
           "rgba(69,77,175, 1)",
           "rgba(69,77,175, 1)",
           "rgba(69,77,175, 1)",
           "rgba(69,77,175, 1)",
           "rgba(69,77,175, 1)",
           "rgba(69,77,175, 1)",
           "rgba(69,77,175, 1)",
           "rgba(69,77,175, 1)",
           "rgba(69,77,175, 1)",
           "rgba(69,77,175, 1)",
           "rgba(69,77,175, 1)",
           "rgba(69,77,175, 1)",
           "rgba(69,77,175, 1)",
           "rgba(69,77,175, 1)",
           "rgba(69,77,175, 1)",
           "rgba(69,77,175, 1)",
           "rgba(69,77,175, 1)",
           "rgba(69,77,175, 1)",
           "rgba(69,77,175, 1)",
           "rgba(69,77,175, 1)",
           "rgba(69,77,175, 1)",
           "rgba(69,77,175, 1)",
           "rgba(69,77,175, 1)",
           "rgba(69,77,175, 1)",
           "rgba(69,77,175, 1)",
           "rgba(69,77,175, 1)",
           "rgba(69,77,175, 1)",
           "rgba(69,77,175, 1)",
           "rgba(69,77,175, 1)",
           "rgba(69,77,175, 1)",
           "rgba(69,77,175, 1)",
           "rgba(69,77,175, 1)",
           "rgba(69,77,175, 1)",
           "rgba(69,77,175, 1)",
           "rgba(69,77,175, 1)",
           "rgba(69,77,175, 1)",
           "rgba(69,77,175, 1)",
           "rgba(69,77,175, 1)",
           "rgba(69,77,175, 1)",
           "rgba(69,77,175, 1)",
           "rgba(69,77,175, 1)",
           "rgba(69,77,175, 1)",
           "rgba(69,77,175, 1)",
           "rgba(69,77,175, 1)",
           "rgba(69,77,175, 1)",
           "rgba(69,77,175, 1)",
           "rgba(69,77,175, 1)",
           "rgba(69,77,175, 1)",
           "rgba(69,77,175, 1)"
          ],
          "size": 10,
          "symbol": [
           "circle",
           "circle",
           "circle",
           "circle",
           "circle",
           "circle",
           "circle",
           "circle",
           "circle",
           "circle",
           "circle",
           "circle",
           "circle",
           "circle",
           "circle",
           "circle",
           "circle",
           "circle",
           "circle",
           "circle",
           "circle",
           "circle",
           "circle",
           "circle",
           "circle",
           "circle",
           "circle",
           "circle",
           "circle",
           "circle",
           "circle",
           "circle",
           "circle",
           "circle",
           "circle",
           "circle",
           "circle",
           "circle",
           "circle",
           "circle",
           "circle",
           "circle",
           "circle",
           "circle",
           "circle",
           "circle",
           "circle",
           "circle",
           "circle",
           "circle",
           "circle",
           "circle",
           "circle",
           "circle",
           "circle",
           "circle",
           "circle"
          ]
         },
         "mode": "markers",
         "name": "Cluster: Cluster 0 (57 points)",
         "text": [
          "fish gelatin",
          "fish gelatin",
          "fish gelatin",
          "fish gelatin",
          "fish gelatin",
          "fish gelatin",
          "fish gelatin",
          "fish gelatin",
          "fish gelatin",
          "fish gelatin",
          "fish gelatin",
          "fish gelatin",
          "fish gelatin",
          "fish gelatin",
          "fish gelatin",
          "fish gelatin",
          "fish gelatin",
          "fish gelatin",
          "fish gelatin",
          "fish gelatin",
          "fish gelatin",
          "fish gelatin",
          "fish gelatin",
          "fish gelatin",
          "fish gelatin",
          "fish gelatin",
          "fish gelatin",
          "fish gelatin",
          "fish gelatin",
          "fish gelatin",
          "fish gelatin",
          "fish gelatin",
          "fish gelatin",
          "fish gelatin",
          "fish gelatin",
          "fish gelatin",
          "fish gelatin",
          "fish gelatin",
          "fish gelatin",
          "fish gelatin",
          "fish gelatin",
          "fish gelatin",
          "fish gelatin",
          "fish gelatin",
          "fish gelatin",
          "fish gelatin",
          "fish gelatin",
          "fish gelatin",
          "fish gelatin",
          "fish gelatin",
          "fish gelatin",
          "fish gelatin",
          "fish gelatin",
          "fish gelatin",
          "fish gelatin",
          "fish gelatin",
          "fish gelatin"
         ],
         "type": "scatter",
         "x": [
          3.436384948911067,
          2.8507153737712736,
          2.9914483775628056,
          3.0789509220490308,
          3.1353549532470857,
          3.0356520400548592,
          3.0321354663320217,
          3.059501650548388,
          3.0821094412938606,
          2.8507153737712736,
          2.9914483775628056,
          3.0789509220490308,
          3.1353549532470857,
          3.0356520400548592,
          3.0321354663320217,
          3.059501650548388,
          3.0821094412938606,
          2.8507153737712736,
          2.9914483775628056,
          3.0789509220490308,
          3.1353549532470857,
          3.0356520400548592,
          3.0321354663320217,
          3.059501650548388,
          3.0821094412938606,
          2.8507153737712736,
          2.9914483775628056,
          3.0789509220490308,
          3.1353549532470857,
          3.0356520400548592,
          3.0321354663320217,
          3.059501650548388,
          3.0821094412938606,
          2.8507153737712736,
          2.9914483775628056,
          3.0789509220490308,
          3.1353549532470857,
          3.0356520400548592,
          3.0321354663320217,
          3.059501650548388,
          3.0821094412938606,
          2.8507153737712736,
          2.9914483775628056,
          3.0789509220490308,
          3.1353549532470857,
          3.0356520400548592,
          3.0321354663320217,
          3.059501650548388,
          3.0821094412938606,
          2.8507153737712736,
          2.9914483775628056,
          3.0789509220490308,
          3.1353549532470857,
          3.0356520400548592,
          3.0321354663320217,
          3.059501650548388,
          3.0821094412938606
         ],
         "y": [
          0.6050894618815801,
          0.05842602445700704,
          0.05842602445700704,
          0.05842602445700704,
          0.05842602445700704,
          0.05842602445700704,
          0.05842602445700704,
          0.05842602445700704,
          0.05842602445700704,
          0.2931414834509317,
          0.2931414834509317,
          0.2931414834509317,
          0.2931414834509317,
          0.2931414834509317,
          0.2931414834509317,
          0.2931414834509317,
          0.2931414834509317,
          0.2337573629655109,
          0.2337573629655109,
          0.2337573629655109,
          0.2337573629655109,
          0.2337573629655109,
          0.2337573629655109,
          0.2337573629655109,
          0.2337573629655109,
          0.3308194664958377,
          0.3308194664958377,
          0.3308194664958377,
          0.3308194664958377,
          0.3308194664958377,
          0.3308194664958377,
          0.3308194664958377,
          0.3308194664958377,
          0.2785249647370182,
          0.2785249647370182,
          0.2785249647370182,
          0.2785249647370182,
          0.2785249647370182,
          0.2785249647370182,
          0.2785249647370182,
          0.2785249647370182,
          0.3944516808262167,
          0.3944516808262167,
          0.3944516808262167,
          0.3944516808262167,
          0.3944516808262167,
          0.3944516808262167,
          0.3944516808262167,
          0.3944516808262167,
          0.3165993020938614,
          0.3165993020938614,
          0.3165993020938614,
          0.3165993020938614,
          0.3165993020938614,
          0.3165993020938614,
          0.3165993020938614,
          0.3165993020938614
         ]
        },
        {
         "customdata": [
          [
           "individual",
           "None"
          ],
          [
           "individual",
           "None"
          ],
          [
           "individual",
           "None"
          ],
          [
           "individual",
           "None"
          ],
          [
           "individual",
           "None"
          ],
          [
           "individual",
           "None"
          ],
          [
           "individual",
           "None"
          ],
          [
           "individual",
           "None"
          ],
          [
           "individual",
           "None"
          ],
          [
           "individual",
           "None"
          ],
          [
           "individual",
           "None"
          ],
          [
           "individual",
           "None"
          ]
         ],
         "hovertemplate": "Base Material: %{text}<br>Type: %{customdata[0]}<br>Secondary Material: %{customdata[1]}<br>log(WVTR): %{x}<br>log(OTR): %{y}",
         "marker": {
          "color": [
           "#EF553B",
           "#EF553B",
           "#EF553B",
           "rgba(167,59,41, 1)",
           "rgba(167,59,41, 1)",
           "rgba(167,59,41, 1)",
           "rgba(167,59,41, 1)",
           "rgba(167,59,41, 1)",
           "rgba(167,59,41, 1)",
           "rgba(167,59,41, 1)",
           "rgba(167,59,41, 1)",
           "rgba(167,59,41, 1)"
          ],
          "size": 10,
          "symbol": [
           "triangle-up",
           "triangle-up",
           "triangle-up",
           "circle",
           "circle",
           "circle",
           "circle",
           "circle",
           "circle",
           "circle",
           "circle",
           "circle"
          ]
         },
         "mode": "markers",
         "name": "Cluster: Cluster 1 (12 points)",
         "text": [
          "LDPE",
          "LDPE",
          "HDPE",
          "polylactic acid",
          "polylactic acid",
          "polylactic acid",
          "polylactic acid",
          "polylactic acid",
          "polylactic acid",
          "polylactic acid",
          "polylactic acid",
          "polylactic acid"
         ],
         "type": "scatter",
         "x": [
          2.0585689197390065,
          1.8817496075112425,
          1.2846530357148302,
          3.3431968181948495,
          3.2796896161832803,
          3.6496700758487925,
          3.3431968181948495,
          3.2796896161832803,
          3.6496700758487925,
          3.3431968181948495,
          3.2796896161832803,
          3.6496700758487925
         ],
         "y": [
          4.2775678801531685,
          4.2775678801531685,
          3.6361330959586846,
          2.852053724543536,
          2.852053724543536,
          2.852053724543536,
          4.028636128569049,
          4.028636128569049,
          4.028636128569049,
          2.2336005375338255,
          2.2336005375338255,
          2.2336005375338255
         ]
        },
        {
         "customdata": [
          [
           "blend",
           "CMC"
          ],
          [
           "blend",
           "CMC"
          ],
          [
           "blend",
           "CMC"
          ],
          [
           "blend",
           "CMC"
          ],
          [
           "blend",
           "CMC"
          ],
          [
           "blend",
           "CMC"
          ],
          [
           "blend",
           "CMC"
          ],
          [
           "blend",
           "CMC"
          ],
          [
           "blend",
           "CMC"
          ],
          [
           "blend",
           "CMC"
          ],
          [
           "blend",
           "CMC"
          ],
          [
           "blend",
           "CMC"
          ],
          [
           "blend",
           "CMC"
          ],
          [
           "blend",
           "CMC"
          ],
          [
           "blend",
           "CMC"
          ],
          [
           "blend",
           "CMC"
          ],
          [
           "blend",
           "CMC"
          ],
          [
           "blend",
           "CMC"
          ],
          [
           "blend",
           "CMC"
          ],
          [
           "blend",
           "CMC"
          ],
          [
           "blend",
           "CMC"
          ],
          [
           "blend",
           "CMC"
          ],
          [
           "blend",
           "CMC"
          ],
          [
           "blend",
           "CMC"
          ],
          [
           "blend",
           "CMC"
          ],
          [
           "blend",
           "CMC"
          ],
          [
           "blend",
           "CMC"
          ],
          [
           "blend",
           "CMC"
          ],
          [
           "blend",
           "CMC"
          ],
          [
           "blend",
           "CMC"
          ],
          [
           "blend",
           "CMC"
          ],
          [
           "blend",
           "CMC"
          ],
          [
           "blend",
           "CMC"
          ],
          [
           "blend",
           "CMC"
          ],
          [
           "blend",
           "CMC"
          ],
          [
           "blend",
           "CMC"
          ],
          [
           "blend",
           "CMC"
          ],
          [
           "blend",
           "CMC"
          ],
          [
           "blend",
           "CMC"
          ],
          [
           "blend",
           "CMC"
          ],
          [
           "blend",
           "CMC"
          ],
          [
           "blend",
           "CMC"
          ],
          [
           "blend",
           "CMC"
          ],
          [
           "blend",
           "CMC"
          ],
          [
           "blend",
           "CMC"
          ],
          [
           "blend",
           "CMC"
          ],
          [
           "blend",
           "CMC"
          ],
          [
           "blend",
           "CMC"
          ],
          [
           "blend",
           "CMC"
          ],
          [
           "blend",
           "CMC"
          ],
          [
           "blend",
           "CMC"
          ],
          [
           "blend",
           "CMC"
          ],
          [
           "blend",
           "CMC"
          ],
          [
           "blend",
           "CMC"
          ],
          [
           "blend",
           "CMC"
          ],
          [
           "blend",
           "CMC"
          ],
          [
           "blend",
           "CMC"
          ],
          [
           "blend",
           "CMC"
          ],
          [
           "blend",
           "CMC"
          ],
          [
           "blend",
           "CMC"
          ],
          [
           "blend",
           "CMC"
          ],
          [
           "blend",
           "CMC"
          ],
          [
           "blend",
           "CMC"
          ],
          [
           "blend",
           "CMC"
          ],
          [
           "blend",
           "CMC"
          ],
          [
           "blend",
           "CMC"
          ],
          [
           "blend",
           "CMC"
          ],
          [
           "blend",
           "CMC"
          ],
          [
           "blend",
           "CMC"
          ],
          [
           "blend",
           "CMC"
          ],
          [
           "blend",
           "CMC"
          ],
          [
           "blend",
           "CMC"
          ],
          [
           "blend",
           "CMC"
          ],
          [
           "blend",
           "CMC"
          ],
          [
           "blend",
           "CMC"
          ],
          [
           "blend",
           "CMC"
          ],
          [
           "blend",
           "CMC"
          ],
          [
           "blend",
           "CMC"
          ],
          [
           "blend",
           "CMC"
          ],
          [
           "blend",
           "CMC"
          ],
          [
           "blend",
           "CMC"
          ],
          [
           "blend",
           "CMC"
          ],
          [
           "blend",
           "CMC"
          ],
          [
           "blend",
           "CMC"
          ],
          [
           "blend",
           "CMC"
          ],
          [
           "blend",
           "CMC"
          ],
          [
           "blend",
           "CMC"
          ],
          [
           "blend",
           "CMC"
          ],
          [
           "blend",
           "CMC"
          ],
          [
           "blend",
           "CMC"
          ],
          [
           "blend",
           "CMC"
          ],
          [
           "blend",
           "CMC"
          ],
          [
           "blend",
           "CMC"
          ],
          [
           "blend",
           "CMC"
          ],
          [
           "blend",
           "CMC"
          ],
          [
           "blend",
           "CMC"
          ],
          [
           "blend",
           "CMC"
          ],
          [
           "blend",
           "CMC"
          ],
          [
           "blend",
           "CMC"
          ],
          [
           "blend",
           "CMC"
          ],
          [
           "blend",
           "CMC"
          ],
          [
           "blend",
           "CMC"
          ],
          [
           "blend",
           "CMC"
          ],
          [
           "blend",
           "CMC"
          ],
          [
           "blend",
           "CMC"
          ],
          [
           "blend",
           "CMC"
          ],
          [
           "blend",
           "CMC"
          ],
          [
           "blend",
           "CMC"
          ],
          [
           "blend",
           "CMC"
          ],
          [
           "blend",
           "CMC"
          ],
          [
           "blend",
           "CMC"
          ],
          [
           "blend",
           "CMC"
          ],
          [
           "blend",
           "CMC"
          ],
          [
           "blend",
           "CMC"
          ],
          [
           "blend",
           "CMC"
          ],
          [
           "blend",
           "CMC"
          ],
          [
           "blend",
           "CMC"
          ],
          [
           "blend",
           "CMC"
          ],
          [
           "blend",
           "CMC"
          ],
          [
           "blend",
           "CMC"
          ],
          [
           "blend",
           "CMC"
          ],
          [
           "blend",
           "CMC"
          ],
          [
           "blend",
           "CMC"
          ],
          [
           "blend",
           "CMC"
          ],
          [
           "blend",
           "CMC"
          ],
          [
           "blend",
           "CMC"
          ],
          [
           "blend",
           "CMC"
          ],
          [
           "blend",
           "CMC"
          ],
          [
           "blend",
           "CMC"
          ],
          [
           "blend",
           "CMC"
          ],
          [
           "blend",
           "CMC"
          ],
          [
           "blend",
           "CMC"
          ],
          [
           "blend",
           "CMC"
          ],
          [
           "blend",
           "CMC"
          ],
          [
           "blend",
           "CMC"
          ],
          [
           "blend",
           "CMC"
          ],
          [
           "blend",
           "CMC"
          ],
          [
           "blend",
           "CMC"
          ],
          [
           "blend",
           "CMC"
          ],
          [
           "blend",
           "CMC"
          ],
          [
           "blend",
           "CMC"
          ],
          [
           "blend",
           "CMC"
          ],
          [
           "blend",
           "CMC"
          ],
          [
           "blend",
           "CMC"
          ],
          [
           "blend",
           "gelatin"
          ],
          [
           "blend",
           "gelatin"
          ],
          [
           "blend",
           "gelatin"
          ],
          [
           "blend",
           "gelatin"
          ],
          [
           "blend",
           "gelatin"
          ],
          [
           "blend",
           "gelatin"
          ],
          [
           "blend",
           "gelatin"
          ],
          [
           "blend",
           "gelatin"
          ],
          [
           "blend",
           "gelatin"
          ],
          [
           "blend",
           "gelatin"
          ],
          [
           "blend",
           "gelatin"
          ],
          [
           "blend",
           "gelatin"
          ],
          [
           "blend",
           "gelatin"
          ],
          [
           "blend",
           "gelatin"
          ],
          [
           "blend",
           "gelatin"
          ],
          [
           "blend",
           "gelatin"
          ],
          [
           "blend",
           "gelatin"
          ],
          [
           "blend",
           "gelatin"
          ],
          [
           "blend",
           "gelatin"
          ],
          [
           "blend",
           "gelatin"
          ],
          [
           "blend",
           "gelatin"
          ],
          [
           "blend",
           "gelatin"
          ],
          [
           "blend",
           "gelatin"
          ],
          [
           "blend",
           "gelatin"
          ],
          [
           "blend",
           "gelatin"
          ],
          [
           "blend",
           "gelatin"
          ],
          [
           "blend",
           "gelatin"
          ],
          [
           "blend",
           "gelatin"
          ],
          [
           "blend",
           "gelatin"
          ],
          [
           "blend",
           "gelatin"
          ],
          [
           "blend",
           "gelatin"
          ],
          [
           "blend",
           "gelatin"
          ],
          [
           "blend",
           "gelatin"
          ],
          [
           "blend",
           "gelatin"
          ],
          [
           "blend",
           "gelatin"
          ],
          [
           "blend",
           "gelatin"
          ]
         ],
         "hovertemplate": "Base Material: %{text}<br>Type: %{customdata[0]}<br>Secondary Material: %{customdata[1]}<br>log(WVTR): %{x}<br>log(OTR): %{y}",
         "marker": {
          "color": [
           "rgba(0,142,105, 1)",
           "rgba(0,142,105, 1)",
           "rgba(0,142,105, 1)",
           "rgba(0,142,105, 1)",
           "rgba(0,142,105, 1)",
           "rgba(0,142,105, 1)",
           "rgba(0,142,105, 1)",
           "rgba(0,142,105, 1)",
           "rgba(0,142,105, 1)",
           "rgba(0,142,105, 1)",
           "rgba(0,142,105, 1)",
           "rgba(0,142,105, 1)",
           "rgba(0,142,105, 1)",
           "rgba(0,142,105, 1)",
           "rgba(0,142,105, 1)",
           "rgba(0,142,105, 1)",
           "rgba(0,142,105, 1)",
           "rgba(0,142,105, 1)",
           "rgba(0,142,105, 1)",
           "rgba(0,142,105, 1)",
           "rgba(0,142,105, 1)",
           "rgba(0,142,105, 1)",
           "rgba(0,142,105, 1)",
           "rgba(0,142,105, 1)",
           "rgba(0,142,105, 1)",
           "rgba(0,142,105, 1)",
           "rgba(0,142,105, 1)",
           "rgba(0,142,105, 1)",
           "rgba(0,142,105, 1)",
           "rgba(0,142,105, 1)",
           "rgba(0,142,105, 1)",
           "rgba(0,142,105, 1)",
           "rgba(0,142,105, 1)",
           "rgba(0,142,105, 1)",
           "rgba(0,142,105, 1)",
           "rgba(0,142,105, 1)",
           "rgba(0,142,105, 1)",
           "rgba(0,142,105, 1)",
           "rgba(0,142,105, 1)",
           "rgba(0,142,105, 1)",
           "rgba(0,142,105, 1)",
           "rgba(0,142,105, 1)",
           "rgba(0,142,105, 1)",
           "rgba(0,142,105, 1)",
           "rgba(0,142,105, 1)",
           "rgba(0,142,105, 1)",
           "rgba(0,142,105, 1)",
           "rgba(0,142,105, 1)",
           "rgba(0,142,105, 1)",
           "rgba(0,142,105, 1)",
           "rgba(0,142,105, 1)",
           "rgba(0,142,105, 1)",
           "rgba(0,142,105, 1)",
           "rgba(0,142,105, 1)",
           "rgba(0,142,105, 1)",
           "rgba(0,142,105, 1)",
           "rgba(0,142,105, 1)",
           "rgba(0,142,105, 1)",
           "rgba(0,142,105, 1)",
           "rgba(0,142,105, 1)",
           "rgba(0,142,105, 1)",
           "rgba(0,142,105, 1)",
           "rgba(0,142,105, 1)",
           "rgba(0,142,105, 1)",
           "rgba(0,142,105, 1)",
           "rgba(0,142,105, 1)",
           "rgba(0,142,105, 1)",
           "rgba(0,142,105, 1)",
           "rgba(0,142,105, 1)",
           "rgba(0,142,105, 1)",
           "rgba(0,142,105, 1)",
           "rgba(0,142,105, 1)",
           "rgba(0,142,105, 1)",
           "rgba(0,142,105, 1)",
           "rgba(0,142,105, 1)",
           "rgba(0,142,105, 1)",
           "rgba(0,142,105, 1)",
           "rgba(0,142,105, 1)",
           "rgba(0,142,105, 1)",
           "rgba(0,142,105, 1)",
           "rgba(0,142,105, 1)",
           "rgba(0,142,105, 1)",
           "rgba(0,142,105, 1)",
           "rgba(0,142,105, 1)",
           "rgba(0,142,105, 1)",
           "rgba(0,142,105, 1)",
           "rgba(0,142,105, 1)",
           "rgba(0,142,105, 1)",
           "rgba(0,142,105, 1)",
           "rgba(0,142,105, 1)",
           "rgba(0,142,105, 1)",
           "rgba(0,142,105, 1)",
           "rgba(0,142,105, 1)",
           "rgba(0,142,105, 1)",
           "rgba(0,142,105, 1)",
           "rgba(0,142,105, 1)",
           "rgba(0,142,105, 1)",
           "rgba(0,142,105, 1)",
           "rgba(0,142,105, 1)",
           "rgba(0,142,105, 1)",
           "rgba(0,142,105, 1)",
           "rgba(0,142,105, 1)",
           "rgba(0,142,105, 1)",
           "rgba(0,142,105, 1)",
           "rgba(0,142,105, 1)",
           "rgba(0,142,105, 1)",
           "rgba(0,142,105, 1)",
           "rgba(0,142,105, 1)",
           "rgba(0,142,105, 1)",
           "rgba(0,142,105, 1)",
           "rgba(0,142,105, 1)",
           "rgba(0,142,105, 1)",
           "rgba(0,142,105, 1)",
           "rgba(0,142,105, 1)",
           "rgba(0,142,105, 1)",
           "rgba(0,142,105, 1)",
           "rgba(0,142,105, 1)",
           "rgba(0,142,105, 1)",
           "rgba(0,142,105, 1)",
           "rgba(0,142,105, 1)",
           "rgba(0,142,105, 1)",
           "rgba(0,142,105, 1)",
           "rgba(0,142,105, 1)",
           "rgba(0,142,105, 1)",
           "rgba(0,142,105, 1)",
           "rgba(0,142,105, 1)",
           "rgba(0,142,105, 1)",
           "rgba(0,142,105, 1)",
           "rgba(0,142,105, 1)",
           "rgba(0,142,105, 1)",
           "rgba(0,142,105, 1)",
           "rgba(0,142,105, 1)",
           "rgba(0,142,105, 1)",
           "rgba(0,142,105, 1)",
           "rgba(0,142,105, 1)",
           "rgba(0,142,105, 1)",
           "rgba(0,142,105, 1)",
           "rgba(0,142,105, 1)",
           "rgba(0,142,105, 1)",
           "rgba(0,142,105, 1)",
           "rgba(0,142,105, 1)",
           "rgba(0,142,105, 1)",
           "rgba(0,142,105, 1)",
           "rgba(0,142,105, 1)",
           "rgba(0,142,105, 1)",
           "rgba(0,142,105, 1)",
           "rgba(0,142,105, 1)",
           "rgba(0,142,105, 1)",
           "rgba(0,142,105, 1)",
           "rgba(0,142,105, 1)",
           "rgba(0,142,105, 1)",
           "rgba(0,142,105, 1)",
           "rgba(0,142,105, 1)",
           "rgba(0,142,105, 1)",
           "rgba(0,142,105, 1)",
           "rgba(0,142,105, 1)",
           "rgba(0,142,105, 1)",
           "rgba(0,142,105, 1)",
           "rgba(0,142,105, 1)",
           "rgba(0,142,105, 1)",
           "rgba(0,142,105, 1)",
           "rgba(0,142,105, 1)",
           "rgba(0,142,105, 1)",
           "rgba(0,142,105, 1)",
           "rgba(0,142,105, 1)",
           "rgba(0,142,105, 1)",
           "rgba(0,142,105, 1)",
           "rgba(0,142,105, 1)",
           "rgba(0,142,105, 1)",
           "rgba(0,142,105, 1)",
           "rgba(0,142,105, 1)",
           "rgba(0,142,105, 1)",
           "rgba(0,142,105, 1)",
           "rgba(0,142,105, 1)",
           "rgba(0,142,105, 1)",
           "rgba(0,142,105, 1)",
           "rgba(0,142,105, 1)",
           "rgba(0,142,105, 1)",
           "rgba(0,142,105, 1)",
           "rgba(0,142,105, 1)"
          ],
          "size": 10,
          "symbol": [
           "circle",
           "circle",
           "circle",
           "circle",
           "circle",
           "circle",
           "circle",
           "circle",
           "circle",
           "circle",
           "circle",
           "circle",
           "circle",
           "circle",
           "circle",
           "circle",
           "circle",
           "circle",
           "circle",
           "circle",
           "circle",
           "circle",
           "circle",
           "circle",
           "circle",
           "circle",
           "circle",
           "circle",
           "circle",
           "circle",
           "circle",
           "circle",
           "circle",
           "circle",
           "circle",
           "circle",
           "circle",
           "circle",
           "circle",
           "circle",
           "circle",
           "circle",
           "circle",
           "circle",
           "circle",
           "circle",
           "circle",
           "circle",
           "circle",
           "circle",
           "circle",
           "circle",
           "circle",
           "circle",
           "circle",
           "circle",
           "circle",
           "circle",
           "circle",
           "circle",
           "circle",
           "circle",
           "circle",
           "circle",
           "circle",
           "circle",
           "circle",
           "circle",
           "circle",
           "circle",
           "circle",
           "circle",
           "circle",
           "circle",
           "circle",
           "circle",
           "circle",
           "circle",
           "circle",
           "circle",
           "circle",
           "circle",
           "circle",
           "circle",
           "circle",
           "circle",
           "circle",
           "circle",
           "circle",
           "circle",
           "circle",
           "circle",
           "circle",
           "circle",
           "circle",
           "circle",
           "circle",
           "circle",
           "circle",
           "circle",
           "circle",
           "circle",
           "circle",
           "circle",
           "circle",
           "circle",
           "circle",
           "circle",
           "circle",
           "circle",
           "circle",
           "circle",
           "circle",
           "circle",
           "circle",
           "circle",
           "circle",
           "circle",
           "circle",
           "circle",
           "circle",
           "circle",
           "circle",
           "circle",
           "circle",
           "circle",
           "circle",
           "circle",
           "circle",
           "circle",
           "circle",
           "circle",
           "circle",
           "circle",
           "circle",
           "circle",
           "circle",
           "circle",
           "circle",
           "circle",
           "circle",
           "circle",
           "circle",
           "circle",
           "circle",
           "circle",
           "circle",
           "circle",
           "circle",
           "circle",
           "circle",
           "circle",
           "circle",
           "circle",
           "circle",
           "circle",
           "circle",
           "circle",
           "circle",
           "circle",
           "circle",
           "circle",
           "circle",
           "circle",
           "circle",
           "circle",
           "circle",
           "circle",
           "circle",
           "circle",
           "circle",
           "circle",
           "circle",
           "circle",
           "circle",
           "circle",
           "circle",
           "circle",
           "circle",
           "circle"
          ]
         },
         "mode": "markers",
         "name": "Cluster: Cluster 2 (180 points)",
         "text": [
          "carrot puree",
          "carrot puree",
          "carrot puree",
          "carrot puree",
          "carrot puree",
          "carrot puree",
          "carrot puree",
          "carrot puree",
          "carrot puree",
          "carrot puree",
          "carrot puree",
          "carrot puree",
          "carrot puree",
          "carrot puree",
          "carrot puree",
          "carrot puree",
          "carrot puree",
          "carrot puree",
          "carrot puree",
          "carrot puree",
          "carrot puree",
          "carrot puree",
          "carrot puree",
          "carrot puree",
          "carrot puree",
          "carrot puree",
          "carrot puree",
          "carrot puree",
          "carrot puree",
          "carrot puree",
          "carrot puree",
          "carrot puree",
          "carrot puree",
          "carrot puree",
          "carrot puree",
          "carrot puree",
          "carrot puree",
          "carrot puree",
          "carrot puree",
          "carrot puree",
          "carrot puree",
          "carrot puree",
          "carrot puree",
          "carrot puree",
          "carrot puree",
          "carrot puree",
          "carrot puree",
          "carrot puree",
          "carrot puree",
          "carrot puree",
          "carrot puree",
          "carrot puree",
          "carrot puree",
          "carrot puree",
          "carrot puree",
          "carrot puree",
          "carrot puree",
          "carrot puree",
          "carrot puree",
          "carrot puree",
          "carrot puree",
          "carrot puree",
          "carrot puree",
          "carrot puree",
          "carrot puree",
          "carrot puree",
          "carrot puree",
          "carrot puree",
          "carrot puree",
          "carrot puree",
          "carrot puree",
          "carrot puree",
          "carrot puree",
          "carrot puree",
          "carrot puree",
          "carrot puree",
          "carrot puree",
          "carrot puree",
          "carrot puree",
          "carrot puree",
          "carrot puree",
          "carrot puree",
          "carrot puree",
          "carrot puree",
          "carrot puree",
          "carrot puree",
          "carrot puree",
          "carrot puree",
          "carrot puree",
          "carrot puree",
          "carrot puree",
          "carrot puree",
          "carrot puree",
          "carrot puree",
          "carrot puree",
          "carrot puree",
          "carrot puree",
          "carrot puree",
          "carrot puree",
          "carrot puree",
          "carrot puree",
          "carrot puree",
          "carrot puree",
          "carrot puree",
          "carrot puree",
          "carrot puree",
          "carrot puree",
          "carrot puree",
          "carrot puree",
          "carrot puree",
          "carrot puree",
          "carrot puree",
          "carrot puree",
          "carrot puree",
          "carrot puree",
          "carrot puree",
          "carrot puree",
          "carrot puree",
          "carrot puree",
          "carrot puree",
          "carrot puree",
          "carrot puree",
          "carrot puree",
          "carrot puree",
          "carrot puree",
          "carrot puree",
          "carrot puree",
          "carrot puree",
          "carrot puree",
          "carrot puree",
          "carrot puree",
          "carrot puree",
          "carrot puree",
          "carrot puree",
          "carrot puree",
          "carrot puree",
          "carrot puree",
          "carrot puree",
          "carrot puree",
          "carrot puree",
          "carrot puree",
          "carrot puree",
          "carrot puree",
          "carrot puree",
          "carrot puree",
          "carrot puree",
          "carrot puree",
          "carrot puree",
          "carrot puree",
          "carrot puree",
          "carrot puree",
          "carrot puree",
          "carrot puree",
          "carrot puree",
          "carrot puree",
          "carrot puree",
          "carrot puree",
          "carrot puree",
          "carrot puree",
          "carrot puree",
          "carrot puree",
          "carrot puree",
          "carrot puree",
          "carrot puree",
          "carrot puree",
          "carrot puree",
          "carrot puree",
          "carrot puree",
          "carrot puree",
          "carrot puree",
          "carrot puree",
          "carrot puree",
          "carrot puree",
          "carrot puree",
          "carrot puree",
          "carrot puree",
          "carrot puree",
          "carrot puree",
          "carrot puree",
          "carrot puree"
         ],
         "type": "scatter",
         "x": [
          5.763809382804633,
          5.631183817530042,
          5.396159946950353,
          5.3054661593763175,
          5.268975734457945,
          5.187989710859901,
          5.45704364989191,
          5.440954325640528,
          5.371821157115925,
          5.329976014501487,
          5.301306580951887,
          5.280886020471324,
          5.763809382804633,
          5.631183817530042,
          5.396159946950353,
          5.3054661593763175,
          5.268975734457945,
          5.187989710859901,
          5.45704364989191,
          5.440954325640528,
          5.371821157115925,
          5.329976014501487,
          5.301306580951887,
          5.280886020471324,
          5.763809382804633,
          5.631183817530042,
          5.396159946950353,
          5.3054661593763175,
          5.268975734457945,
          5.187989710859901,
          5.45704364989191,
          5.440954325640528,
          5.371821157115925,
          5.329976014501487,
          5.301306580951887,
          5.280886020471324,
          5.763809382804633,
          5.631183817530042,
          5.396159946950353,
          5.3054661593763175,
          5.268975734457945,
          5.187989710859901,
          5.45704364989191,
          5.440954325640528,
          5.371821157115925,
          5.329976014501487,
          5.301306580951887,
          5.280886020471324,
          5.763809382804633,
          5.631183817530042,
          5.396159946950353,
          5.3054661593763175,
          5.268975734457945,
          5.187989710859901,
          5.45704364989191,
          5.440954325640528,
          5.371821157115925,
          5.329976014501487,
          5.301306580951887,
          5.280886020471324,
          5.763809382804633,
          5.631183817530042,
          5.396159946950353,
          5.3054661593763175,
          5.268975734457945,
          5.187989710859901,
          5.45704364989191,
          5.440954325640528,
          5.371821157115925,
          5.329976014501487,
          5.301306580951887,
          5.280886020471324,
          5.763809382804633,
          5.631183817530042,
          5.396159946950353,
          5.3054661593763175,
          5.268975734457945,
          5.187989710859901,
          5.45704364989191,
          5.440954325640528,
          5.371821157115925,
          5.329976014501487,
          5.301306580951887,
          5.280886020471324,
          5.763809382804633,
          5.631183817530042,
          5.396159946950353,
          5.3054661593763175,
          5.268975734457945,
          5.187989710859901,
          5.45704364989191,
          5.440954325640528,
          5.371821157115925,
          5.329976014501487,
          5.301306580951887,
          5.280886020471324,
          5.763809382804633,
          5.631183817530042,
          5.396159946950353,
          5.3054661593763175,
          5.268975734457945,
          5.187989710859901,
          5.45704364989191,
          5.440954325640528,
          5.371821157115925,
          5.329976014501487,
          5.301306580951887,
          5.280886020471324,
          5.763809382804633,
          5.631183817530042,
          5.396159946950353,
          5.3054661593763175,
          5.268975734457945,
          5.187989710859901,
          5.45704364989191,
          5.440954325640528,
          5.371821157115925,
          5.329976014501487,
          5.301306580951887,
          5.280886020471324,
          5.763809382804633,
          5.631183817530042,
          5.396159946950353,
          5.3054661593763175,
          5.268975734457945,
          5.187989710859901,
          5.45704364989191,
          5.440954325640528,
          5.371821157115925,
          5.329976014501487,
          5.301306580951887,
          5.280886020471324,
          5.763809382804633,
          5.631183817530042,
          5.396159946950353,
          5.3054661593763175,
          5.268975734457945,
          5.187989710859901,
          5.45704364989191,
          5.440954325640528,
          5.371821157115925,
          5.329976014501487,
          5.301306580951887,
          5.280886020471324,
          5.400414790462887,
          5.324967620653954,
          5.275879111407325,
          5.375359872473109,
          5.482434654734684,
          5.52520228399743,
          5.400414790462887,
          5.324967620653954,
          5.275879111407325,
          5.375359872473109,
          5.482434654734684,
          5.52520228399743,
          5.400414790462887,
          5.324967620653954,
          5.275879111407325,
          5.375359872473109,
          5.482434654734684,
          5.52520228399743,
          5.400414790462887,
          5.324967620653954,
          5.275879111407325,
          5.375359872473109,
          5.482434654734684,
          5.52520228399743,
          5.400414790462887,
          5.324967620653954,
          5.275879111407325,
          5.375359872473109,
          5.482434654734684,
          5.52520228399743,
          5.400414790462887,
          5.324967620653954,
          5.275879111407325,
          5.375359872473109,
          5.482434654734684,
          5.52520228399743
         ],
         "y": [
          1.2490841035856326,
          1.2490841035856326,
          1.2490841035856326,
          1.2490841035856326,
          1.2490841035856326,
          1.2490841035856326,
          1.2490841035856326,
          1.2490841035856326,
          1.2490841035856326,
          1.2490841035856326,
          1.2490841035856326,
          1.2490841035856326,
          1.1994287810319684,
          1.1994287810319684,
          1.1994287810319684,
          1.1994287810319684,
          1.1994287810319684,
          1.1994287810319684,
          1.1994287810319684,
          1.1994287810319684,
          1.1994287810319684,
          1.1994287810319684,
          1.1994287810319684,
          1.1994287810319684,
          1.1142491643171806,
          1.1142491643171806,
          1.1142491643171806,
          1.1142491643171806,
          1.1142491643171806,
          1.1142491643171806,
          1.1142491643171806,
          1.1142491643171806,
          1.1142491643171806,
          1.1142491643171806,
          1.1142491643171806,
          1.1142491643171806,
          1.0805330530589055,
          1.0805330530589055,
          1.0805330530589055,
          1.0805330530589055,
          1.0805330530589055,
          1.0805330530589055,
          1.0805330530589055,
          1.0805330530589055,
          1.0805330530589055,
          1.0805330530589055,
          1.0805330530589055,
          1.0805330530589055,
          1.0585059424731682,
          1.0585059424731682,
          1.0585059424731682,
          1.0585059424731682,
          1.0585059424731682,
          1.0585059424731682,
          1.0585059424731682,
          1.0585059424731682,
          1.0585059424731682,
          1.0585059424731682,
          1.0585059424731682,
          1.0585059424731682,
          1.0415656325785816,
          1.0415656325785816,
          1.0415656325785816,
          1.0415656325785816,
          1.0415656325785816,
          1.0415656325785816,
          1.0415656325785816,
          1.0415656325785816,
          1.0415656325785816,
          1.0415656325785816,
          1.0415656325785816,
          1.0415656325785816,
          1.0754498116251183,
          1.0754498116251183,
          1.0754498116251183,
          1.0754498116251183,
          1.0754498116251183,
          1.0754498116251183,
          1.0754498116251183,
          1.0754498116251183,
          1.0754498116251183,
          1.0754498116251183,
          1.0754498116251183,
          1.0754498116251183,
          1.0799008921293791,
          1.0799008921293791,
          1.0799008921293791,
          1.0799008921293791,
          1.0799008921293791,
          1.0799008921293791,
          1.0799008921293791,
          1.0799008921293791,
          1.0799008921293791,
          1.0799008921293791,
          1.0799008921293791,
          1.0799008921293791,
          1.0808487887921163,
          1.0808487887921163,
          1.0808487887921163,
          1.0808487887921163,
          1.0808487887921163,
          1.0808487887921163,
          1.0808487887921163,
          1.0808487887921163,
          1.0808487887921163,
          1.0808487887921163,
          1.0808487887921163,
          1.0808487887921163,
          1.0877375263022864,
          1.0877375263022864,
          1.0877375263022864,
          1.0877375263022864,
          1.0877375263022864,
          1.0877375263022864,
          1.0877375263022864,
          1.0877375263022864,
          1.0877375263022864,
          1.0877375263022864,
          1.0877375263022864,
          1.0877375263022864,
          1.096045219237153,
          1.096045219237153,
          1.096045219237153,
          1.096045219237153,
          1.096045219237153,
          1.096045219237153,
          1.096045219237153,
          1.096045219237153,
          1.096045219237153,
          1.096045219237153,
          1.096045219237153,
          1.096045219237153,
          1.1044959691906455,
          1.1044959691906455,
          1.1044959691906455,
          1.1044959691906455,
          1.1044959691906455,
          1.1044959691906455,
          1.1044959691906455,
          1.1044959691906455,
          1.1044959691906455,
          1.1044959691906455,
          1.1044959691906455,
          1.1044959691906455,
          1.0824240334712552,
          1.0824240334712552,
          1.0824240334712552,
          1.0824240334712552,
          1.0824240334712552,
          1.0824240334712552,
          1.055170330976704,
          1.055170330976704,
          1.055170330976704,
          1.055170330976704,
          1.055170330976704,
          1.055170330976704,
          1.0874267610068058,
          1.0874267610068058,
          1.0874267610068058,
          1.0874267610068058,
          1.0874267610068058,
          1.0874267610068058,
          1.0686864683244282,
          1.0686864683244282,
          1.0686864683244282,
          1.0686864683244282,
          1.0686864683244282,
          1.0686864683244282,
          1.1124920702875813,
          1.1124920702875813,
          1.1124920702875813,
          1.1124920702875813,
          1.1124920702875813,
          1.1124920702875813,
          1.105689906662614,
          1.105689906662614,
          1.105689906662614,
          1.105689906662614,
          1.105689906662614,
          1.105689906662614
         ]
        }
       ],
       "layout": {
        "plot_bgcolor": "white",
        "shapes": [
         {
          "fillcolor": "rgba(99, 110, 250, 0.1)",
          "line": {
           "color": "#636EFA",
           "width": 2
          },
          "type": "rect",
          "x0": 2.8507153737712736,
          "x1": 3.4363849489110665,
          "y0": 0.05842602445700695,
          "y1": 0.6050894618815801
         },
         {
          "fillcolor": "rgba(239, 85, 59, 0.1)",
          "line": {
           "color": "#EF553B",
           "width": 2
          },
          "type": "rect",
          "x0": 1.2846530357148302,
          "x1": 3.6496700758487925,
          "y0": 2.2336005375338255,
          "y1": 4.2775678801531685
         },
         {
          "fillcolor": "rgba(0, 204, 150, 0.1)",
          "line": {
           "color": "#00CC96",
           "width": 2
          },
          "type": "rect",
          "x0": 5.187989710859901,
          "x1": 5.763809382804633,
          "y0": 1.0415656325785816,
          "y1": 1.2490841035856326
         }
        ],
        "template": {
         "data": {
          "bar": [
           {
            "error_x": {
             "color": "#2a3f5f"
            },
            "error_y": {
             "color": "#2a3f5f"
            },
            "marker": {
             "line": {
              "color": "white",
              "width": 0.5
             },
             "pattern": {
              "fillmode": "overlay",
              "size": 10,
              "solidity": 0.2
             }
            },
            "type": "bar"
           }
          ],
          "barpolar": [
           {
            "marker": {
             "line": {
              "color": "white",
              "width": 0.5
             },
             "pattern": {
              "fillmode": "overlay",
              "size": 10,
              "solidity": 0.2
             }
            },
            "type": "barpolar"
           }
          ],
          "carpet": [
           {
            "aaxis": {
             "endlinecolor": "#2a3f5f",
             "gridcolor": "#C8D4E3",
             "linecolor": "#C8D4E3",
             "minorgridcolor": "#C8D4E3",
             "startlinecolor": "#2a3f5f"
            },
            "baxis": {
             "endlinecolor": "#2a3f5f",
             "gridcolor": "#C8D4E3",
             "linecolor": "#C8D4E3",
             "minorgridcolor": "#C8D4E3",
             "startlinecolor": "#2a3f5f"
            },
            "type": "carpet"
           }
          ],
          "choropleth": [
           {
            "colorbar": {
             "outlinewidth": 0,
             "ticks": ""
            },
            "type": "choropleth"
           }
          ],
          "contour": [
           {
            "colorbar": {
             "outlinewidth": 0,
             "ticks": ""
            },
            "colorscale": [
             [
              0,
              "#0d0887"
             ],
             [
              0.1111111111111111,
              "#46039f"
             ],
             [
              0.2222222222222222,
              "#7201a8"
             ],
             [
              0.3333333333333333,
              "#9c179e"
             ],
             [
              0.4444444444444444,
              "#bd3786"
             ],
             [
              0.5555555555555556,
              "#d8576b"
             ],
             [
              0.6666666666666666,
              "#ed7953"
             ],
             [
              0.7777777777777778,
              "#fb9f3a"
             ],
             [
              0.8888888888888888,
              "#fdca26"
             ],
             [
              1,
              "#f0f921"
             ]
            ],
            "type": "contour"
           }
          ],
          "contourcarpet": [
           {
            "colorbar": {
             "outlinewidth": 0,
             "ticks": ""
            },
            "type": "contourcarpet"
           }
          ],
          "heatmap": [
           {
            "colorbar": {
             "outlinewidth": 0,
             "ticks": ""
            },
            "colorscale": [
             [
              0,
              "#0d0887"
             ],
             [
              0.1111111111111111,
              "#46039f"
             ],
             [
              0.2222222222222222,
              "#7201a8"
             ],
             [
              0.3333333333333333,
              "#9c179e"
             ],
             [
              0.4444444444444444,
              "#bd3786"
             ],
             [
              0.5555555555555556,
              "#d8576b"
             ],
             [
              0.6666666666666666,
              "#ed7953"
             ],
             [
              0.7777777777777778,
              "#fb9f3a"
             ],
             [
              0.8888888888888888,
              "#fdca26"
             ],
             [
              1,
              "#f0f921"
             ]
            ],
            "type": "heatmap"
           }
          ],
          "heatmapgl": [
           {
            "colorbar": {
             "outlinewidth": 0,
             "ticks": ""
            },
            "colorscale": [
             [
              0,
              "#0d0887"
             ],
             [
              0.1111111111111111,
              "#46039f"
             ],
             [
              0.2222222222222222,
              "#7201a8"
             ],
             [
              0.3333333333333333,
              "#9c179e"
             ],
             [
              0.4444444444444444,
              "#bd3786"
             ],
             [
              0.5555555555555556,
              "#d8576b"
             ],
             [
              0.6666666666666666,
              "#ed7953"
             ],
             [
              0.7777777777777778,
              "#fb9f3a"
             ],
             [
              0.8888888888888888,
              "#fdca26"
             ],
             [
              1,
              "#f0f921"
             ]
            ],
            "type": "heatmapgl"
           }
          ],
          "histogram": [
           {
            "marker": {
             "pattern": {
              "fillmode": "overlay",
              "size": 10,
              "solidity": 0.2
             }
            },
            "type": "histogram"
           }
          ],
          "histogram2d": [
           {
            "colorbar": {
             "outlinewidth": 0,
             "ticks": ""
            },
            "colorscale": [
             [
              0,
              "#0d0887"
             ],
             [
              0.1111111111111111,
              "#46039f"
             ],
             [
              0.2222222222222222,
              "#7201a8"
             ],
             [
              0.3333333333333333,
              "#9c179e"
             ],
             [
              0.4444444444444444,
              "#bd3786"
             ],
             [
              0.5555555555555556,
              "#d8576b"
             ],
             [
              0.6666666666666666,
              "#ed7953"
             ],
             [
              0.7777777777777778,
              "#fb9f3a"
             ],
             [
              0.8888888888888888,
              "#fdca26"
             ],
             [
              1,
              "#f0f921"
             ]
            ],
            "type": "histogram2d"
           }
          ],
          "histogram2dcontour": [
           {
            "colorbar": {
             "outlinewidth": 0,
             "ticks": ""
            },
            "colorscale": [
             [
              0,
              "#0d0887"
             ],
             [
              0.1111111111111111,
              "#46039f"
             ],
             [
              0.2222222222222222,
              "#7201a8"
             ],
             [
              0.3333333333333333,
              "#9c179e"
             ],
             [
              0.4444444444444444,
              "#bd3786"
             ],
             [
              0.5555555555555556,
              "#d8576b"
             ],
             [
              0.6666666666666666,
              "#ed7953"
             ],
             [
              0.7777777777777778,
              "#fb9f3a"
             ],
             [
              0.8888888888888888,
              "#fdca26"
             ],
             [
              1,
              "#f0f921"
             ]
            ],
            "type": "histogram2dcontour"
           }
          ],
          "mesh3d": [
           {
            "colorbar": {
             "outlinewidth": 0,
             "ticks": ""
            },
            "type": "mesh3d"
           }
          ],
          "parcoords": [
           {
            "line": {
             "colorbar": {
              "outlinewidth": 0,
              "ticks": ""
             }
            },
            "type": "parcoords"
           }
          ],
          "pie": [
           {
            "automargin": true,
            "type": "pie"
           }
          ],
          "scatter": [
           {
            "marker": {
             "colorbar": {
              "outlinewidth": 0,
              "ticks": ""
             }
            },
            "type": "scatter"
           }
          ],
          "scatter3d": [
           {
            "line": {
             "colorbar": {
              "outlinewidth": 0,
              "ticks": ""
             }
            },
            "marker": {
             "colorbar": {
              "outlinewidth": 0,
              "ticks": ""
             }
            },
            "type": "scatter3d"
           }
          ],
          "scattercarpet": [
           {
            "marker": {
             "colorbar": {
              "outlinewidth": 0,
              "ticks": ""
             }
            },
            "type": "scattercarpet"
           }
          ],
          "scattergeo": [
           {
            "marker": {
             "colorbar": {
              "outlinewidth": 0,
              "ticks": ""
             }
            },
            "type": "scattergeo"
           }
          ],
          "scattergl": [
           {
            "marker": {
             "colorbar": {
              "outlinewidth": 0,
              "ticks": ""
             }
            },
            "type": "scattergl"
           }
          ],
          "scattermapbox": [
           {
            "marker": {
             "colorbar": {
              "outlinewidth": 0,
              "ticks": ""
             }
            },
            "type": "scattermapbox"
           }
          ],
          "scatterpolar": [
           {
            "marker": {
             "colorbar": {
              "outlinewidth": 0,
              "ticks": ""
             }
            },
            "type": "scatterpolar"
           }
          ],
          "scatterpolargl": [
           {
            "marker": {
             "colorbar": {
              "outlinewidth": 0,
              "ticks": ""
             }
            },
            "type": "scatterpolargl"
           }
          ],
          "scatterternary": [
           {
            "marker": {
             "colorbar": {
              "outlinewidth": 0,
              "ticks": ""
             }
            },
            "type": "scatterternary"
           }
          ],
          "surface": [
           {
            "colorbar": {
             "outlinewidth": 0,
             "ticks": ""
            },
            "colorscale": [
             [
              0,
              "#0d0887"
             ],
             [
              0.1111111111111111,
              "#46039f"
             ],
             [
              0.2222222222222222,
              "#7201a8"
             ],
             [
              0.3333333333333333,
              "#9c179e"
             ],
             [
              0.4444444444444444,
              "#bd3786"
             ],
             [
              0.5555555555555556,
              "#d8576b"
             ],
             [
              0.6666666666666666,
              "#ed7953"
             ],
             [
              0.7777777777777778,
              "#fb9f3a"
             ],
             [
              0.8888888888888888,
              "#fdca26"
             ],
             [
              1,
              "#f0f921"
             ]
            ],
            "type": "surface"
           }
          ],
          "table": [
           {
            "cells": {
             "fill": {
              "color": "#EBF0F8"
             },
             "line": {
              "color": "white"
             }
            },
            "header": {
             "fill": {
              "color": "#C8D4E3"
             },
             "line": {
              "color": "white"
             }
            },
            "type": "table"
           }
          ]
         },
         "layout": {
          "annotationdefaults": {
           "arrowcolor": "#2a3f5f",
           "arrowhead": 0,
           "arrowwidth": 1
          },
          "autotypenumbers": "strict",
          "coloraxis": {
           "colorbar": {
            "outlinewidth": 0,
            "ticks": ""
           }
          },
          "colorscale": {
           "diverging": [
            [
             0,
             "#8e0152"
            ],
            [
             0.1,
             "#c51b7d"
            ],
            [
             0.2,
             "#de77ae"
            ],
            [
             0.3,
             "#f1b6da"
            ],
            [
             0.4,
             "#fde0ef"
            ],
            [
             0.5,
             "#f7f7f7"
            ],
            [
             0.6,
             "#e6f5d0"
            ],
            [
             0.7,
             "#b8e186"
            ],
            [
             0.8,
             "#7fbc41"
            ],
            [
             0.9,
             "#4d9221"
            ],
            [
             1,
             "#276419"
            ]
           ],
           "sequential": [
            [
             0,
             "#0d0887"
            ],
            [
             0.1111111111111111,
             "#46039f"
            ],
            [
             0.2222222222222222,
             "#7201a8"
            ],
            [
             0.3333333333333333,
             "#9c179e"
            ],
            [
             0.4444444444444444,
             "#bd3786"
            ],
            [
             0.5555555555555556,
             "#d8576b"
            ],
            [
             0.6666666666666666,
             "#ed7953"
            ],
            [
             0.7777777777777778,
             "#fb9f3a"
            ],
            [
             0.8888888888888888,
             "#fdca26"
            ],
            [
             1,
             "#f0f921"
            ]
           ],
           "sequentialminus": [
            [
             0,
             "#0d0887"
            ],
            [
             0.1111111111111111,
             "#46039f"
            ],
            [
             0.2222222222222222,
             "#7201a8"
            ],
            [
             0.3333333333333333,
             "#9c179e"
            ],
            [
             0.4444444444444444,
             "#bd3786"
            ],
            [
             0.5555555555555556,
             "#d8576b"
            ],
            [
             0.6666666666666666,
             "#ed7953"
            ],
            [
             0.7777777777777778,
             "#fb9f3a"
            ],
            [
             0.8888888888888888,
             "#fdca26"
            ],
            [
             1,
             "#f0f921"
            ]
           ]
          },
          "colorway": [
           "#636efa",
           "#EF553B",
           "#00cc96",
           "#ab63fa",
           "#FFA15A",
           "#19d3f3",
           "#FF6692",
           "#B6E880",
           "#FF97FF",
           "#FECB52"
          ],
          "font": {
           "color": "#2a3f5f"
          },
          "geo": {
           "bgcolor": "white",
           "lakecolor": "white",
           "landcolor": "white",
           "showlakes": true,
           "showland": true,
           "subunitcolor": "#C8D4E3"
          },
          "hoverlabel": {
           "align": "left"
          },
          "hovermode": "closest",
          "mapbox": {
           "style": "light"
          },
          "paper_bgcolor": "white",
          "plot_bgcolor": "white",
          "polar": {
           "angularaxis": {
            "gridcolor": "#EBF0F8",
            "linecolor": "#EBF0F8",
            "ticks": ""
           },
           "bgcolor": "white",
           "radialaxis": {
            "gridcolor": "#EBF0F8",
            "linecolor": "#EBF0F8",
            "ticks": ""
           }
          },
          "scene": {
           "xaxis": {
            "backgroundcolor": "white",
            "gridcolor": "#DFE8F3",
            "gridwidth": 2,
            "linecolor": "#EBF0F8",
            "showbackground": true,
            "ticks": "",
            "zerolinecolor": "#EBF0F8"
           },
           "yaxis": {
            "backgroundcolor": "white",
            "gridcolor": "#DFE8F3",
            "gridwidth": 2,
            "linecolor": "#EBF0F8",
            "showbackground": true,
            "ticks": "",
            "zerolinecolor": "#EBF0F8"
           },
           "zaxis": {
            "backgroundcolor": "white",
            "gridcolor": "#DFE8F3",
            "gridwidth": 2,
            "linecolor": "#EBF0F8",
            "showbackground": true,
            "ticks": "",
            "zerolinecolor": "#EBF0F8"
           }
          },
          "shapedefaults": {
           "line": {
            "color": "#2a3f5f"
           }
          },
          "ternary": {
           "aaxis": {
            "gridcolor": "#DFE8F3",
            "linecolor": "#A2B1C6",
            "ticks": ""
           },
           "baxis": {
            "gridcolor": "#DFE8F3",
            "linecolor": "#A2B1C6",
            "ticks": ""
           },
           "bgcolor": "white",
           "caxis": {
            "gridcolor": "#DFE8F3",
            "linecolor": "#A2B1C6",
            "ticks": ""
           }
          },
          "title": {
           "x": 0.05
          },
          "xaxis": {
           "automargin": true,
           "gridcolor": "#EBF0F8",
           "linecolor": "#EBF0F8",
           "ticks": "",
           "title": {
            "standoff": 15
           },
           "zerolinecolor": "#EBF0F8",
           "zerolinewidth": 2
          },
          "yaxis": {
           "automargin": true,
           "gridcolor": "#EBF0F8",
           "linecolor": "#EBF0F8",
           "ticks": "",
           "title": {
            "standoff": 15
           },
           "zerolinecolor": "#EBF0F8",
           "zerolinewidth": 2
          }
         }
        },
        "title": {
         "text": "DBSCAN Clustering with Cluster Boundaries_normalized"
        },
        "xaxis": {
         "gridcolor": "white",
         "linecolor": "grey",
         "range": [
          -1,
          6
         ],
         "tickfont": {
          "size": 16
         },
         "ticktext": [
          "10<sup>-1</sup>",
          "10<sup>0</sup>",
          "10<sup>1</sup>",
          "10<sup>2</sup>",
          "10<sup>3</sup>",
          "10<sup>4</sup>",
          "10<sup>5</sup>",
          "10<sup>6</sup>"
         ],
         "tickvals": [
          -1,
          0,
          1,
          2,
          3,
          4,
          5,
          6
         ],
         "title": {
          "font": {
           "size": 20
          },
          "text": "WVTR (g/m2day)"
         }
        },
        "yaxis": {
         "gridcolor": "white",
         "linecolor": "grey",
         "range": [
          -1,
          10
         ],
         "tickfont": {
          "size": 16
         },
         "ticktext": [
          "10<sup>-1</sup>",
          "10<sup>0</sup>",
          "10<sup>1</sup>",
          "10<sup>2</sup>",
          "10<sup>3</sup>",
          "10<sup>4</sup>",
          "10<sup>5</sup>",
          "10<sup>6</sup>",
          "10<sup>7</sup>",
          "10<sup>8</sup>",
          "10<sup>9</sup>",
          "10<sup>10</sup>"
         ],
         "tickvals": [
          -1,
          0,
          1,
          2,
          3,
          4,
          5,
          6,
          7,
          8,
          9,
          10
         ],
         "title": {
          "font": {
           "size": 20
          },
          "text": "OTR (cm3/m2day)"
         }
        }
       }
      }
     },
     "metadata": {},
     "output_type": "display_data"
    },
    {
     "data": {
      "text/plain": [
       "'DBSCAN_cluster_OP_vs_WVP_normalized.html'"
      ]
     },
     "execution_count": 32,
     "metadata": {},
     "output_type": "execute_result"
    }
   ],
   "source": [
    "from sklearn.cluster import DBSCAN\n",
    "from sklearn.preprocessing import StandardScaler\n",
    "\n",
    "import plotly.express as px\n",
    "import plotly.graph_objects as go\n",
    "import numpy as np\n",
    "\n",
    "# Define whether to use normalization\n",
    "use_normalization = True\n",
    "\n",
    "# Select features and drop rows with NaN\n",
    "features = dtr[['log_OTR_Updated_Num', 'log_WVTR_Updated_Num']].dropna().values\n",
    "\n",
    "\n",
    "# Normalize data if required\n",
    "if use_normalization:\n",
    "    scaler = StandardScaler()\n",
    "    normalized_features = scaler.fit_transform(features)\n",
    "else:\n",
    "    normalized_features = features\n",
    "   \n",
    "# Check for valid data\n",
    "if features.shape[0] == 0:\n",
    "    raise ValueError(\"No valid data points available for clustering after removing NaNs.\")\n",
    "\n",
    "# ----------------------------------------------------\n",
    "# 3. Apply DBSCAN clustering\n",
    "# ----------------------------------------------------\n",
    "eps = 1.17\n",
    "min_samples = 4\n",
    "dbscan = DBSCAN(eps=eps, min_samples=min_samples)\n",
    "labels = dbscan.fit_predict(normalized_features)\n",
    "\n",
    "# ----------------------------------------------------\n",
    "# 4. Add cluster labels to the original DataFrame\n",
    "# ----------------------------------------------------\n",
    "# We assume 'd_clean' aligns with 'features' row order\n",
    "d_clean = dtr.dropna(subset=['log_OTR_Updated_Num', 'log_WVTR_Updated_Num']).copy()\n",
    "d_clean['Cluster'] = labels\n",
    "\n",
    "# Optional: map clusters to \"Base Material\"\n",
    "cluster_base_material_map = (\n",
    "    d_clean[d_clean['Cluster'] != -1]\n",
    "    .groupby('Cluster')['Base Material']\n",
    "    .apply(lambda x: x.mode()[0] if not x.empty else f\"Cluster {x.name}\")\n",
    "    .to_dict()\n",
    ")\n",
    "\n",
    "# Assign a color palette for clusters\n",
    "color_palette = px.colors.qualitative.Plotly  # Get Plotly color palette\n",
    "cluster_colors = {cluster: color_palette[i % len(color_palette)] for i, cluster in enumerate(cluster_base_material_map.keys())}\n",
    "cluster_colors[-1] = \"#d3d3d3\"  # Assign a gray color for noise points (Cluster -1)\n",
    "# ----------------------------------------------------\n",
    "# 5. Build the Plotly figure\n",
    "# ----------------------------------------------------\n",
    "fig = go.Figure()\n",
    "# Choose a color palette\n",
    "color_palette = px.colors.qualitative.Plotly\n",
    "unique_clusters = np.unique(labels)\n",
    "\n",
    "# ----------------------------------------------------\n",
    "# 6. Plot each cluster in the original log-space\n",
    "# ----------------------------------------------------\n",
    "for cluster_label in np.unique(labels):\n",
    "    cluster_data = d_clean[d_clean['Cluster'] == cluster_label]\n",
    "    cluster_size = len(cluster_data) \n",
    "    # cluster_name = f\"Cluster {cluster_label} ({cluster_size} points) - {cluster_base_material_map[cluster_label]}\"\n",
    "    cluster_name = f\"Cluster {cluster_label} ({cluster_size} points)\"\n",
    "    cluster_color = cluster_colors[cluster_label]\n",
    "    \n",
    "    marker_colors = [\n",
    "        f\"rgba({int(int(cluster_color.lstrip('#')[0:2], 16) * 0.7)},\"\n",
    "        f\"{int(int(cluster_color.lstrip('#')[2:4], 16) * 0.7)},\"\n",
    "        f\"{int(int(cluster_color.lstrip('#')[4:6], 16) * 0.7)}, 1)\"\n",
    "        if is_sustainable else cluster_color\n",
    "        for is_sustainable in cluster_data['Material'].str.lower().eq('sustainable')\n",
    "    ]\n",
    "\n",
    "    # Adjust marker shape for conventional materials\n",
    "    marker_symbols = [\n",
    "        'triangle-up' if is_conventional else 'circle'\n",
    "        for is_conventional in cluster_data['Material'].str.lower().eq('conventional')\n",
    "    ]\n",
    "\n",
    "    fig.add_trace(go.Scatter(\n",
    "        x=cluster_data['log_WVTR_Updated_Num'],\n",
    "        y=cluster_data['log_OTR_Updated_Num'],\n",
    "        mode='markers',\n",
    "        name=f\"Cluster: {cluster_name}\" if cluster_label != -1 else \"Noise\",\n",
    "        marker=dict(size=10, color=marker_colors, symbol=marker_symbols),\n",
    "        hovertemplate=(\n",
    "            \"Base Material: %{text}<br>\"\n",
    "            \"Type: %{customdata[0]}<br>\"\n",
    "            \"Secondary Material: %{customdata[1]}<br>\"\n",
    "            \"log(WVTR): %{x}<br>\"\n",
    "            \"log(OTR): %{y}\"\n",
    "    \n",
    "        ),\n",
    "        text=cluster_data['Base Material'],\n",
    "        customdata=cluster_data[['Type', 'Secondary Material']].values\n",
    "    ))\n",
    "    \n",
    "    \n",
    "    # ----------------------------------------------------\n",
    "# 7. Draw bounding boxes in the correct (original log) domain\n",
    "# ----------------------------------------------------\n",
    "# <<< REVISED: bounding boxes must be computed in the same space DBSCAN used, \n",
    "# and then inverse-transformed to the original log domain (if normalized).\n",
    "if use_normalization:\n",
    "    # We must inverse-transform for each cluster\n",
    "    for cluster_label in unique_clusters:\n",
    "        if cluster_label == -1:\n",
    "            continue  # skip noise\n",
    "        cluster_indices = np.where(labels == cluster_label)[0]\n",
    "        if len(cluster_indices) == 0:\n",
    "            continue\n",
    "        \n",
    "        # Extract normalized points for this cluster\n",
    "        cluster_points_norm = normalized_features[cluster_indices, :]  # shape (k, 2)\n",
    "        \n",
    "        # Inverse-transform to get back to [log_OTR, log_WVTR]\n",
    "        cluster_points_orig = scaler.inverse_transform(cluster_points_norm)\n",
    "        # cluster_points_orig[:, 0] => log_OTR\n",
    "        # cluster_points_orig[:, 1] => log_WVTR\n",
    "        \n",
    "        # Compute bounding box in the original log domain\n",
    "        x_min = cluster_points_orig[:, 1].min()\n",
    "        x_max = cluster_points_orig[:, 1].max()\n",
    "        y_min = cluster_points_orig[:, 0].min()\n",
    "        y_max = cluster_points_orig[:, 0].max()\n",
    "        \n",
    "        # Convert cluster color from hex to RGBA\n",
    "        cluster_color = cluster_colors[cluster_label]\n",
    "        if cluster_color.startswith(\"#\"):\n",
    "            r, g, b = [int(cluster_color.lstrip(\"#\")[i : i+2], 16) for i in (0, 2, 4)]\n",
    "            fill_color = f\"rgba({r}, {g}, {b}, 0.1)\"\n",
    "        else:\n",
    "            fill_color = cluster_color\n",
    "        \n",
    "        # Add shape\n",
    "        fig.add_shape(\n",
    "            type=\"rect\",\n",
    "            x0=x_min, x1=x_max,\n",
    "            y0=y_min, y1=y_max,\n",
    "            line=dict(color=cluster_color, width=2),\n",
    "            fillcolor=fill_color\n",
    "        )\n",
    "else:\n",
    "    # If not normalizing, just use the raw min/max from the data\n",
    "    for cluster_label in unique_clusters:\n",
    "        if cluster_label == -1:\n",
    "            continue\n",
    "        cluster_data = d_clean[d_clean['Cluster'] == cluster_label]\n",
    "        if len(cluster_data) == 0:\n",
    "            continue\n",
    "        \n",
    "        cluster_color = cluster_colors[cluster_label]\n",
    "        if cluster_color.startswith(\"#\"):\n",
    "            r, g, b = [int(cluster_color.lstrip(\"#\")[i : i+2], 16) for i in (0, 2, 4)]\n",
    "            fill_color = f\"rgba({r}, {g}, {b}, 0.1)\"\n",
    "        else:\n",
    "            fill_color = cluster_color\n",
    "        \n",
    "        x_min = cluster_data['log_WVTR_Updated_Num'].min()\n",
    "        x_max = cluster_data['log_WVTR_Updated_Num'].max()\n",
    "        y_min = cluster_data['log_OTR_Updated_Num'].min()\n",
    "        y_max = cluster_data['log_OTR_Updated_Num'].max()\n",
    "        \n",
    "        fig.add_shape(\n",
    "            type=\"rect\",\n",
    "            x0=x_min, x1=x_max,\n",
    "            y0=y_min, y1=y_max,\n",
    "            line=dict(color=cluster_color, width=2),\n",
    "            fillcolor=fill_color\n",
    "        )\n",
    "\n",
    "# ----------------------------------------------------\n",
    "# 8. Set up integer tick values for the axes\n",
    "# ----------------------------------------------------\n",
    "\n",
    "lowest_exponent = -1\n",
    "\n",
    "# 1. Determine integer exponent ranges based on the data\n",
    "x_min_int = int(np.floor(d_clean['log_WVTR_Updated_Num'].min()))\n",
    "x_max_int = int(np.ceil(d_clean['log_WVTR_Updated_Num'].max()))\n",
    "# Force the minimum exponent to be 0 if it's higher than 0\n",
    "x_min_int = min(0, x_min_int)\n",
    "\n",
    "y_min_int = int(np.floor(d_clean['log_OTR_Updated_Num'].min()))\n",
    "y_max_int = int(np.ceil(d_clean['log_OTR_Updated_Num'].max()))\n",
    "y_min_int = min(0, y_min_int)\n",
    "\n",
    "# 2. Create arrays of integer ticks\n",
    "tick_vals_x = np.arange(lowest_exponent, x_max_int + 1)\n",
    "tick_vals_y = np.arange(lowest_exponent, y_max_int + 1)\n",
    "\n",
    "# 3. Generate the text labels as 10^exponent\n",
    "tick_text_x = [f\"10<sup>{val}</sup>\" for val in tick_vals_x]\n",
    "tick_text_y = [f\"10<sup>{val}</sup>\" for val in tick_vals_y]\n",
    "\n",
    "# 4. Update axes so they show from 10^0 up to the max exponent\n",
    "fig.update_xaxes(\n",
    "    title=\"WVTR (g/m2day)\",\n",
    "    tickvals=tick_vals_x,\n",
    "    ticktext=tick_text_x,\n",
    "    range=[lowest_exponent, x_max_int],  # Force axis to span at least from exponent=0\n",
    "    gridcolor='white',\n",
    "    linecolor='grey',\n",
    "    title_font=dict(size=20),   # Increase the x-axis title font size\n",
    "    tickfont=dict(size=16)        # Increase the x-axis tick label font size\n",
    "\n",
    ")\n",
    "fig.update_yaxes(\n",
    "    title=\"OTR (cm3/m2day)\",\n",
    "    tickvals=tick_vals_y,\n",
    "    ticktext=tick_text_y,\n",
    "    range=[lowest_exponent, y_max_int],  # Force axis to span at least from exponent=0\n",
    "    gridcolor='white',\n",
    "    linecolor='grey',\n",
    "    title_font=dict(size=20),   # Increase the x-axis title font size\n",
    "    tickfont=dict(size=16)        # Increase the x-axis tick label font size\n",
    "\n",
    ")\n",
    "\n",
    "# Update layout title, etc. as usual\n",
    "file_suffix = \"normalized\" if use_normalization else \"unnormalized\"\n",
    "fig.update_layout(\n",
    "    title= f\"DBSCAN Clustering with Cluster Boundaries_{file_suffix}\",\n",
    "    template=\"plotly_white\",\n",
    "    plot_bgcolor='white'\n",
    ")\n",
    "\n",
    "fig.show()\n",
    "\n",
    "# Export the plot\n",
    "\n",
    "plotly.offline.plot(fig, filename=f'DBSCAN_cluster_OP_vs_WVP_{file_suffix}.html', auto_open=False)"
   ]
  },
  {
   "cell_type": "code",
   "execution_count": 33,
   "metadata": {},
   "outputs": [
    {
     "data": {
      "application/vnd.plotly.v1+json": {
       "config": {
        "plotlyServerURL": "https://plot.ly"
       },
       "data": [
        {
         "customdata": [
          [
           "individual",
           "None"
          ],
          [
           "individual",
           "None"
          ],
          [
           "individual",
           "None"
          ]
         ],
         "hovertemplate": "Base Material: %{text}<br>Type: %{customdata[0]}<br>Secondary Material: %{customdata[1]}<br>log(WVTR): %{x}<br>log(OTR): %{y}",
         "marker": {
          "color": "rgba(147, 147, 147, 1)",
          "size": 10,
          "symbol": "circle"
         },
         "mode": "markers",
         "name": "Noise (Sustainable, 3 pts)",
         "showlegend": true,
         "text": [
          "chitosan",
          "chitosan",
          "chitosan"
         ],
         "type": "scatter",
         "x": [
          3.728271565135178,
          2.115999178029274,
          4.126948067563351
         ],
         "y": [
          6.510866590733636,
          6.510866590733636,
          6.510866590733636
         ]
        },
        {
         "customdata": [
          [
           "individual",
           "None"
          ],
          [
           "individual",
           "None"
          ]
         ],
         "hovertemplate": "Base Material: %{text}<br>Type: %{customdata[0]}<br>Secondary Material: %{customdata[1]}<br>log(WVTR): %{x}<br>log(OTR): %{y}",
         "marker": {
          "color": "#d3d3d3",
          "size": 10,
          "symbol": "triangle-up"
         },
         "mode": "markers",
         "name": "Noise (Conventional, 2 pts)",
         "showlegend": true,
         "text": [
          "polypropylene",
          "polypropylene"
         ],
         "type": "scatter",
         "x": [
          1.7551437115354795,
          1.7551437115354795
         ],
         "y": [
          8.704683837256171,
          9.005713832920152
         ]
        },
        {
         "customdata": [
          [
           "individual",
           "None"
          ],
          [
           "nanocomposite",
           "montmorillonite"
          ],
          [
           "nanocomposite",
           "montmorillonite"
          ],
          [
           "nanocomposite",
           "montmorillonite"
          ],
          [
           "nanocomposite",
           "montmorillonite"
          ],
          [
           "nanocomposite",
           "montmorillonite"
          ],
          [
           "nanocomposite",
           "montmorillonite"
          ],
          [
           "nanocomposite",
           "montmorillonite"
          ],
          [
           "nanocomposite",
           "montmorillonite"
          ],
          [
           "nanocomposite",
           "montmorillonite"
          ],
          [
           "nanocomposite",
           "montmorillonite"
          ],
          [
           "nanocomposite",
           "montmorillonite"
          ],
          [
           "nanocomposite",
           "montmorillonite"
          ],
          [
           "nanocomposite",
           "montmorillonite"
          ],
          [
           "nanocomposite",
           "montmorillonite"
          ],
          [
           "nanocomposite",
           "montmorillonite"
          ],
          [
           "nanocomposite",
           "montmorillonite"
          ],
          [
           "nanocomposite",
           "montmorillonite"
          ],
          [
           "nanocomposite",
           "montmorillonite"
          ],
          [
           "nanocomposite",
           "montmorillonite"
          ],
          [
           "nanocomposite",
           "montmorillonite"
          ],
          [
           "nanocomposite",
           "montmorillonite"
          ],
          [
           "nanocomposite",
           "montmorillonite"
          ],
          [
           "nanocomposite",
           "montmorillonite"
          ],
          [
           "nanocomposite",
           "montmorillonite"
          ],
          [
           "nanocomposite",
           "montmorillonite"
          ],
          [
           "nanocomposite",
           "montmorillonite"
          ],
          [
           "nanocomposite",
           "montmorillonite"
          ],
          [
           "nanocomposite",
           "montmorillonite"
          ],
          [
           "nanocomposite",
           "montmorillonite"
          ],
          [
           "nanocomposite",
           "montmorillonite"
          ],
          [
           "nanocomposite",
           "montmorillonite"
          ],
          [
           "nanocomposite",
           "montmorillonite"
          ],
          [
           "nanocomposite",
           "montmorillonite"
          ],
          [
           "nanocomposite",
           "montmorillonite"
          ],
          [
           "nanocomposite",
           "montmorillonite"
          ],
          [
           "nanocomposite",
           "montmorillonite"
          ],
          [
           "nanocomposite",
           "montmorillonite"
          ],
          [
           "nanocomposite",
           "montmorillonite"
          ],
          [
           "nanocomposite",
           "montmorillonite"
          ],
          [
           "nanocomposite",
           "montmorillonite"
          ],
          [
           "nanocomposite",
           "montmorillonite"
          ],
          [
           "nanocomposite",
           "montmorillonite"
          ],
          [
           "nanocomposite",
           "montmorillonite"
          ],
          [
           "nanocomposite",
           "montmorillonite"
          ],
          [
           "nanocomposite",
           "montmorillonite"
          ],
          [
           "nanocomposite",
           "montmorillonite"
          ],
          [
           "nanocomposite",
           "montmorillonite"
          ],
          [
           "nanocomposite",
           "montmorillonite"
          ],
          [
           "nanocomposite",
           "montmorillonite"
          ],
          [
           "nanocomposite",
           "montmorillonite"
          ],
          [
           "nanocomposite",
           "montmorillonite"
          ],
          [
           "nanocomposite",
           "montmorillonite"
          ],
          [
           "nanocomposite",
           "montmorillonite"
          ],
          [
           "nanocomposite",
           "montmorillonite"
          ],
          [
           "nanocomposite",
           "montmorillonite"
          ],
          [
           "nanocomposite",
           "montmorillonite"
          ]
         ],
         "hovertemplate": "Base Material: %{text}<br>Type: %{customdata[0]}<br>Secondary Material: %{customdata[1]}<br>log(WVTR): %{x}<br>log(OTR): %{y}",
         "marker": {
          "color": "rgba(69, 77, 175, 1)",
          "size": 10,
          "symbol": "circle"
         },
         "mode": "markers",
         "name": "Cluster 0 (fish gelatin) (Sustainable, 57 pts)",
         "showlegend": true,
         "text": [
          "fish gelatin",
          "fish gelatin",
          "fish gelatin",
          "fish gelatin",
          "fish gelatin",
          "fish gelatin",
          "fish gelatin",
          "fish gelatin",
          "fish gelatin",
          "fish gelatin",
          "fish gelatin",
          "fish gelatin",
          "fish gelatin",
          "fish gelatin",
          "fish gelatin",
          "fish gelatin",
          "fish gelatin",
          "fish gelatin",
          "fish gelatin",
          "fish gelatin",
          "fish gelatin",
          "fish gelatin",
          "fish gelatin",
          "fish gelatin",
          "fish gelatin",
          "fish gelatin",
          "fish gelatin",
          "fish gelatin",
          "fish gelatin",
          "fish gelatin",
          "fish gelatin",
          "fish gelatin",
          "fish gelatin",
          "fish gelatin",
          "fish gelatin",
          "fish gelatin",
          "fish gelatin",
          "fish gelatin",
          "fish gelatin",
          "fish gelatin",
          "fish gelatin",
          "fish gelatin",
          "fish gelatin",
          "fish gelatin",
          "fish gelatin",
          "fish gelatin",
          "fish gelatin",
          "fish gelatin",
          "fish gelatin",
          "fish gelatin",
          "fish gelatin",
          "fish gelatin",
          "fish gelatin",
          "fish gelatin",
          "fish gelatin",
          "fish gelatin",
          "fish gelatin"
         ],
         "type": "scatter",
         "x": [
          3.436384948911067,
          2.8507153737712736,
          2.9914483775628056,
          3.0789509220490308,
          3.1353549532470857,
          3.0356520400548592,
          3.0321354663320217,
          3.059501650548388,
          3.0821094412938606,
          2.8507153737712736,
          2.9914483775628056,
          3.0789509220490308,
          3.1353549532470857,
          3.0356520400548592,
          3.0321354663320217,
          3.059501650548388,
          3.0821094412938606,
          2.8507153737712736,
          2.9914483775628056,
          3.0789509220490308,
          3.1353549532470857,
          3.0356520400548592,
          3.0321354663320217,
          3.059501650548388,
          3.0821094412938606,
          2.8507153737712736,
          2.9914483775628056,
          3.0789509220490308,
          3.1353549532470857,
          3.0356520400548592,
          3.0321354663320217,
          3.059501650548388,
          3.0821094412938606,
          2.8507153737712736,
          2.9914483775628056,
          3.0789509220490308,
          3.1353549532470857,
          3.0356520400548592,
          3.0321354663320217,
          3.059501650548388,
          3.0821094412938606,
          2.8507153737712736,
          2.9914483775628056,
          3.0789509220490308,
          3.1353549532470857,
          3.0356520400548592,
          3.0321354663320217,
          3.059501650548388,
          3.0821094412938606,
          2.8507153737712736,
          2.9914483775628056,
          3.0789509220490308,
          3.1353549532470857,
          3.0356520400548592,
          3.0321354663320217,
          3.059501650548388,
          3.0821094412938606
         ],
         "y": [
          0.6050894618815801,
          0.05842602445700704,
          0.05842602445700704,
          0.05842602445700704,
          0.05842602445700704,
          0.05842602445700704,
          0.05842602445700704,
          0.05842602445700704,
          0.05842602445700704,
          0.2931414834509317,
          0.2931414834509317,
          0.2931414834509317,
          0.2931414834509317,
          0.2931414834509317,
          0.2931414834509317,
          0.2931414834509317,
          0.2931414834509317,
          0.2337573629655109,
          0.2337573629655109,
          0.2337573629655109,
          0.2337573629655109,
          0.2337573629655109,
          0.2337573629655109,
          0.2337573629655109,
          0.2337573629655109,
          0.3308194664958377,
          0.3308194664958377,
          0.3308194664958377,
          0.3308194664958377,
          0.3308194664958377,
          0.3308194664958377,
          0.3308194664958377,
          0.3308194664958377,
          0.2785249647370182,
          0.2785249647370182,
          0.2785249647370182,
          0.2785249647370182,
          0.2785249647370182,
          0.2785249647370182,
          0.2785249647370182,
          0.2785249647370182,
          0.3944516808262167,
          0.3944516808262167,
          0.3944516808262167,
          0.3944516808262167,
          0.3944516808262167,
          0.3944516808262167,
          0.3944516808262167,
          0.3944516808262167,
          0.3165993020938614,
          0.3165993020938614,
          0.3165993020938614,
          0.3165993020938614,
          0.3165993020938614,
          0.3165993020938614,
          0.3165993020938614,
          0.3165993020938614
         ]
        },
        {
         "customdata": [
          [
           "individual",
           "None"
          ],
          [
           "individual",
           "None"
          ],
          [
           "individual",
           "None"
          ],
          [
           "individual",
           "None"
          ],
          [
           "individual",
           "None"
          ],
          [
           "individual",
           "None"
          ],
          [
           "individual",
           "None"
          ],
          [
           "individual",
           "None"
          ],
          [
           "individual",
           "None"
          ]
         ],
         "hovertemplate": "Base Material: %{text}<br>Type: %{customdata[0]}<br>Secondary Material: %{customdata[1]}<br>log(WVTR): %{x}<br>log(OTR): %{y}",
         "marker": {
          "color": "rgba(167, 59, 41, 1)",
          "size": 10,
          "symbol": "circle"
         },
         "mode": "markers",
         "name": "Cluster 1 (polylactic acid) (Sustainable, 9 pts)",
         "showlegend": true,
         "text": [
          "polylactic acid",
          "polylactic acid",
          "polylactic acid",
          "polylactic acid",
          "polylactic acid",
          "polylactic acid",
          "polylactic acid",
          "polylactic acid",
          "polylactic acid"
         ],
         "type": "scatter",
         "x": [
          3.3431968181948495,
          3.2796896161832803,
          3.6496700758487925,
          3.3431968181948495,
          3.2796896161832803,
          3.6496700758487925,
          3.3431968181948495,
          3.2796896161832803,
          3.6496700758487925
         ],
         "y": [
          2.852053724543536,
          2.852053724543536,
          2.852053724543536,
          4.028636128569049,
          4.028636128569049,
          4.028636128569049,
          2.2336005375338255,
          2.2336005375338255,
          2.2336005375338255
         ]
        },
        {
         "customdata": [
          [
           "individual",
           "None"
          ],
          [
           "individual",
           "None"
          ],
          [
           "individual",
           "None"
          ]
         ],
         "hovertemplate": "Base Material: %{text}<br>Type: %{customdata[0]}<br>Secondary Material: %{customdata[1]}<br>log(WVTR): %{x}<br>log(OTR): %{y}",
         "marker": {
          "color": "#EF553B",
          "size": 10,
          "symbol": "triangle-up"
         },
         "mode": "markers",
         "name": "Cluster 1 (polylactic acid) (Conventional, 3 pts)",
         "showlegend": true,
         "text": [
          "LDPE",
          "LDPE",
          "HDPE"
         ],
         "type": "scatter",
         "x": [
          2.0585689197390065,
          1.8817496075112425,
          1.2846530357148302
         ],
         "y": [
          4.2775678801531685,
          4.2775678801531685,
          3.6361330959586846
         ]
        },
        {
         "customdata": [
          [
           "blend",
           "CMC"
          ],
          [
           "blend",
           "CMC"
          ],
          [
           "blend",
           "CMC"
          ],
          [
           "blend",
           "CMC"
          ],
          [
           "blend",
           "CMC"
          ],
          [
           "blend",
           "CMC"
          ],
          [
           "blend",
           "CMC"
          ],
          [
           "blend",
           "CMC"
          ],
          [
           "blend",
           "CMC"
          ],
          [
           "blend",
           "CMC"
          ],
          [
           "blend",
           "CMC"
          ],
          [
           "blend",
           "CMC"
          ],
          [
           "blend",
           "CMC"
          ],
          [
           "blend",
           "CMC"
          ],
          [
           "blend",
           "CMC"
          ],
          [
           "blend",
           "CMC"
          ],
          [
           "blend",
           "CMC"
          ],
          [
           "blend",
           "CMC"
          ],
          [
           "blend",
           "CMC"
          ],
          [
           "blend",
           "CMC"
          ],
          [
           "blend",
           "CMC"
          ],
          [
           "blend",
           "CMC"
          ],
          [
           "blend",
           "CMC"
          ],
          [
           "blend",
           "CMC"
          ],
          [
           "blend",
           "CMC"
          ],
          [
           "blend",
           "CMC"
          ],
          [
           "blend",
           "CMC"
          ],
          [
           "blend",
           "CMC"
          ],
          [
           "blend",
           "CMC"
          ],
          [
           "blend",
           "CMC"
          ],
          [
           "blend",
           "CMC"
          ],
          [
           "blend",
           "CMC"
          ],
          [
           "blend",
           "CMC"
          ],
          [
           "blend",
           "CMC"
          ],
          [
           "blend",
           "CMC"
          ],
          [
           "blend",
           "CMC"
          ],
          [
           "blend",
           "CMC"
          ],
          [
           "blend",
           "CMC"
          ],
          [
           "blend",
           "CMC"
          ],
          [
           "blend",
           "CMC"
          ],
          [
           "blend",
           "CMC"
          ],
          [
           "blend",
           "CMC"
          ],
          [
           "blend",
           "CMC"
          ],
          [
           "blend",
           "CMC"
          ],
          [
           "blend",
           "CMC"
          ],
          [
           "blend",
           "CMC"
          ],
          [
           "blend",
           "CMC"
          ],
          [
           "blend",
           "CMC"
          ],
          [
           "blend",
           "CMC"
          ],
          [
           "blend",
           "CMC"
          ],
          [
           "blend",
           "CMC"
          ],
          [
           "blend",
           "CMC"
          ],
          [
           "blend",
           "CMC"
          ],
          [
           "blend",
           "CMC"
          ],
          [
           "blend",
           "CMC"
          ],
          [
           "blend",
           "CMC"
          ],
          [
           "blend",
           "CMC"
          ],
          [
           "blend",
           "CMC"
          ],
          [
           "blend",
           "CMC"
          ],
          [
           "blend",
           "CMC"
          ],
          [
           "blend",
           "CMC"
          ],
          [
           "blend",
           "CMC"
          ],
          [
           "blend",
           "CMC"
          ],
          [
           "blend",
           "CMC"
          ],
          [
           "blend",
           "CMC"
          ],
          [
           "blend",
           "CMC"
          ],
          [
           "blend",
           "CMC"
          ],
          [
           "blend",
           "CMC"
          ],
          [
           "blend",
           "CMC"
          ],
          [
           "blend",
           "CMC"
          ],
          [
           "blend",
           "CMC"
          ],
          [
           "blend",
           "CMC"
          ],
          [
           "blend",
           "CMC"
          ],
          [
           "blend",
           "CMC"
          ],
          [
           "blend",
           "CMC"
          ],
          [
           "blend",
           "CMC"
          ],
          [
           "blend",
           "CMC"
          ],
          [
           "blend",
           "CMC"
          ],
          [
           "blend",
           "CMC"
          ],
          [
           "blend",
           "CMC"
          ],
          [
           "blend",
           "CMC"
          ],
          [
           "blend",
           "CMC"
          ],
          [
           "blend",
           "CMC"
          ],
          [
           "blend",
           "CMC"
          ],
          [
           "blend",
           "CMC"
          ],
          [
           "blend",
           "CMC"
          ],
          [
           "blend",
           "CMC"
          ],
          [
           "blend",
           "CMC"
          ],
          [
           "blend",
           "CMC"
          ],
          [
           "blend",
           "CMC"
          ],
          [
           "blend",
           "CMC"
          ],
          [
           "blend",
           "CMC"
          ],
          [
           "blend",
           "CMC"
          ],
          [
           "blend",
           "CMC"
          ],
          [
           "blend",
           "CMC"
          ],
          [
           "blend",
           "CMC"
          ],
          [
           "blend",
           "CMC"
          ],
          [
           "blend",
           "CMC"
          ],
          [
           "blend",
           "CMC"
          ],
          [
           "blend",
           "CMC"
          ],
          [
           "blend",
           "CMC"
          ],
          [
           "blend",
           "CMC"
          ],
          [
           "blend",
           "CMC"
          ],
          [
           "blend",
           "CMC"
          ],
          [
           "blend",
           "CMC"
          ],
          [
           "blend",
           "CMC"
          ],
          [
           "blend",
           "CMC"
          ],
          [
           "blend",
           "CMC"
          ],
          [
           "blend",
           "CMC"
          ],
          [
           "blend",
           "CMC"
          ],
          [
           "blend",
           "CMC"
          ],
          [
           "blend",
           "CMC"
          ],
          [
           "blend",
           "CMC"
          ],
          [
           "blend",
           "CMC"
          ],
          [
           "blend",
           "CMC"
          ],
          [
           "blend",
           "CMC"
          ],
          [
           "blend",
           "CMC"
          ],
          [
           "blend",
           "CMC"
          ],
          [
           "blend",
           "CMC"
          ],
          [
           "blend",
           "CMC"
          ],
          [
           "blend",
           "CMC"
          ],
          [
           "blend",
           "CMC"
          ],
          [
           "blend",
           "CMC"
          ],
          [
           "blend",
           "CMC"
          ],
          [
           "blend",
           "CMC"
          ],
          [
           "blend",
           "CMC"
          ],
          [
           "blend",
           "CMC"
          ],
          [
           "blend",
           "CMC"
          ],
          [
           "blend",
           "CMC"
          ],
          [
           "blend",
           "CMC"
          ],
          [
           "blend",
           "CMC"
          ],
          [
           "blend",
           "CMC"
          ],
          [
           "blend",
           "CMC"
          ],
          [
           "blend",
           "CMC"
          ],
          [
           "blend",
           "CMC"
          ],
          [
           "blend",
           "CMC"
          ],
          [
           "blend",
           "CMC"
          ],
          [
           "blend",
           "CMC"
          ],
          [
           "blend",
           "CMC"
          ],
          [
           "blend",
           "CMC"
          ],
          [
           "blend",
           "CMC"
          ],
          [
           "blend",
           "CMC"
          ],
          [
           "blend",
           "CMC"
          ],
          [
           "blend",
           "CMC"
          ],
          [
           "blend",
           "gelatin"
          ],
          [
           "blend",
           "gelatin"
          ],
          [
           "blend",
           "gelatin"
          ],
          [
           "blend",
           "gelatin"
          ],
          [
           "blend",
           "gelatin"
          ],
          [
           "blend",
           "gelatin"
          ],
          [
           "blend",
           "gelatin"
          ],
          [
           "blend",
           "gelatin"
          ],
          [
           "blend",
           "gelatin"
          ],
          [
           "blend",
           "gelatin"
          ],
          [
           "blend",
           "gelatin"
          ],
          [
           "blend",
           "gelatin"
          ],
          [
           "blend",
           "gelatin"
          ],
          [
           "blend",
           "gelatin"
          ],
          [
           "blend",
           "gelatin"
          ],
          [
           "blend",
           "gelatin"
          ],
          [
           "blend",
           "gelatin"
          ],
          [
           "blend",
           "gelatin"
          ],
          [
           "blend",
           "gelatin"
          ],
          [
           "blend",
           "gelatin"
          ],
          [
           "blend",
           "gelatin"
          ],
          [
           "blend",
           "gelatin"
          ],
          [
           "blend",
           "gelatin"
          ],
          [
           "blend",
           "gelatin"
          ],
          [
           "blend",
           "gelatin"
          ],
          [
           "blend",
           "gelatin"
          ],
          [
           "blend",
           "gelatin"
          ],
          [
           "blend",
           "gelatin"
          ],
          [
           "blend",
           "gelatin"
          ],
          [
           "blend",
           "gelatin"
          ],
          [
           "blend",
           "gelatin"
          ],
          [
           "blend",
           "gelatin"
          ],
          [
           "blend",
           "gelatin"
          ],
          [
           "blend",
           "gelatin"
          ],
          [
           "blend",
           "gelatin"
          ],
          [
           "blend",
           "gelatin"
          ]
         ],
         "hovertemplate": "Base Material: %{text}<br>Type: %{customdata[0]}<br>Secondary Material: %{customdata[1]}<br>log(WVTR): %{x}<br>log(OTR): %{y}",
         "marker": {
          "color": "rgba(0, 142, 105, 1)",
          "size": 10,
          "symbol": "circle"
         },
         "mode": "markers",
         "name": "Cluster 2 (carrot puree) (Sustainable, 180 pts)",
         "showlegend": true,
         "text": [
          "carrot puree",
          "carrot puree",
          "carrot puree",
          "carrot puree",
          "carrot puree",
          "carrot puree",
          "carrot puree",
          "carrot puree",
          "carrot puree",
          "carrot puree",
          "carrot puree",
          "carrot puree",
          "carrot puree",
          "carrot puree",
          "carrot puree",
          "carrot puree",
          "carrot puree",
          "carrot puree",
          "carrot puree",
          "carrot puree",
          "carrot puree",
          "carrot puree",
          "carrot puree",
          "carrot puree",
          "carrot puree",
          "carrot puree",
          "carrot puree",
          "carrot puree",
          "carrot puree",
          "carrot puree",
          "carrot puree",
          "carrot puree",
          "carrot puree",
          "carrot puree",
          "carrot puree",
          "carrot puree",
          "carrot puree",
          "carrot puree",
          "carrot puree",
          "carrot puree",
          "carrot puree",
          "carrot puree",
          "carrot puree",
          "carrot puree",
          "carrot puree",
          "carrot puree",
          "carrot puree",
          "carrot puree",
          "carrot puree",
          "carrot puree",
          "carrot puree",
          "carrot puree",
          "carrot puree",
          "carrot puree",
          "carrot puree",
          "carrot puree",
          "carrot puree",
          "carrot puree",
          "carrot puree",
          "carrot puree",
          "carrot puree",
          "carrot puree",
          "carrot puree",
          "carrot puree",
          "carrot puree",
          "carrot puree",
          "carrot puree",
          "carrot puree",
          "carrot puree",
          "carrot puree",
          "carrot puree",
          "carrot puree",
          "carrot puree",
          "carrot puree",
          "carrot puree",
          "carrot puree",
          "carrot puree",
          "carrot puree",
          "carrot puree",
          "carrot puree",
          "carrot puree",
          "carrot puree",
          "carrot puree",
          "carrot puree",
          "carrot puree",
          "carrot puree",
          "carrot puree",
          "carrot puree",
          "carrot puree",
          "carrot puree",
          "carrot puree",
          "carrot puree",
          "carrot puree",
          "carrot puree",
          "carrot puree",
          "carrot puree",
          "carrot puree",
          "carrot puree",
          "carrot puree",
          "carrot puree",
          "carrot puree",
          "carrot puree",
          "carrot puree",
          "carrot puree",
          "carrot puree",
          "carrot puree",
          "carrot puree",
          "carrot puree",
          "carrot puree",
          "carrot puree",
          "carrot puree",
          "carrot puree",
          "carrot puree",
          "carrot puree",
          "carrot puree",
          "carrot puree",
          "carrot puree",
          "carrot puree",
          "carrot puree",
          "carrot puree",
          "carrot puree",
          "carrot puree",
          "carrot puree",
          "carrot puree",
          "carrot puree",
          "carrot puree",
          "carrot puree",
          "carrot puree",
          "carrot puree",
          "carrot puree",
          "carrot puree",
          "carrot puree",
          "carrot puree",
          "carrot puree",
          "carrot puree",
          "carrot puree",
          "carrot puree",
          "carrot puree",
          "carrot puree",
          "carrot puree",
          "carrot puree",
          "carrot puree",
          "carrot puree",
          "carrot puree",
          "carrot puree",
          "carrot puree",
          "carrot puree",
          "carrot puree",
          "carrot puree",
          "carrot puree",
          "carrot puree",
          "carrot puree",
          "carrot puree",
          "carrot puree",
          "carrot puree",
          "carrot puree",
          "carrot puree",
          "carrot puree",
          "carrot puree",
          "carrot puree",
          "carrot puree",
          "carrot puree",
          "carrot puree",
          "carrot puree",
          "carrot puree",
          "carrot puree",
          "carrot puree",
          "carrot puree",
          "carrot puree",
          "carrot puree",
          "carrot puree",
          "carrot puree",
          "carrot puree",
          "carrot puree",
          "carrot puree",
          "carrot puree",
          "carrot puree",
          "carrot puree",
          "carrot puree",
          "carrot puree"
         ],
         "type": "scatter",
         "x": [
          5.763809382804633,
          5.631183817530042,
          5.396159946950353,
          5.3054661593763175,
          5.268975734457945,
          5.187989710859901,
          5.45704364989191,
          5.440954325640528,
          5.371821157115925,
          5.329976014501487,
          5.301306580951887,
          5.280886020471324,
          5.763809382804633,
          5.631183817530042,
          5.396159946950353,
          5.3054661593763175,
          5.268975734457945,
          5.187989710859901,
          5.45704364989191,
          5.440954325640528,
          5.371821157115925,
          5.329976014501487,
          5.301306580951887,
          5.280886020471324,
          5.763809382804633,
          5.631183817530042,
          5.396159946950353,
          5.3054661593763175,
          5.268975734457945,
          5.187989710859901,
          5.45704364989191,
          5.440954325640528,
          5.371821157115925,
          5.329976014501487,
          5.301306580951887,
          5.280886020471324,
          5.763809382804633,
          5.631183817530042,
          5.396159946950353,
          5.3054661593763175,
          5.268975734457945,
          5.187989710859901,
          5.45704364989191,
          5.440954325640528,
          5.371821157115925,
          5.329976014501487,
          5.301306580951887,
          5.280886020471324,
          5.763809382804633,
          5.631183817530042,
          5.396159946950353,
          5.3054661593763175,
          5.268975734457945,
          5.187989710859901,
          5.45704364989191,
          5.440954325640528,
          5.371821157115925,
          5.329976014501487,
          5.301306580951887,
          5.280886020471324,
          5.763809382804633,
          5.631183817530042,
          5.396159946950353,
          5.3054661593763175,
          5.268975734457945,
          5.187989710859901,
          5.45704364989191,
          5.440954325640528,
          5.371821157115925,
          5.329976014501487,
          5.301306580951887,
          5.280886020471324,
          5.763809382804633,
          5.631183817530042,
          5.396159946950353,
          5.3054661593763175,
          5.268975734457945,
          5.187989710859901,
          5.45704364989191,
          5.440954325640528,
          5.371821157115925,
          5.329976014501487,
          5.301306580951887,
          5.280886020471324,
          5.763809382804633,
          5.631183817530042,
          5.396159946950353,
          5.3054661593763175,
          5.268975734457945,
          5.187989710859901,
          5.45704364989191,
          5.440954325640528,
          5.371821157115925,
          5.329976014501487,
          5.301306580951887,
          5.280886020471324,
          5.763809382804633,
          5.631183817530042,
          5.396159946950353,
          5.3054661593763175,
          5.268975734457945,
          5.187989710859901,
          5.45704364989191,
          5.440954325640528,
          5.371821157115925,
          5.329976014501487,
          5.301306580951887,
          5.280886020471324,
          5.763809382804633,
          5.631183817530042,
          5.396159946950353,
          5.3054661593763175,
          5.268975734457945,
          5.187989710859901,
          5.45704364989191,
          5.440954325640528,
          5.371821157115925,
          5.329976014501487,
          5.301306580951887,
          5.280886020471324,
          5.763809382804633,
          5.631183817530042,
          5.396159946950353,
          5.3054661593763175,
          5.268975734457945,
          5.187989710859901,
          5.45704364989191,
          5.440954325640528,
          5.371821157115925,
          5.329976014501487,
          5.301306580951887,
          5.280886020471324,
          5.763809382804633,
          5.631183817530042,
          5.396159946950353,
          5.3054661593763175,
          5.268975734457945,
          5.187989710859901,
          5.45704364989191,
          5.440954325640528,
          5.371821157115925,
          5.329976014501487,
          5.301306580951887,
          5.280886020471324,
          5.400414790462887,
          5.324967620653954,
          5.275879111407325,
          5.375359872473109,
          5.482434654734684,
          5.52520228399743,
          5.400414790462887,
          5.324967620653954,
          5.275879111407325,
          5.375359872473109,
          5.482434654734684,
          5.52520228399743,
          5.400414790462887,
          5.324967620653954,
          5.275879111407325,
          5.375359872473109,
          5.482434654734684,
          5.52520228399743,
          5.400414790462887,
          5.324967620653954,
          5.275879111407325,
          5.375359872473109,
          5.482434654734684,
          5.52520228399743,
          5.400414790462887,
          5.324967620653954,
          5.275879111407325,
          5.375359872473109,
          5.482434654734684,
          5.52520228399743,
          5.400414790462887,
          5.324967620653954,
          5.275879111407325,
          5.375359872473109,
          5.482434654734684,
          5.52520228399743
         ],
         "y": [
          1.2490841035856326,
          1.2490841035856326,
          1.2490841035856326,
          1.2490841035856326,
          1.2490841035856326,
          1.2490841035856326,
          1.2490841035856326,
          1.2490841035856326,
          1.2490841035856326,
          1.2490841035856326,
          1.2490841035856326,
          1.2490841035856326,
          1.1994287810319684,
          1.1994287810319684,
          1.1994287810319684,
          1.1994287810319684,
          1.1994287810319684,
          1.1994287810319684,
          1.1994287810319684,
          1.1994287810319684,
          1.1994287810319684,
          1.1994287810319684,
          1.1994287810319684,
          1.1994287810319684,
          1.1142491643171806,
          1.1142491643171806,
          1.1142491643171806,
          1.1142491643171806,
          1.1142491643171806,
          1.1142491643171806,
          1.1142491643171806,
          1.1142491643171806,
          1.1142491643171806,
          1.1142491643171806,
          1.1142491643171806,
          1.1142491643171806,
          1.0805330530589055,
          1.0805330530589055,
          1.0805330530589055,
          1.0805330530589055,
          1.0805330530589055,
          1.0805330530589055,
          1.0805330530589055,
          1.0805330530589055,
          1.0805330530589055,
          1.0805330530589055,
          1.0805330530589055,
          1.0805330530589055,
          1.0585059424731682,
          1.0585059424731682,
          1.0585059424731682,
          1.0585059424731682,
          1.0585059424731682,
          1.0585059424731682,
          1.0585059424731682,
          1.0585059424731682,
          1.0585059424731682,
          1.0585059424731682,
          1.0585059424731682,
          1.0585059424731682,
          1.0415656325785816,
          1.0415656325785816,
          1.0415656325785816,
          1.0415656325785816,
          1.0415656325785816,
          1.0415656325785816,
          1.0415656325785816,
          1.0415656325785816,
          1.0415656325785816,
          1.0415656325785816,
          1.0415656325785816,
          1.0415656325785816,
          1.0754498116251183,
          1.0754498116251183,
          1.0754498116251183,
          1.0754498116251183,
          1.0754498116251183,
          1.0754498116251183,
          1.0754498116251183,
          1.0754498116251183,
          1.0754498116251183,
          1.0754498116251183,
          1.0754498116251183,
          1.0754498116251183,
          1.0799008921293791,
          1.0799008921293791,
          1.0799008921293791,
          1.0799008921293791,
          1.0799008921293791,
          1.0799008921293791,
          1.0799008921293791,
          1.0799008921293791,
          1.0799008921293791,
          1.0799008921293791,
          1.0799008921293791,
          1.0799008921293791,
          1.0808487887921163,
          1.0808487887921163,
          1.0808487887921163,
          1.0808487887921163,
          1.0808487887921163,
          1.0808487887921163,
          1.0808487887921163,
          1.0808487887921163,
          1.0808487887921163,
          1.0808487887921163,
          1.0808487887921163,
          1.0808487887921163,
          1.0877375263022864,
          1.0877375263022864,
          1.0877375263022864,
          1.0877375263022864,
          1.0877375263022864,
          1.0877375263022864,
          1.0877375263022864,
          1.0877375263022864,
          1.0877375263022864,
          1.0877375263022864,
          1.0877375263022864,
          1.0877375263022864,
          1.096045219237153,
          1.096045219237153,
          1.096045219237153,
          1.096045219237153,
          1.096045219237153,
          1.096045219237153,
          1.096045219237153,
          1.096045219237153,
          1.096045219237153,
          1.096045219237153,
          1.096045219237153,
          1.096045219237153,
          1.1044959691906455,
          1.1044959691906455,
          1.1044959691906455,
          1.1044959691906455,
          1.1044959691906455,
          1.1044959691906455,
          1.1044959691906455,
          1.1044959691906455,
          1.1044959691906455,
          1.1044959691906455,
          1.1044959691906455,
          1.1044959691906455,
          1.0824240334712552,
          1.0824240334712552,
          1.0824240334712552,
          1.0824240334712552,
          1.0824240334712552,
          1.0824240334712552,
          1.055170330976704,
          1.055170330976704,
          1.055170330976704,
          1.055170330976704,
          1.055170330976704,
          1.055170330976704,
          1.0874267610068058,
          1.0874267610068058,
          1.0874267610068058,
          1.0874267610068058,
          1.0874267610068058,
          1.0874267610068058,
          1.0686864683244282,
          1.0686864683244282,
          1.0686864683244282,
          1.0686864683244282,
          1.0686864683244282,
          1.0686864683244282,
          1.1124920702875813,
          1.1124920702875813,
          1.1124920702875813,
          1.1124920702875813,
          1.1124920702875813,
          1.1124920702875813,
          1.105689906662614,
          1.105689906662614,
          1.105689906662614,
          1.105689906662614,
          1.105689906662614,
          1.105689906662614
         ]
        }
       ],
       "layout": {
        "shapes": [
         {
          "fillcolor": "rgba(99, 110, 250, 0.1)",
          "line": {
           "color": "#636EFA",
           "width": 2
          },
          "type": "rect",
          "x0": 2.8507153737712736,
          "x1": 3.4363849489110665,
          "y0": 0.05842602445700695,
          "y1": 0.6050894618815801
         },
         {
          "fillcolor": "rgba(239, 85, 59, 0.1)",
          "line": {
           "color": "#EF553B",
           "width": 2
          },
          "type": "rect",
          "x0": 1.2846530357148302,
          "x1": 3.6496700758487925,
          "y0": 2.2336005375338255,
          "y1": 4.2775678801531685
         },
         {
          "fillcolor": "rgba(0, 204, 150, 0.1)",
          "line": {
           "color": "#00CC96",
           "width": 2
          },
          "type": "rect",
          "x0": 5.187989710859901,
          "x1": 5.763809382804633,
          "y0": 1.0415656325785816,
          "y1": 1.2490841035856326
         }
        ],
        "showlegend": false,
        "template": {
         "data": {
          "bar": [
           {
            "error_x": {
             "color": "#2a3f5f"
            },
            "error_y": {
             "color": "#2a3f5f"
            },
            "marker": {
             "line": {
              "color": "white",
              "width": 0.5
             },
             "pattern": {
              "fillmode": "overlay",
              "size": 10,
              "solidity": 0.2
             }
            },
            "type": "bar"
           }
          ],
          "barpolar": [
           {
            "marker": {
             "line": {
              "color": "white",
              "width": 0.5
             },
             "pattern": {
              "fillmode": "overlay",
              "size": 10,
              "solidity": 0.2
             }
            },
            "type": "barpolar"
           }
          ],
          "carpet": [
           {
            "aaxis": {
             "endlinecolor": "#2a3f5f",
             "gridcolor": "#C8D4E3",
             "linecolor": "#C8D4E3",
             "minorgridcolor": "#C8D4E3",
             "startlinecolor": "#2a3f5f"
            },
            "baxis": {
             "endlinecolor": "#2a3f5f",
             "gridcolor": "#C8D4E3",
             "linecolor": "#C8D4E3",
             "minorgridcolor": "#C8D4E3",
             "startlinecolor": "#2a3f5f"
            },
            "type": "carpet"
           }
          ],
          "choropleth": [
           {
            "colorbar": {
             "outlinewidth": 0,
             "ticks": ""
            },
            "type": "choropleth"
           }
          ],
          "contour": [
           {
            "colorbar": {
             "outlinewidth": 0,
             "ticks": ""
            },
            "colorscale": [
             [
              0,
              "#0d0887"
             ],
             [
              0.1111111111111111,
              "#46039f"
             ],
             [
              0.2222222222222222,
              "#7201a8"
             ],
             [
              0.3333333333333333,
              "#9c179e"
             ],
             [
              0.4444444444444444,
              "#bd3786"
             ],
             [
              0.5555555555555556,
              "#d8576b"
             ],
             [
              0.6666666666666666,
              "#ed7953"
             ],
             [
              0.7777777777777778,
              "#fb9f3a"
             ],
             [
              0.8888888888888888,
              "#fdca26"
             ],
             [
              1,
              "#f0f921"
             ]
            ],
            "type": "contour"
           }
          ],
          "contourcarpet": [
           {
            "colorbar": {
             "outlinewidth": 0,
             "ticks": ""
            },
            "type": "contourcarpet"
           }
          ],
          "heatmap": [
           {
            "colorbar": {
             "outlinewidth": 0,
             "ticks": ""
            },
            "colorscale": [
             [
              0,
              "#0d0887"
             ],
             [
              0.1111111111111111,
              "#46039f"
             ],
             [
              0.2222222222222222,
              "#7201a8"
             ],
             [
              0.3333333333333333,
              "#9c179e"
             ],
             [
              0.4444444444444444,
              "#bd3786"
             ],
             [
              0.5555555555555556,
              "#d8576b"
             ],
             [
              0.6666666666666666,
              "#ed7953"
             ],
             [
              0.7777777777777778,
              "#fb9f3a"
             ],
             [
              0.8888888888888888,
              "#fdca26"
             ],
             [
              1,
              "#f0f921"
             ]
            ],
            "type": "heatmap"
           }
          ],
          "heatmapgl": [
           {
            "colorbar": {
             "outlinewidth": 0,
             "ticks": ""
            },
            "colorscale": [
             [
              0,
              "#0d0887"
             ],
             [
              0.1111111111111111,
              "#46039f"
             ],
             [
              0.2222222222222222,
              "#7201a8"
             ],
             [
              0.3333333333333333,
              "#9c179e"
             ],
             [
              0.4444444444444444,
              "#bd3786"
             ],
             [
              0.5555555555555556,
              "#d8576b"
             ],
             [
              0.6666666666666666,
              "#ed7953"
             ],
             [
              0.7777777777777778,
              "#fb9f3a"
             ],
             [
              0.8888888888888888,
              "#fdca26"
             ],
             [
              1,
              "#f0f921"
             ]
            ],
            "type": "heatmapgl"
           }
          ],
          "histogram": [
           {
            "marker": {
             "pattern": {
              "fillmode": "overlay",
              "size": 10,
              "solidity": 0.2
             }
            },
            "type": "histogram"
           }
          ],
          "histogram2d": [
           {
            "colorbar": {
             "outlinewidth": 0,
             "ticks": ""
            },
            "colorscale": [
             [
              0,
              "#0d0887"
             ],
             [
              0.1111111111111111,
              "#46039f"
             ],
             [
              0.2222222222222222,
              "#7201a8"
             ],
             [
              0.3333333333333333,
              "#9c179e"
             ],
             [
              0.4444444444444444,
              "#bd3786"
             ],
             [
              0.5555555555555556,
              "#d8576b"
             ],
             [
              0.6666666666666666,
              "#ed7953"
             ],
             [
              0.7777777777777778,
              "#fb9f3a"
             ],
             [
              0.8888888888888888,
              "#fdca26"
             ],
             [
              1,
              "#f0f921"
             ]
            ],
            "type": "histogram2d"
           }
          ],
          "histogram2dcontour": [
           {
            "colorbar": {
             "outlinewidth": 0,
             "ticks": ""
            },
            "colorscale": [
             [
              0,
              "#0d0887"
             ],
             [
              0.1111111111111111,
              "#46039f"
             ],
             [
              0.2222222222222222,
              "#7201a8"
             ],
             [
              0.3333333333333333,
              "#9c179e"
             ],
             [
              0.4444444444444444,
              "#bd3786"
             ],
             [
              0.5555555555555556,
              "#d8576b"
             ],
             [
              0.6666666666666666,
              "#ed7953"
             ],
             [
              0.7777777777777778,
              "#fb9f3a"
             ],
             [
              0.8888888888888888,
              "#fdca26"
             ],
             [
              1,
              "#f0f921"
             ]
            ],
            "type": "histogram2dcontour"
           }
          ],
          "mesh3d": [
           {
            "colorbar": {
             "outlinewidth": 0,
             "ticks": ""
            },
            "type": "mesh3d"
           }
          ],
          "parcoords": [
           {
            "line": {
             "colorbar": {
              "outlinewidth": 0,
              "ticks": ""
             }
            },
            "type": "parcoords"
           }
          ],
          "pie": [
           {
            "automargin": true,
            "type": "pie"
           }
          ],
          "scatter": [
           {
            "marker": {
             "colorbar": {
              "outlinewidth": 0,
              "ticks": ""
             }
            },
            "type": "scatter"
           }
          ],
          "scatter3d": [
           {
            "line": {
             "colorbar": {
              "outlinewidth": 0,
              "ticks": ""
             }
            },
            "marker": {
             "colorbar": {
              "outlinewidth": 0,
              "ticks": ""
             }
            },
            "type": "scatter3d"
           }
          ],
          "scattercarpet": [
           {
            "marker": {
             "colorbar": {
              "outlinewidth": 0,
              "ticks": ""
             }
            },
            "type": "scattercarpet"
           }
          ],
          "scattergeo": [
           {
            "marker": {
             "colorbar": {
              "outlinewidth": 0,
              "ticks": ""
             }
            },
            "type": "scattergeo"
           }
          ],
          "scattergl": [
           {
            "marker": {
             "colorbar": {
              "outlinewidth": 0,
              "ticks": ""
             }
            },
            "type": "scattergl"
           }
          ],
          "scattermapbox": [
           {
            "marker": {
             "colorbar": {
              "outlinewidth": 0,
              "ticks": ""
             }
            },
            "type": "scattermapbox"
           }
          ],
          "scatterpolar": [
           {
            "marker": {
             "colorbar": {
              "outlinewidth": 0,
              "ticks": ""
             }
            },
            "type": "scatterpolar"
           }
          ],
          "scatterpolargl": [
           {
            "marker": {
             "colorbar": {
              "outlinewidth": 0,
              "ticks": ""
             }
            },
            "type": "scatterpolargl"
           }
          ],
          "scatterternary": [
           {
            "marker": {
             "colorbar": {
              "outlinewidth": 0,
              "ticks": ""
             }
            },
            "type": "scatterternary"
           }
          ],
          "surface": [
           {
            "colorbar": {
             "outlinewidth": 0,
             "ticks": ""
            },
            "colorscale": [
             [
              0,
              "#0d0887"
             ],
             [
              0.1111111111111111,
              "#46039f"
             ],
             [
              0.2222222222222222,
              "#7201a8"
             ],
             [
              0.3333333333333333,
              "#9c179e"
             ],
             [
              0.4444444444444444,
              "#bd3786"
             ],
             [
              0.5555555555555556,
              "#d8576b"
             ],
             [
              0.6666666666666666,
              "#ed7953"
             ],
             [
              0.7777777777777778,
              "#fb9f3a"
             ],
             [
              0.8888888888888888,
              "#fdca26"
             ],
             [
              1,
              "#f0f921"
             ]
            ],
            "type": "surface"
           }
          ],
          "table": [
           {
            "cells": {
             "fill": {
              "color": "#EBF0F8"
             },
             "line": {
              "color": "white"
             }
            },
            "header": {
             "fill": {
              "color": "#C8D4E3"
             },
             "line": {
              "color": "white"
             }
            },
            "type": "table"
           }
          ]
         },
         "layout": {
          "annotationdefaults": {
           "arrowcolor": "#2a3f5f",
           "arrowhead": 0,
           "arrowwidth": 1
          },
          "autotypenumbers": "strict",
          "coloraxis": {
           "colorbar": {
            "outlinewidth": 0,
            "ticks": ""
           }
          },
          "colorscale": {
           "diverging": [
            [
             0,
             "#8e0152"
            ],
            [
             0.1,
             "#c51b7d"
            ],
            [
             0.2,
             "#de77ae"
            ],
            [
             0.3,
             "#f1b6da"
            ],
            [
             0.4,
             "#fde0ef"
            ],
            [
             0.5,
             "#f7f7f7"
            ],
            [
             0.6,
             "#e6f5d0"
            ],
            [
             0.7,
             "#b8e186"
            ],
            [
             0.8,
             "#7fbc41"
            ],
            [
             0.9,
             "#4d9221"
            ],
            [
             1,
             "#276419"
            ]
           ],
           "sequential": [
            [
             0,
             "#0d0887"
            ],
            [
             0.1111111111111111,
             "#46039f"
            ],
            [
             0.2222222222222222,
             "#7201a8"
            ],
            [
             0.3333333333333333,
             "#9c179e"
            ],
            [
             0.4444444444444444,
             "#bd3786"
            ],
            [
             0.5555555555555556,
             "#d8576b"
            ],
            [
             0.6666666666666666,
             "#ed7953"
            ],
            [
             0.7777777777777778,
             "#fb9f3a"
            ],
            [
             0.8888888888888888,
             "#fdca26"
            ],
            [
             1,
             "#f0f921"
            ]
           ],
           "sequentialminus": [
            [
             0,
             "#0d0887"
            ],
            [
             0.1111111111111111,
             "#46039f"
            ],
            [
             0.2222222222222222,
             "#7201a8"
            ],
            [
             0.3333333333333333,
             "#9c179e"
            ],
            [
             0.4444444444444444,
             "#bd3786"
            ],
            [
             0.5555555555555556,
             "#d8576b"
            ],
            [
             0.6666666666666666,
             "#ed7953"
            ],
            [
             0.7777777777777778,
             "#fb9f3a"
            ],
            [
             0.8888888888888888,
             "#fdca26"
            ],
            [
             1,
             "#f0f921"
            ]
           ]
          },
          "colorway": [
           "#636efa",
           "#EF553B",
           "#00cc96",
           "#ab63fa",
           "#FFA15A",
           "#19d3f3",
           "#FF6692",
           "#B6E880",
           "#FF97FF",
           "#FECB52"
          ],
          "font": {
           "color": "#2a3f5f"
          },
          "geo": {
           "bgcolor": "white",
           "lakecolor": "white",
           "landcolor": "white",
           "showlakes": true,
           "showland": true,
           "subunitcolor": "#C8D4E3"
          },
          "hoverlabel": {
           "align": "left"
          },
          "hovermode": "closest",
          "mapbox": {
           "style": "light"
          },
          "paper_bgcolor": "white",
          "plot_bgcolor": "white",
          "polar": {
           "angularaxis": {
            "gridcolor": "#EBF0F8",
            "linecolor": "#EBF0F8",
            "ticks": ""
           },
           "bgcolor": "white",
           "radialaxis": {
            "gridcolor": "#EBF0F8",
            "linecolor": "#EBF0F8",
            "ticks": ""
           }
          },
          "scene": {
           "xaxis": {
            "backgroundcolor": "white",
            "gridcolor": "#DFE8F3",
            "gridwidth": 2,
            "linecolor": "#EBF0F8",
            "showbackground": true,
            "ticks": "",
            "zerolinecolor": "#EBF0F8"
           },
           "yaxis": {
            "backgroundcolor": "white",
            "gridcolor": "#DFE8F3",
            "gridwidth": 2,
            "linecolor": "#EBF0F8",
            "showbackground": true,
            "ticks": "",
            "zerolinecolor": "#EBF0F8"
           },
           "zaxis": {
            "backgroundcolor": "white",
            "gridcolor": "#DFE8F3",
            "gridwidth": 2,
            "linecolor": "#EBF0F8",
            "showbackground": true,
            "ticks": "",
            "zerolinecolor": "#EBF0F8"
           }
          },
          "shapedefaults": {
           "line": {
            "color": "#2a3f5f"
           }
          },
          "ternary": {
           "aaxis": {
            "gridcolor": "#DFE8F3",
            "linecolor": "#A2B1C6",
            "ticks": ""
           },
           "baxis": {
            "gridcolor": "#DFE8F3",
            "linecolor": "#A2B1C6",
            "ticks": ""
           },
           "bgcolor": "white",
           "caxis": {
            "gridcolor": "#DFE8F3",
            "linecolor": "#A2B1C6",
            "ticks": ""
           }
          },
          "title": {
           "x": 0.05
          },
          "xaxis": {
           "automargin": true,
           "gridcolor": "#EBF0F8",
           "linecolor": "#EBF0F8",
           "ticks": "",
           "title": {
            "standoff": 15
           },
           "zerolinecolor": "#EBF0F8",
           "zerolinewidth": 2
          },
          "yaxis": {
           "automargin": true,
           "gridcolor": "#EBF0F8",
           "linecolor": "#EBF0F8",
           "ticks": "",
           "title": {
            "standoff": 15
           },
           "zerolinecolor": "#EBF0F8",
           "zerolinewidth": 2
          }
         }
        },
        "title": {
         "text": "DBSCAN Clustering with Cluster Boundaries_normalized"
        },
        "xaxis": {
         "gridcolor": "white",
         "linecolor": "grey",
         "range": [
          -1,
          6
         ],
         "tickfont": {
          "size": 18
         },
         "ticktext": [
          "10<sup>-1</sup>",
          "10<sup>0</sup>",
          "10<sup>1</sup>",
          "10<sup>2</sup>",
          "10<sup>3</sup>",
          "10<sup>4</sup>",
          "10<sup>5</sup>",
          "10<sup>6</sup>"
         ],
         "tickvals": [
          -1,
          0,
          1,
          2,
          3,
          4,
          5,
          6
         ],
         "title": {
          "font": {
           "size": 18
          },
          "text": "WVTR (g/m2day)"
         }
        },
        "yaxis": {
         "gridcolor": "white",
         "linecolor": "grey",
         "range": [
          -1,
          10
         ],
         "tickfont": {
          "size": 18
         },
         "ticktext": [
          "10<sup>-1</sup>",
          "10<sup>0</sup>",
          "10<sup>1</sup>",
          "10<sup>2</sup>",
          "10<sup>3</sup>",
          "10<sup>4</sup>",
          "10<sup>5</sup>",
          "10<sup>6</sup>",
          "10<sup>7</sup>",
          "10<sup>8</sup>",
          "10<sup>9</sup>",
          "10<sup>10</sup>"
         ],
         "tickvals": [
          -1,
          0,
          1,
          2,
          3,
          4,
          5,
          6,
          7,
          8,
          9,
          10
         ],
         "title": {
          "font": {
           "size": 18
          },
          "text": "OTR (cm3/m2day)"
         }
        }
       }
      }
     },
     "metadata": {},
     "output_type": "display_data"
    },
    {
     "data": {
      "text/plain": [
       "'DBSCAN_cluster_OP_vs_WVP_normalized_no_legend.html'"
      ]
     },
     "execution_count": 33,
     "metadata": {},
     "output_type": "execute_result"
    }
   ],
   "source": [
    "import numpy as np\n",
    "import pandas as pd\n",
    "from sklearn.cluster import DBSCAN\n",
    "from sklearn.preprocessing import StandardScaler\n",
    "import plotly.express as px\n",
    "import plotly.graph_objects as go\n",
    "import plotly.offline\n",
    "\n",
    "# -----------------------------\n",
    "# 1. Prepare Data & Features\n",
    "# -----------------------------\n",
    "# (Assuming dtr is your original DataFrame with the columns used below.)\n",
    "features = dtr[['log_OTR_Updated_Num', 'log_WVTR_Updated_Num']].dropna().values\n",
    "\n",
    "if features.shape[0] == 0:\n",
    "    raise ValueError(\"No valid data points available for clustering after removing NaNs.\")\n",
    "\n",
    "use_normalization = True\n",
    "if use_normalization:\n",
    "    scaler = StandardScaler()\n",
    "    normalized_features = scaler.fit_transform(features)\n",
    "else:\n",
    "    normalized_features = features\n",
    "\n",
    "# -----------------------------\n",
    "# 2. Apply DBSCAN Clustering\n",
    "# -----------------------------\n",
    "eps = 1.17\n",
    "min_samples = 4\n",
    "dbscan = DBSCAN(eps=eps, min_samples=min_samples)\n",
    "labels = dbscan.fit_predict(normalized_features)\n",
    "\n",
    "# -----------------------------\n",
    "# 3. Add Cluster Labels to DataFrame\n",
    "# -----------------------------\n",
    "# We assume that dtr rows align with the features used.\n",
    "d_clean = dtr.dropna(subset=['log_OTR_Updated_Num', 'log_WVTR_Updated_Num']).copy()\n",
    "d_clean['Cluster'] = labels\n",
    "\n",
    "# (Optional) Build a mapping from cluster to a representative Base Material.\n",
    "cluster_base_material_map = (\n",
    "    d_clean[d_clean['Cluster'] != -1]\n",
    "    .groupby('Cluster')['Base Material']\n",
    "    .apply(lambda x: x.mode()[0] if not x.mode().empty else f\"Cluster {x.name}\")\n",
    "    .to_dict()\n",
    ")\n",
    "\n",
    "# -----------------------------\n",
    "# 4. Define Helper to Darken Colors\n",
    "# -----------------------------\n",
    "def darken_color(hex_color, factor=0.7):\n",
    "    \"\"\"Convert hex color to a darkened RGBA string.\"\"\"\n",
    "    hex_color = hex_color.lstrip('#')\n",
    "    r = int(hex_color[0:2], 16)\n",
    "    g = int(hex_color[2:4], 16)\n",
    "    b = int(hex_color[4:6], 16)\n",
    "    r = int(r * factor)\n",
    "    g = int(g * factor)\n",
    "    b = int(b * factor)\n",
    "    return f\"rgba({r}, {g}, {b}, 1)\"\n",
    "\n",
    "# -----------------------------\n",
    "# 5. Assign Colors to Clusters\n",
    "# -----------------------------\n",
    "# Use Plotly's qualitative palette for non-noise clusters.\n",
    "color_palette = px.colors.qualitative.Plotly  \n",
    "non_noise_clusters = sorted(cluster_base_material_map.keys())\n",
    "cluster_colors = {cluster: color_palette[i % len(color_palette)] \n",
    "                  for i, cluster in enumerate(non_noise_clusters)}\n",
    "# For noise (cluster -1) assign gray.\n",
    "cluster_colors[-1] = \"#d3d3d3\"\n",
    "\n",
    "# -----------------------------\n",
    "# 6. Build the Plotly Figure with All Legend Items\n",
    "# -----------------------------\n",
    "fig = go.Figure()\n",
    "unique_clusters = np.unique(labels)\n",
    "\n",
    "# For each cluster, we separate points by the value in the \"Material\" column.\n",
    "# We define three groups:\n",
    "#   - Sustainable: material equals 'sustainable'\n",
    "#   - Conventional: material equals 'conventional'\n",
    "#   - Other: any value besides those two.\n",
    "for cluster_label in unique_clusters:\n",
    "    cluster_data = d_clean[d_clean['Cluster'] == cluster_label]\n",
    "    cluster_size = len(cluster_data)\n",
    "    # Build a name prefix for the legend\n",
    "    if cluster_label == -1:\n",
    "        cluster_name_prefix = \"Noise\"\n",
    "    else:\n",
    "        # Optionally, you can include the Base Material name in the legend label.\n",
    "        base_mat = cluster_base_material_map.get(cluster_label, \"\")\n",
    "        cluster_name_prefix = f\"Cluster {cluster_label} ({base_mat})\"\n",
    "        \n",
    "    base_color = cluster_colors.get(cluster_label, \"#000000\")\n",
    "    \n",
    "    # Define masks (using case-insensitive comparisons)\n",
    "    material_lower = cluster_data['Material'].str.lower()\n",
    "    mask_sust = material_lower == 'sustainable'\n",
    "    mask_conv = material_lower == 'conventional'\n",
    "    mask_other = ~(mask_sust | mask_conv)\n",
    "    \n",
    "    # --- Sustainable Points (use darkened color and circle marker) ---\n",
    "    sust_data = cluster_data[mask_sust]\n",
    "    if not sust_data.empty:\n",
    "        fig.add_trace(go.Scatter(\n",
    "            x=sust_data['log_WVTR_Updated_Num'],\n",
    "            y=sust_data['log_OTR_Updated_Num'],\n",
    "            mode='markers',\n",
    "            name=f\"{cluster_name_prefix} (Sustainable, {len(sust_data)} pts)\",\n",
    "            showlegend=True,\n",
    "            marker=dict(\n",
    "                size=10,\n",
    "                color=darken_color(base_color, factor=0.7),\n",
    "                symbol='circle'\n",
    "            ),\n",
    "            hovertemplate=(\n",
    "                \"Base Material: %{text}<br>\" +\n",
    "                \"Type: %{customdata[0]}<br>\" +\n",
    "                \"Secondary Material: %{customdata[1]}<br>\" +\n",
    "                \"log(WVTR): %{x}<br>\" +\n",
    "                \"log(OTR): %{y}\"\n",
    "            ),\n",
    "            text=sust_data['Base Material'],\n",
    "            customdata=sust_data[['Type', 'Secondary Material']].values\n",
    "        ))\n",
    "    \n",
    "    # --- Conventional Points (use base color and triangle-up marker) ---\n",
    "    conv_data = cluster_data[mask_conv]\n",
    "    if not conv_data.empty:\n",
    "        fig.add_trace(go.Scatter(\n",
    "            x=conv_data['log_WVTR_Updated_Num'],\n",
    "            y=conv_data['log_OTR_Updated_Num'],\n",
    "            mode='markers',\n",
    "            name=f\"{cluster_name_prefix} (Conventional, {len(conv_data)} pts)\",\n",
    "            showlegend=True,\n",
    "            marker=dict(\n",
    "                size=10,\n",
    "                color=base_color,\n",
    "                symbol='triangle-up'\n",
    "            ),\n",
    "            hovertemplate=(\n",
    "                \"Base Material: %{text}<br>\" +\n",
    "                \"Type: %{customdata[0]}<br>\" +\n",
    "                \"Secondary Material: %{customdata[1]}<br>\" +\n",
    "                \"log(WVTR): %{x}<br>\" +\n",
    "                \"log(OTR): %{y}\"\n",
    "            ),\n",
    "            text=conv_data['Base Material'],\n",
    "            customdata=conv_data[['Type', 'Secondary Material']].values\n",
    "        ))\n",
    "    \n",
    "    # --- Other Points (use base color and circle marker) ---\n",
    "    other_data = cluster_data[mask_other]\n",
    "    if not other_data.empty:\n",
    "        fig.add_trace(go.Scatter(\n",
    "            x=other_data['log_WVTR_Updated_Num'],\n",
    "            y=other_data['log_OTR_Updated_Num'],\n",
    "            mode='markers',\n",
    "            name=f\"{cluster_name_prefix} (Other, {len(other_data)} pts)\",\n",
    "            showlegend=True,\n",
    "            marker=dict(\n",
    "                size=10,\n",
    "                color=base_color,\n",
    "                symbol='circle'\n",
    "            ),\n",
    "            hovertemplate=(\n",
    "                \"Base Material: %{text}<br>\" +\n",
    "                \"Type: %{customdata[0]}<br>\" +\n",
    "                \"Secondary Material: %{customdata[1]}<br>\" +\n",
    "                \"log(WVTR): %{x}<br>\" +\n",
    "                \"log(OTR): %{y}\"\n",
    "            ),\n",
    "            text=other_data['Base Material'],\n",
    "            customdata=other_data[['Type', 'Secondary Material']].values\n",
    "        ))\n",
    "\n",
    "# -----------------------------\n",
    "# 7. Add Bounding Boxes for Each Cluster\n",
    "# -----------------------------\n",
    "# Compute bounding boxes in the normalized space and then inverse-transform to the original log domain.\n",
    "if use_normalization:\n",
    "    for cluster_label in unique_clusters:\n",
    "        if cluster_label == -1:\n",
    "            continue  # Skip noise\n",
    "        cluster_indices = np.where(labels == cluster_label)[0]\n",
    "        if len(cluster_indices) == 0:\n",
    "            continue\n",
    "        cluster_points_norm = normalized_features[cluster_indices, :]  # shape (k, 2)\n",
    "        cluster_points_orig = scaler.inverse_transform(cluster_points_norm)\n",
    "        # Note: columns: [log_OTR_Updated_Num, log_WVTR_Updated_Num]\n",
    "        x_min = cluster_points_orig[:, 1].min()\n",
    "        x_max = cluster_points_orig[:, 1].max()\n",
    "        y_min = cluster_points_orig[:, 0].min()\n",
    "        y_max = cluster_points_orig[:, 0].max()\n",
    "        \n",
    "        col = cluster_colors.get(cluster_label, \"#000000\")\n",
    "        if col.startswith(\"#\"):\n",
    "            r, g, b = [int(col.lstrip(\"#\")[i:i+2], 16) for i in (0, 2, 4)]\n",
    "            fill_color = f\"rgba({r}, {g}, {b}, 0.1)\"\n",
    "        else:\n",
    "            fill_color = col\n",
    "        \n",
    "        fig.add_shape(\n",
    "            type=\"rect\",\n",
    "            x0=x_min, x1=x_max,\n",
    "            y0=y_min, y1=y_max,\n",
    "            line=dict(color=col, width=2),\n",
    "            fillcolor=fill_color\n",
    "        )\n",
    "else:\n",
    "    for cluster_label in unique_clusters:\n",
    "        if cluster_label == -1:\n",
    "            continue\n",
    "        cluster_data = d_clean[d_clean['Cluster'] == cluster_label]\n",
    "        if len(cluster_data) == 0:\n",
    "            continue\n",
    "        col = cluster_colors.get(cluster_label, \"#000000\")\n",
    "        if col.startswith(\"#\"):\n",
    "            r, g, b = [int(col.lstrip(\"#\")[i:i+2], 16) for i in (0, 2, 4)]\n",
    "            fill_color = f\"rgba({r}, {g}, {b}, 0.1)\"\n",
    "        else:\n",
    "            fill_color = col\n",
    "        \n",
    "        x_min = cluster_data['log_WVTR_Updated_Num'].min()\n",
    "        x_max = cluster_data['log_WVTR_Updated_Num'].max()\n",
    "        y_min = cluster_data['log_OTR_Updated_Num'].min()\n",
    "        y_max = cluster_data['log_OTR_Updated_Num'].max()\n",
    "        \n",
    "        fig.add_shape(\n",
    "            type=\"rect\",\n",
    "            x0=x_min, x1=x_max,\n",
    "            y0=y_min, y1=y_max,\n",
    "            line=dict(color=col, width=2),\n",
    "            fillcolor=fill_color\n",
    "        )\n",
    "\n",
    "# -----------------------------\n",
    "# 8. Update Axes with Exponential Tick Labels\n",
    "# -----------------------------\n",
    "lowest_exponent = -1\n",
    "x_min_int = int(np.floor(d_clean['log_WVTR_Updated_Num'].min()))\n",
    "x_max_int = int(np.ceil(d_clean['log_WVTR_Updated_Num'].max()))\n",
    "x_min_int = min(0, x_min_int)\n",
    "\n",
    "y_min_int = int(np.floor(d_clean['log_OTR_Updated_Num'].min()))\n",
    "y_max_int = int(np.ceil(d_clean['log_OTR_Updated_Num'].max()))\n",
    "y_min_int = min(0, y_min_int)\n",
    "\n",
    "tick_vals_x = np.arange(lowest_exponent, x_max_int + 1)\n",
    "tick_vals_y = np.arange(lowest_exponent, y_max_int + 1)\n",
    "tick_text_x = [f\"10<sup>{val}</sup>\" for val in tick_vals_x]\n",
    "tick_text_y = [f\"10<sup>{val}</sup>\" for val in tick_vals_y]\n",
    "\n",
    "fig.update_xaxes(\n",
    "    title=\"WVTR (g/m2day)\",\n",
    "    tickvals=tick_vals_x,\n",
    "    ticktext=tick_text_x,\n",
    "    range=[lowest_exponent, x_max_int],\n",
    "    gridcolor='white',\n",
    "    linecolor='grey',\n",
    "    title_font=dict(size=18),   # Increase the x-axis title font size\n",
    "    tickfont=dict(size=18)        # Increase the x-axis tick label font size\n",
    "\n",
    "\n",
    ")\n",
    "fig.update_yaxes(\n",
    "    title=\"OTR (cm3/m2day)\",\n",
    "    tickvals=tick_vals_y,\n",
    "    ticktext=tick_text_y,\n",
    "    range=[lowest_exponent, y_max_int],\n",
    "    gridcolor='white',\n",
    "    linecolor='grey',\n",
    "    title_font=dict(size=18),   # Increase the x-axis title font size\n",
    "    tickfont=dict(size=18)        # Increase the x-axis tick label font size\n",
    "\n",
    ")\n",
    "\n",
    "# -----------------------------\n",
    "# 9. Final Layout and Export\n",
    "# -----------------------------\n",
    "file_suffix = \"normalized\" if use_normalization else \"unnormalized\"\n",
    "fig.update_layout(\n",
    "    title=f\"DBSCAN Clustering with Cluster Boundaries_{file_suffix}\",\n",
    "    template=\"plotly_white\"\n",
    ")\n",
    "\n",
    "# Disable the legend bar before exporting\n",
    "fig.update_layout(showlegend=False)\n",
    "\n",
    "fig.show()\n",
    "plotly.offline.plot(fig, filename=f'DBSCAN_cluster_OP_vs_WVP_{file_suffix}_no_legend.html', auto_open=False)"
   ]
  },
  {
   "cell_type": "code",
   "execution_count": 34,
   "metadata": {},
   "outputs": [
    {
     "name": "stdout",
     "output_type": "stream",
     "text": [
      "   Cluster  Mean OTR (log)  Std OTR (log)  Mean WVTR (log)  Std WVTR (log)  \\\n",
      "0        0           0.278          0.108            3.040           0.096   \n",
      "1        1           3.295          0.833            3.004           0.794   \n",
      "2        2           1.102          0.053            5.395           0.145   \n",
      "\n",
      "  Most Common Base Material Most Common Type Most Common Secondary Material  \\\n",
      "0              fish gelatin    nanocomposite                montmorillonite   \n",
      "1           polylactic acid       individual                           None   \n",
      "2              carrot puree            blend                            CMC   \n",
      "\n",
      "  Conventional Materials Sustainable Materials  Mean OTR  Std OTR   Mean WVTR  \\\n",
      "0                                  sustainable     1.897    1.282    1097.252   \n",
      "1           conventional           sustainable  1970.206    6.806    1008.216   \n",
      "2                                  sustainable    12.635    1.129  248416.313   \n",
      "\n",
      "   Std WVTR  \n",
      "0     1.247  \n",
      "1     6.222  \n",
      "2     1.396  \n"
     ]
    }
   ],
   "source": [
    "# Exclude noise points (-1) for analysis\n",
    "clustered_data = d_clean[d_clean['Cluster'] != -1]\n",
    "\n",
    "# Define helper functions to get unique materials\n",
    "def list_conventional(x):\n",
    "    return ', '.join(x[x.str.lower() == 'conventional'].unique())\n",
    "\n",
    "def list_sustainable(x):\n",
    "    return ', '.join(x[x.str.lower() == 'sustainable'].unique())\n",
    "\n",
    "# --------------------------------------------------------------\n",
    "# 1) Group by 'Cluster' and calculate the mean & std of log-OTR/WVTR\n",
    "#    as well as the most frequent materials (and separate material lists).\n",
    "# --------------------------------------------------------------\n",
    "cluster_summary = clustered_data.groupby('Cluster').agg({\n",
    "    'log_OTR_Updated_Num': ['mean', 'std'],        # Mean & Std of log(OTR)\n",
    "    'log_WVTR_Updated_Num': ['mean', 'std'],       # Mean & Std of log(WVTR)\n",
    "    'Base Material': lambda x: x.mode()[0] if not x.mode().empty else None,\n",
    "    'Type': lambda x: x.mode()[0] if not x.mode().empty else None,\n",
    "    'Secondary Material': lambda x: x.mode()[0] if not x.mode().empty else None,\n",
    "    'Material': [list_conventional, list_sustainable],\n",
    "}).reset_index()\n",
    "\n",
    "# --------------------------------------------------------------\n",
    "# 2) Flatten the multi-level column names created by agg().\n",
    "# --------------------------------------------------------------\n",
    "cluster_summary.columns = [\n",
    "    # 'Cluster' is first\n",
    "    'Cluster',\n",
    "\n",
    "    # log_OTR_Updated_Num\n",
    "    'Mean OTR (log)',  \n",
    "    'Std OTR (log)',   \n",
    "\n",
    "    # log_WVTR_Updated_Num\n",
    "    'Mean WVTR (log)',\n",
    "    'Std WVTR (log)',\n",
    "\n",
    "    # Base Material, Type, Secondary Material\n",
    "    'Most Common Base Material',\n",
    "    'Most Common Type',\n",
    "    'Most Common Secondary Material',\n",
    "\n",
    "    # Material lists\n",
    "    'Conventional Materials',\n",
    "    'Sustainable Materials'\n",
    "]\n",
    "\n",
    "# --------------------------------------------------------------\n",
    "# 3) Convert mean & std of logs back to original scale (base-10).\n",
    "#    If your logs are ln-based, switch to np.exp(...) instead.\n",
    "# --------------------------------------------------------------\n",
    "cluster_summary['Mean OTR'] = 10 ** cluster_summary['Mean OTR (log)']\n",
    "cluster_summary['Std OTR']  = 10 ** cluster_summary['Std OTR (log)']  \n",
    "\n",
    "cluster_summary['Mean WVTR'] = 10 ** cluster_summary['Mean WVTR (log)']\n",
    "cluster_summary['Std WVTR']  = 10 ** cluster_summary['Std WVTR (log)'] \n",
    "\n",
    "# --------------------------------------------------------------\n",
    "# 4) Display the updated cluster summary\n",
    "# --------------------------------------------------------------\n",
    "cluster_summary = cluster_summary.round(3)\n",
    "print(cluster_summary)\n",
    "\n",
    "# --------------------------------------------------------------\n",
    "# 5) (Optional) Save to CSV\n",
    "# --------------------------------------------------------------\n",
    "cluster_summary.to_csv('DBSCAN_cluster_summary_with_materials_list.csv', index=False)"
   ]
  },
  {
   "cell_type": "code",
   "execution_count": 35,
   "metadata": {},
   "outputs": [
    {
     "name": "stdout",
     "output_type": "stream",
     "text": [
      "\n",
      "--- Cluster 0 ---\n",
      "  Base Material           Type Secondary Material    OTR        WVTR  Cluster\n",
      "0  fish gelatin     individual               None  4.028  2731.39776        0\n",
      "1  fish gelatin  nanocomposite    montmorillonite  1.144   709.11288        0\n",
      "2  fish gelatin  nanocomposite    montmorillonite  1.144   980.50176        0\n",
      "3  fish gelatin  nanocomposite    montmorillonite  1.144  1199.36376        0\n",
      "4  fish gelatin  nanocomposite    montmorillonite  1.144  1365.69888        0\n",
      "Cluster 0 data saved to cluster_0_data.csv\n",
      "\n",
      "--- Cluster 1 ---\n",
      "     Base Material        Type Secondary Material           OTR         WVTR  \\\n",
      "0             LDPE  individual               None  18948.196512   114.437647   \n",
      "1             LDPE  individual               None  18948.196512    76.163976   \n",
      "2             HDPE  individual               None   4326.464016    19.259856   \n",
      "3  polylactic acid  individual               None    711.301500  2203.925035   \n",
      "4  polylactic acid  individual               None    711.301500  1904.099400   \n",
      "\n",
      "   Cluster  \n",
      "0        1  \n",
      "1        1  \n",
      "2        1  \n",
      "3        1  \n",
      "4        1  \n",
      "Cluster 1 data saved to cluster_1_data.csv\n",
      "\n",
      "--- Cluster 2 ---\n",
      "  Base Material   Type Secondary Material        OTR         WVTR  Cluster\n",
      "0  carrot puree  blend                CMC  17.745331  580509.5688        2\n",
      "1  carrot puree  blend                CMC  17.745331  427743.8928        2\n",
      "2  carrot puree  blend                CMC  17.745331  248977.4112        2\n",
      "3  carrot puree  blend                CMC  17.745331  202053.3984        2\n",
      "4  carrot puree  blend                CMC  17.745331  185770.0656        2\n",
      "Cluster 2 data saved to cluster_2_data.csv\n"
     ]
    }
   ],
   "source": [
    "# Exclude noise points (-1) for analysis\n",
    "clustered_data = d_clean[d_clean['Cluster'] != -1].copy()\n",
    "clustered_data['OTR'] = 10 ** clustered_data['log_OTR_Updated_Num']\n",
    "clustered_data['WVTR'] = 10 ** clustered_data['log_WVTR_Updated_Num']\n",
    "\n",
    "# Define the columns you want to keep for each cluster\n",
    "columns_to_keep = ['Base Material', 'Type', 'Secondary Material', 'OTR', 'WVTR']\n",
    "\n",
    "# Create a dictionary to store each cluster's DataFrame\n",
    "cluster_dfs = {}\n",
    "\n",
    "# Loop over each unique cluster label (excluding noise)\n",
    "for cluster in clustered_data['Cluster'].unique():\n",
    "    # Create a DataFrame for the current cluster with the selected columns\n",
    "    cluster_df = clustered_data[clustered_data['Cluster'] == cluster][columns_to_keep].reset_index(drop=True)\n",
    "    \n",
    "    # Optionally, add a column with the cluster number (if desired)\n",
    "    cluster_df['Cluster'] = cluster\n",
    "    \n",
    "    # Store the DataFrame in the dictionary\n",
    "    cluster_dfs[cluster] = cluster_df\n",
    "\n",
    "# (Optional) Display the DataFrame for each cluster\n",
    "for cluster, df in cluster_dfs.items():\n",
    "    print(f\"\\n--- Cluster {cluster} ---\")\n",
    "    print(df.head())\n",
    "    filename = f\"cluster_{cluster}_data.csv\"\n",
    "    df.round(3).to_csv(filename, index=False)\n",
    "    print(f\"Cluster {cluster} data saved to {filename}\")"
   ]
  },
  {
   "cell_type": "code",
   "execution_count": 36,
   "metadata": {},
   "outputs": [
    {
     "name": "stderr",
     "output_type": "stream",
     "text": [
      "/Users/windy/opt/anaconda3/lib/python3.8/site-packages/sklearn/cluster/_kmeans.py:870: FutureWarning:\n",
      "\n",
      "The default value of `n_init` will change from 10 to 'auto' in 1.4. Set the value of `n_init` explicitly to suppress the warning\n",
      "\n"
     ]
    },
    {
     "name": "stdout",
     "output_type": "stream",
     "text": [
      "K-Means: Silhouette Score = 0.9049768895332239, Davies-Bouldin Index = 0.4819257156373331\n",
      "\n",
      "K-Means Cluster Sizes:\n",
      "Cluster 1: 180 data points\n",
      "Cluster 0: 57 data points\n",
      "Cluster 2: 6 data points\n",
      "Cluster 4: 6 data points\n",
      "Cluster 3: 3 data points\n",
      "Cluster 5: 2 data points\n",
      "\n",
      "DBSCAN: Silhouette Score = 0.9104179599321588, Davies-Bouldin Index = 0.3737658934703805\n",
      "\n",
      "DBSCAN Cluster Sizes:\n",
      "Cluster 2: 180 data points\n",
      "Cluster 0: 57 data points\n",
      "Cluster 1: 12 data points\n",
      "Noise: 5 data points\n",
      "\n",
      "GMM: Silhouette Score = 0.8988874709560083, Davies-Bouldin Index = 0.4453702034368814\n",
      "\n",
      "GMM Cluster Sizes:\n",
      "Cluster 0: 180 data points\n",
      "Cluster 1: 56 data points\n",
      "Cluster 3: 10 data points\n",
      "Cluster 4: 3 data points\n",
      "Cluster 2: 3 data points\n",
      "Cluster 5: 2 data points\n"
     ]
    }
   ],
   "source": [
    "from sklearn.cluster import KMeans, DBSCAN\n",
    "from sklearn.mixture import GaussianMixture\n",
    "from sklearn.metrics import silhouette_score, davies_bouldin_score\n",
    "from sklearn.preprocessing import StandardScaler\n",
    "import numpy as np\n",
    "import pandas as pd\n",
    "\n",
    "# Replace 'data' with your dataset\n",
    "data = features  # numpy array or pandas DataFrame\n",
    "\n",
    "# Standardize the data\n",
    "scaler = StandardScaler()\n",
    "data = scaler.fit_transform(data)\n",
    "\n",
    "# Parameters\n",
    "n_clusters = 6  # Example: number of clusters for K-Means and GMM\n",
    "eps = 1.17  # DBSCAN parameter\n",
    "min_samples = 4  # DBSCAN parameter\n",
    "\n",
    "# Function to count and display cluster sizes\n",
    "def print_cluster_sizes(labels, algorithm_name):\n",
    "    cluster_counts = pd.Series(labels).value_counts()\n",
    "    print(f\"\\n{algorithm_name} Cluster Sizes:\")\n",
    "    for cluster, count in cluster_counts.items():\n",
    "        cluster_name = \"Noise\" if cluster == -1 else f\"Cluster {cluster}\"\n",
    "        print(f\"{cluster_name}: {count} data points\")\n",
    "\n",
    "# K-Means\n",
    "kmeans = KMeans(n_clusters=n_clusters, random_state=42)\n",
    "kmeans_labels = kmeans.fit_predict(data)\n",
    "kmeans_silhouette = silhouette_score(data, kmeans_labels)\n",
    "kmeans_davies_bouldin = davies_bouldin_score(data, kmeans_labels)\n",
    "print(f\"K-Means: Silhouette Score = {kmeans_silhouette}, Davies-Bouldin Index = {kmeans_davies_bouldin}\")\n",
    "print_cluster_sizes(kmeans_labels, \"K-Means\")\n",
    "\n",
    "# DBSCAN\n",
    "dbscan = DBSCAN(eps=eps, min_samples=min_samples)\n",
    "dbscan_labels = dbscan.fit_predict(data)\n",
    "# Exclude noise points (-1) for silhouette score\n",
    "valid_dbscan = dbscan_labels != -1\n",
    "dbscan_silhouette = silhouette_score(data[valid_dbscan], dbscan_labels[valid_dbscan]) if valid_dbscan.any() else -1\n",
    "dbscan_davies_bouldin = davies_bouldin_score(data[valid_dbscan], dbscan_labels[valid_dbscan]) if valid_dbscan.any() else float('inf')\n",
    "print(f\"\\nDBSCAN: Silhouette Score = {dbscan_silhouette}, Davies-Bouldin Index = {dbscan_davies_bouldin}\")\n",
    "print_cluster_sizes(dbscan_labels, \"DBSCAN\")\n",
    "\n",
    "# Gaussian Mixture Model\n",
    "gmm = GaussianMixture(n_components=n_clusters, random_state=42)\n",
    "gmm_labels = gmm.fit_predict(data)\n",
    "gmm_silhouette = silhouette_score(data, gmm_labels)\n",
    "gmm_davies_bouldin = davies_bouldin_score(data, gmm_labels)\n",
    "print(f\"\\nGMM: Silhouette Score = {gmm_silhouette}, Davies-Bouldin Index = {gmm_davies_bouldin}\")\n",
    "print_cluster_sizes(gmm_labels, \"GMM\")\n",
    "\n",
    "eva = pd.DataFrame({'Model': ['kmeans', 'dbcsan', 'gmm'], 'Silhouette Score' : [kmeans_silhouette, dbscan_silhouette, gmm_silhouette], 'Davie Bouldin' : [kmeans_davies_bouldin, dbscan_davies_bouldin, gmm_davies_bouldin]})"
   ]
  },
  {
   "cell_type": "code",
   "execution_count": 37,
   "metadata": {},
   "outputs": [
    {
     "name": "stdout",
     "output_type": "stream",
     "text": [
      "\n",
      "DBSCAN Cluster Details:\n",
      "\n",
      "Cluster 0:\n",
      "Number of points: 57\n",
      "Centroid: [-0.78159651 -1.49081554]\n",
      "Descriptive Stats:\n",
      "             OTR       WVTR\n",
      "count  57.000000  57.000000\n",
      "mean   -0.781597  -1.490816\n",
      "std     0.097314   0.086052\n",
      "min    -0.979563  -1.661053\n",
      "25%    -0.821547  -1.498152\n",
      "50%    -0.768027  -1.473580\n",
      "75%    -0.734070  -1.453280\n",
      "max    -0.486886  -1.135169\n",
      "\n",
      "Cluster 1:\n",
      "Number of points: 12\n",
      "Centroid: [ 1.93693467 -1.52381671]\n",
      "Descriptive Stats:\n",
      "             OTR       WVTR\n",
      "count  12.000000  12.000000\n",
      "mean    1.936935  -1.523817\n",
      "std     0.750609   0.712870\n",
      "min     0.980797  -3.067251\n",
      "25%     1.398829  -1.549986\n",
      "50%     1.891496  -1.247357\n",
      "75%     2.598559  -1.150047\n",
      "max     2.822907  -0.943656\n",
      "\n",
      "Cluster 2:\n",
      "Number of points: 180\n",
      "Centroid: [-0.0394227   0.62367116]\n",
      "Descriptive Stats:\n",
      "              OTR        WVTR\n",
      "count  180.000000  180.000000\n",
      "mean    -0.039423    0.623671\n",
      "std      0.047350    0.130097\n",
      "min     -0.093516    0.437631\n",
      "25%     -0.062978    0.539380\n",
      "50%     -0.054438    0.602697\n",
      "75%     -0.035724    0.679220\n",
      "max      0.093509    0.954671\n"
     ]
    }
   ],
   "source": [
    "# Convert data to DataFrame for easy analysis\n",
    "data_df = pd.DataFrame(data, columns=['OTR', 'WVTR'])  # Replace with your feature names\n",
    "data_df['Cluster'] = dbscan_labels\n",
    "\n",
    "# Exclude noise points (-1)\n",
    "clusters = data_df[data_df['Cluster'] != -1]\n",
    "\n",
    "# Group by cluster\n",
    "grouped = clusters.groupby('Cluster')\n",
    "\n",
    "# Display individual cluster details\n",
    "print(\"\\nDBSCAN Cluster Details:\")\n",
    "for cluster_id, group in grouped:\n",
    "    print(f\"\\nCluster {cluster_id}:\")\n",
    "    print(f\"Number of points: {len(group)}\")\n",
    "    print(f\"Centroid: {group.mean().values[:-1]}\")  # Exclude the 'Cluster' column from mean calculation\n",
    "    print(f\"Descriptive Stats:\\n{group.describe().drop(columns='Cluster')}\")\n"
   ]
  },
  {
   "cell_type": "code",
   "execution_count": 43,
   "metadata": {},
   "outputs": [],
   "source": [
    "eva = eva.round(3)"
   ]
  },
  {
   "cell_type": "code",
   "execution_count": null,
   "metadata": {},
   "outputs": [
    {
     "data": {
      "image/png": "[encoded data removed]",
      "text/plain": [
       "<Figure size 800x600 with 2 Axes>"
      ]
     },
     "metadata": {},
     "output_type": "display_data"
    }
   ],
   "source": [
    "import seaborn as sns\n",
    "import matplotlib.pyplot as plt\n",
    "# Draw the heatmap\n",
    "plt.figure(figsize=(8, 6))\n",
    "sns.heatmap(eva, annot=True, fmt=\".3f\", cmap=\"coolwarm\", cbar_kws={'label': 'Metric Value'})\n",
    "plt.title(\"Heatmap of Model Performance Metrics\")\n",
    "plt.ylabel(\"Model\")\n",
    "plt.show()"
   ]
  }
 ],
 "metadata": {
  "kernelspec": {
   "display_name": "base",
   "language": "python",
   "name": "python3"
  },
  "language_info": {
   "codemirror_mode": {
    "name": "ipython",
    "version": 3
   },
   "file_extension": ".py",
   "mimetype": "text/x-python",
   "name": "python",
   "nbconvert_exporter": "python",
   "pygments_lexer": "ipython3",
   "version": "3.8.3"
  }
 },
 "nbformat": 4,
 "nbformat_minor": 2
}
